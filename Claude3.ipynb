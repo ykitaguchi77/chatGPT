{
  "nbformat": 4,
  "nbformat_minor": 0,
  "metadata": {
    "colab": {
      "provenance": [],
      "authorship_tag": "ABX9TyNX5cpAuk+Ww6Kqs8vrZLyI",
      "include_colab_link": true
    },
    "kernelspec": {
      "name": "python3",
      "display_name": "Python 3"
    },
    "language_info": {
      "name": "python"
    }
  },
  "cells": [
    {
      "cell_type": "markdown",
      "metadata": {
        "id": "view-in-github",
        "colab_type": "text"
      },
      "source": [
        "<a href=\"https://colab.research.google.com/github/ykitaguchi77/chatGPT/blob/main/Claude3.ipynb\" target=\"_parent\"><img src=\"https://colab.research.google.com/assets/colab-badge.svg\" alt=\"Open In Colab\"/></a>"
      ]
    },
    {
      "cell_type": "code",
      "source": [
        "!pip install anthropic\n",
        "import anthropic\n",
        "import base64\n",
        "from IPython.display import display, HTML, Image, Markdown\n",
        "import os\n"
      ],
      "metadata": {
        "id": "mJod4Zs1SVrp"
      },
      "execution_count": null,
      "outputs": []
    },
    {
      "cell_type": "code",
      "source": [
        "# APIの設定\n",
        "from google.colab import drive\n",
        "drive.mount(\"/content/drive\")\n",
        "\n",
        "with open(\"/content/drive/MyDrive/Deep_learning/api.txt\") as file:\n",
        "    #text = file.read()\n",
        "    i=1\n",
        "    key = []\n",
        "    while True:\n",
        "        include_break_line = file.readline() #改行が含まれた行\n",
        "        line = include_break_line.rstrip() #改行を取り除く\n",
        "        if line: #keyの読み込み\n",
        "            #print(f'{i}行目：{line}')\n",
        "            key.append(line)\n",
        "            i += 1\n",
        "        else:\n",
        "            break\n",
        "\n",
        "# APIキーの準備\n",
        "# #ngrok_aceess_token = key[5]\n",
        "#openai_api_key = key[3]\n",
        "# deepl_auth_key = key[1]\n",
        "# serp_api_key = key[7]\n",
        "\n",
        "os.environ[\"ANTHROPIC_API_KEY\"] = key[21]"
      ],
      "metadata": {
        "colab": {
          "base_uri": "https://localhost:8080/"
        },
        "id": "OT1t1bw6Xb0M",
        "outputId": "d8ab7f5b-2ad4-4b37-85e1-fbb3762358cb"
      },
      "execution_count": 2,
      "outputs": [
        {
          "output_type": "stream",
          "name": "stdout",
          "text": [
            "Mounted at /content/drive\n"
          ]
        }
      ]
    },
    {
      "cell_type": "code",
      "source": [
        "import os\n",
        "\n",
        "api_key = os.environ.get(\"ANTHROPIC_API_KEY\")\n",
        "\n",
        "if api_key:\n",
        "    print(\"APIキーが設定されています:\")\n",
        "    print(api_key)\n",
        "else:\n",
        "    print(\"APIキーが設定されていません。\")"
      ],
      "metadata": {
        "id": "9RoBvUXIt0fX"
      },
      "execution_count": null,
      "outputs": []
    },
    {
      "cell_type": "code",
      "source": [
        "import anthropic\n",
        "\n",
        "client = anthropic.Anthropic()\n",
        "\n",
        "# 会話履歴を保存するリスト\n",
        "conversation_history = []\n",
        "\n",
        "# ユーザーからの最初のメッセージ\n",
        "user_message = input(\"User: \")\n",
        "conversation_history.append({\"role\": \"user\", \"content\": user_message})\n",
        "\n",
        "while True:\n",
        "    # ストリーミング形式でアシスタントの応答を取得\n",
        "    with client.messages.stream(\n",
        "        max_tokens=1024,\n",
        "        messages=conversation_history,\n",
        "        model=\"claude-3-opus-20240229\",\n",
        "    ) as stream:\n",
        "        assistant_response = \"\"\n",
        "        print(\"Assistant: \", end=\"\", flush=True)\n",
        "        for text in stream.text_stream:\n",
        "            print(text, end=\"\", flush=True)\n",
        "            assistant_response += text\n",
        "        print()\n",
        "\n",
        "    conversation_history.append({\"role\": \"assistant\", \"content\": assistant_response})\n",
        "\n",
        "    # ユーザーからの次のメッセージを取得\n",
        "    user_message = input(\"User: \")\n",
        "    conversation_history.append({\"role\": \"user\", \"content\": user_message})\n",
        "\n",
        "    if user_message.lower() in [\"quit\", \"exit\", \"bye\"]:\n",
        "        break"
      ],
      "metadata": {
        "colab": {
          "base_uri": "https://localhost:8080/"
        },
        "id": "eJlhmCy0vxpJ",
        "outputId": "b51cd39a-b033-4f8c-a377-18fffa90c2c1"
      },
      "execution_count": 4,
      "outputs": [
        {
          "name": "stdout",
          "output_type": "stream",
          "text": [
            "User: こんにちは\n",
            "Assistant: こんにちは！今日は何かお手伝いできることはありますか？気軽に質問や相談をしてくださいね。会話を楽しみながら、できる限りサポートさせていただきます。\n",
            "User: お昼ご飯に何を食べようか迷っています\n",
            "Assistant: お昼ご飯に迷われているのですね。いくつかおすすめを提案させていただきます。\n",
            "\n",
            "1. 季節の食材を使った健康的な定食：旬の野菜や魚を使った和食の定食は、バランスが良く体に優しいですよ。\n",
            "\n",
            "2. パスタやピザなどの洋食：手軽に食べられるパスタやピザは、満足感も高くておすすめです。\n",
            "\n",
            "3. ラーメンやうどんなどの麺類：温かい麺類は、食欲をそそり、お腹も満たされます。\n",
            "\n",
            "4. サンドイッチやサラダなどの軽食：あまり重たくない食事がいい場合は、サンドイッチやサラダがちょうど良いかもしれません。\n",
            "\n",
            "5. お弁当を作る：自分の好きなおかずを詰めて、オリジナルのお弁当を作るのも楽しいですよ。\n",
            "\n",
            "その他、エスニック料理やカレーなども美味しくておすすめです。今の気分や好みに合ったものを選んでみてくださいね。ご参考になれば幸いです。\n",
            "User: bye\n"
          ]
        }
      ]
    }
  ]
}