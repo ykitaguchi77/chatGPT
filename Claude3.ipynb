{
  "nbformat": 4,
  "nbformat_minor": 0,
  "metadata": {
    "colab": {
      "provenance": [],
      "authorship_tag": "ABX9TyP4trV5zpe3veIov1t4VGRX",
      "include_colab_link": true
    },
    "kernelspec": {
      "name": "python3",
      "display_name": "Python 3"
    },
    "language_info": {
      "name": "python"
    }
  },
  "cells": [
    {
      "cell_type": "markdown",
      "metadata": {
        "id": "view-in-github",
        "colab_type": "text"
      },
      "source": [
        "<a href=\"https://colab.research.google.com/github/ykitaguchi77/chatGPT/blob/main/Claude3.ipynb\" target=\"_parent\"><img src=\"https://colab.research.google.com/assets/colab-badge.svg\" alt=\"Open In Colab\"/></a>"
      ]
    },
    {
      "cell_type": "code",
      "source": [
        "!pip install anthropic\n",
        "import anthropic\n",
        "import base64\n",
        "from IPython.display import display, HTML, Image, Markdown\n",
        "import os\n"
      ],
      "metadata": {
        "id": "mJod4Zs1SVrp"
      },
      "execution_count": 64,
      "outputs": []
    },
    {
      "cell_type": "code",
      "source": [
        "# APIの設定\n",
        "from google.colab import drive\n",
        "drive.mount(\"/content/drive\")\n",
        "\n",
        "with open(\"/content/drive/MyDrive/Deep_learning/api.txt\") as file:\n",
        "    #text = file.read()\n",
        "    i=1\n",
        "    key = []\n",
        "    while True:\n",
        "        include_break_line = file.readline() #改行が含まれた行\n",
        "        line = include_break_line.rstrip() #改行を取り除く\n",
        "        if line: #keyの読み込み\n",
        "            #print(f'{i}行目：{line}')\n",
        "            key.append(line)\n",
        "            i += 1\n",
        "        else:\n",
        "            break\n",
        "\n",
        "# APIキーの準備\n",
        "# #ngrok_aceess_token = key[5]\n",
        "#openai_api_key = key[3]\n",
        "# deepl_auth_key = key[1]\n",
        "# serp_api_key = key[7]\n",
        "\n",
        "import os\n",
        "os.environ[\"ANTHROPIC_API_KEY\"] = key[21]"
      ],
      "metadata": {
        "colab": {
          "base_uri": "https://localhost:8080/"
        },
        "id": "OT1t1bw6Xb0M",
        "outputId": "c728bd5f-725b-41c6-93ad-302a01bba10a"
      },
      "execution_count": 70,
      "outputs": [
        {
          "output_type": "stream",
          "name": "stdout",
          "text": [
            "Drive already mounted at /content/drive; to attempt to forcibly remount, call drive.mount(\"/content/drive\", force_remount=True).\n"
          ]
        }
      ]
    },
    {
      "cell_type": "code",
      "source": [
        "import os\n",
        "\n",
        "api_key = os.environ.get(\"ANTHROPIC_API_KEY\")\n",
        "\n",
        "if api_key:\n",
        "    print(\"APIキーが設定されています:\")\n",
        "    print(api_key)\n",
        "else:\n",
        "    print(\"APIキーが設定されていません。\")"
      ],
      "metadata": {
        "id": "9RoBvUXIt0fX"
      },
      "execution_count": null,
      "outputs": []
    },
    {
      "cell_type": "code",
      "source": [
        "import anthropic\n",
        "\n",
        "client = anthropic.Anthropic()\n",
        "\n",
        "# 会話履歴を保存するリスト\n",
        "conversation_history = []\n",
        "\n",
        "# ユーザーからの最初のメッセージ\n",
        "user_message = input(\"User: \")\n",
        "conversation_history.append({\"role\": \"user\", \"content\": user_message})\n",
        "\n",
        "while True:\n",
        "    # ストリーミング形式でアシスタントの応答を取得\n",
        "    with client.messages.stream(\n",
        "        max_tokens=1024,\n",
        "        messages=conversation_history,\n",
        "        model=\"claude-3-opus-20240229\",\n",
        "    ) as stream:\n",
        "        assistant_response = \"\"\n",
        "        print(\"Assistant: \", end=\"\", flush=True)\n",
        "        for text in stream.text_stream:\n",
        "            print(text, end=\"\", flush=True)\n",
        "            assistant_response += text\n",
        "        print()\n",
        "\n",
        "    conversation_history.append({\"role\": \"assistant\", \"content\": assistant_response})\n",
        "\n",
        "    # ユーザーからの次のメッセージを取得\n",
        "    user_message = input(\"User: \")\n",
        "    conversation_history.append({\"role\": \"user\", \"content\": user_message})\n",
        "\n",
        "    if user_message.lower() in [\"quit\", \"exit\", \"bye\"]:\n",
        "        break"
      ],
      "metadata": {
        "id": "eJlhmCy0vxpJ"
      },
      "execution_count": null,
      "outputs": []
    }
  ]
}