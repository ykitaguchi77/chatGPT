{
  "nbformat": 4,
  "nbformat_minor": 0,
  "metadata": {
    "colab": {
      "provenance": [],
      "authorship_tag": "ABX9TyP2BhOoPKiAavulFFdIfX+X",
      "include_colab_link": true
    },
    "kernelspec": {
      "name": "python3",
      "display_name": "Python 3"
    },
    "language_info": {
      "name": "python"
    }
  },
  "cells": [
    {
      "cell_type": "markdown",
      "metadata": {
        "id": "view-in-github",
        "colab_type": "text"
      },
      "source": [
        "<a href=\"https://colab.research.google.com/github/ykitaguchi77/chatGPT/blob/main/Google_GEMINI_Pro_demo.ipynb\" target=\"_parent\"><img src=\"https://colab.research.google.com/assets/colab-badge.svg\" alt=\"Open In Colab\"/></a>"
      ]
    },
    {
      "cell_type": "markdown",
      "source": [
        "#**Google Gemini pro**\n",
        "\n",
        "https://note.com/alexweberk/n/ncb5ee68333d9"
      ],
      "metadata": {
        "id": "mludh66aXJcd"
      }
    },
    {
      "cell_type": "code",
      "execution_count": 1,
      "metadata": {
        "colab": {
          "base_uri": "https://localhost:8080/"
        },
        "id": "bZINmIeRXGsn",
        "outputId": "e9996445-b95b-4a81-8bda-90e238d5372c"
      },
      "outputs": [
        {
          "output_type": "stream",
          "name": "stdout",
          "text": [
            "\u001b[2K     \u001b[90m━━━━━━━━━━━━━━━━━━━━━━━━━━━━━━━━━━━━━━━━\u001b[0m \u001b[32m146.6/146.6 kB\u001b[0m \u001b[31m3.8 MB/s\u001b[0m eta \u001b[36m0:00:00\u001b[0m\n",
            "\u001b[2K     \u001b[90m━━━━━━━━━━━━━━━━━━━━━━━━━━━━━━━━━━━━━━━━\u001b[0m \u001b[32m598.7/598.7 kB\u001b[0m \u001b[31m11.0 MB/s\u001b[0m eta \u001b[36m0:00:00\u001b[0m\n",
            "\u001b[?25h"
          ]
        }
      ],
      "source": [
        "!pip install -q -U google-generativeai"
      ]
    },
    {
      "cell_type": "code",
      "source": [
        "import pathlib\n",
        "import textwrap\n",
        "\n",
        "import google.generativeai as genai\n",
        "\n",
        "# Used to securely store your API key\n",
        "from google.colab import userdata\n",
        "\n",
        "from IPython.display import display\n",
        "from IPython.display import Markdown\n",
        "\n",
        "def to_markdown(text):\n",
        "  text = text.replace('•', '  *')\n",
        "  return Markdown(textwrap.indent(text, '> ', predicate=lambda _: True))"
      ],
      "metadata": {
        "id": "k3WR4OzUXP9h"
      },
      "execution_count": 2,
      "outputs": []
    },
    {
      "cell_type": "code",
      "source": [
        "# APIの設定\n",
        "\n",
        "from google.colab import drive\n",
        "drive.mount(\"/content/drive\")\n",
        "\n",
        "with open(\"/content/drive/MyDrive/Deep_learning/api.txt\") as file:\n",
        "    #text = file.read()\n",
        "    i=1\n",
        "    key = []\n",
        "    while True:\n",
        "        include_break_line = file.readline() #改行が含まれた行\n",
        "        line = include_break_line.rstrip() #改行を取り除く\n",
        "        if line: #keyの読み込み\n",
        "            #print(f'{i}行目：{line}')\n",
        "            key.append(line)\n",
        "            i += 1\n",
        "        else:\n",
        "            break\n",
        "\n",
        "# APIキーの準備\n",
        "# #ngrok_aceess_token = key[5]\n",
        "#openai_api_key = key[3]\n",
        "# deepl_auth_key = key[1]\n",
        "# serp_api_key = key[7]\n",
        "\n",
        "import os\n",
        "os.environ[\"OPENAI_API_KEY\"] = key[3]\n",
        "os.environ[\"SERPAPI_API_KEY\"] = key[7]\n",
        "os.environ[\"GOOGLE_API_KEY\"] = key[11]\n",
        "os.environ[\"GEMINI_API_KEY\"] = key[19]\n",
        "\n",
        "# Or use `os.getenv('GOOGLE_API_KEY')` to fetch an environment variable.\n",
        "genai.configure(api_key=os.environ[\"GEMINI_API_KEY\"])"
      ],
      "metadata": {
        "colab": {
          "base_uri": "https://localhost:8080/"
        },
        "id": "hy0PjvYWXkGP",
        "outputId": "1d9ffd90-a54e-4a1f-d640-79a8e39aacbe"
      },
      "execution_count": 3,
      "outputs": [
        {
          "output_type": "stream",
          "name": "stdout",
          "text": [
            "Mounted at /content/drive\n"
          ]
        }
      ]
    },
    {
      "cell_type": "markdown",
      "source": [
        "#**Use GEMINI Pro**"
      ],
      "metadata": {
        "id": "mHQPvdHYZdoE"
      }
    },
    {
      "cell_type": "code",
      "source": [
        "model = genai.GenerativeModel('gemini-pro')"
      ],
      "metadata": {
        "id": "HjFIGrhZZkph"
      },
      "execution_count": 4,
      "outputs": []
    },
    {
      "cell_type": "code",
      "source": [
        "response = model.generate_content(\"眼形成医の悩みを10個挙げて下さい。\", stream=True)\n",
        "for chunk in response:\n",
        "  print(chunk.text)\n",
        "  print(\"_\"*80)"
      ],
      "metadata": {
        "colab": {
          "base_uri": "https://localhost:8080/",
          "height": 341
        },
        "id": "6Y6pMmH8Yi-t",
        "outputId": "9458944d-76d4-4615-8f31-aacd8d13e7a0"
      },
      "execution_count": 5,
      "outputs": [
        {
          "output_type": "stream",
          "name": "stdout",
          "text": [
            "1. 眼の解剖学的構造の複雑さによる手術の難しさ\n",
            "________________________________________________________________________________\n",
            "\n",
            "2. 手術の成功率や安全性の維持\n",
            "3. 患者の期待に応えるための技術の向上\n",
            "4. 眼科治療における\n",
            "________________________________________________________________________________\n",
            "進歩に対応するための学習と教育\n",
            "5. 医療費や保険の制限による経済的な課題\n",
            "6. 長時間の手術や顕微鏡の使用による肉体的疲労やストレス\n",
            "7. 患者との効果的なコミュニケーションと信頼関係の構築\n",
            "8. 医療訴訟や事故のリスク\n",
            "9\n",
            "________________________________________________________________________________\n",
            ". 手術室や機材のメンテナンスや更新にかかる費用\n",
            "10. 手術の成功を左右するチームワークの構築と維持\n",
            "________________________________________________________________________________\n"
          ]
        }
      ]
    },
    {
      "cell_type": "markdown",
      "source": [
        "#**Use GEMINI Pro Vision**"
      ],
      "metadata": {
        "id": "TR6IWyM0aBmX"
      }
    },
    {
      "cell_type": "code",
      "source": [
        "model = genai.GenerativeModel('gemini-pro-vision')"
      ],
      "metadata": {
        "id": "tvYl4jDoaFKk"
      },
      "execution_count": 6,
      "outputs": []
    },
    {
      "cell_type": "code",
      "source": [
        "from PIL import Image\n",
        "image_path = \"/content/drive/MyDrive/Artworks/Ophthalmology/診察用.png\"\n",
        "img = Image.open(image_path)\n",
        "img"
      ],
      "metadata": {
        "colab": {
          "base_uri": "https://localhost:8080/",
          "height": 417
        },
        "id": "dXhqUodndtfS",
        "outputId": "76988c8a-1358-4782-f3c6-a116bb1eb693"
      },
      "execution_count": 7,
      "outputs": [
        {
          "output_type": "execute_result",
          "data": {
            "text/plain": [
              "<PIL.PngImagePlugin.PngImageFile image mode=RGBA size=400x400>"
            ],
            "image/png": "[encoded data removed]"
          },
          "metadata": {},
          "execution_count": 7
        }
      ]
    },
    {
      "cell_type": "code",
      "source": [
        "from PIL import Image\n",
        "\n",
        "#image_path = \"/content/drive/MyDrive/Artworks/Ophthalmology/診察用.png\"\n",
        "image_path = \"/content/drive/MyDrive/Blepharoplasty_HR/スクリーンショット 2023-04-20 8.35.32-topaz.png\"\n",
        "new_width = 640\n",
        "\n",
        "#resize image\n",
        "img = Image.open(image_path)\n",
        "\n",
        "#透過を削除（Geminiが読めないので）\n",
        "if img.mode == 'RGBA':\n",
        "    img = img.convert('RGB')\n",
        "\n",
        "new_height = int((new_width / img.size[0]) * img.size[1])\n",
        "img = img.resize((new_width, new_height), Image.ANTIALIAS)\n",
        "\n",
        "img"
      ],
      "metadata": {
        "id": "9G8MbvFPcSCf"
      },
      "execution_count": null,
      "outputs": []
    },
    {
      "cell_type": "code",
      "source": [
        "#画像だけを送ると英語の説明が返ってくる\n",
        "\n",
        "response = model.generate_content(img)\n",
        "\n",
        "to_markdown(response.text)"
      ],
      "metadata": {
        "colab": {
          "base_uri": "https://localhost:8080/",
          "height": 114
        },
        "id": "iXbG391SaVst",
        "outputId": "ec3c8b33-1c9a-497b-e276-d78a2785d17d"
      },
      "execution_count": 12,
      "outputs": [
        {
          "output_type": "execute_result",
          "data": {
            "text/plain": [
              "<IPython.core.display.Markdown object>"
            ],
            "text/markdown": ">  The image shows a patient with anophthalmia, or the absence of an eye. The patient is being fitted with a prosthetic eye. The prosthetic eye is made of a soft, flexible material that is custom-molded to fit the patient's eye socket. The prosthetic eye is held in place by the patient's natural muscles and tissues."
          },
          "metadata": {},
          "execution_count": 12
        }
      ]
    },
    {
      "cell_type": "code",
      "source": [
        "# プロンプトと画像セットで送ると説明が返ってくる\n",
        "prompt = \"Is this right eye or left eye? Also please explain how you determined in detail step be step.\"\n",
        "response = model.generate_content([prompt, img])\n",
        "to_markdown(response.text)\n",
        "\n"
      ],
      "metadata": {
        "colab": {
          "base_uri": "https://localhost:8080/",
          "height": 97
        },
        "id": "TH_S7EYjacge",
        "outputId": "8fb9690e-6fd9-43ae-9415-558385f53fa1"
      },
      "execution_count": 13,
      "outputs": [
        {
          "output_type": "execute_result",
          "data": {
            "text/plain": [
              "<IPython.core.display.Markdown object>"
            ],
            "text/markdown": ">  The image is of the left eye. This can be determined by the position of the ruler. The ruler is on the right side of the image, which means that it is measuring the distance from the left eye to the right."
          },
          "metadata": {},
          "execution_count": 13
        }
      ]
    },
    {
      "cell_type": "code",
      "source": [
        "prompt = \"画像から得られる知見を日本語で詳細にまとめてください。\"\n",
        "response = model.generate_content([prompt, img])\n",
        "to_markdown(response.text)"
      ],
      "metadata": {
        "colab": {
          "base_uri": "https://localhost:8080/",
          "height": 132
        },
        "id": "jdMNhxfuayBh",
        "outputId": "adf7a683-1e10-46b2-cd3a-ed93d65e075f"
      },
      "execution_count": 16,
      "outputs": [
        {
          "output_type": "execute_result",
          "data": {
            "text/plain": [
              "<IPython.core.display.Markdown object>"
            ],
            "text/markdown": ">  これは眼瞼下垂の手術をしている画像です。眼瞼下垂とは、上まぶたが垂れ下がって視野が狭くなる病気です。手術は、垂れ下がったまぶたを持ち上げるために、まぶたの裏側にある筋肉を縫い縮める方法で行われます。この手術は、局所麻酔で行うことができ、日帰りで帰ることができます。手術後の経過は良好で、まぶたが持ち上がり、視野が広くなりました。"
          },
          "metadata": {},
          "execution_count": 16
        }
      ]
    }
  ]
}