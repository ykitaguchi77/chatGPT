{
  "cells": [
    {
      "cell_type": "markdown",
      "metadata": {
        "id": "view-in-github",
        "colab_type": "text"
      },
      "source": [
        "<a href=\"https://colab.research.google.com/github/ykitaguchi77/chatGPT/blob/main/Open_Interpreter_Demo.ipynb\" target=\"_parent\"><img src=\"https://colab.research.google.com/assets/colab-badge.svg\" alt=\"Open In Colab\"/></a>"
      ]
    },
    {
      "cell_type": "markdown",
      "metadata": {
        "id": "dT4HzysPiaGl"
      },
      "source": [
        "# Welcome!\n",
        "\n",
        "**Open Interpreter** is an open-source project that lets GPT-4 execute Python code locally — or in this case, in Google Colab.\n",
        "\n",
        "In this demo notebook, we'll explore a few powerful use-cases for Open Interpreter:\n",
        "\n",
        "1. Writing and editing dozens of documents based on some criteria.\n",
        "2. Creating \"slowed and reverbed\" versions of songs with just a YouTube link.\n",
        "3. Redrawing every frame in a music video with Stable Diffusion.\n",
        "\n",
        "Now, grab a drink + an `OPENAI_API_KEY` and let's get started!\n",
        "\n",
        "\n"
      ]
    },
    {
      "cell_type": "markdown",
      "metadata": {
        "id": "N72lFowc2GZv"
      },
      "source": [
        "# Setup"
      ]
    },
    {
      "cell_type": "markdown",
      "metadata": {
        "id": "rW6EmHRli1fN"
      },
      "source": [
        "First, let's install `open-interpreter`:"
      ]
    },
    {
      "cell_type": "code",
      "execution_count": 10,
      "metadata": {
        "id": "4pDQ5xE-lokf"
      },
      "outputs": [],
      "source": [
        "!pip install open-interpreter --q\n",
        "# Google Colab users: restart your runtime here."
      ]
    },
    {
      "cell_type": "markdown",
      "metadata": {
        "id": "iYHe0KLri7lU"
      },
      "source": [
        "You'll need an OpenAI API key to use Open Interpreter. You can [get one here](https://platform.openai.com/account/api-keys)."
      ]
    },
    {
      "cell_type": "code",
      "source": [
        "from google.colab import drive\n",
        "drive.mount('/content/drive')\n",
        "\n",
        "with open(\"/content/drive/MyDrive/Deep_learning/api.txt\") as file:\n",
        "    #text = file.read()\n",
        "    i=1\n",
        "    key = []\n",
        "    while True:\n",
        "        include_break_line = file.readline() #改行が含まれた行\n",
        "        line = include_break_line.rstrip() #改行を取り除く\n",
        "        if line: #keyの読み込み\n",
        "            #print(f'{i}行目：{line}')\n",
        "            key.append(line)\n",
        "            i += 1\n",
        "        else:\n",
        "            break\n",
        "\n",
        "# APIキーの準備\n",
        "# #ngrok_aceess_token = key[5]\n",
        "#openai_api_key = key[3]\n",
        "# deepl_auth_key = key[1]\n",
        "# serp_api_key = key[7]\n",
        "\n",
        "import os\n",
        "os.environ[\"OPENAI_API_KEY\"] = key[3]\n",
        "os.environ[\"SERPAPI_API_KEY\"] = key[7]\n",
        "os.environ[\"GOOGLE_CSE_ID\"] = key[9]\n",
        "os.environ[\"GOOGLE_API_KEY\"] = key[11]"
      ],
      "metadata": {
        "colab": {
          "base_uri": "https://localhost:8080/"
        },
        "id": "eNc1ijbrsV6m",
        "outputId": "318a455c-5921-4a0d-c2db-198f8230885d"
      },
      "execution_count": 11,
      "outputs": [
        {
          "output_type": "stream",
          "name": "stdout",
          "text": [
            "Drive already mounted at /content/drive; to attempt to forcibly remount, call drive.mount(\"/content/drive\", force_remount=True).\n"
          ]
        }
      ]
    },
    {
      "cell_type": "code",
      "execution_count": 12,
      "metadata": {
        "id": "SCEh9l8LZqcL"
      },
      "outputs": [],
      "source": [
        "import interpreter\n",
        "\n",
        "# Paste your OpenAI API key below.\n",
        "interpreter.api_key = os.environ[\"OPENAI_API_KEY\"]\n"
      ]
    },
    {
      "cell_type": "markdown",
      "source": [
        "**By default, Open Interpreter will ask for confirmation before executing any code.**\n",
        "\n",
        "Since Google Colab is a safe, isolated environment, we recommend enabling `auto_run`. This mimics the behavior of OpenAI's code interpreter."
      ],
      "metadata": {
        "id": "6hQubS1mFe8r"
      }
    },
    {
      "cell_type": "code",
      "source": [
        "interpreter.auto_run = True"
      ],
      "metadata": {
        "id": "CrI5b2IAFeDk"
      },
      "execution_count": 13,
      "outputs": []
    },
    {
      "cell_type": "markdown",
      "source": [
        "# Open-Interpreter playgrounds"
      ],
      "metadata": {
        "id": "4YmO9MCpxyLB"
      }
    },
    {
      "cell_type": "code",
      "source": [
        "!interpreter --fast"
      ],
      "metadata": {
        "id": "1iRoRvCwN_Vw",
        "outputId": "8e3a1a6d-6dc3-4cba-d7ab-d0c24b5325dd",
        "colab": {
          "base_uri": "https://localhost:8080/"
        }
      },
      "execution_count": 6,
      "outputs": [
        {
          "output_type": "stream",
          "name": "stdout",
          "text": [
            "\n",
            "\u001b[35m▌ \u001b[0m\u001b[35mModel set to \u001b[0m\u001b[1;36;40mGPT-3.5-TURBO\u001b[0m\u001b[35m                                                  \u001b[0m\n",
            "\n",
            "\u001b[1mTip:\u001b[0m To run locally, use \u001b[1;36;40minterpreter --local\u001b[0m                                    \n",
            "\n",
            "\u001b[1mOpen Interpreter\u001b[0m will require approval before running code. Use \u001b[1;36;40minterpreter -y\u001b[0m  \n",
            "to bypass this.                                                                 \n",
            "\n",
            "Press \u001b[1;36;40mCTRL-C\u001b[0m to exit.                                                           \n",
            "\n",
            "> \n",
            "^C\n"
          ]
        }
      ]
    },
    {
      "cell_type": "code",
      "source": [
        "import requests\n",
        "from bs4 import BeautifulSoup\n",
        "\n",
        "# Define the URL of the search results\n",
        "url = 'https://pubmed.ncbi.nlm.nih.gov/?term=IgG4-ROD'\n",
        "\n",
        "# Send a GET request to the server\n",
        "response = requests.get(url)\n",
        "\n",
        "# Print the status code (should be 200 for success)\n",
        "print(response.status_code)"
      ],
      "metadata": {
        "id": "zgJab-ZCTFOs",
        "outputId": "507dfbe1-c14b-43b3-f823-12e9b655a71c",
        "colab": {
          "base_uri": "https://localhost:8080/",
          "height": 34
        }
      },
      "execution_count": 14,
      "outputs": [
        {
          "output_type": "display_data",
          "data": {
            "text/plain": [
              "200\n"
            ],
            "text/html": [
              "<pre style=\"white-space:pre;overflow-x:auto;line-height:normal;font-family:Menlo,'DejaVu Sans Mono',consolas,'Courier New',monospace\">200\n",
              "</pre>\n"
            ]
          },
          "metadata": {}
        }
      ]
    },
    {
      "cell_type": "code",
      "source": [
        "soup = BeautifulSoup(response.text, 'html.parser')\n",
        "\n",
        "# Find all elements that contain the titles of the papers and the links to the detail pages\n",
        "title_link_elements = soup.find_all('a', class_='docsum-title', limit=10)\n",
        "\n",
        "# Extract the titles and the links\n",
        "titles = [element.text.strip() for element in title_link_elements]\n",
        "links = ['https://pubmed.ncbi.nlm.nih.gov' + element['href'] for element in title_link_elements]\n",
        "\n",
        "# Print the first few titles and links to check if we're on the right track\n",
        "print(titles[:3])\n",
        "print(links[:3])"
      ],
      "metadata": {
        "id": "ZXZCwJIBTNN8",
        "outputId": "d84ca922-8ac3-4345-a64b-fd528f01c58a",
        "colab": {
          "base_uri": "https://localhost:8080/",
          "height": 83
        }
      },
      "execution_count": 15,
      "outputs": [
        {
          "output_type": "display_data",
          "data": {
            "text/plain": [
              "['IgG4-related disease in the eye and ocular adnexa.', 'IgG4-related disease: a neuro-ophthalmological \n",
              "perspective.', 'IgG4-Related Ophthalmic Disease. Part II: Clinical Aspects.']\n"
            ],
            "text/html": [
              "<pre style=\"white-space:pre;overflow-x:auto;line-height:normal;font-family:Menlo,'DejaVu Sans Mono',consolas,'Courier New',monospace\">['IgG4-related disease in the eye and ocular adnexa.', 'IgG4-related disease: a neuro-ophthalmological \n",
              "perspective.', 'IgG4-Related Ophthalmic Disease. Part II: Clinical Aspects.']\n",
              "</pre>\n"
            ]
          },
          "metadata": {}
        },
        {
          "output_type": "display_data",
          "data": {
            "text/plain": [
              "['https://pubmed.ncbi.nlm.nih.gov/28858963/', 'https://pubmed.ncbi.nlm.nih.gov/25405662/', \n",
              "'https://pubmed.ncbi.nlm.nih.gov/25564258/']\n"
            ],
            "text/html": [
              "<pre style=\"white-space:pre;overflow-x:auto;line-height:normal;font-family:Menlo,'DejaVu Sans Mono',consolas,'Courier New',monospace\">['https://pubmed.ncbi.nlm.nih.gov/28858963/', 'https://pubmed.ncbi.nlm.nih.gov/25405662/', \n",
              "'https://pubmed.ncbi.nlm.nih.gov/25564258/']\n",
              "</pre>\n"
            ]
          },
          "metadata": {}
        }
      ]
    },
    {
      "cell_type": "code",
      "source": [
        "message = \"\"\"\n",
        "\n",
        "Google Scholar\n",
        "https://scholar.google.co.jp/で、\"IgG4-ROD\"で検索してください。上位10件について、タイトルを抽出し、\n",
        "pandasで表を作って下さい\n",
        "\"\"\"\n",
        "\n",
        "interpreter.chat(f\"{message}\")"
      ],
      "metadata": {
        "id": "c9lwIw7Ox1ra",
        "outputId": "41522605-c5bc-423f-8b85-0cc2cb475312",
        "colab": {
          "base_uri": "https://localhost:8080/",
          "height": 1000,
          "referenced_widgets": [
            "dd1ccff815a646e98fecb6bd65cc57ce",
            "7d53338019be449a9860c358629d63eb",
            "adfeba822ca04cd0a98578eb64849482",
            "9dfbd455653b41cd88d315e48d996b46",
            "480471c9182e43849bf2f1b1630628d1",
            "6c1f0003b29d47c6a0cc31e2401f7b4d",
            "b7765860c6c74cb89d489055cf4c2081",
            "be34e6fa4cdc4ec18f010a14765e718e",
            "3c625d33662a4ee1a5975e4d1636256c",
            "008e3a5d603a43789d1341d171784d0e",
            "b782d168a4214f8583fbb18c95f791b7",
            "2bdeea25d8ec4b6fa380655a9e7f96c8",
            "c3f016073e1d41a89d7a8e7eac8f1bec",
            "225212c67a984aa0b58e31236adb7ff4",
            "6d8b92f285ce4b75928fe0901636ce51",
            "74c8c4ebe8b74cb48bf9d6c9d7745f62",
            "6f712202269b403ab980a2d719400909",
            "4188542f65254c68b138b41e587d76f9",
            "1dbb78f6cc0a4ab188bd177321f70028",
            "8828ea6226ba4bcbabb620d5e48c0898",
            "8f8f009596a64c8588a2f174e84f43b6",
            "5965764068434a8ab7fa5961824d384d"
          ]
        }
      },
      "execution_count": 14,
      "outputs": [
        {
          "output_type": "display_data",
          "data": {
            "text/plain": [
              "Output()"
            ],
            "application/vnd.jupyter.widget-view+json": {
              "version_major": 2,
              "version_minor": 0,
              "model_id": "dd1ccff815a646e98fecb6bd65cc57ce"
            }
          },
          "metadata": {}
        },
        {
          "output_type": "display_data",
          "data": {
            "text/plain": [],
            "text/html": [
              "<pre style=\"white-space:pre;overflow-x:auto;line-height:normal;font-family:Menlo,'DejaVu Sans Mono',consolas,'Courier New',monospace\"></pre>\n"
            ]
          },
          "metadata": {}
        },
        {
          "output_type": "display_data",
          "data": {
            "text/plain": [
              "\n"
            ],
            "text/html": [
              "<pre style=\"white-space:pre;overflow-x:auto;line-height:normal;font-family:Menlo,'DejaVu Sans Mono',consolas,'Courier New',monospace\">\n",
              "</pre>\n"
            ]
          },
          "metadata": {}
        },
        {
          "output_type": "display_data",
          "data": {
            "text/plain": [
              "Output()"
            ],
            "application/vnd.jupyter.widget-view+json": {
              "version_major": 2,
              "version_minor": 0,
              "model_id": "adfeba822ca04cd0a98578eb64849482"
            }
          },
          "metadata": {}
        },
        {
          "output_type": "display_data",
          "data": {
            "text/plain": [],
            "text/html": [
              "<pre style=\"white-space:pre;overflow-x:auto;line-height:normal;font-family:Menlo,'DejaVu Sans Mono',consolas,'Courier New',monospace\"></pre>\n"
            ]
          },
          "metadata": {}
        },
        {
          "output_type": "display_data",
          "data": {
            "text/plain": [
              "Output()"
            ],
            "application/vnd.jupyter.widget-view+json": {
              "version_major": 2,
              "version_minor": 0,
              "model_id": "480471c9182e43849bf2f1b1630628d1"
            }
          },
          "metadata": {}
        },
        {
          "output_type": "display_data",
          "data": {
            "text/plain": [],
            "text/html": [
              "<pre style=\"white-space:pre;overflow-x:auto;line-height:normal;font-family:Menlo,'DejaVu Sans Mono',consolas,'Courier New',monospace\"></pre>\n"
            ]
          },
          "metadata": {}
        },
        {
          "output_type": "display_data",
          "data": {
            "text/plain": [
              "\n"
            ],
            "text/html": [
              "<pre style=\"white-space:pre;overflow-x:auto;line-height:normal;font-family:Menlo,'DejaVu Sans Mono',consolas,'Courier New',monospace\">\n",
              "</pre>\n"
            ]
          },
          "metadata": {}
        },
        {
          "output_type": "display_data",
          "data": {
            "text/plain": [
              "Output()"
            ],
            "application/vnd.jupyter.widget-view+json": {
              "version_major": 2,
              "version_minor": 0,
              "model_id": "b7765860c6c74cb89d489055cf4c2081"
            }
          },
          "metadata": {}
        },
        {
          "output_type": "display_data",
          "data": {
            "text/plain": [],
            "text/html": [
              "<pre style=\"white-space:pre;overflow-x:auto;line-height:normal;font-family:Menlo,'DejaVu Sans Mono',consolas,'Courier New',monospace\"></pre>\n"
            ]
          },
          "metadata": {}
        },
        {
          "output_type": "display_data",
          "data": {
            "text/plain": [
              "Output()"
            ],
            "application/vnd.jupyter.widget-view+json": {
              "version_major": 2,
              "version_minor": 0,
              "model_id": "3c625d33662a4ee1a5975e4d1636256c"
            }
          },
          "metadata": {}
        },
        {
          "output_type": "display_data",
          "data": {
            "text/plain": [],
            "text/html": [
              "<pre style=\"white-space:pre;overflow-x:auto;line-height:normal;font-family:Menlo,'DejaVu Sans Mono',consolas,'Courier New',monospace\"></pre>\n"
            ]
          },
          "metadata": {}
        },
        {
          "output_type": "display_data",
          "data": {
            "text/plain": [
              "\n"
            ],
            "text/html": [
              "<pre style=\"white-space:pre;overflow-x:auto;line-height:normal;font-family:Menlo,'DejaVu Sans Mono',consolas,'Courier New',monospace\">\n",
              "</pre>\n"
            ]
          },
          "metadata": {}
        },
        {
          "output_type": "display_data",
          "data": {
            "text/plain": [
              "Output()"
            ],
            "application/vnd.jupyter.widget-view+json": {
              "version_major": 2,
              "version_minor": 0,
              "model_id": "b782d168a4214f8583fbb18c95f791b7"
            }
          },
          "metadata": {}
        },
        {
          "output_type": "display_data",
          "data": {
            "text/plain": [],
            "text/html": [
              "<pre style=\"white-space:pre;overflow-x:auto;line-height:normal;font-family:Menlo,'DejaVu Sans Mono',consolas,'Courier New',monospace\"></pre>\n"
            ]
          },
          "metadata": {}
        },
        {
          "output_type": "display_data",
          "data": {
            "text/plain": [
              "Output()"
            ],
            "application/vnd.jupyter.widget-view+json": {
              "version_major": 2,
              "version_minor": 0,
              "model_id": "c3f016073e1d41a89d7a8e7eac8f1bec"
            }
          },
          "metadata": {}
        },
        {
          "output_type": "display_data",
          "data": {
            "text/plain": [],
            "text/html": [
              "<pre style=\"white-space:pre;overflow-x:auto;line-height:normal;font-family:Menlo,'DejaVu Sans Mono',consolas,'Courier New',monospace\"></pre>\n"
            ]
          },
          "metadata": {}
        },
        {
          "output_type": "display_data",
          "data": {
            "text/plain": [
              "\n"
            ],
            "text/html": [
              "<pre style=\"white-space:pre;overflow-x:auto;line-height:normal;font-family:Menlo,'DejaVu Sans Mono',consolas,'Courier New',monospace\">\n",
              "</pre>\n"
            ]
          },
          "metadata": {}
        },
        {
          "output_type": "display_data",
          "data": {
            "text/plain": [
              "Output()"
            ],
            "application/vnd.jupyter.widget-view+json": {
              "version_major": 2,
              "version_minor": 0,
              "model_id": "6d8b92f285ce4b75928fe0901636ce51"
            }
          },
          "metadata": {}
        },
        {
          "output_type": "display_data",
          "data": {
            "text/plain": [],
            "text/html": [
              "<pre style=\"white-space:pre;overflow-x:auto;line-height:normal;font-family:Menlo,'DejaVu Sans Mono',consolas,'Courier New',monospace\"></pre>\n"
            ]
          },
          "metadata": {}
        },
        {
          "output_type": "display_data",
          "data": {
            "text/plain": [
              "Output()"
            ],
            "application/vnd.jupyter.widget-view+json": {
              "version_major": 2,
              "version_minor": 0,
              "model_id": "6f712202269b403ab980a2d719400909"
            }
          },
          "metadata": {}
        },
        {
          "output_type": "display_data",
          "data": {
            "text/plain": [],
            "text/html": [
              "<pre style=\"white-space:pre;overflow-x:auto;line-height:normal;font-family:Menlo,'DejaVu Sans Mono',consolas,'Courier New',monospace\"></pre>\n"
            ]
          },
          "metadata": {}
        },
        {
          "output_type": "display_data",
          "data": {
            "text/plain": [
              "\n"
            ],
            "text/html": [
              "<pre style=\"white-space:pre;overflow-x:auto;line-height:normal;font-family:Menlo,'DejaVu Sans Mono',consolas,'Courier New',monospace\">\n",
              "</pre>\n"
            ]
          },
          "metadata": {}
        },
        {
          "output_type": "display_data",
          "data": {
            "text/plain": [
              "Output()"
            ],
            "application/vnd.jupyter.widget-view+json": {
              "version_major": 2,
              "version_minor": 0,
              "model_id": "1dbb78f6cc0a4ab188bd177321f70028"
            }
          },
          "metadata": {}
        },
        {
          "output_type": "display_data",
          "data": {
            "text/plain": [],
            "text/html": [
              "<pre style=\"white-space:pre;overflow-x:auto;line-height:normal;font-family:Menlo,'DejaVu Sans Mono',consolas,'Courier New',monospace\"></pre>\n"
            ]
          },
          "metadata": {}
        },
        {
          "output_type": "display_data",
          "data": {
            "text/plain": [
              "Output()"
            ],
            "application/vnd.jupyter.widget-view+json": {
              "version_major": 2,
              "version_minor": 0,
              "model_id": "8f8f009596a64c8588a2f174e84f43b6"
            }
          },
          "metadata": {}
        },
        {
          "output_type": "display_data",
          "data": {
            "text/plain": [],
            "text/html": [
              "<pre style=\"white-space:pre;overflow-x:auto;line-height:normal;font-family:Menlo,'DejaVu Sans Mono',consolas,'Courier New',monospace\"></pre>\n"
            ]
          },
          "metadata": {}
        }
      ]
    },
    {
      "cell_type": "code",
      "source": [
        "message = \"\"\"\n",
        "\n",
        "このような感じでいけるみたいです！\n",
        "\n",
        "\n",
        "import requests\n",
        "import json\n",
        "\n",
        "endpoint = 'https://api.semanticscholar.org/graph/v1/paper/search'\n",
        "keyword = 'python'\n",
        "fields = ('title', 'year', 'referenceCount', 'citationCount',\n",
        "    'influentialCitationCount', 'isOpenAccess', 'fieldsOfStudy', 'authors')\n",
        "params = {\n",
        "    'query': keyword,\n",
        "    'fields': ','.join(fields),\n",
        "    'limit': 10\n",
        "}\n",
        "r = requests.get(url=endpoint, params=params)\n",
        "\n",
        "r_dict = json.loads(r.text)\n",
        "total = r_dict['total']\n",
        "print(f'Total search result: {total}')\n",
        "\n",
        "data = r_dict['data']\n",
        "for d in data:\n",
        "    print('---------------')\n",
        "    for fi in fields:\n",
        "        if fi == 'authors':\n",
        "            print(f'{fi}: {list(map(lambda a: a[\"name\"], d[fi]))}')\n",
        "        else:\n",
        "            print(f'{fi}: {d[fi]}')\"\"\"\n",
        "\n",
        "interpreter.chat(f\"{message}\")"
      ],
      "metadata": {
        "id": "WZw-Et__XYqb"
      },
      "execution_count": null,
      "outputs": []
    },
    {
      "cell_type": "markdown",
      "metadata": {
        "id": "A1wGFVu9MNpM"
      },
      "source": [
        "# Basic Examples"
      ]
    },
    {
      "cell_type": "markdown",
      "metadata": {
        "id": "loqh8HJ-oQAG"
      },
      "source": [
        "## Hello, World!"
      ]
    },
    {
      "cell_type": "markdown",
      "metadata": {
        "id": "KQGYgFehnumE"
      },
      "source": [
        "Let's start by asking the interpreter to print hello world."
      ]
    },
    {
      "cell_type": "code",
      "source": [
        "interpreter.chat(\"Please print hello world.\")"
      ],
      "metadata": {
        "id": "sasDzlwm0JAZ"
      },
      "execution_count": null,
      "outputs": []
    },
    {
      "cell_type": "markdown",
      "metadata": {
        "id": "iixIiFSsn4LZ"
      },
      "source": [
        "Great! The model decided to run a **code block** then tell us its output."
      ]
    },
    {
      "cell_type": "markdown",
      "metadata": {
        "id": "2VwbdspIofFC"
      },
      "source": [
        "## Math"
      ]
    },
    {
      "cell_type": "markdown",
      "metadata": {
        "id": "sf-CMTm2oizg"
      },
      "source": [
        "For this example, we're going to open an interactive chat in our terminal with `interpreter.chat()`.\n",
        "\n",
        "💬 **The interactive chat behaves exactly like ChatGPT.** 💬"
      ]
    },
    {
      "cell_type": "markdown",
      "metadata": {
        "id": "uytMTyy6qFMd"
      },
      "source": [
        "Try this:\n",
        "\n",
        "1. Ask Open Interpreter to solve an equation like `10x + 14 = 12`\n",
        "2. Watch it use a Python library called `sympy` to solve it.\n",
        "3. Type 'exit' to leave the interactive chat."
      ]
    },
    {
      "cell_type": "code",
      "execution_count": null,
      "metadata": {
        "colab": {
          "base_uri": "https://localhost:8080/",
          "height": 178
        },
        "id": "ZpwadxmIoiIR",
        "outputId": "0351a780-ca5d-4f8b-d925-2f6699f65594"
      },
      "outputs": [
        {
          "output_type": "stream",
          "name": "stderr",
          "text": [
            "Exception in thread Thread-15 (save_and_display_stream):\n",
            "Traceback (most recent call last):\n",
            "  File \"/usr/lib/python3.10/threading.py\", line 1016, in _bootstrap_inner\n"
          ]
        },
        {
          "output_type": "display_data",
          "data": {
            "text/plain": [
              "\n"
            ],
            "text/html": [
              "<pre style=\"white-space:pre;overflow-x:auto;line-height:normal;font-family:Menlo,'DejaVu Sans Mono',consolas,'Courier New',monospace\">\n",
              "</pre>\n"
            ]
          },
          "metadata": {}
        },
        {
          "output_type": "stream",
          "name": "stderr",
          "text": [
            "    self.run()\n",
            "  File \"/usr/lib/python3.10/threading.py\", line 953, in run\n",
            "    self._target(*self._args, **self._kwargs)\n",
            "  File \"/usr/local/lib/python3.10/dist-packages/interpreter/code_interpreter.py\", line 369, in save_and_display_stream\n",
            "    raise KeyboardInterrupt\n",
            "KeyboardInterrupt\n"
          ]
        }
      ],
      "source": [
        "interpreter.chat()"
      ]
    },
    {
      "cell_type": "markdown",
      "metadata": {
        "id": "Y-TzGmZ2rVPd"
      },
      "source": [
        "## Web Browsing"
      ]
    },
    {
      "cell_type": "markdown",
      "metadata": {
        "id": "2QWXsSwarjav"
      },
      "source": [
        "Let's ask Open Interpreter to browse the web.\n",
        "\n",
        "1. Start by opening an interactive chat again with `interpreter.chat()`.\n",
        "2. Type a query like \"what are the last 10 BBC news headlines?\""
      ]
    },
    {
      "cell_type": "code",
      "execution_count": null,
      "metadata": {
        "id": "2WlB4ArZlbOE"
      },
      "outputs": [],
      "source": [
        "interpreter.chat()"
      ]
    },
    {
      "cell_type": "markdown",
      "metadata": {
        "id": "Ace0nkv8s66H"
      },
      "source": [
        "Here it likely ran two code blocks:\n",
        "\n",
        "1. The first code block installed `feedparser` from pip.\n",
        "1. The second used `feedparser` to read the BBC's RSS feed.\n",
        "\n",
        "Notice that the first code block **was a shell command.** Open Interpreter uses Jupyter internally, so it can run shell commands *and* Python."
      ]
    },
    {
      "cell_type": "markdown",
      "metadata": {
        "id": "bLWX5tB0rzyW"
      },
      "source": [
        "## Resetting the Chat"
      ]
    },
    {
      "cell_type": "markdown",
      "metadata": {
        "id": "bZmlAKzjtWJZ"
      },
      "source": [
        "In Python, the Open Interpreter instance remembers your conversation history.\n",
        "\n",
        "If you want it to forget previous messages, you can reset it:"
      ]
    },
    {
      "cell_type": "code",
      "execution_count": null,
      "metadata": {
        "id": "DQzDB8qetlYH"
      },
      "outputs": [],
      "source": [
        "interpreter.reset()"
      ]
    },
    {
      "cell_type": "markdown",
      "metadata": {
        "id": "6clx6Pyhtmzj"
      },
      "source": [
        "Now it won't remember the previous examples.\n",
        "\n",
        "<br>\n",
        "\n",
        "`Why might I want to do this?`\n",
        "\n",
        "<br>\n",
        "\n",
        "To reduce the number of tokens that get sent to OpenAI.\n",
        "\n",
        "We need to send OpenAI your entire conversation history (automatically limited to the maximum amount GPT-4 can handle) everytime 1) we send it a message or 2) a code block produces an output.\n",
        "\n",
        "<br>\n",
        "\n",
        "**Note:** The command-line version of Open Interpreter resets itself automatically."
      ]
    },
    {
      "cell_type": "markdown",
      "metadata": {
        "id": "eC27gX51wCm-"
      },
      "source": [
        "# Advanced Examples"
      ]
    },
    {
      "cell_type": "markdown",
      "metadata": {
        "id": "c73LbswP4YQF"
      },
      "source": [
        "## YouTube Link -> Animation"
      ]
    },
    {
      "cell_type": "code",
      "execution_count": null,
      "metadata": {
        "id": "WBAR6xgMSUWX"
      },
      "outputs": [],
      "source": [
        "# Watch the final output:"
      ]
    },
    {
      "cell_type": "markdown",
      "metadata": {
        "id": "ultKeJM9wHuz"
      },
      "source": [
        "I've always been fascinated by hand drawn animation. Let's see if we can use Open Interpreter to express that.\n",
        "\n",
        "We'll ask it to redraw every frame in Steve Lacey's \"Bad Habit\" video with `replicate`. They have a service that can redraw images in new styles.\n",
        "\n",
        "<br>\n",
        "\n",
        "`Doesn't this require logging into \"replicate\"?`\n",
        "\n",
        "<br>\n",
        "\n",
        "Yes, and this is a great reason to use Open Interpreter! We can simply log in to `replicate`, then tell the interpreter how to use it ([I just pasted in replicate's quick start](https://replicate.com/jagilley/controlnet-pose/api)).\n",
        "Because code is run locally, the interpreter is \"logged in\" too."
      ]
    },
    {
      "cell_type": "code",
      "execution_count": null,
      "metadata": {
        "id": "-oLsybTEwelU"
      },
      "outputs": [],
      "source": [
        "# First, let's install Replicate and log in.\n",
        "\n",
        "!pip install replicate\n",
        "import os\n",
        "os.environ[\"REPLICATE_API_TOKEN\"] = \"api_token\" # Get yours: https://replicate.com/account"
      ]
    },
    {
      "cell_type": "code",
      "execution_count": null,
      "metadata": {
        "id": "jVG-vqNgODiK"
      },
      "outputs": [],
      "source": [
        "# Now we'll ask interpreter to redraw the video using Replicate.\n",
        "\n",
        "message = \"\"\"\n",
        "\n",
        "I want to edit a video so it's in 12 fps and each frame is redrawn with ControlNet\n",
        "to give it a stop motion / hand-drawn animation feeling.\n",
        "\n",
        "Here's how you use ControlNet on a single frame, from Replicate's quick start:\n",
        "\n",
        "import replicate\n",
        "output = replicate.run(\n",
        "    \"jagilley/controlnet-canny:aff48af9c68d162388d230a2ab003f68d2638d88307bdaf1c2f1ac95079c9613\",\n",
        "    input={\"image\": open(\"path/to/file\", \"rb\"), \"prompt\": \"<prompt>\"}\n",
        ")\n",
        "\n",
        "(I've noticed that this always returns a list of two links. Just use the second one.)\n",
        "\n",
        "Please download this video and just use the seconds from 0:10 to 0:17:\n",
        "https://www.youtube.com/watch?v=VF-FGf_ZZiI\n",
        "\n",
        "Then reduce it to 12fps, and then replace those frames with ControlNet redraws\n",
        "using random prompts that evoke stop motion / hand-drawn animation--\n",
        "think embroidery, pencil art, claymation, yarn on a table, etc--\n",
        "then add the original sound back.\n",
        "\n",
        "Thanks!\n",
        "\n",
        "\"\"\"\n",
        "\n",
        "interpreter.reset() # Reset the chat\n",
        "interpreter.chat(message) # Pass in the message above"
      ]
    },
    {
      "cell_type": "markdown",
      "metadata": {
        "id": "YX-g17nXU1JE"
      },
      "source": [
        "<br>\n",
        "\n",
        "Just for fun, imagine a function that takes a `youtube_url`, passes it into `interpreter.chat(message)` with the instructions above, then returns the processed filename:\n",
        "\n",
        "```python\n",
        "def animate_video(youtube_url):\n",
        "  interpreter.reset()\n",
        "  interpreter.message(f'Animate {youtube_url} with the following steps then save to final.mp4. ...')\n",
        "  return 'final.mp4'\n",
        "```"
      ]
    },
    {
      "cell_type": "markdown",
      "metadata": {
        "id": "I1WSa-Jw0KM0"
      },
      "source": [
        "## Create documents"
      ]
    },
    {
      "cell_type": "code",
      "execution_count": null,
      "metadata": {
        "id": "mvkatiSHQr8Z"
      },
      "outputs": [],
      "source": [
        "interpreter.reset() # Reset the chat\n",
        "interpreter.chat(\"\"\"Can you make a folder called documents and put five .docx files in it\n",
        "and write a sentence about machine learning in each of them?\"\"\") # Pass a message directly into chat"
      ]
    },
    {
      "cell_type": "markdown",
      "metadata": {
        "id": "cM7Yf5pHgeDW"
      },
      "source": [
        "## Edit all documents in a folder"
      ]
    },
    {
      "cell_type": "code",
      "execution_count": null,
      "metadata": {
        "id": "o1NJy2Y9RRqM"
      },
      "outputs": [],
      "source": [
        "interpreter.reset()\n",
        "interpreter.chat(\"\"\"Go through all the .docx files in my 'documents' folder\n",
        "and replace every occurrence of 'Machine Learning' with 'AI'.\"\"\")"
      ]
    },
    {
      "cell_type": "code",
      "execution_count": null,
      "metadata": {
        "id": "JLgWXbb_ShkE"
      },
      "outputs": [],
      "source": [
        "# If you don't run interpreter.reset(), it will remember your conversation.\n",
        "interpreter.chat(\"I wanted to replace the files, so please delete the old ones and rename the new ones\")"
      ]
    },
    {
      "cell_type": "markdown",
      "metadata": {
        "id": "YlDX4rl8x1EF"
      },
      "source": [
        "## Slow + Reverb a YouTube Link"
      ]
    },
    {
      "cell_type": "code",
      "execution_count": null,
      "metadata": {
        "id": "Tun9x2jzx33d"
      },
      "outputs": [],
      "source": [
        "message = \"Can you slow + reverb this song? https://www.youtube.com/watch?v=8GW6sLrK40k\"\n",
        "\n",
        "interpreter.reset()\n",
        "interpreter.chat(message)"
      ]
    },
    {
      "cell_type": "code",
      "execution_count": null,
      "metadata": {
        "id": "3_uywJFkISTi"
      },
      "outputs": [],
      "source": [
        "# Listen to the final result:"
      ]
    },
    {
      "cell_type": "markdown",
      "source": [
        "Now we could open `interpreter.chat()`, ask it to slow it down more, add more reverb, or even create a video with [a .gif backround](https://i.giphy.com/media/zIV7iWK9f0x8Y/giphy.webp)."
      ],
      "metadata": {
        "id": "HjjwO8MUzSiI"
      }
    },
    {
      "cell_type": "markdown",
      "metadata": {
        "id": "E9MTDnOWLMP8"
      },
      "source": [
        "## Open Interpreter Artwork"
      ]
    },
    {
      "cell_type": "markdown",
      "metadata": {
        "id": "n540tKZmJ-zt"
      },
      "source": [
        "The artwork for Open Interpreter was illustrated by Open Interpreter. How?\n",
        "\n",
        "It was given a description inspired by [Ruby Chen's](https://rubywjchen.com/) GPT-4 artwork:"
      ]
    },
    {
      "cell_type": "code",
      "execution_count": null,
      "metadata": {
        "id": "IEkUr0bju5Sp"
      },
      "outputs": [],
      "source": [
        "message = \"\"\"\n",
        "\n",
        "Hello! I'd like your help making some artwork for the Open Interpreter project.\n",
        "\n",
        "It's going to be pixel art, ~160 wide and 14 pixels tall. Black background.\n",
        "\n",
        "I'd like to see rectangles on every other row. These should be anywhere from\n",
        "~6 to 36 pixels in width. They should be placed randomly around the image, never touching eachother\n",
        "(the space between them should be ~16-64 pixels). They can go off screen / butt up against the edges.\n",
        "\n",
        "Half of these rectangles should be white, half should be a powerful purple color: R138 G43 B226\n",
        "\n",
        "Once you've created it, please scale it up with nearest-neighbor 10x.\n",
        "\n",
        "Please make ~10 options I can review, like banner_1.png, banner_2.png, etc.\n",
        "\n",
        "\"\"\"\n",
        "\n",
        "interpreter.reset()\n",
        "interpreter.chat(message)"
      ]
    },
    {
      "cell_type": "markdown",
      "metadata": {
        "id": "OTTkCcIshgmB"
      },
      "source": [
        "## Add subtitles to videos"
      ]
    },
    {
      "cell_type": "markdown",
      "source": [
        "`replicate` also has a speech-to-text service that generates subtitle files (.srt).\n",
        "\n",
        "Let's ask Open Interpreter to use some code [copied from replicate's quickstart](https://replicate.com/m1guelpf/whisper-subtitles/api) to add hardcoded subtitles to a video:"
      ],
      "metadata": {
        "id": "NKA7CWtSfrUf"
      }
    },
    {
      "cell_type": "code",
      "execution_count": null,
      "metadata": {
        "id": "BTB3zD5QnJd8"
      },
      "outputs": [],
      "source": [
        "message = \"\"\"\n",
        "Hello! I just logged into Replicate on this machine. You have my permission to run any code.\n",
        "\n",
        "Could you use their speech-to-text service to hardcode subtitles to the bottom of billyking.mp4 and make billy_subbed.mp4?\n",
        "\"\"\"\n",
        "\n",
        "# Again, let's give Open Interpreter an example of how to use the service.\n",
        "message += \"\"\"\n",
        "Here's some code that Replicate provides for how to use their service:\n",
        "\n",
        "import replicate\n",
        "output = replicate.run(\n",
        "    \"m1guelpf/whisper-subtitles:7f686e243a96c7f6f0f481bcef24d688a1369ed3983cea348d1f43b879615766\",\n",
        "    input={\"audio_path\": open(\"path/to/file\", \"rb\")} # Can also be a video path\n",
        ")\n",
        "print(output)\n",
        "\n",
        "\"\"\"\n",
        "\n",
        "# Now let's reset and run Open Interpreter.\n",
        "interpreter.reset()\n",
        "interpreter.chat(message)"
      ]
    },
    {
      "cell_type": "markdown",
      "metadata": {
        "id": "t9v9bo4x2Z3f"
      },
      "source": [
        "You can [watch the output video here.](https://youtube.com/shorts/F6gOzP691po?feature=share)"
      ]
    },
    {
      "cell_type": "markdown",
      "metadata": {
        "id": "KrgUKfZDLTEa"
      },
      "source": [
        "## YouTube video -> TikTok Clip"
      ]
    },
    {
      "cell_type": "code",
      "execution_count": null,
      "metadata": {
        "id": "RxbP1THRwCcp"
      },
      "outputs": [],
      "source": [
        "message = \"\"\"\n",
        "\n",
        "I'd like your help in making a TikTok clip of this: https://www.youtube.com/watch?v=KgHkAwaW_lk\n",
        "\n",
        "Please cut the clip from this -- from 0:15 to 0:38 -- and crop it to portrait (exactly 9:16-- this will be tricky)\n",
        "around the face in the frame. Just follow the face horizontally -- the final video should be as tall as the original.\n",
        "\n",
        "You'll need to smoothly/softly follow the one face in the frame so please smoothly average out the motion\n",
        "between confident face detections. Then put the audio back in. Thanks!\n",
        "\n",
        "\"\"\"\n",
        "\n",
        "interpreter.reset()\n",
        "interpreter.chat(message)"
      ]
    },
    {
      "cell_type": "markdown",
      "source": [
        "Nice! It's saved as `cropped_clip_with_audio.mkv`.\n",
        "\n",
        "One problem -- if we want to send it to our phone and upload it to TikTok or YT Shorts, we'll need it to be an `.mp4` file.\n",
        "\n",
        "So, let's just ask for that:"
      ],
      "metadata": {
        "id": "uOyXpFqf3_oJ"
      }
    },
    {
      "cell_type": "code",
      "source": [
        "# The interpreter remembers our conversation unless we explicitly .reset() it.\n",
        "interpreter.chat(\"Looks great! Can you convert it to an mp4?\")"
      ],
      "metadata": {
        "id": "84C89ntP4lxm"
      },
      "execution_count": null,
      "outputs": []
    },
    {
      "cell_type": "markdown",
      "source": [
        "Amazing. Now we can display the final result in Google Colab, too:"
      ],
      "metadata": {
        "id": "1U_yIkHt4yrH"
      }
    },
    {
      "cell_type": "code",
      "source": [
        "# Final output:"
      ],
      "metadata": {
        "id": "13UWfW1K3nl4"
      },
      "execution_count": null,
      "outputs": []
    },
    {
      "cell_type": "markdown",
      "metadata": {
        "id": "C1vMxJzikQ_D"
      },
      "source": [
        "## Bonus: Image -> Animation"
      ]
    },
    {
      "cell_type": "markdown",
      "source": [
        "Another `replicate` example -- let's use ControlNet to turn [this image](https://i.ibb.co/f0p4Q5R/i-heart-victoria-paris.png) into 90s-style animated intro."
      ],
      "metadata": {
        "id": "rVl1c4sMfuoL"
      }
    },
    {
      "cell_type": "code",
      "execution_count": null,
      "metadata": {
        "id": "lWNRJ0Ku8hji"
      },
      "outputs": [],
      "source": [
        "message = \"\"\"\n",
        "Hi, I want to make a video that's comprised of 12 frames. The 12 frames should be of the image\n",
        "victoria.png run through controlnet with different materials as prompts.\n",
        "\n",
        "I'm logged into replicate on this machine. Here's how to use replicate's controlnet:\n",
        "\n",
        "output = replicate.run(\n",
        "    \"jagilley/controlnet-canny:aff48af9c68d162388d230a2ab003f68d2638d88307bdaf1c2f1ac95079c9613\",\n",
        "    input={\"image\": open(\"path/to/file\", \"rb\"), \"prompt\": \"metal\"}\n",
        ")\n",
        "print(output)\n",
        "\n",
        "Can you run victoria.png through this 12 times with different materials each time like \"metal\", \"embroidery\", and \"crayon\"?\n",
        "Then stitch together the 12 pictures into a 1 second video clip. Thank you!\n",
        "\"\"\"\n",
        "\n",
        "interpreter.reset()\n",
        "interpreter.chat(message)"
      ]
    },
    {
      "cell_type": "code",
      "source": [
        "# Watch the final output:"
      ],
      "metadata": {
        "id": "QIBeCFA25E_h"
      },
      "execution_count": null,
      "outputs": []
    }
  ],
  "metadata": {
    "colab": {
      "provenance": [],
      "collapsed_sections": [
        "I1WSa-Jw0KM0",
        "cM7Yf5pHgeDW",
        "YlDX4rl8x1EF",
        "E9MTDnOWLMP8",
        "OTTkCcIshgmB",
        "KrgUKfZDLTEa",
        "C1vMxJzikQ_D"
      ],
      "gpuType": "V100",
      "include_colab_link": true
    },
    "kernelspec": {
      "display_name": "Python 3",
      "name": "python3"
    },
    "language_info": {
      "name": "python"
    },
    "widgets": {
      "application/vnd.jupyter.widget-state+json": {
        "dd1ccff815a646e98fecb6bd65cc57ce": {
          "model_module": "@jupyter-widgets/output",
          "model_name": "OutputModel",
          "model_module_version": "1.0.0",
          "state": {
            "_dom_classes": [],
            "_model_module": "@jupyter-widgets/output",
            "_model_module_version": "1.0.0",
            "_model_name": "OutputModel",
            "_view_count": null,
            "_view_module": "@jupyter-widgets/output",
            "_view_module_version": "1.0.0",
            "_view_name": "OutputView",
            "layout": "IPY_MODEL_7d53338019be449a9860c358629d63eb",
            "msg_id": "",
            "outputs": [
              {
                "output_type": "display_data",
                "data": {
                  "text/plain": "                                                                                                                   \n  まず、Google                                                                                                     \n  Scholarから情報をスクレイピングするために、PythonのBeautifulSoupとrequestsライブラリ                             \n  を使用します。次に、検索結果から上位10件のタイトルを抽出し、それらをpandasのデータフレームに保存します。         \n                                                                                                                   \n  以下に、私たちの計画を詳細に説明します：                                                                         \n                                                                                                                   \n  \u001b[1;33m 1 \u001b[0m必要なライブラリをインストールします（BeautifulSoup, requests, pandas）。                                     \n  \u001b[1;33m 2 \u001b[0mGoogle Scholarで\"IgG4-ROD\"を検索します。                                                                      \n  \u001b[1;33m 3 \u001b[0m検索結果ページのHTMLを解析し、上位10件の論文のタイトルを抽出します。                                          \n  \u001b[1;33m 4 \u001b[0mタイトルをpandasのデータフレームに保存します。                                                                \n                                                                                                                   \n  まず、必要なライブラリをインストールしましょう。                                                                 \n                                                                                                                   \n",
                  "text/html": "<pre style=\"white-space:pre;overflow-x:auto;line-height:normal;font-family:Menlo,'DejaVu Sans Mono',consolas,'Courier New',monospace\">                                                                                                                   \n  まず、Google                                                                                                     \n  Scholarから情報をスクレイピングするために、PythonのBeautifulSoupとrequestsライブラリ                             \n  を使用します。次に、検索結果から上位10件のタイトルを抽出し、それらをpandasのデータフレームに保存します。         \n                                                                                                                   \n  以下に、私たちの計画を詳細に説明します：                                                                         \n                                                                                                                   \n  <span style=\"color: #808000; text-decoration-color: #808000; font-weight: bold\"> 1 </span>必要なライブラリをインストールします（BeautifulSoup, requests, pandas）。                                     \n  <span style=\"color: #808000; text-decoration-color: #808000; font-weight: bold\"> 2 </span>Google Scholarで\"IgG4-ROD\"を検索します。                                                                      \n  <span style=\"color: #808000; text-decoration-color: #808000; font-weight: bold\"> 3 </span>検索結果ページのHTMLを解析し、上位10件の論文のタイトルを抽出します。                                          \n  <span style=\"color: #808000; text-decoration-color: #808000; font-weight: bold\"> 4 </span>タイトルをpandasのデータフレームに保存します。                                                                \n                                                                                                                   \n  まず、必要なライブラリをインストールしましょう。                                                                 \n                                                                                                                   \n</pre>\n"
                },
                "metadata": {}
              }
            ]
          }
        },
        "7d53338019be449a9860c358629d63eb": {
          "model_module": "@jupyter-widgets/base",
          "model_name": "LayoutModel",
          "model_module_version": "1.2.0",
          "state": {
            "_model_module": "@jupyter-widgets/base",
            "_model_module_version": "1.2.0",
            "_model_name": "LayoutModel",
            "_view_count": null,
            "_view_module": "@jupyter-widgets/base",
            "_view_module_version": "1.2.0",
            "_view_name": "LayoutView",
            "align_content": null,
            "align_items": null,
            "align_self": null,
            "border": null,
            "bottom": null,
            "display": null,
            "flex": null,
            "flex_flow": null,
            "grid_area": null,
            "grid_auto_columns": null,
            "grid_auto_flow": null,
            "grid_auto_rows": null,
            "grid_column": null,
            "grid_gap": null,
            "grid_row": null,
            "grid_template_areas": null,
            "grid_template_columns": null,
            "grid_template_rows": null,
            "height": null,
            "justify_content": null,
            "justify_items": null,
            "left": null,
            "margin": null,
            "max_height": null,
            "max_width": null,
            "min_height": null,
            "min_width": null,
            "object_fit": null,
            "object_position": null,
            "order": null,
            "overflow": null,
            "overflow_x": null,
            "overflow_y": null,
            "padding": null,
            "right": null,
            "top": null,
            "visibility": null,
            "width": null
          }
        },
        "adfeba822ca04cd0a98578eb64849482": {
          "model_module": "@jupyter-widgets/output",
          "model_name": "OutputModel",
          "model_module_version": "1.0.0",
          "state": {
            "_dom_classes": [],
            "_model_module": "@jupyter-widgets/output",
            "_model_module_version": "1.0.0",
            "_model_name": "OutputModel",
            "_view_count": null,
            "_view_module": "@jupyter-widgets/output",
            "_view_module_version": "1.0.0",
            "_view_name": "OutputView",
            "layout": "IPY_MODEL_9dfbd455653b41cd88d315e48d996b46",
            "msg_id": "",
            "outputs": [
              {
                "output_type": "display_data",
                "data": {
                  "text/plain": "\u001b[48;2;39;39;34m                                                                                                                   \u001b[0m\n\u001b[48;2;39;39;34m \u001b[0m\u001b[48;2;39;39;34m \u001b[0m\u001b[38;2;237;0;126;48;2;30;0;16m!\u001b[0m\u001b[38;2;248;248;242;48;2;39;40;34mpip\u001b[0m\u001b[38;2;248;248;242;48;2;39;40;34m \u001b[0m\u001b[38;2;248;248;242;48;2;39;40;34minstall\u001b[0m\u001b[38;2;248;248;242;48;2;39;40;34m \u001b[0m\u001b[38;2;248;248;242;48;2;39;40;34mbeautifulsoup4\u001b[0m\u001b[38;2;248;248;242;48;2;39;40;34m \u001b[0m\u001b[38;2;248;248;242;48;2;39;40;34mrequests\u001b[0m\u001b[38;2;248;248;242;48;2;39;40;34m \u001b[0m\u001b[38;2;248;248;242;48;2;39;40;34mpandas\u001b[0m\u001b[48;2;39;40;34m                                                                    \u001b[0m\u001b[48;2;39;39;34m \u001b[0m\u001b[48;2;39;39;34m \u001b[0m\n\u001b[48;2;39;39;34m                                                                                                                   \u001b[0m\n\u001b[38;2;255;255;255;48;2;59;59;55m                                                                                                                   \u001b[0m\n\u001b[38;2;255;255;255;48;2;59;59;55m \u001b[0m\u001b[38;2;255;255;255;48;2;59;59;55m \u001b[0m\u001b[38;2;255;255;255;48;2;59;59;55mTraceback (most recent call last):\u001b[0m\u001b[38;2;255;255;255;48;2;59;59;55m                                                                             \u001b[0m\u001b[38;2;255;255;255;48;2;59;59;55m \u001b[0m\u001b[38;2;255;255;255;48;2;59;59;55m \u001b[0m\n\u001b[38;2;255;255;255;48;2;59;59;55m \u001b[0m\u001b[38;2;255;255;255;48;2;59;59;55m \u001b[0m\u001b[38;2;255;255;255;48;2;59;59;55m  File \"/usr/local/lib/python3.10/dist-packages/interpreter/code_interpreter.py\", line 183, in run\u001b[0m\u001b[38;2;255;255;255;48;2;59;59;55m             \u001b[0m\u001b[38;2;255;255;255;48;2;59;59;55m \u001b[0m\u001b[38;2;255;255;255;48;2;59;59;55m \u001b[0m\n\u001b[38;2;255;255;255;48;2;59;59;55m \u001b[0m\u001b[38;2;255;255;255;48;2;59;59;55m \u001b[0m\u001b[38;2;255;255;255;48;2;59;59;55m    code = self.add_active_line_prints(code)\u001b[0m\u001b[38;2;255;255;255;48;2;59;59;55m                                                                   \u001b[0m\u001b[38;2;255;255;255;48;2;59;59;55m \u001b[0m\u001b[38;2;255;255;255;48;2;59;59;55m \u001b[0m\n\u001b[38;2;255;255;255;48;2;59;59;55m \u001b[0m\u001b[38;2;255;255;255;48;2;59;59;55m \u001b[0m\u001b[38;2;255;255;255;48;2;59;59;55m  File \"/usr/local/lib/python3.10/dist-packages/interpreter/code_interpreter.py\", line 282, in \u001b[0m\u001b[38;2;255;255;255;48;2;59;59;55m                \u001b[0m\u001b[38;2;255;255;255;48;2;59;59;55m \u001b[0m\u001b[38;2;255;255;255;48;2;59;59;55m \u001b[0m\n\u001b[38;2;255;255;255;48;2;59;59;55m \u001b[0m\u001b[38;2;255;255;255;48;2;59;59;55m \u001b[0m\u001b[38;2;255;255;255;48;2;59;59;55madd_active_line_prints\u001b[0m\u001b[38;2;255;255;255;48;2;59;59;55m                                                                                         \u001b[0m\u001b[38;2;255;255;255;48;2;59;59;55m \u001b[0m\u001b[38;2;255;255;255;48;2;59;59;55m \u001b[0m\n\u001b[38;2;255;255;255;48;2;59;59;55m \u001b[0m\u001b[38;2;255;255;255;48;2;59;59;55m \u001b[0m\u001b[38;2;255;255;255;48;2;59;59;55m    return add_active_line_prints_to_python(code)\u001b[0m\u001b[38;2;255;255;255;48;2;59;59;55m                                                              \u001b[0m\u001b[38;2;255;255;255;48;2;59;59;55m \u001b[0m\u001b[38;2;255;255;255;48;2;59;59;55m \u001b[0m\n\u001b[38;2;255;255;255;48;2;59;59;55m \u001b[0m\u001b[38;2;255;255;255;48;2;59;59;55m \u001b[0m\u001b[38;2;255;255;255;48;2;59;59;55m  File \"/usr/local/lib/python3.10/dist-packages/interpreter/code_interpreter.py\", line 454, in \u001b[0m\u001b[38;2;255;255;255;48;2;59;59;55m                \u001b[0m\u001b[38;2;255;255;255;48;2;59;59;55m \u001b[0m\u001b[38;2;255;255;255;48;2;59;59;55m \u001b[0m\n\u001b[38;2;255;255;255;48;2;59;59;55m \u001b[0m\u001b[38;2;255;255;255;48;2;59;59;55m \u001b[0m\u001b[38;2;255;255;255;48;2;59;59;55madd_active_line_prints_to_python\u001b[0m\u001b[38;2;255;255;255;48;2;59;59;55m                                                                               \u001b[0m\u001b[38;2;255;255;255;48;2;59;59;55m \u001b[0m\u001b[38;2;255;255;255;48;2;59;59;55m \u001b[0m\n\u001b[38;2;255;255;255;48;2;59;59;55m \u001b[0m\u001b[38;2;255;255;255;48;2;59;59;55m \u001b[0m\u001b[38;2;255;255;255;48;2;59;59;55m    tree = ast.parse(code)\u001b[0m\u001b[38;2;255;255;255;48;2;59;59;55m                                                                                     \u001b[0m\u001b[38;2;255;255;255;48;2;59;59;55m \u001b[0m\u001b[38;2;255;255;255;48;2;59;59;55m \u001b[0m\n\u001b[38;2;255;255;255;48;2;59;59;55m \u001b[0m\u001b[38;2;255;255;255;48;2;59;59;55m \u001b[0m\u001b[38;2;255;255;255;48;2;59;59;55m  File \"/usr/lib/python3.10/ast.py\", line 50, in parse\u001b[0m\u001b[38;2;255;255;255;48;2;59;59;55m                                                         \u001b[0m\u001b[38;2;255;255;255;48;2;59;59;55m \u001b[0m\u001b[38;2;255;255;255;48;2;59;59;55m \u001b[0m\n\u001b[38;2;255;255;255;48;2;59;59;55m \u001b[0m\u001b[38;2;255;255;255;48;2;59;59;55m \u001b[0m\u001b[38;2;255;255;255;48;2;59;59;55m    return compile(source, filename, mode, flags,\u001b[0m\u001b[38;2;255;255;255;48;2;59;59;55m                                                              \u001b[0m\u001b[38;2;255;255;255;48;2;59;59;55m \u001b[0m\u001b[38;2;255;255;255;48;2;59;59;55m \u001b[0m\n\u001b[38;2;255;255;255;48;2;59;59;55m \u001b[0m\u001b[38;2;255;255;255;48;2;59;59;55m \u001b[0m\u001b[38;2;255;255;255;48;2;59;59;55m  File \"<unknown>\", line 1\u001b[0m\u001b[38;2;255;255;255;48;2;59;59;55m                                                                                     \u001b[0m\u001b[38;2;255;255;255;48;2;59;59;55m \u001b[0m\u001b[38;2;255;255;255;48;2;59;59;55m \u001b[0m\n\u001b[38;2;255;255;255;48;2;59;59;55m \u001b[0m\u001b[38;2;255;255;255;48;2;59;59;55m \u001b[0m\u001b[38;2;255;255;255;48;2;59;59;55m    !pip install beautifulsoup4 requests pandas\u001b[0m\u001b[38;2;255;255;255;48;2;59;59;55m                                                                \u001b[0m\u001b[38;2;255;255;255;48;2;59;59;55m \u001b[0m\u001b[38;2;255;255;255;48;2;59;59;55m \u001b[0m\n\u001b[38;2;255;255;255;48;2;59;59;55m \u001b[0m\u001b[38;2;255;255;255;48;2;59;59;55m \u001b[0m\u001b[38;2;255;255;255;48;2;59;59;55m    ^\u001b[0m\u001b[38;2;255;255;255;48;2;59;59;55m                                                                                                          \u001b[0m\u001b[38;2;255;255;255;48;2;59;59;55m \u001b[0m\u001b[38;2;255;255;255;48;2;59;59;55m \u001b[0m\n\u001b[38;2;255;255;255;48;2;59;59;55m \u001b[0m\u001b[38;2;255;255;255;48;2;59;59;55m \u001b[0m\u001b[38;2;255;255;255;48;2;59;59;55mSyntaxError: invalid syntax\u001b[0m\u001b[38;2;255;255;255;48;2;59;59;55m                                                                                    \u001b[0m\u001b[38;2;255;255;255;48;2;59;59;55m \u001b[0m\u001b[38;2;255;255;255;48;2;59;59;55m \u001b[0m\n\u001b[38;2;255;255;255;48;2;59;59;55m \u001b[0m\u001b[38;2;255;255;255;48;2;59;59;55m \u001b[0m\u001b[38;2;255;255;255;48;2;59;59;55m                                                                                                               \u001b[0m\u001b[38;2;255;255;255;48;2;59;59;55m \u001b[0m\u001b[38;2;255;255;255;48;2;59;59;55m \u001b[0m\n\u001b[38;2;255;255;255;48;2;59;59;55m                                                                                                                   \u001b[0m\n",
                  "text/html": "<pre style=\"white-space:pre;overflow-x:auto;line-height:normal;font-family:Menlo,'DejaVu Sans Mono',consolas,'Courier New',monospace\"><span style=\"background-color: #272722\">                                                                                                                   </span>\n<span style=\"background-color: #272722\">  </span><span style=\"color: #ed007e; text-decoration-color: #ed007e; background-color: #1e0010\">!</span><span style=\"color: #f8f8f2; text-decoration-color: #f8f8f2; background-color: #272822\">pip install beautifulsoup4 requests pandas</span><span style=\"background-color: #272822\">                                                                    </span><span style=\"background-color: #272722\">  </span>\n<span style=\"background-color: #272722\">                                                                                                                   </span>\n<span style=\"color: #ffffff; text-decoration-color: #ffffff; background-color: #3b3b37\">                                                                                                                   </span>\n<span style=\"color: #ffffff; text-decoration-color: #ffffff; background-color: #3b3b37\">  Traceback (most recent call last):                                                                               </span>\n<span style=\"color: #ffffff; text-decoration-color: #ffffff; background-color: #3b3b37\">    File \"/usr/local/lib/python3.10/dist-packages/interpreter/code_interpreter.py\", line 183, in run               </span>\n<span style=\"color: #ffffff; text-decoration-color: #ffffff; background-color: #3b3b37\">      code = self.add_active_line_prints(code)                                                                     </span>\n<span style=\"color: #ffffff; text-decoration-color: #ffffff; background-color: #3b3b37\">    File \"/usr/local/lib/python3.10/dist-packages/interpreter/code_interpreter.py\", line 282, in                   </span>\n<span style=\"color: #ffffff; text-decoration-color: #ffffff; background-color: #3b3b37\">  add_active_line_prints                                                                                           </span>\n<span style=\"color: #ffffff; text-decoration-color: #ffffff; background-color: #3b3b37\">      return add_active_line_prints_to_python(code)                                                                </span>\n<span style=\"color: #ffffff; text-decoration-color: #ffffff; background-color: #3b3b37\">    File \"/usr/local/lib/python3.10/dist-packages/interpreter/code_interpreter.py\", line 454, in                   </span>\n<span style=\"color: #ffffff; text-decoration-color: #ffffff; background-color: #3b3b37\">  add_active_line_prints_to_python                                                                                 </span>\n<span style=\"color: #ffffff; text-decoration-color: #ffffff; background-color: #3b3b37\">      tree = ast.parse(code)                                                                                       </span>\n<span style=\"color: #ffffff; text-decoration-color: #ffffff; background-color: #3b3b37\">    File \"/usr/lib/python3.10/ast.py\", line 50, in parse                                                           </span>\n<span style=\"color: #ffffff; text-decoration-color: #ffffff; background-color: #3b3b37\">      return compile(source, filename, mode, flags,                                                                </span>\n<span style=\"color: #ffffff; text-decoration-color: #ffffff; background-color: #3b3b37\">    File \"&lt;unknown&gt;\", line 1                                                                                       </span>\n<span style=\"color: #ffffff; text-decoration-color: #ffffff; background-color: #3b3b37\">      !pip install beautifulsoup4 requests pandas                                                                  </span>\n<span style=\"color: #ffffff; text-decoration-color: #ffffff; background-color: #3b3b37\">      ^                                                                                                            </span>\n<span style=\"color: #ffffff; text-decoration-color: #ffffff; background-color: #3b3b37\">  SyntaxError: invalid syntax                                                                                      </span>\n<span style=\"color: #ffffff; text-decoration-color: #ffffff; background-color: #3b3b37\">                                                                                                                   </span>\n<span style=\"color: #ffffff; text-decoration-color: #ffffff; background-color: #3b3b37\">                                                                                                                   </span>\n</pre>\n"
                },
                "metadata": {}
              }
            ]
          }
        },
        "9dfbd455653b41cd88d315e48d996b46": {
          "model_module": "@jupyter-widgets/base",
          "model_name": "LayoutModel",
          "model_module_version": "1.2.0",
          "state": {
            "_model_module": "@jupyter-widgets/base",
            "_model_module_version": "1.2.0",
            "_model_name": "LayoutModel",
            "_view_count": null,
            "_view_module": "@jupyter-widgets/base",
            "_view_module_version": "1.2.0",
            "_view_name": "LayoutView",
            "align_content": null,
            "align_items": null,
            "align_self": null,
            "border": null,
            "bottom": null,
            "display": null,
            "flex": null,
            "flex_flow": null,
            "grid_area": null,
            "grid_auto_columns": null,
            "grid_auto_flow": null,
            "grid_auto_rows": null,
            "grid_column": null,
            "grid_gap": null,
            "grid_row": null,
            "grid_template_areas": null,
            "grid_template_columns": null,
            "grid_template_rows": null,
            "height": null,
            "justify_content": null,
            "justify_items": null,
            "left": null,
            "margin": null,
            "max_height": null,
            "max_width": null,
            "min_height": null,
            "min_width": null,
            "object_fit": null,
            "object_position": null,
            "order": null,
            "overflow": null,
            "overflow_x": null,
            "overflow_y": null,
            "padding": null,
            "right": null,
            "top": null,
            "visibility": null,
            "width": null
          }
        },
        "480471c9182e43849bf2f1b1630628d1": {
          "model_module": "@jupyter-widgets/output",
          "model_name": "OutputModel",
          "model_module_version": "1.0.0",
          "state": {
            "_dom_classes": [],
            "_model_module": "@jupyter-widgets/output",
            "_model_module_version": "1.0.0",
            "_model_name": "OutputModel",
            "_view_count": null,
            "_view_module": "@jupyter-widgets/output",
            "_view_module_version": "1.0.0",
            "_view_name": "OutputView",
            "layout": "IPY_MODEL_6c1f0003b29d47c6a0cc31e2401f7b4d",
            "msg_id": "",
            "outputs": [
              {
                "output_type": "display_data",
                "data": {
                  "text/plain": "                                                                                                                   \n  すみません、コードの実行に問題がありました。Pythonのコードを実行する際には、\"!\"を使用することはできません。代わ  \n  、\"pip                                                                                                           \n  install\"コマンドをシェルスクリプトとして実行します。それでは、再度ライブラリのインストールを試みましょう。       \n                                                                                                                   \n",
                  "text/html": "<pre style=\"white-space:pre;overflow-x:auto;line-height:normal;font-family:Menlo,'DejaVu Sans Mono',consolas,'Courier New',monospace\">                                                                                                                   \n  すみません、コードの実行に問題がありました。Pythonのコードを実行する際には、\"!\"を使用することはできません。代わ  \n  、\"pip                                                                                                           \n  install\"コマンドをシェルスクリプトとして実行します。それでは、再度ライブラリのインストールを試みましょう。       \n                                                                                                                   \n</pre>\n"
                },
                "metadata": {}
              }
            ]
          }
        },
        "6c1f0003b29d47c6a0cc31e2401f7b4d": {
          "model_module": "@jupyter-widgets/base",
          "model_name": "LayoutModel",
          "model_module_version": "1.2.0",
          "state": {
            "_model_module": "@jupyter-widgets/base",
            "_model_module_version": "1.2.0",
            "_model_name": "LayoutModel",
            "_view_count": null,
            "_view_module": "@jupyter-widgets/base",
            "_view_module_version": "1.2.0",
            "_view_name": "LayoutView",
            "align_content": null,
            "align_items": null,
            "align_self": null,
            "border": null,
            "bottom": null,
            "display": null,
            "flex": null,
            "flex_flow": null,
            "grid_area": null,
            "grid_auto_columns": null,
            "grid_auto_flow": null,
            "grid_auto_rows": null,
            "grid_column": null,
            "grid_gap": null,
            "grid_row": null,
            "grid_template_areas": null,
            "grid_template_columns": null,
            "grid_template_rows": null,
            "height": null,
            "justify_content": null,
            "justify_items": null,
            "left": null,
            "margin": null,
            "max_height": null,
            "max_width": null,
            "min_height": null,
            "min_width": null,
            "object_fit": null,
            "object_position": null,
            "order": null,
            "overflow": null,
            "overflow_x": null,
            "overflow_y": null,
            "padding": null,
            "right": null,
            "top": null,
            "visibility": null,
            "width": null
          }
        },
        "b7765860c6c74cb89d489055cf4c2081": {
          "model_module": "@jupyter-widgets/output",
          "model_name": "OutputModel",
          "model_module_version": "1.0.0",
          "state": {
            "_dom_classes": [],
            "_model_module": "@jupyter-widgets/output",
            "_model_module_version": "1.0.0",
            "_model_name": "OutputModel",
            "_view_count": null,
            "_view_module": "@jupyter-widgets/output",
            "_view_module_version": "1.0.0",
            "_view_name": "OutputView",
            "layout": "IPY_MODEL_be34e6fa4cdc4ec18f010a14765e718e",
            "msg_id": "",
            "outputs": [
              {
                "output_type": "display_data",
                "data": {
                  "text/plain": "\u001b[48;2;39;39;34m                                                                                                                   \u001b[0m\n\u001b[48;2;39;39;34m \u001b[0m\u001b[48;2;39;39;34m \u001b[0m\u001b[38;2;248;248;242;48;2;39;40;34mpip\u001b[0m\u001b[38;2;248;248;242;48;2;39;40;34m \u001b[0m\u001b[38;2;248;248;242;48;2;39;40;34minstall\u001b[0m\u001b[38;2;248;248;242;48;2;39;40;34m \u001b[0m\u001b[38;2;248;248;242;48;2;39;40;34mbeautifulsoup4\u001b[0m\u001b[38;2;248;248;242;48;2;39;40;34m \u001b[0m\u001b[38;2;248;248;242;48;2;39;40;34mrequests\u001b[0m\u001b[38;2;248;248;242;48;2;39;40;34m \u001b[0m\u001b[38;2;248;248;242;48;2;39;40;34mpandas\u001b[0m\u001b[48;2;39;40;34m                                                                     \u001b[0m\u001b[48;2;39;39;34m \u001b[0m\u001b[48;2;39;39;34m \u001b[0m\n\u001b[48;2;39;39;34m                                                                                                                   \u001b[0m\n\u001b[38;2;255;255;255;48;2;59;59;55m                                                                                                                   \u001b[0m\n\u001b[38;2;255;255;255;48;2;59;59;55m \u001b[0m\u001b[38;2;255;255;255;48;2;59;59;55m \u001b[0m\u001b[38;2;255;255;255;48;2;59;59;55mRequirement already satisfied: beautifulsoup4 in /usr/local/lib/python3.10/dist-packages (4.11.2)\u001b[0m\u001b[38;2;255;255;255;48;2;59;59;55m              \u001b[0m\u001b[38;2;255;255;255;48;2;59;59;55m \u001b[0m\u001b[38;2;255;255;255;48;2;59;59;55m \u001b[0m\n\u001b[38;2;255;255;255;48;2;59;59;55m \u001b[0m\u001b[38;2;255;255;255;48;2;59;59;55m \u001b[0m\u001b[38;2;255;255;255;48;2;59;59;55mRequirement already satisfied: requests in /usr/local/lib/python3.10/dist-packages (2.31.0)\u001b[0m\u001b[38;2;255;255;255;48;2;59;59;55m                    \u001b[0m\u001b[38;2;255;255;255;48;2;59;59;55m \u001b[0m\u001b[38;2;255;255;255;48;2;59;59;55m \u001b[0m\n\u001b[38;2;255;255;255;48;2;59;59;55m \u001b[0m\u001b[38;2;255;255;255;48;2;59;59;55m \u001b[0m\u001b[38;2;255;255;255;48;2;59;59;55mRequirement already satisfied: pandas in /usr/local/lib/python3.10/dist-packages (1.5.3)\u001b[0m\u001b[38;2;255;255;255;48;2;59;59;55m                       \u001b[0m\u001b[38;2;255;255;255;48;2;59;59;55m \u001b[0m\u001b[38;2;255;255;255;48;2;59;59;55m \u001b[0m\n\u001b[38;2;255;255;255;48;2;59;59;55m \u001b[0m\u001b[38;2;255;255;255;48;2;59;59;55m \u001b[0m\u001b[38;2;255;255;255;48;2;59;59;55mRequirement already satisfied: soupsieve>1.2 in /usr/local/lib/python3.10/dist-packages (from beautifulsoup4) \u001b[0m\u001b[38;2;255;255;255;48;2;59;59;55m \u001b[0m\u001b[38;2;255;255;255;48;2;59;59;55m \u001b[0m\u001b[38;2;255;255;255;48;2;59;59;55m \u001b[0m\n\u001b[38;2;255;255;255;48;2;59;59;55m \u001b[0m\u001b[38;2;255;255;255;48;2;59;59;55m \u001b[0m\u001b[38;2;255;255;255;48;2;59;59;55m(2.5)\u001b[0m\u001b[38;2;255;255;255;48;2;59;59;55m                                                                                                          \u001b[0m\u001b[38;2;255;255;255;48;2;59;59;55m \u001b[0m\u001b[38;2;255;255;255;48;2;59;59;55m \u001b[0m\n\u001b[38;2;255;255;255;48;2;59;59;55m \u001b[0m\u001b[38;2;255;255;255;48;2;59;59;55m \u001b[0m\u001b[38;2;255;255;255;48;2;59;59;55mRequirement already satisfied: charset-normalizer<4,>=2 in /usr/local/lib/python3.10/dist-packages (from \u001b[0m\u001b[38;2;255;255;255;48;2;59;59;55m      \u001b[0m\u001b[38;2;255;255;255;48;2;59;59;55m \u001b[0m\u001b[38;2;255;255;255;48;2;59;59;55m \u001b[0m\n\u001b[38;2;255;255;255;48;2;59;59;55m \u001b[0m\u001b[38;2;255;255;255;48;2;59;59;55m \u001b[0m\u001b[38;2;255;255;255;48;2;59;59;55mrequests) (3.2.0)\u001b[0m\u001b[38;2;255;255;255;48;2;59;59;55m                                                                                              \u001b[0m\u001b[38;2;255;255;255;48;2;59;59;55m \u001b[0m\u001b[38;2;255;255;255;48;2;59;59;55m \u001b[0m\n\u001b[38;2;255;255;255;48;2;59;59;55m \u001b[0m\u001b[38;2;255;255;255;48;2;59;59;55m \u001b[0m\u001b[38;2;255;255;255;48;2;59;59;55mRequirement already satisfied: idna<4,>=2.5 in /usr/local/lib/python3.10/dist-packages (from requests) (3.4)\u001b[0m\u001b[38;2;255;255;255;48;2;59;59;55m   \u001b[0m\u001b[38;2;255;255;255;48;2;59;59;55m \u001b[0m\u001b[38;2;255;255;255;48;2;59;59;55m \u001b[0m\n\u001b[38;2;255;255;255;48;2;59;59;55m \u001b[0m\u001b[38;2;255;255;255;48;2;59;59;55m \u001b[0m\u001b[38;2;255;255;255;48;2;59;59;55mRequirement already satisfied: urllib3<3,>=1.21.1 in /usr/local/lib/python3.10/dist-packages (from requests) \u001b[0m\u001b[38;2;255;255;255;48;2;59;59;55m  \u001b[0m\u001b[38;2;255;255;255;48;2;59;59;55m \u001b[0m\u001b[38;2;255;255;255;48;2;59;59;55m \u001b[0m\n\u001b[38;2;255;255;255;48;2;59;59;55m \u001b[0m\u001b[38;2;255;255;255;48;2;59;59;55m \u001b[0m\u001b[38;2;255;255;255;48;2;59;59;55m(2.0.4)\u001b[0m\u001b[38;2;255;255;255;48;2;59;59;55m                                                                                                        \u001b[0m\u001b[38;2;255;255;255;48;2;59;59;55m \u001b[0m\u001b[38;2;255;255;255;48;2;59;59;55m \u001b[0m\n\u001b[38;2;255;255;255;48;2;59;59;55m \u001b[0m\u001b[38;2;255;255;255;48;2;59;59;55m \u001b[0m\u001b[38;2;255;255;255;48;2;59;59;55mRequirement already satisfied: certifi>=2017.4.17 in /usr/local/lib/python3.10/dist-packages (from requests) \u001b[0m\u001b[38;2;255;255;255;48;2;59;59;55m  \u001b[0m\u001b[38;2;255;255;255;48;2;59;59;55m \u001b[0m\u001b[38;2;255;255;255;48;2;59;59;55m \u001b[0m\n\u001b[38;2;255;255;255;48;2;59;59;55m \u001b[0m\u001b[38;2;255;255;255;48;2;59;59;55m \u001b[0m\u001b[38;2;255;255;255;48;2;59;59;55m(2023.7.22)\u001b[0m\u001b[38;2;255;255;255;48;2;59;59;55m                                                                                                    \u001b[0m\u001b[38;2;255;255;255;48;2;59;59;55m \u001b[0m\u001b[38;2;255;255;255;48;2;59;59;55m \u001b[0m\n\u001b[38;2;255;255;255;48;2;59;59;55m \u001b[0m\u001b[38;2;255;255;255;48;2;59;59;55m \u001b[0m\u001b[38;2;255;255;255;48;2;59;59;55mRequirement already satisfied: python-dateutil>=2.8.1 in /usr/local/lib/python3.10/dist-packages (from pandas) \u001b[0m\u001b[38;2;255;255;255;48;2;59;59;55m \u001b[0m\u001b[38;2;255;255;255;48;2;59;59;55m \u001b[0m\n\u001b[38;2;255;255;255;48;2;59;59;55m \u001b[0m\u001b[38;2;255;255;255;48;2;59;59;55m \u001b[0m\u001b[38;2;255;255;255;48;2;59;59;55m(2.8.2)\u001b[0m\u001b[38;2;255;255;255;48;2;59;59;55m                                                                                                        \u001b[0m\u001b[38;2;255;255;255;48;2;59;59;55m \u001b[0m\u001b[38;2;255;255;255;48;2;59;59;55m \u001b[0m\n\u001b[38;2;255;255;255;48;2;59;59;55m \u001b[0m\u001b[38;2;255;255;255;48;2;59;59;55m \u001b[0m\u001b[38;2;255;255;255;48;2;59;59;55mRequirement already satisfied: pytz>=2020.1 in /usr/local/lib/python3.10/dist-packages (from pandas) \u001b[0m\u001b[38;2;255;255;255;48;2;59;59;55m          \u001b[0m\u001b[38;2;255;255;255;48;2;59;59;55m \u001b[0m\u001b[38;2;255;255;255;48;2;59;59;55m \u001b[0m\n\u001b[38;2;255;255;255;48;2;59;59;55m \u001b[0m\u001b[38;2;255;255;255;48;2;59;59;55m \u001b[0m\u001b[38;2;255;255;255;48;2;59;59;55m(2023.3.post1)\u001b[0m\u001b[38;2;255;255;255;48;2;59;59;55m                                                                                                 \u001b[0m\u001b[38;2;255;255;255;48;2;59;59;55m \u001b[0m\u001b[38;2;255;255;255;48;2;59;59;55m \u001b[0m\n\u001b[38;2;255;255;255;48;2;59;59;55m \u001b[0m\u001b[38;2;255;255;255;48;2;59;59;55m \u001b[0m\u001b[38;2;255;255;255;48;2;59;59;55mRequirement already satisfied: numpy>=1.21.0 in /usr/local/lib/python3.10/dist-packages (from pandas) (1.23.5)\u001b[0m\u001b[38;2;255;255;255;48;2;59;59;55m \u001b[0m\u001b[38;2;255;255;255;48;2;59;59;55m \u001b[0m\u001b[38;2;255;255;255;48;2;59;59;55m \u001b[0m\n\u001b[38;2;255;255;255;48;2;59;59;55m \u001b[0m\u001b[38;2;255;255;255;48;2;59;59;55m \u001b[0m\u001b[38;2;255;255;255;48;2;59;59;55mRequirement already satisfied: six>=1.5 in /usr/local/lib/python3.10/dist-packages (from \u001b[0m\u001b[38;2;255;255;255;48;2;59;59;55m                      \u001b[0m\u001b[38;2;255;255;255;48;2;59;59;55m \u001b[0m\u001b[38;2;255;255;255;48;2;59;59;55m \u001b[0m\n\u001b[38;2;255;255;255;48;2;59;59;55m \u001b[0m\u001b[38;2;255;255;255;48;2;59;59;55m \u001b[0m\u001b[38;2;255;255;255;48;2;59;59;55mpython-dateutil>=2.8.1->pandas) (1.16.0)\u001b[0m\u001b[38;2;255;255;255;48;2;59;59;55m                                                                       \u001b[0m\u001b[38;2;255;255;255;48;2;59;59;55m \u001b[0m\u001b[38;2;255;255;255;48;2;59;59;55m \u001b[0m\n\u001b[38;2;255;255;255;48;2;59;59;55m                                                                                                                   \u001b[0m\n",
                  "text/html": "<pre style=\"white-space:pre;overflow-x:auto;line-height:normal;font-family:Menlo,'DejaVu Sans Mono',consolas,'Courier New',monospace\"><span style=\"background-color: #272722\">                                                                                                                   </span>\n<span style=\"background-color: #272722\">  </span><span style=\"color: #f8f8f2; text-decoration-color: #f8f8f2; background-color: #272822\">pip install beautifulsoup4 requests pandas</span><span style=\"background-color: #272822\">                                                                     </span><span style=\"background-color: #272722\">  </span>\n<span style=\"background-color: #272722\">                                                                                                                   </span>\n<span style=\"color: #ffffff; text-decoration-color: #ffffff; background-color: #3b3b37\">                                                                                                                   </span>\n<span style=\"color: #ffffff; text-decoration-color: #ffffff; background-color: #3b3b37\">  Requirement already satisfied: beautifulsoup4 in /usr/local/lib/python3.10/dist-packages (4.11.2)                </span>\n<span style=\"color: #ffffff; text-decoration-color: #ffffff; background-color: #3b3b37\">  Requirement already satisfied: requests in /usr/local/lib/python3.10/dist-packages (2.31.0)                      </span>\n<span style=\"color: #ffffff; text-decoration-color: #ffffff; background-color: #3b3b37\">  Requirement already satisfied: pandas in /usr/local/lib/python3.10/dist-packages (1.5.3)                         </span>\n<span style=\"color: #ffffff; text-decoration-color: #ffffff; background-color: #3b3b37\">  Requirement already satisfied: soupsieve&gt;1.2 in /usr/local/lib/python3.10/dist-packages (from beautifulsoup4)    </span>\n<span style=\"color: #ffffff; text-decoration-color: #ffffff; background-color: #3b3b37\">  (2.5)                                                                                                            </span>\n<span style=\"color: #ffffff; text-decoration-color: #ffffff; background-color: #3b3b37\">  Requirement already satisfied: charset-normalizer&lt;4,&gt;=2 in /usr/local/lib/python3.10/dist-packages (from         </span>\n<span style=\"color: #ffffff; text-decoration-color: #ffffff; background-color: #3b3b37\">  requests) (3.2.0)                                                                                                </span>\n<span style=\"color: #ffffff; text-decoration-color: #ffffff; background-color: #3b3b37\">  Requirement already satisfied: idna&lt;4,&gt;=2.5 in /usr/local/lib/python3.10/dist-packages (from requests) (3.4)     </span>\n<span style=\"color: #ffffff; text-decoration-color: #ffffff; background-color: #3b3b37\">  Requirement already satisfied: urllib3&lt;3,&gt;=1.21.1 in /usr/local/lib/python3.10/dist-packages (from requests)     </span>\n<span style=\"color: #ffffff; text-decoration-color: #ffffff; background-color: #3b3b37\">  (2.0.4)                                                                                                          </span>\n<span style=\"color: #ffffff; text-decoration-color: #ffffff; background-color: #3b3b37\">  Requirement already satisfied: certifi&gt;=2017.4.17 in /usr/local/lib/python3.10/dist-packages (from requests)     </span>\n<span style=\"color: #ffffff; text-decoration-color: #ffffff; background-color: #3b3b37\">  (2023.7.22)                                                                                                      </span>\n<span style=\"color: #ffffff; text-decoration-color: #ffffff; background-color: #3b3b37\">  Requirement already satisfied: python-dateutil&gt;=2.8.1 in /usr/local/lib/python3.10/dist-packages (from pandas)   </span>\n<span style=\"color: #ffffff; text-decoration-color: #ffffff; background-color: #3b3b37\">  (2.8.2)                                                                                                          </span>\n<span style=\"color: #ffffff; text-decoration-color: #ffffff; background-color: #3b3b37\">  Requirement already satisfied: pytz&gt;=2020.1 in /usr/local/lib/python3.10/dist-packages (from pandas)             </span>\n<span style=\"color: #ffffff; text-decoration-color: #ffffff; background-color: #3b3b37\">  (2023.3.post1)                                                                                                   </span>\n<span style=\"color: #ffffff; text-decoration-color: #ffffff; background-color: #3b3b37\">  Requirement already satisfied: numpy&gt;=1.21.0 in /usr/local/lib/python3.10/dist-packages (from pandas) (1.23.5)   </span>\n<span style=\"color: #ffffff; text-decoration-color: #ffffff; background-color: #3b3b37\">  Requirement already satisfied: six&gt;=1.5 in /usr/local/lib/python3.10/dist-packages (from                         </span>\n<span style=\"color: #ffffff; text-decoration-color: #ffffff; background-color: #3b3b37\">  python-dateutil&gt;=2.8.1-&gt;pandas) (1.16.0)                                                                         </span>\n<span style=\"color: #ffffff; text-decoration-color: #ffffff; background-color: #3b3b37\">                                                                                                                   </span>\n</pre>\n"
                },
                "metadata": {}
              }
            ]
          }
        },
        "be34e6fa4cdc4ec18f010a14765e718e": {
          "model_module": "@jupyter-widgets/base",
          "model_name": "LayoutModel",
          "model_module_version": "1.2.0",
          "state": {
            "_model_module": "@jupyter-widgets/base",
            "_model_module_version": "1.2.0",
            "_model_name": "LayoutModel",
            "_view_count": null,
            "_view_module": "@jupyter-widgets/base",
            "_view_module_version": "1.2.0",
            "_view_name": "LayoutView",
            "align_content": null,
            "align_items": null,
            "align_self": null,
            "border": null,
            "bottom": null,
            "display": null,
            "flex": null,
            "flex_flow": null,
            "grid_area": null,
            "grid_auto_columns": null,
            "grid_auto_flow": null,
            "grid_auto_rows": null,
            "grid_column": null,
            "grid_gap": null,
            "grid_row": null,
            "grid_template_areas": null,
            "grid_template_columns": null,
            "grid_template_rows": null,
            "height": null,
            "justify_content": null,
            "justify_items": null,
            "left": null,
            "margin": null,
            "max_height": null,
            "max_width": null,
            "min_height": null,
            "min_width": null,
            "object_fit": null,
            "object_position": null,
            "order": null,
            "overflow": null,
            "overflow_x": null,
            "overflow_y": null,
            "padding": null,
            "right": null,
            "top": null,
            "visibility": null,
            "width": null
          }
        },
        "3c625d33662a4ee1a5975e4d1636256c": {
          "model_module": "@jupyter-widgets/output",
          "model_name": "OutputModel",
          "model_module_version": "1.0.0",
          "state": {
            "_dom_classes": [],
            "_model_module": "@jupyter-widgets/output",
            "_model_module_version": "1.0.0",
            "_model_name": "OutputModel",
            "_view_count": null,
            "_view_module": "@jupyter-widgets/output",
            "_view_module_version": "1.0.0",
            "_view_name": "OutputView",
            "layout": "IPY_MODEL_008e3a5d603a43789d1341d171784d0e",
            "msg_id": "",
            "outputs": [
              {
                "output_type": "display_data",
                "data": {
                  "text/plain": "                                                                                                                   \n  必要なライブラリがすでにインストールされていることが確認できました。次に、Google                                 \n  Scholarで\"IgG4-ROD\"を検索し、結果ページのHTMLを取得します。そのために、requestsライブラリを使用してGoogle        \n  ScholarのURLにGETリクエストを送り、BeautifulSoupライブラリを使用して取得したHTMLを解析します。                   \n                                                                                                                   \n",
                  "text/html": "<pre style=\"white-space:pre;overflow-x:auto;line-height:normal;font-family:Menlo,'DejaVu Sans Mono',consolas,'Courier New',monospace\">                                                                                                                   \n  必要なライブラリがすでにインストールされていることが確認できました。次に、Google                                 \n  Scholarで\"IgG4-ROD\"を検索し、結果ページのHTMLを取得します。そのために、requestsライブラリを使用してGoogle        \n  ScholarのURLにGETリクエストを送り、BeautifulSoupライブラリを使用して取得したHTMLを解析します。                   \n                                                                                                                   \n</pre>\n"
                },
                "metadata": {}
              }
            ]
          }
        },
        "008e3a5d603a43789d1341d171784d0e": {
          "model_module": "@jupyter-widgets/base",
          "model_name": "LayoutModel",
          "model_module_version": "1.2.0",
          "state": {
            "_model_module": "@jupyter-widgets/base",
            "_model_module_version": "1.2.0",
            "_model_name": "LayoutModel",
            "_view_count": null,
            "_view_module": "@jupyter-widgets/base",
            "_view_module_version": "1.2.0",
            "_view_name": "LayoutView",
            "align_content": null,
            "align_items": null,
            "align_self": null,
            "border": null,
            "bottom": null,
            "display": null,
            "flex": null,
            "flex_flow": null,
            "grid_area": null,
            "grid_auto_columns": null,
            "grid_auto_flow": null,
            "grid_auto_rows": null,
            "grid_column": null,
            "grid_gap": null,
            "grid_row": null,
            "grid_template_areas": null,
            "grid_template_columns": null,
            "grid_template_rows": null,
            "height": null,
            "justify_content": null,
            "justify_items": null,
            "left": null,
            "margin": null,
            "max_height": null,
            "max_width": null,
            "min_height": null,
            "min_width": null,
            "object_fit": null,
            "object_position": null,
            "order": null,
            "overflow": null,
            "overflow_x": null,
            "overflow_y": null,
            "padding": null,
            "right": null,
            "top": null,
            "visibility": null,
            "width": null
          }
        },
        "b782d168a4214f8583fbb18c95f791b7": {
          "model_module": "@jupyter-widgets/output",
          "model_name": "OutputModel",
          "model_module_version": "1.0.0",
          "state": {
            "_dom_classes": [],
            "_model_module": "@jupyter-widgets/output",
            "_model_module_version": "1.0.0",
            "_model_name": "OutputModel",
            "_view_count": null,
            "_view_module": "@jupyter-widgets/output",
            "_view_module_version": "1.0.0",
            "_view_name": "OutputView",
            "layout": "IPY_MODEL_2bdeea25d8ec4b6fa380655a9e7f96c8",
            "msg_id": "",
            "outputs": [
              {
                "output_type": "display_data",
                "data": {
                  "text/plain": "\u001b[48;2;39;39;34m                                                                                                                   \u001b[0m\n\u001b[48;2;39;39;34m \u001b[0m\u001b[48;2;39;39;34m \u001b[0m\u001b[38;2;255;70;137;48;2;39;40;34mimport\u001b[0m\u001b[38;2;248;248;242;48;2;39;40;34m \u001b[0m\u001b[38;2;248;248;242;48;2;39;40;34mrequests\u001b[0m\u001b[48;2;39;40;34m                                                                                                \u001b[0m\u001b[48;2;39;39;34m \u001b[0m\u001b[48;2;39;39;34m \u001b[0m\n\u001b[48;2;39;39;34m \u001b[0m\u001b[48;2;39;39;34m \u001b[0m\u001b[38;2;255;70;137;48;2;39;40;34mfrom\u001b[0m\u001b[38;2;248;248;242;48;2;39;40;34m \u001b[0m\u001b[38;2;248;248;242;48;2;39;40;34mbs4\u001b[0m\u001b[38;2;248;248;242;48;2;39;40;34m \u001b[0m\u001b[38;2;255;70;137;48;2;39;40;34mimport\u001b[0m\u001b[38;2;248;248;242;48;2;39;40;34m \u001b[0m\u001b[38;2;248;248;242;48;2;39;40;34mBeautifulSoup\u001b[0m\u001b[48;2;39;40;34m                                                                                  \u001b[0m\u001b[48;2;39;39;34m \u001b[0m\u001b[48;2;39;39;34m \u001b[0m\n\u001b[48;2;39;39;34m \u001b[0m\u001b[48;2;39;39;34m \u001b[0m\u001b[48;2;39;40;34m                                                                                                               \u001b[0m\u001b[48;2;39;39;34m \u001b[0m\u001b[48;2;39;39;34m \u001b[0m\n\u001b[48;2;39;39;34m \u001b[0m\u001b[48;2;39;39;34m \u001b[0m\u001b[38;2;149;144;119;48;2;39;40;34m# Google ScholarのURL\u001b[0m\u001b[48;2;39;40;34m                                                                                          \u001b[0m\u001b[48;2;39;39;34m \u001b[0m\u001b[48;2;39;39;34m \u001b[0m\n\u001b[48;2;39;39;34m \u001b[0m\u001b[48;2;39;39;34m \u001b[0m\u001b[38;2;248;248;242;48;2;39;40;34murl\u001b[0m\u001b[38;2;248;248;242;48;2;39;40;34m \u001b[0m\u001b[38;2;255;70;137;48;2;39;40;34m=\u001b[0m\u001b[38;2;248;248;242;48;2;39;40;34m \u001b[0m\u001b[38;2;230;219;116;48;2;39;40;34m'\u001b[0m\u001b[38;2;230;219;116;48;2;39;40;34mhttps://scholar.google.co.jp/scholar?q=IgG4-ROD\u001b[0m\u001b[38;2;230;219;116;48;2;39;40;34m'\u001b[0m\u001b[48;2;39;40;34m                                                        \u001b[0m\u001b[48;2;39;39;34m \u001b[0m\u001b[48;2;39;39;34m \u001b[0m\n\u001b[48;2;39;39;34m \u001b[0m\u001b[48;2;39;39;34m \u001b[0m\u001b[48;2;39;40;34m                                                                                                               \u001b[0m\u001b[48;2;39;39;34m \u001b[0m\u001b[48;2;39;39;34m \u001b[0m\n\u001b[48;2;39;39;34m \u001b[0m\u001b[48;2;39;39;34m \u001b[0m\u001b[38;2;149;144;119;48;2;39;40;34m# URLにGETリクエストを送る\u001b[0m\u001b[48;2;39;40;34m                                                                                     \u001b[0m\u001b[48;2;39;39;34m \u001b[0m\u001b[48;2;39;39;34m \u001b[0m\n\u001b[48;2;39;39;34m \u001b[0m\u001b[48;2;39;39;34m \u001b[0m\u001b[38;2;248;248;242;48;2;39;40;34mresponse\u001b[0m\u001b[38;2;248;248;242;48;2;39;40;34m \u001b[0m\u001b[38;2;255;70;137;48;2;39;40;34m=\u001b[0m\u001b[38;2;248;248;242;48;2;39;40;34m \u001b[0m\u001b[38;2;248;248;242;48;2;39;40;34mrequests\u001b[0m\u001b[38;2;255;70;137;48;2;39;40;34m.\u001b[0m\u001b[38;2;248;248;242;48;2;39;40;34mget\u001b[0m\u001b[38;2;248;248;242;48;2;39;40;34m(\u001b[0m\u001b[38;2;248;248;242;48;2;39;40;34murl\u001b[0m\u001b[38;2;248;248;242;48;2;39;40;34m)\u001b[0m\u001b[48;2;39;40;34m                                                                                   \u001b[0m\u001b[48;2;39;39;34m \u001b[0m\u001b[48;2;39;39;34m \u001b[0m\n\u001b[48;2;39;39;34m \u001b[0m\u001b[48;2;39;39;34m \u001b[0m\u001b[48;2;39;40;34m                                                                                                               \u001b[0m\u001b[48;2;39;39;34m \u001b[0m\u001b[48;2;39;39;34m \u001b[0m\n\u001b[48;2;39;39;34m \u001b[0m\u001b[48;2;39;39;34m \u001b[0m\u001b[38;2;149;144;119;48;2;39;40;34m# レスポンスのステータスコードを表示（200なら成功）\u001b[0m\u001b[48;2;39;40;34m                                                            \u001b[0m\u001b[48;2;39;39;34m \u001b[0m\u001b[48;2;39;39;34m \u001b[0m\n\u001b[48;2;39;39;34m \u001b[0m\u001b[48;2;39;39;34m \u001b[0m\u001b[38;2;248;248;242;48;2;39;40;34mresponse\u001b[0m\u001b[38;2;255;70;137;48;2;39;40;34m.\u001b[0m\u001b[38;2;248;248;242;48;2;39;40;34mstatus_code\u001b[0m\u001b[48;2;39;40;34m                                                                                           \u001b[0m\u001b[48;2;39;39;34m \u001b[0m\u001b[48;2;39;39;34m \u001b[0m\n\u001b[48;2;39;39;34m                                                                                                                   \u001b[0m\n\u001b[38;2;255;255;255;48;2;59;59;55m                                                                                                                   \u001b[0m\n\u001b[38;2;255;255;255;48;2;59;59;55m \u001b[0m\u001b[38;2;255;255;255;48;2;59;59;55m \u001b[0m\u001b[38;2;255;255;255;48;2;59;59;55m200\u001b[0m\u001b[38;2;255;255;255;48;2;59;59;55m                                                                                                            \u001b[0m\u001b[38;2;255;255;255;48;2;59;59;55m \u001b[0m\u001b[38;2;255;255;255;48;2;59;59;55m \u001b[0m\n\u001b[38;2;255;255;255;48;2;59;59;55m                                                                                                                   \u001b[0m\n",
                  "text/html": "<pre style=\"white-space:pre;overflow-x:auto;line-height:normal;font-family:Menlo,'DejaVu Sans Mono',consolas,'Courier New',monospace\"><span style=\"background-color: #272722\">                                                                                                                   </span>\n<span style=\"background-color: #272722\">  </span><span style=\"color: #ff4689; text-decoration-color: #ff4689; background-color: #272822\">import</span><span style=\"color: #f8f8f2; text-decoration-color: #f8f8f2; background-color: #272822\"> requests</span><span style=\"background-color: #272822\">                                                                                                </span><span style=\"background-color: #272722\">  </span>\n<span style=\"background-color: #272722\">  </span><span style=\"color: #ff4689; text-decoration-color: #ff4689; background-color: #272822\">from</span><span style=\"color: #f8f8f2; text-decoration-color: #f8f8f2; background-color: #272822\"> bs4 </span><span style=\"color: #ff4689; text-decoration-color: #ff4689; background-color: #272822\">import</span><span style=\"color: #f8f8f2; text-decoration-color: #f8f8f2; background-color: #272822\"> BeautifulSoup</span><span style=\"background-color: #272822\">                                                                                  </span><span style=\"background-color: #272722\">  </span>\n<span style=\"background-color: #272722\">  </span><span style=\"background-color: #272822\">                                                                                                               </span><span style=\"background-color: #272722\">  </span>\n<span style=\"background-color: #272722\">  </span><span style=\"color: #959077; text-decoration-color: #959077; background-color: #272822\"># Google ScholarのURL</span><span style=\"background-color: #272822\">                                                                                          </span><span style=\"background-color: #272722\">  </span>\n<span style=\"background-color: #272722\">  </span><span style=\"color: #f8f8f2; text-decoration-color: #f8f8f2; background-color: #272822\">url </span><span style=\"color: #ff4689; text-decoration-color: #ff4689; background-color: #272822\">=</span><span style=\"color: #f8f8f2; text-decoration-color: #f8f8f2; background-color: #272822\"> </span><span style=\"color: #e6db74; text-decoration-color: #e6db74; background-color: #272822\">'https://scholar.google.co.jp/scholar?q=IgG4-ROD'</span><span style=\"background-color: #272822\">                                                        </span><span style=\"background-color: #272722\">  </span>\n<span style=\"background-color: #272722\">  </span><span style=\"background-color: #272822\">                                                                                                               </span><span style=\"background-color: #272722\">  </span>\n<span style=\"background-color: #272722\">  </span><span style=\"color: #959077; text-decoration-color: #959077; background-color: #272822\"># URLにGETリクエストを送る</span><span style=\"background-color: #272822\">                                                                                     </span><span style=\"background-color: #272722\">  </span>\n<span style=\"background-color: #272722\">  </span><span style=\"color: #f8f8f2; text-decoration-color: #f8f8f2; background-color: #272822\">response </span><span style=\"color: #ff4689; text-decoration-color: #ff4689; background-color: #272822\">=</span><span style=\"color: #f8f8f2; text-decoration-color: #f8f8f2; background-color: #272822\"> requests</span><span style=\"color: #ff4689; text-decoration-color: #ff4689; background-color: #272822\">.</span><span style=\"color: #f8f8f2; text-decoration-color: #f8f8f2; background-color: #272822\">get(url)</span><span style=\"background-color: #272822\">                                                                                   </span><span style=\"background-color: #272722\">  </span>\n<span style=\"background-color: #272722\">  </span><span style=\"background-color: #272822\">                                                                                                               </span><span style=\"background-color: #272722\">  </span>\n<span style=\"background-color: #272722\">  </span><span style=\"color: #959077; text-decoration-color: #959077; background-color: #272822\"># レスポンスのステータスコードを表示（200なら成功）</span><span style=\"background-color: #272822\">                                                            </span><span style=\"background-color: #272722\">  </span>\n<span style=\"background-color: #272722\">  </span><span style=\"color: #f8f8f2; text-decoration-color: #f8f8f2; background-color: #272822\">response</span><span style=\"color: #ff4689; text-decoration-color: #ff4689; background-color: #272822\">.</span><span style=\"color: #f8f8f2; text-decoration-color: #f8f8f2; background-color: #272822\">status_code</span><span style=\"background-color: #272822\">                                                                                           </span><span style=\"background-color: #272722\">  </span>\n<span style=\"background-color: #272722\">                                                                                                                   </span>\n<span style=\"color: #ffffff; text-decoration-color: #ffffff; background-color: #3b3b37\">                                                                                                                   </span>\n<span style=\"color: #ffffff; text-decoration-color: #ffffff; background-color: #3b3b37\">  200                                                                                                              </span>\n<span style=\"color: #ffffff; text-decoration-color: #ffffff; background-color: #3b3b37\">                                                                                                                   </span>\n</pre>\n"
                },
                "metadata": {}
              }
            ]
          }
        },
        "2bdeea25d8ec4b6fa380655a9e7f96c8": {
          "model_module": "@jupyter-widgets/base",
          "model_name": "LayoutModel",
          "model_module_version": "1.2.0",
          "state": {
            "_model_module": "@jupyter-widgets/base",
            "_model_module_version": "1.2.0",
            "_model_name": "LayoutModel",
            "_view_count": null,
            "_view_module": "@jupyter-widgets/base",
            "_view_module_version": "1.2.0",
            "_view_name": "LayoutView",
            "align_content": null,
            "align_items": null,
            "align_self": null,
            "border": null,
            "bottom": null,
            "display": null,
            "flex": null,
            "flex_flow": null,
            "grid_area": null,
            "grid_auto_columns": null,
            "grid_auto_flow": null,
            "grid_auto_rows": null,
            "grid_column": null,
            "grid_gap": null,
            "grid_row": null,
            "grid_template_areas": null,
            "grid_template_columns": null,
            "grid_template_rows": null,
            "height": null,
            "justify_content": null,
            "justify_items": null,
            "left": null,
            "margin": null,
            "max_height": null,
            "max_width": null,
            "min_height": null,
            "min_width": null,
            "object_fit": null,
            "object_position": null,
            "order": null,
            "overflow": null,
            "overflow_x": null,
            "overflow_y": null,
            "padding": null,
            "right": null,
            "top": null,
            "visibility": null,
            "width": null
          }
        },
        "c3f016073e1d41a89d7a8e7eac8f1bec": {
          "model_module": "@jupyter-widgets/output",
          "model_name": "OutputModel",
          "model_module_version": "1.0.0",
          "state": {
            "_dom_classes": [],
            "_model_module": "@jupyter-widgets/output",
            "_model_module_version": "1.0.0",
            "_model_name": "OutputModel",
            "_view_count": null,
            "_view_module": "@jupyter-widgets/output",
            "_view_module_version": "1.0.0",
            "_view_name": "OutputView",
            "layout": "IPY_MODEL_225212c67a984aa0b58e31236adb7ff4",
            "msg_id": "",
            "outputs": [
              {
                "output_type": "display_data",
                "data": {
                  "text/plain": "                                                                                                                   \n  リクエストが成功しました（ステータスコード200）。次に、BeautifulSoupを使用してHTMLを解析し、上位10件の論文のタ   \n  イトルを抽出します。                                                                                             \n                                                                                                                   \n",
                  "text/html": "<pre style=\"white-space:pre;overflow-x:auto;line-height:normal;font-family:Menlo,'DejaVu Sans Mono',consolas,'Courier New',monospace\">                                                                                                                   \n  リクエストが成功しました（ステータスコード200）。次に、BeautifulSoupを使用してHTMLを解析し、上位10件の論文のタ   \n  イトルを抽出します。                                                                                             \n                                                                                                                   \n</pre>\n"
                },
                "metadata": {}
              }
            ]
          }
        },
        "225212c67a984aa0b58e31236adb7ff4": {
          "model_module": "@jupyter-widgets/base",
          "model_name": "LayoutModel",
          "model_module_version": "1.2.0",
          "state": {
            "_model_module": "@jupyter-widgets/base",
            "_model_module_version": "1.2.0",
            "_model_name": "LayoutModel",
            "_view_count": null,
            "_view_module": "@jupyter-widgets/base",
            "_view_module_version": "1.2.0",
            "_view_name": "LayoutView",
            "align_content": null,
            "align_items": null,
            "align_self": null,
            "border": null,
            "bottom": null,
            "display": null,
            "flex": null,
            "flex_flow": null,
            "grid_area": null,
            "grid_auto_columns": null,
            "grid_auto_flow": null,
            "grid_auto_rows": null,
            "grid_column": null,
            "grid_gap": null,
            "grid_row": null,
            "grid_template_areas": null,
            "grid_template_columns": null,
            "grid_template_rows": null,
            "height": null,
            "justify_content": null,
            "justify_items": null,
            "left": null,
            "margin": null,
            "max_height": null,
            "max_width": null,
            "min_height": null,
            "min_width": null,
            "object_fit": null,
            "object_position": null,
            "order": null,
            "overflow": null,
            "overflow_x": null,
            "overflow_y": null,
            "padding": null,
            "right": null,
            "top": null,
            "visibility": null,
            "width": null
          }
        },
        "6d8b92f285ce4b75928fe0901636ce51": {
          "model_module": "@jupyter-widgets/output",
          "model_name": "OutputModel",
          "model_module_version": "1.0.0",
          "state": {
            "_dom_classes": [],
            "_model_module": "@jupyter-widgets/output",
            "_model_module_version": "1.0.0",
            "_model_name": "OutputModel",
            "_view_count": null,
            "_view_module": "@jupyter-widgets/output",
            "_view_module_version": "1.0.0",
            "_view_name": "OutputView",
            "layout": "IPY_MODEL_74c8c4ebe8b74cb48bf9d6c9d7745f62",
            "msg_id": "",
            "outputs": [
              {
                "output_type": "display_data",
                "data": {
                  "text/plain": "\u001b[48;2;39;39;34m                                                                                                                   \u001b[0m\n\u001b[48;2;39;39;34m \u001b[0m\u001b[48;2;39;39;34m \u001b[0m\u001b[38;2;248;248;242;48;2;39;40;34msoup\u001b[0m\u001b[38;2;248;248;242;48;2;39;40;34m \u001b[0m\u001b[38;2;255;70;137;48;2;39;40;34m=\u001b[0m\u001b[38;2;248;248;242;48;2;39;40;34m \u001b[0m\u001b[38;2;248;248;242;48;2;39;40;34mBeautifulSoup\u001b[0m\u001b[38;2;248;248;242;48;2;39;40;34m(\u001b[0m\u001b[38;2;248;248;242;48;2;39;40;34mresponse\u001b[0m\u001b[38;2;255;70;137;48;2;39;40;34m.\u001b[0m\u001b[38;2;248;248;242;48;2;39;40;34mtext\u001b[0m\u001b[38;2;248;248;242;48;2;39;40;34m,\u001b[0m\u001b[38;2;248;248;242;48;2;39;40;34m \u001b[0m\u001b[38;2;230;219;116;48;2;39;40;34m'\u001b[0m\u001b[38;2;230;219;116;48;2;39;40;34mhtml.parser\u001b[0m\u001b[38;2;230;219;116;48;2;39;40;34m'\u001b[0m\u001b[38;2;248;248;242;48;2;39;40;34m)\u001b[0m\u001b[48;2;39;40;34m                                                             \u001b[0m\u001b[48;2;39;39;34m \u001b[0m\u001b[48;2;39;39;34m \u001b[0m\n\u001b[48;2;39;39;34m \u001b[0m\u001b[48;2;39;39;34m \u001b[0m\u001b[48;2;39;40;34m                                                                                                               \u001b[0m\u001b[48;2;39;39;34m \u001b[0m\u001b[48;2;39;39;34m \u001b[0m\n\u001b[48;2;39;39;34m \u001b[0m\u001b[48;2;39;39;34m \u001b[0m\u001b[38;2;149;144;119;48;2;39;40;34m# 論文のタイトルが含まれるHTML要素を抽出\u001b[0m\u001b[48;2;39;40;34m                                                                       \u001b[0m\u001b[48;2;39;39;34m \u001b[0m\u001b[48;2;39;39;34m \u001b[0m\n\u001b[48;2;39;39;34m \u001b[0m\u001b[48;2;39;39;34m \u001b[0m\u001b[38;2;248;248;242;48;2;39;40;34mresults\u001b[0m\u001b[38;2;248;248;242;48;2;39;40;34m \u001b[0m\u001b[38;2;255;70;137;48;2;39;40;34m=\u001b[0m\u001b[38;2;248;248;242;48;2;39;40;34m \u001b[0m\u001b[38;2;248;248;242;48;2;39;40;34msoup\u001b[0m\u001b[38;2;255;70;137;48;2;39;40;34m.\u001b[0m\u001b[38;2;248;248;242;48;2;39;40;34mselect\u001b[0m\u001b[38;2;248;248;242;48;2;39;40;34m(\u001b[0m\u001b[38;2;230;219;116;48;2;39;40;34m'\u001b[0m\u001b[38;2;230;219;116;48;2;39;40;34m.gs_rt a\u001b[0m\u001b[38;2;230;219;116;48;2;39;40;34m'\u001b[0m\u001b[38;2;248;248;242;48;2;39;40;34m)\u001b[0m\u001b[48;2;39;40;34m                                                                              \u001b[0m\u001b[48;2;39;39;34m \u001b[0m\u001b[48;2;39;39;34m \u001b[0m\n\u001b[48;2;39;39;34m \u001b[0m\u001b[48;2;39;39;34m \u001b[0m\u001b[48;2;39;40;34m                                                                                                               \u001b[0m\u001b[48;2;39;39;34m \u001b[0m\u001b[48;2;39;39;34m \u001b[0m\n\u001b[48;2;39;39;34m \u001b[0m\u001b[48;2;39;39;34m \u001b[0m\u001b[38;2;149;144;119;48;2;39;40;34m# 上位10件のタイトルを抽出\u001b[0m\u001b[48;2;39;40;34m                                                                                     \u001b[0m\u001b[48;2;39;39;34m \u001b[0m\u001b[48;2;39;39;34m \u001b[0m\n\u001b[48;2;39;39;34m \u001b[0m\u001b[48;2;39;39;34m \u001b[0m\u001b[38;2;248;248;242;48;2;39;40;34mtitles\u001b[0m\u001b[38;2;248;248;242;48;2;39;40;34m \u001b[0m\u001b[38;2;255;70;137;48;2;39;40;34m=\u001b[0m\u001b[38;2;248;248;242;48;2;39;40;34m \u001b[0m\u001b[38;2;248;248;242;48;2;39;40;34m[\u001b[0m\u001b[38;2;248;248;242;48;2;39;40;34mresult\u001b[0m\u001b[38;2;255;70;137;48;2;39;40;34m.\u001b[0m\u001b[38;2;248;248;242;48;2;39;40;34mtext\u001b[0m\u001b[38;2;248;248;242;48;2;39;40;34m \u001b[0m\u001b[38;2;102;217;239;48;2;39;40;34mfor\u001b[0m\u001b[38;2;248;248;242;48;2;39;40;34m \u001b[0m\u001b[38;2;248;248;242;48;2;39;40;34mresult\u001b[0m\u001b[38;2;248;248;242;48;2;39;40;34m \u001b[0m\u001b[38;2;255;70;137;48;2;39;40;34min\u001b[0m\u001b[38;2;248;248;242;48;2;39;40;34m \u001b[0m\u001b[38;2;248;248;242;48;2;39;40;34mresults\u001b[0m\u001b[38;2;248;248;242;48;2;39;40;34m[\u001b[0m\u001b[38;2;248;248;242;48;2;39;40;34m:\u001b[0m\u001b[38;2;174;129;255;48;2;39;40;34m10\u001b[0m\u001b[38;2;248;248;242;48;2;39;40;34m]\u001b[0m\u001b[38;2;248;248;242;48;2;39;40;34m]\u001b[0m\u001b[48;2;39;40;34m                                                              \u001b[0m\u001b[48;2;39;39;34m \u001b[0m\u001b[48;2;39;39;34m \u001b[0m\n\u001b[48;2;39;39;34m \u001b[0m\u001b[48;2;39;39;34m \u001b[0m\u001b[48;2;39;40;34m                                                                                                               \u001b[0m\u001b[48;2;39;39;34m \u001b[0m\u001b[48;2;39;39;34m \u001b[0m\n\u001b[48;2;39;39;34m \u001b[0m\u001b[48;2;39;39;34m \u001b[0m\u001b[38;2;248;248;242;48;2;39;40;34mtitles\u001b[0m\u001b[48;2;39;40;34m                                                                                                         \u001b[0m\u001b[48;2;39;39;34m \u001b[0m\u001b[48;2;39;39;34m \u001b[0m\n\u001b[48;2;39;39;34m                                                                                                                   \u001b[0m\n\u001b[38;2;255;255;255;48;2;59;59;55m                                                                                                                   \u001b[0m\n\u001b[38;2;255;255;255;48;2;59;59;55m \u001b[0m\u001b[38;2;255;255;255;48;2;59;59;55m \u001b[0m\u001b[38;2;255;255;255;48;2;59;59;55m['IgG4-related ophthalmic disease. Part II: clinical aspects', 'The treatment outcomes in IgG4‐related orbital \u001b[0m\u001b[38;2;255;255;255;48;2;59;59;55m \u001b[0m\u001b[38;2;255;255;255;48;2;59;59;55m \u001b[0m\n\u001b[38;2;255;255;255;48;2;59;59;55m \u001b[0m\u001b[38;2;255;255;255;48;2;59;59;55m \u001b[0m\u001b[38;2;255;255;255;48;2;59;59;55mdisease: a systematic review of the literature', 'IgG4-related disease in the eye and ocular adnexa', 'An \u001b[0m\u001b[38;2;255;255;255;48;2;59;59;55m     \u001b[0m\u001b[38;2;255;255;255;48;2;59;59;55m \u001b[0m\u001b[38;2;255;255;255;48;2;59;59;55m \u001b[0m\n\u001b[38;2;255;255;255;48;2;59;59;55m \u001b[0m\u001b[38;2;255;255;255;48;2;59;59;55m \u001b[0m\u001b[38;2;255;255;255;48;2;59;59;55manalysis of IgG4-related disease (IgG4-RD) among idiopathic orbital inflammations and benign lymphoid \u001b[0m\u001b[38;2;255;255;255;48;2;59;59;55m         \u001b[0m\u001b[38;2;255;255;255;48;2;59;59;55m \u001b[0m\u001b[38;2;255;255;255;48;2;59;59;55m \u001b[0m\n\u001b[38;2;255;255;255;48;2;59;59;55m \u001b[0m\u001b[38;2;255;255;255;48;2;59;59;55m \u001b[0m\u001b[38;2;255;255;255;48;2;59;59;55mhyperplasias using two consensus-based diagnostic\\xa0…', 'Clinical features and relapse risks of IgG4-related \u001b[0m\u001b[38;2;255;255;255;48;2;59;59;55m \u001b[0m\u001b[38;2;255;255;255;48;2;59;59;55m \u001b[0m\u001b[38;2;255;255;255;48;2;59;59;55m \u001b[0m\n\u001b[38;2;255;255;255;48;2;59;59;55m \u001b[0m\u001b[38;2;255;255;255;48;2;59;59;55m \u001b[0m\u001b[38;2;255;255;255;48;2;59;59;55mophthalmic disease: a single-center experience in China', 'The usefulness of infraorbital nerve enlargement on \u001b[0m\u001b[38;2;255;255;255;48;2;59;59;55m \u001b[0m\u001b[38;2;255;255;255;48;2;59;59;55m \u001b[0m\n\u001b[38;2;255;255;255;48;2;59;59;55m \u001b[0m\u001b[38;2;255;255;255;48;2;59;59;55m \u001b[0m\u001b[38;2;255;255;255;48;2;59;59;55mMRI imaging in clinical diagnosis of IgG4-related orbital disease', 'IgG4-related ophthalmic disease. Part I: \u001b[0m\u001b[38;2;255;255;255;48;2;59;59;55m \u001b[0m\u001b[38;2;255;255;255;48;2;59;59;55m \u001b[0m\u001b[38;2;255;255;255;48;2;59;59;55m \u001b[0m\n\u001b[38;2;255;255;255;48;2;59;59;55m \u001b[0m\u001b[38;2;255;255;255;48;2;59;59;55m \u001b[0m\u001b[38;2;255;255;255;48;2;59;59;55mbackground and pathology', 'Infraorbital nerve involvement on magnetic resonance imaging in European patients \u001b[0m\u001b[38;2;255;255;255;48;2;59;59;55m \u001b[0m\u001b[38;2;255;255;255;48;2;59;59;55m \u001b[0m\u001b[38;2;255;255;255;48;2;59;59;55m \u001b[0m\n\u001b[38;2;255;255;255;48;2;59;59;55m \u001b[0m\u001b[38;2;255;255;255;48;2;59;59;55m \u001b[0m\u001b[38;2;255;255;255;48;2;59;59;55mwith IgG4-related ophthalmic disease: a specific sign', 'Bilateral IgG4-related ophthalmic disease: a strong \u001b[0m\u001b[38;2;255;255;255;48;2;59;59;55m  \u001b[0m\u001b[38;2;255;255;255;48;2;59;59;55m \u001b[0m\u001b[38;2;255;255;255;48;2;59;59;55m \u001b[0m\n\u001b[38;2;255;255;255;48;2;59;59;55m \u001b[0m\u001b[38;2;255;255;255;48;2;59;59;55m \u001b[0m\u001b[38;2;255;255;255;48;2;59;59;55mindication for systemic imaging', 'Clinical features and symptoms of IgG4-related ophthalmic disease: A \u001b[0m\u001b[38;2;255;255;255;48;2;59;59;55m       \u001b[0m\u001b[38;2;255;255;255;48;2;59;59;55m \u001b[0m\u001b[38;2;255;255;255;48;2;59;59;55m \u001b[0m\n\u001b[38;2;255;255;255;48;2;59;59;55m \u001b[0m\u001b[38;2;255;255;255;48;2;59;59;55m \u001b[0m\u001b[38;2;255;255;255;48;2;59;59;55mmulticenter study']\u001b[0m\u001b[38;2;255;255;255;48;2;59;59;55m                                                                                            \u001b[0m\u001b[38;2;255;255;255;48;2;59;59;55m \u001b[0m\u001b[38;2;255;255;255;48;2;59;59;55m \u001b[0m\n\u001b[38;2;255;255;255;48;2;59;59;55m                                                                                                                   \u001b[0m\n",
                  "text/html": "<pre style=\"white-space:pre;overflow-x:auto;line-height:normal;font-family:Menlo,'DejaVu Sans Mono',consolas,'Courier New',monospace\"><span style=\"background-color: #272722\">                                                                                                                   </span>\n<span style=\"background-color: #272722\">  </span><span style=\"color: #f8f8f2; text-decoration-color: #f8f8f2; background-color: #272822\">soup </span><span style=\"color: #ff4689; text-decoration-color: #ff4689; background-color: #272822\">=</span><span style=\"color: #f8f8f2; text-decoration-color: #f8f8f2; background-color: #272822\"> BeautifulSoup(response</span><span style=\"color: #ff4689; text-decoration-color: #ff4689; background-color: #272822\">.</span><span style=\"color: #f8f8f2; text-decoration-color: #f8f8f2; background-color: #272822\">text, </span><span style=\"color: #e6db74; text-decoration-color: #e6db74; background-color: #272822\">'html.parser'</span><span style=\"color: #f8f8f2; text-decoration-color: #f8f8f2; background-color: #272822\">)</span><span style=\"background-color: #272822\">                                                             </span><span style=\"background-color: #272722\">  </span>\n<span style=\"background-color: #272722\">  </span><span style=\"background-color: #272822\">                                                                                                               </span><span style=\"background-color: #272722\">  </span>\n<span style=\"background-color: #272722\">  </span><span style=\"color: #959077; text-decoration-color: #959077; background-color: #272822\"># 論文のタイトルが含まれるHTML要素を抽出</span><span style=\"background-color: #272822\">                                                                       </span><span style=\"background-color: #272722\">  </span>\n<span style=\"background-color: #272722\">  </span><span style=\"color: #f8f8f2; text-decoration-color: #f8f8f2; background-color: #272822\">results </span><span style=\"color: #ff4689; text-decoration-color: #ff4689; background-color: #272822\">=</span><span style=\"color: #f8f8f2; text-decoration-color: #f8f8f2; background-color: #272822\"> soup</span><span style=\"color: #ff4689; text-decoration-color: #ff4689; background-color: #272822\">.</span><span style=\"color: #f8f8f2; text-decoration-color: #f8f8f2; background-color: #272822\">select(</span><span style=\"color: #e6db74; text-decoration-color: #e6db74; background-color: #272822\">'.gs_rt a'</span><span style=\"color: #f8f8f2; text-decoration-color: #f8f8f2; background-color: #272822\">)</span><span style=\"background-color: #272822\">                                                                              </span><span style=\"background-color: #272722\">  </span>\n<span style=\"background-color: #272722\">  </span><span style=\"background-color: #272822\">                                                                                                               </span><span style=\"background-color: #272722\">  </span>\n<span style=\"background-color: #272722\">  </span><span style=\"color: #959077; text-decoration-color: #959077; background-color: #272822\"># 上位10件のタイトルを抽出</span><span style=\"background-color: #272822\">                                                                                     </span><span style=\"background-color: #272722\">  </span>\n<span style=\"background-color: #272722\">  </span><span style=\"color: #f8f8f2; text-decoration-color: #f8f8f2; background-color: #272822\">titles </span><span style=\"color: #ff4689; text-decoration-color: #ff4689; background-color: #272822\">=</span><span style=\"color: #f8f8f2; text-decoration-color: #f8f8f2; background-color: #272822\"> [result</span><span style=\"color: #ff4689; text-decoration-color: #ff4689; background-color: #272822\">.</span><span style=\"color: #f8f8f2; text-decoration-color: #f8f8f2; background-color: #272822\">text </span><span style=\"color: #66d9ef; text-decoration-color: #66d9ef; background-color: #272822\">for</span><span style=\"color: #f8f8f2; text-decoration-color: #f8f8f2; background-color: #272822\"> result </span><span style=\"color: #ff4689; text-decoration-color: #ff4689; background-color: #272822\">in</span><span style=\"color: #f8f8f2; text-decoration-color: #f8f8f2; background-color: #272822\"> results[:</span><span style=\"color: #ae81ff; text-decoration-color: #ae81ff; background-color: #272822\">10</span><span style=\"color: #f8f8f2; text-decoration-color: #f8f8f2; background-color: #272822\">]]</span><span style=\"background-color: #272822\">                                                              </span><span style=\"background-color: #272722\">  </span>\n<span style=\"background-color: #272722\">  </span><span style=\"background-color: #272822\">                                                                                                               </span><span style=\"background-color: #272722\">  </span>\n<span style=\"background-color: #272722\">  </span><span style=\"color: #f8f8f2; text-decoration-color: #f8f8f2; background-color: #272822\">titles</span><span style=\"background-color: #272822\">                                                                                                         </span><span style=\"background-color: #272722\">  </span>\n<span style=\"background-color: #272722\">                                                                                                                   </span>\n<span style=\"color: #ffffff; text-decoration-color: #ffffff; background-color: #3b3b37\">                                                                                                                   </span>\n<span style=\"color: #ffffff; text-decoration-color: #ffffff; background-color: #3b3b37\">  ['IgG4-related ophthalmic disease. Part II: clinical aspects', 'The treatment outcomes in IgG4‐related orbital   </span>\n<span style=\"color: #ffffff; text-decoration-color: #ffffff; background-color: #3b3b37\">  disease: a systematic review of the literature', 'IgG4-related disease in the eye and ocular adnexa', 'An        </span>\n<span style=\"color: #ffffff; text-decoration-color: #ffffff; background-color: #3b3b37\">  analysis of IgG4-related disease (IgG4-RD) among idiopathic orbital inflammations and benign lymphoid            </span>\n<span style=\"color: #ffffff; text-decoration-color: #ffffff; background-color: #3b3b37\">  hyperplasias using two consensus-based diagnostic\\xa0…', 'Clinical features and relapse risks of IgG4-related    </span>\n<span style=\"color: #ffffff; text-decoration-color: #ffffff; background-color: #3b3b37\">  ophthalmic disease: a single-center experience in China', 'The usefulness of infraorbital nerve enlargement on   </span>\n<span style=\"color: #ffffff; text-decoration-color: #ffffff; background-color: #3b3b37\">  MRI imaging in clinical diagnosis of IgG4-related orbital disease', 'IgG4-related ophthalmic disease. Part I:    </span>\n<span style=\"color: #ffffff; text-decoration-color: #ffffff; background-color: #3b3b37\">  background and pathology', 'Infraorbital nerve involvement on magnetic resonance imaging in European patients    </span>\n<span style=\"color: #ffffff; text-decoration-color: #ffffff; background-color: #3b3b37\">  with IgG4-related ophthalmic disease: a specific sign', 'Bilateral IgG4-related ophthalmic disease: a strong     </span>\n<span style=\"color: #ffffff; text-decoration-color: #ffffff; background-color: #3b3b37\">  indication for systemic imaging', 'Clinical features and symptoms of IgG4-related ophthalmic disease: A          </span>\n<span style=\"color: #ffffff; text-decoration-color: #ffffff; background-color: #3b3b37\">  multicenter study']                                                                                              </span>\n<span style=\"color: #ffffff; text-decoration-color: #ffffff; background-color: #3b3b37\">                                                                                                                   </span>\n</pre>\n"
                },
                "metadata": {}
              }
            ]
          }
        },
        "74c8c4ebe8b74cb48bf9d6c9d7745f62": {
          "model_module": "@jupyter-widgets/base",
          "model_name": "LayoutModel",
          "model_module_version": "1.2.0",
          "state": {
            "_model_module": "@jupyter-widgets/base",
            "_model_module_version": "1.2.0",
            "_model_name": "LayoutModel",
            "_view_count": null,
            "_view_module": "@jupyter-widgets/base",
            "_view_module_version": "1.2.0",
            "_view_name": "LayoutView",
            "align_content": null,
            "align_items": null,
            "align_self": null,
            "border": null,
            "bottom": null,
            "display": null,
            "flex": null,
            "flex_flow": null,
            "grid_area": null,
            "grid_auto_columns": null,
            "grid_auto_flow": null,
            "grid_auto_rows": null,
            "grid_column": null,
            "grid_gap": null,
            "grid_row": null,
            "grid_template_areas": null,
            "grid_template_columns": null,
            "grid_template_rows": null,
            "height": null,
            "justify_content": null,
            "justify_items": null,
            "left": null,
            "margin": null,
            "max_height": null,
            "max_width": null,
            "min_height": null,
            "min_width": null,
            "object_fit": null,
            "object_position": null,
            "order": null,
            "overflow": null,
            "overflow_x": null,
            "overflow_y": null,
            "padding": null,
            "right": null,
            "top": null,
            "visibility": null,
            "width": null
          }
        },
        "6f712202269b403ab980a2d719400909": {
          "model_module": "@jupyter-widgets/output",
          "model_name": "OutputModel",
          "model_module_version": "1.0.0",
          "state": {
            "_dom_classes": [],
            "_model_module": "@jupyter-widgets/output",
            "_model_module_version": "1.0.0",
            "_model_name": "OutputModel",
            "_view_count": null,
            "_view_module": "@jupyter-widgets/output",
            "_view_module_version": "1.0.0",
            "_view_name": "OutputView",
            "layout": "IPY_MODEL_4188542f65254c68b138b41e587d76f9",
            "msg_id": "",
            "outputs": [
              {
                "output_type": "display_data",
                "data": {
                  "text/plain": "                                                                                                                   \n  Google                                                                                                           \n  Scholarから上位10件の論文のタイトルを正常に抽出できました。次に、これらのタイトルをpandasのデータフレー          \n  ムに保存します。                                                                                                 \n                                                                                                                   \n",
                  "text/html": "<pre style=\"white-space:pre;overflow-x:auto;line-height:normal;font-family:Menlo,'DejaVu Sans Mono',consolas,'Courier New',monospace\">                                                                                                                   \n  Google                                                                                                           \n  Scholarから上位10件の論文のタイトルを正常に抽出できました。次に、これらのタイトルをpandasのデータフレー          \n  ムに保存します。                                                                                                 \n                                                                                                                   \n</pre>\n"
                },
                "metadata": {}
              }
            ]
          }
        },
        "4188542f65254c68b138b41e587d76f9": {
          "model_module": "@jupyter-widgets/base",
          "model_name": "LayoutModel",
          "model_module_version": "1.2.0",
          "state": {
            "_model_module": "@jupyter-widgets/base",
            "_model_module_version": "1.2.0",
            "_model_name": "LayoutModel",
            "_view_count": null,
            "_view_module": "@jupyter-widgets/base",
            "_view_module_version": "1.2.0",
            "_view_name": "LayoutView",
            "align_content": null,
            "align_items": null,
            "align_self": null,
            "border": null,
            "bottom": null,
            "display": null,
            "flex": null,
            "flex_flow": null,
            "grid_area": null,
            "grid_auto_columns": null,
            "grid_auto_flow": null,
            "grid_auto_rows": null,
            "grid_column": null,
            "grid_gap": null,
            "grid_row": null,
            "grid_template_areas": null,
            "grid_template_columns": null,
            "grid_template_rows": null,
            "height": null,
            "justify_content": null,
            "justify_items": null,
            "left": null,
            "margin": null,
            "max_height": null,
            "max_width": null,
            "min_height": null,
            "min_width": null,
            "object_fit": null,
            "object_position": null,
            "order": null,
            "overflow": null,
            "overflow_x": null,
            "overflow_y": null,
            "padding": null,
            "right": null,
            "top": null,
            "visibility": null,
            "width": null
          }
        },
        "1dbb78f6cc0a4ab188bd177321f70028": {
          "model_module": "@jupyter-widgets/output",
          "model_name": "OutputModel",
          "model_module_version": "1.0.0",
          "state": {
            "_dom_classes": [],
            "_model_module": "@jupyter-widgets/output",
            "_model_module_version": "1.0.0",
            "_model_name": "OutputModel",
            "_view_count": null,
            "_view_module": "@jupyter-widgets/output",
            "_view_module_version": "1.0.0",
            "_view_name": "OutputView",
            "layout": "IPY_MODEL_8828ea6226ba4bcbabb620d5e48c0898",
            "msg_id": "",
            "outputs": [
              {
                "output_type": "display_data",
                "data": {
                  "text/plain": "\u001b[48;2;39;39;34m                                                                                                                   \u001b[0m\n\u001b[48;2;39;39;34m \u001b[0m\u001b[48;2;39;39;34m \u001b[0m\u001b[38;2;255;70;137;48;2;39;40;34mimport\u001b[0m\u001b[38;2;248;248;242;48;2;39;40;34m \u001b[0m\u001b[38;2;248;248;242;48;2;39;40;34mpandas\u001b[0m\u001b[38;2;248;248;242;48;2;39;40;34m \u001b[0m\u001b[38;2;102;217;239;48;2;39;40;34mas\u001b[0m\u001b[38;2;248;248;242;48;2;39;40;34m \u001b[0m\u001b[38;2;248;248;242;48;2;39;40;34mpd\u001b[0m\u001b[48;2;39;40;34m                                                                                            \u001b[0m\u001b[48;2;39;39;34m \u001b[0m\u001b[48;2;39;39;34m \u001b[0m\n\u001b[48;2;39;39;34m \u001b[0m\u001b[48;2;39;39;34m \u001b[0m\u001b[48;2;39;40;34m                                                                                                               \u001b[0m\u001b[48;2;39;39;34m \u001b[0m\u001b[48;2;39;39;34m \u001b[0m\n\u001b[48;2;39;39;34m \u001b[0m\u001b[48;2;39;39;34m \u001b[0m\u001b[38;2;149;144;119;48;2;39;40;34m# タイトルをデータフレームに保存\u001b[0m\u001b[48;2;39;40;34m                                                                               \u001b[0m\u001b[48;2;39;39;34m \u001b[0m\u001b[48;2;39;39;34m \u001b[0m\n\u001b[48;2;39;39;34m \u001b[0m\u001b[48;2;39;39;34m \u001b[0m\u001b[38;2;248;248;242;48;2;39;40;34mdf\u001b[0m\u001b[38;2;248;248;242;48;2;39;40;34m \u001b[0m\u001b[38;2;255;70;137;48;2;39;40;34m=\u001b[0m\u001b[38;2;248;248;242;48;2;39;40;34m \u001b[0m\u001b[38;2;248;248;242;48;2;39;40;34mpd\u001b[0m\u001b[38;2;255;70;137;48;2;39;40;34m.\u001b[0m\u001b[38;2;248;248;242;48;2;39;40;34mDataFrame\u001b[0m\u001b[38;2;248;248;242;48;2;39;40;34m(\u001b[0m\u001b[38;2;248;248;242;48;2;39;40;34mtitles\u001b[0m\u001b[38;2;248;248;242;48;2;39;40;34m,\u001b[0m\u001b[38;2;248;248;242;48;2;39;40;34m \u001b[0m\u001b[38;2;248;248;242;48;2;39;40;34mcolumns\u001b[0m\u001b[38;2;255;70;137;48;2;39;40;34m=\u001b[0m\u001b[38;2;248;248;242;48;2;39;40;34m[\u001b[0m\u001b[38;2;230;219;116;48;2;39;40;34m'\u001b[0m\u001b[38;2;230;219;116;48;2;39;40;34mTitle\u001b[0m\u001b[38;2;230;219;116;48;2;39;40;34m'\u001b[0m\u001b[38;2;248;248;242;48;2;39;40;34m]\u001b[0m\u001b[38;2;248;248;242;48;2;39;40;34m)\u001b[0m\u001b[48;2;39;40;34m                                                                   \u001b[0m\u001b[48;2;39;39;34m \u001b[0m\u001b[48;2;39;39;34m \u001b[0m\n\u001b[48;2;39;39;34m \u001b[0m\u001b[48;2;39;39;34m \u001b[0m\u001b[48;2;39;40;34m                                                                                                               \u001b[0m\u001b[48;2;39;39;34m \u001b[0m\u001b[48;2;39;39;34m \u001b[0m\n\u001b[48;2;39;39;34m \u001b[0m\u001b[48;2;39;39;34m \u001b[0m\u001b[38;2;248;248;242;48;2;39;40;34mdf\u001b[0m\u001b[48;2;39;40;34m                                                                                                             \u001b[0m\u001b[48;2;39;39;34m \u001b[0m\u001b[48;2;39;39;34m \u001b[0m\n\u001b[48;2;39;39;34m                                                                                                                   \u001b[0m\n\u001b[38;2;255;255;255;48;2;59;59;55m                                                                                                                   \u001b[0m\n\u001b[38;2;255;255;255;48;2;59;59;55m \u001b[0m\u001b[38;2;255;255;255;48;2;59;59;55m \u001b[0m\u001b[38;2;255;255;255;48;2;59;59;55mTitle\u001b[0m\u001b[38;2;255;255;255;48;2;59;59;55m                                                                                                          \u001b[0m\u001b[38;2;255;255;255;48;2;59;59;55m \u001b[0m\u001b[38;2;255;255;255;48;2;59;59;55m \u001b[0m\n\u001b[38;2;255;255;255;48;2;59;59;55m \u001b[0m\u001b[38;2;255;255;255;48;2;59;59;55m \u001b[0m\u001b[38;2;255;255;255;48;2;59;59;55m0  IgG4-related ophthalmic disease. Part II: clin...\u001b[0m\u001b[38;2;255;255;255;48;2;59;59;55m                                                           \u001b[0m\u001b[38;2;255;255;255;48;2;59;59;55m \u001b[0m\u001b[38;2;255;255;255;48;2;59;59;55m \u001b[0m\n\u001b[38;2;255;255;255;48;2;59;59;55m \u001b[0m\u001b[38;2;255;255;255;48;2;59;59;55m \u001b[0m\u001b[38;2;255;255;255;48;2;59;59;55m1  The treatment outcomes in IgG4‐related orbital...\u001b[0m\u001b[38;2;255;255;255;48;2;59;59;55m                                                           \u001b[0m\u001b[38;2;255;255;255;48;2;59;59;55m \u001b[0m\u001b[38;2;255;255;255;48;2;59;59;55m \u001b[0m\n\u001b[38;2;255;255;255;48;2;59;59;55m \u001b[0m\u001b[38;2;255;255;255;48;2;59;59;55m \u001b[0m\u001b[38;2;255;255;255;48;2;59;59;55m2  IgG4-related disease in the eye and ocular adnexa\u001b[0m\u001b[38;2;255;255;255;48;2;59;59;55m                                                           \u001b[0m\u001b[38;2;255;255;255;48;2;59;59;55m \u001b[0m\u001b[38;2;255;255;255;48;2;59;59;55m \u001b[0m\n\u001b[38;2;255;255;255;48;2;59;59;55m \u001b[0m\u001b[38;2;255;255;255;48;2;59;59;55m \u001b[0m\u001b[38;2;255;255;255;48;2;59;59;55m3  An analysis of IgG4-related disease (IgG4-RD) ...\u001b[0m\u001b[38;2;255;255;255;48;2;59;59;55m                                                           \u001b[0m\u001b[38;2;255;255;255;48;2;59;59;55m \u001b[0m\u001b[38;2;255;255;255;48;2;59;59;55m \u001b[0m\n\u001b[38;2;255;255;255;48;2;59;59;55m \u001b[0m\u001b[38;2;255;255;255;48;2;59;59;55m \u001b[0m\u001b[38;2;255;255;255;48;2;59;59;55m4  Clinical features and relapse risks of IgG4-re...\u001b[0m\u001b[38;2;255;255;255;48;2;59;59;55m                                                           \u001b[0m\u001b[38;2;255;255;255;48;2;59;59;55m \u001b[0m\u001b[38;2;255;255;255;48;2;59;59;55m \u001b[0m\n\u001b[38;2;255;255;255;48;2;59;59;55m \u001b[0m\u001b[38;2;255;255;255;48;2;59;59;55m \u001b[0m\u001b[38;2;255;255;255;48;2;59;59;55m5  The usefulness of infraorbital nerve enlargeme...\u001b[0m\u001b[38;2;255;255;255;48;2;59;59;55m                                                           \u001b[0m\u001b[38;2;255;255;255;48;2;59;59;55m \u001b[0m\u001b[38;2;255;255;255;48;2;59;59;55m \u001b[0m\n\u001b[38;2;255;255;255;48;2;59;59;55m \u001b[0m\u001b[38;2;255;255;255;48;2;59;59;55m \u001b[0m\u001b[38;2;255;255;255;48;2;59;59;55m6  IgG4-related ophthalmic disease. Part I: backg...\u001b[0m\u001b[38;2;255;255;255;48;2;59;59;55m                                                           \u001b[0m\u001b[38;2;255;255;255;48;2;59;59;55m \u001b[0m\u001b[38;2;255;255;255;48;2;59;59;55m \u001b[0m\n\u001b[38;2;255;255;255;48;2;59;59;55m \u001b[0m\u001b[38;2;255;255;255;48;2;59;59;55m \u001b[0m\u001b[38;2;255;255;255;48;2;59;59;55m7  Infraorbital nerve involvement on magnetic res...\u001b[0m\u001b[38;2;255;255;255;48;2;59;59;55m                                                           \u001b[0m\u001b[38;2;255;255;255;48;2;59;59;55m \u001b[0m\u001b[38;2;255;255;255;48;2;59;59;55m \u001b[0m\n\u001b[38;2;255;255;255;48;2;59;59;55m \u001b[0m\u001b[38;2;255;255;255;48;2;59;59;55m \u001b[0m\u001b[38;2;255;255;255;48;2;59;59;55m8  Bilateral IgG4-related ophthalmic disease: a s...\u001b[0m\u001b[38;2;255;255;255;48;2;59;59;55m                                                           \u001b[0m\u001b[38;2;255;255;255;48;2;59;59;55m \u001b[0m\u001b[38;2;255;255;255;48;2;59;59;55m \u001b[0m\n\u001b[38;2;255;255;255;48;2;59;59;55m \u001b[0m\u001b[38;2;255;255;255;48;2;59;59;55m \u001b[0m\u001b[38;2;255;255;255;48;2;59;59;55m9  Clinical features and symptoms of IgG4-related...\u001b[0m\u001b[38;2;255;255;255;48;2;59;59;55m                                                           \u001b[0m\u001b[38;2;255;255;255;48;2;59;59;55m \u001b[0m\u001b[38;2;255;255;255;48;2;59;59;55m \u001b[0m\n\u001b[38;2;255;255;255;48;2;59;59;55m                                                                                                                   \u001b[0m\n",
                  "text/html": "<pre style=\"white-space:pre;overflow-x:auto;line-height:normal;font-family:Menlo,'DejaVu Sans Mono',consolas,'Courier New',monospace\"><span style=\"background-color: #272722\">                                                                                                                   </span>\n<span style=\"background-color: #272722\">  </span><span style=\"color: #ff4689; text-decoration-color: #ff4689; background-color: #272822\">import</span><span style=\"color: #f8f8f2; text-decoration-color: #f8f8f2; background-color: #272822\"> pandas </span><span style=\"color: #66d9ef; text-decoration-color: #66d9ef; background-color: #272822\">as</span><span style=\"color: #f8f8f2; text-decoration-color: #f8f8f2; background-color: #272822\"> pd</span><span style=\"background-color: #272822\">                                                                                            </span><span style=\"background-color: #272722\">  </span>\n<span style=\"background-color: #272722\">  </span><span style=\"background-color: #272822\">                                                                                                               </span><span style=\"background-color: #272722\">  </span>\n<span style=\"background-color: #272722\">  </span><span style=\"color: #959077; text-decoration-color: #959077; background-color: #272822\"># タイトルをデータフレームに保存</span><span style=\"background-color: #272822\">                                                                               </span><span style=\"background-color: #272722\">  </span>\n<span style=\"background-color: #272722\">  </span><span style=\"color: #f8f8f2; text-decoration-color: #f8f8f2; background-color: #272822\">df </span><span style=\"color: #ff4689; text-decoration-color: #ff4689; background-color: #272822\">=</span><span style=\"color: #f8f8f2; text-decoration-color: #f8f8f2; background-color: #272822\"> pd</span><span style=\"color: #ff4689; text-decoration-color: #ff4689; background-color: #272822\">.</span><span style=\"color: #f8f8f2; text-decoration-color: #f8f8f2; background-color: #272822\">DataFrame(titles, columns</span><span style=\"color: #ff4689; text-decoration-color: #ff4689; background-color: #272822\">=</span><span style=\"color: #f8f8f2; text-decoration-color: #f8f8f2; background-color: #272822\">[</span><span style=\"color: #e6db74; text-decoration-color: #e6db74; background-color: #272822\">'Title'</span><span style=\"color: #f8f8f2; text-decoration-color: #f8f8f2; background-color: #272822\">])</span><span style=\"background-color: #272822\">                                                                   </span><span style=\"background-color: #272722\">  </span>\n<span style=\"background-color: #272722\">  </span><span style=\"background-color: #272822\">                                                                                                               </span><span style=\"background-color: #272722\">  </span>\n<span style=\"background-color: #272722\">  </span><span style=\"color: #f8f8f2; text-decoration-color: #f8f8f2; background-color: #272822\">df</span><span style=\"background-color: #272822\">                                                                                                             </span><span style=\"background-color: #272722\">  </span>\n<span style=\"background-color: #272722\">                                                                                                                   </span>\n<span style=\"color: #ffffff; text-decoration-color: #ffffff; background-color: #3b3b37\">                                                                                                                   </span>\n<span style=\"color: #ffffff; text-decoration-color: #ffffff; background-color: #3b3b37\">  Title                                                                                                            </span>\n<span style=\"color: #ffffff; text-decoration-color: #ffffff; background-color: #3b3b37\">  0  IgG4-related ophthalmic disease. Part II: clin...                                                             </span>\n<span style=\"color: #ffffff; text-decoration-color: #ffffff; background-color: #3b3b37\">  1  The treatment outcomes in IgG4‐related orbital...                                                             </span>\n<span style=\"color: #ffffff; text-decoration-color: #ffffff; background-color: #3b3b37\">  2  IgG4-related disease in the eye and ocular adnexa                                                             </span>\n<span style=\"color: #ffffff; text-decoration-color: #ffffff; background-color: #3b3b37\">  3  An analysis of IgG4-related disease (IgG4-RD) ...                                                             </span>\n<span style=\"color: #ffffff; text-decoration-color: #ffffff; background-color: #3b3b37\">  4  Clinical features and relapse risks of IgG4-re...                                                             </span>\n<span style=\"color: #ffffff; text-decoration-color: #ffffff; background-color: #3b3b37\">  5  The usefulness of infraorbital nerve enlargeme...                                                             </span>\n<span style=\"color: #ffffff; text-decoration-color: #ffffff; background-color: #3b3b37\">  6  IgG4-related ophthalmic disease. Part I: backg...                                                             </span>\n<span style=\"color: #ffffff; text-decoration-color: #ffffff; background-color: #3b3b37\">  7  Infraorbital nerve involvement on magnetic res...                                                             </span>\n<span style=\"color: #ffffff; text-decoration-color: #ffffff; background-color: #3b3b37\">  8  Bilateral IgG4-related ophthalmic disease: a s...                                                             </span>\n<span style=\"color: #ffffff; text-decoration-color: #ffffff; background-color: #3b3b37\">  9  Clinical features and symptoms of IgG4-related...                                                             </span>\n<span style=\"color: #ffffff; text-decoration-color: #ffffff; background-color: #3b3b37\">                                                                                                                   </span>\n</pre>\n"
                },
                "metadata": {}
              }
            ]
          }
        },
        "8828ea6226ba4bcbabb620d5e48c0898": {
          "model_module": "@jupyter-widgets/base",
          "model_name": "LayoutModel",
          "model_module_version": "1.2.0",
          "state": {
            "_model_module": "@jupyter-widgets/base",
            "_model_module_version": "1.2.0",
            "_model_name": "LayoutModel",
            "_view_count": null,
            "_view_module": "@jupyter-widgets/base",
            "_view_module_version": "1.2.0",
            "_view_name": "LayoutView",
            "align_content": null,
            "align_items": null,
            "align_self": null,
            "border": null,
            "bottom": null,
            "display": null,
            "flex": null,
            "flex_flow": null,
            "grid_area": null,
            "grid_auto_columns": null,
            "grid_auto_flow": null,
            "grid_auto_rows": null,
            "grid_column": null,
            "grid_gap": null,
            "grid_row": null,
            "grid_template_areas": null,
            "grid_template_columns": null,
            "grid_template_rows": null,
            "height": null,
            "justify_content": null,
            "justify_items": null,
            "left": null,
            "margin": null,
            "max_height": null,
            "max_width": null,
            "min_height": null,
            "min_width": null,
            "object_fit": null,
            "object_position": null,
            "order": null,
            "overflow": null,
            "overflow_x": null,
            "overflow_y": null,
            "padding": null,
            "right": null,
            "top": null,
            "visibility": null,
            "width": null
          }
        },
        "8f8f009596a64c8588a2f174e84f43b6": {
          "model_module": "@jupyter-widgets/output",
          "model_name": "OutputModel",
          "model_module_version": "1.0.0",
          "state": {
            "_dom_classes": [],
            "_model_module": "@jupyter-widgets/output",
            "_model_module_version": "1.0.0",
            "_model_name": "OutputModel",
            "_view_count": null,
            "_view_module": "@jupyter-widgets/output",
            "_view_module_version": "1.0.0",
            "_view_name": "OutputView",
            "layout": "IPY_MODEL_5965764068434a8ab7fa5961824d384d",
            "msg_id": "",
            "outputs": [
              {
                "output_type": "display_data",
                "data": {
                  "text/plain": "                                                                                                                   \n  上位10件の論文のタイトルを含むpandasのデータフレームを作成しました。以下がその内容です：                         \n                                                                                                                   \n                                                                                                                   \n                                                                                                                   \n   \u001b[1m \u001b[0m\u001b[1m \u001b[0m\u001b[1m \u001b[0m \u001b[1m \u001b[0m\u001b[1mTitle\u001b[0m\u001b[1m                                                                                                  \u001b[0m\u001b[1m \u001b[0m   \n   ━━━━━━━━━━━━━━━━━━━━━━━━━━━━━━━━━━━━━━━━━━━━━━━━━━━━━━━━━━━━━━━━━━━━━━━━━━━━━━━━━━━━━━━━━━━━━━━━━━━━━━━━━━━━━   \n    0   IgG4-related ophthalmic disease. Part II: clinical aspects                                                 \n    1   The treatment outcomes in IgG4‐related orbital disease: a systematic review of the literature              \n    2   IgG4-related disease in the eye and ocular adnexa                                                          \n    3   An analysis of IgG4-related disease (IgG4-RD) among idiopathic orbital inflammations and benign            \n        lymphoid hyperplasias using two consensus-based diagnostic                                                 \n    4   Clinical features and relapse risks of IgG4-related ophthalmic disease: a single-center experience in      \n        China                                                                                                      \n    5   The usefulness of infraorbital nerve enlargement on MRI imaging in clinical diagnosis of IgG4-related      \n        orbital disease                                                                                            \n    6   IgG4-related ophthalmic disease. Part I: background and pathology                                          \n    7   Infraorbital nerve involvement on magnetic resonance imaging in European patients with IgG4-related        \n        ophthalmic disease: a specific sign                                                                        \n    8   Bilateral IgG4-related ophthalmic disease: a strong indication for systemic imaging                        \n    9   Clinical features and symptoms of IgG4-related ophthalmic disease: A multicenter study                     \n                                                                                                                   \n                                                                                                                   \n  これでタスクが完了しました。他に何かお手伝いできることがありましたらお知らせください。                           \n                                                                                                                   \n",
                  "text/html": "<pre style=\"white-space:pre;overflow-x:auto;line-height:normal;font-family:Menlo,'DejaVu Sans Mono',consolas,'Courier New',monospace\">                                                                                                                   \n  上位10件の論文のタイトルを含むpandasのデータフレームを作成しました。以下がその内容です：                         \n                                                                                                                   \n                                                                                                                   \n                                                                                                                   \n   <span style=\"font-weight: bold\">   </span> <span style=\"font-weight: bold\"> Title                                                                                                   </span>   \n   ━━━━━━━━━━━━━━━━━━━━━━━━━━━━━━━━━━━━━━━━━━━━━━━━━━━━━━━━━━━━━━━━━━━━━━━━━━━━━━━━━━━━━━━━━━━━━━━━━━━━━━━━━━━━━   \n    0   IgG4-related ophthalmic disease. Part II: clinical aspects                                                 \n    1   The treatment outcomes in IgG4‐related orbital disease: a systematic review of the literature              \n    2   IgG4-related disease in the eye and ocular adnexa                                                          \n    3   An analysis of IgG4-related disease (IgG4-RD) among idiopathic orbital inflammations and benign            \n        lymphoid hyperplasias using two consensus-based diagnostic                                                 \n    4   Clinical features and relapse risks of IgG4-related ophthalmic disease: a single-center experience in      \n        China                                                                                                      \n    5   The usefulness of infraorbital nerve enlargement on MRI imaging in clinical diagnosis of IgG4-related      \n        orbital disease                                                                                            \n    6   IgG4-related ophthalmic disease. Part I: background and pathology                                          \n    7   Infraorbital nerve involvement on magnetic resonance imaging in European patients with IgG4-related        \n        ophthalmic disease: a specific sign                                                                        \n    8   Bilateral IgG4-related ophthalmic disease: a strong indication for systemic imaging                        \n    9   Clinical features and symptoms of IgG4-related ophthalmic disease: A multicenter study                     \n                                                                                                                   \n                                                                                                                   \n  これでタスクが完了しました。他に何かお手伝いできることがありましたらお知らせください。                           \n                                                                                                                   \n</pre>\n"
                },
                "metadata": {}
              }
            ]
          }
        },
        "5965764068434a8ab7fa5961824d384d": {
          "model_module": "@jupyter-widgets/base",
          "model_name": "LayoutModel",
          "model_module_version": "1.2.0",
          "state": {
            "_model_module": "@jupyter-widgets/base",
            "_model_module_version": "1.2.0",
            "_model_name": "LayoutModel",
            "_view_count": null,
            "_view_module": "@jupyter-widgets/base",
            "_view_module_version": "1.2.0",
            "_view_name": "LayoutView",
            "align_content": null,
            "align_items": null,
            "align_self": null,
            "border": null,
            "bottom": null,
            "display": null,
            "flex": null,
            "flex_flow": null,
            "grid_area": null,
            "grid_auto_columns": null,
            "grid_auto_flow": null,
            "grid_auto_rows": null,
            "grid_column": null,
            "grid_gap": null,
            "grid_row": null,
            "grid_template_areas": null,
            "grid_template_columns": null,
            "grid_template_rows": null,
            "height": null,
            "justify_content": null,
            "justify_items": null,
            "left": null,
            "margin": null,
            "max_height": null,
            "max_width": null,
            "min_height": null,
            "min_width": null,
            "object_fit": null,
            "object_position": null,
            "order": null,
            "overflow": null,
            "overflow_x": null,
            "overflow_y": null,
            "padding": null,
            "right": null,
            "top": null,
            "visibility": null,
            "width": null
          }
        }
      }
    }
  },
  "nbformat": 4,
  "nbformat_minor": 0
}