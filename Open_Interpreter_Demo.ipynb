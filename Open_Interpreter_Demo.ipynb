{
  "cells": [
    {
      "cell_type": "markdown",
      "metadata": {
        "id": "view-in-github",
        "colab_type": "text"
      },
      "source": [
        "<a href=\"https://colab.research.google.com/github/ykitaguchi77/chatGPT/blob/main/Open_Interpreter_Demo.ipynb\" target=\"_parent\"><img src=\"https://colab.research.google.com/assets/colab-badge.svg\" alt=\"Open In Colab\"/></a>"
      ]
    },
    {
      "cell_type": "markdown",
      "metadata": {
        "id": "dT4HzysPiaGl"
      },
      "source": [
        "# Welcome!\n",
        "\n",
        "**Open Interpreter** is an open-source project that lets GPT-4 execute Python code locally — or in this case, in Google Colab.\n",
        "\n",
        "In this demo notebook, we'll explore a few powerful use-cases for Open Interpreter:\n",
        "\n",
        "1. Writing and editing dozens of documents based on some criteria.\n",
        "2. Creating \"slowed and reverbed\" versions of songs with just a YouTube link.\n",
        "3. Redrawing every frame in a music video with Stable Diffusion.\n",
        "\n",
        "Now, grab a drink + an `OPENAI_API_KEY` and let's get started!\n",
        "\n",
        "\n"
      ]
    },
    {
      "cell_type": "markdown",
      "metadata": {
        "id": "N72lFowc2GZv"
      },
      "source": [
        "# Setup"
      ]
    },
    {
      "cell_type": "markdown",
      "metadata": {
        "id": "rW6EmHRli1fN"
      },
      "source": [
        "First, let's install `open-interpreter`:"
      ]
    },
    {
      "cell_type": "code",
      "execution_count": 1,
      "metadata": {
        "id": "4pDQ5xE-lokf",
        "colab": {
          "base_uri": "https://localhost:8080/"
        },
        "outputId": "cf9afa05-7af8-4b98-bd5f-9dc7e67ff783"
      },
      "outputs": [
        {
          "output_type": "stream",
          "name": "stdout",
          "text": [
            "\u001b[2K     \u001b[90m━━━━━━━━━━━━━━━━━━━━━━━━━━━━━━━━━━━━━━━━\u001b[0m \u001b[32m71.6/71.6 kB\u001b[0m \u001b[31m2.1 MB/s\u001b[0m eta \u001b[36m0:00:00\u001b[0m\n",
            "\u001b[2K     \u001b[90m━━━━━━━━━━━━━━━━━━━━━━━━━━━━━━━━━━━━━━━━\u001b[0m \u001b[32m114.6/114.6 kB\u001b[0m \u001b[31m10.1 MB/s\u001b[0m eta \u001b[36m0:00:00\u001b[0m\n",
            "\u001b[2K     \u001b[90m━━━━━━━━━━━━━━━━━━━━━━━━━━━━━━━━━━━━━━━━\u001b[0m \u001b[32m105.9/105.9 kB\u001b[0m \u001b[31m10.4 MB/s\u001b[0m eta \u001b[36m0:00:00\u001b[0m\n",
            "\u001b[2K     \u001b[90m━━━━━━━━━━━━━━━━━━━━━━━━━━━━━━━━━━━━━━━━\u001b[0m \u001b[32m1.4/1.4 MB\u001b[0m \u001b[31m50.9 MB/s\u001b[0m eta \u001b[36m0:00:00\u001b[0m\n",
            "\u001b[2K     \u001b[90m━━━━━━━━━━━━━━━━━━━━━━━━━━━━━━━━━━━━━━━━\u001b[0m \u001b[32m77.0/77.0 kB\u001b[0m \u001b[31m7.9 MB/s\u001b[0m eta \u001b[36m0:00:00\u001b[0m\n",
            "\u001b[2K     \u001b[90m━━━━━━━━━━━━━━━━━━━━━━━━━━━━━━━━━━━━━━━━\u001b[0m \u001b[32m283.6/283.6 kB\u001b[0m \u001b[31m30.2 MB/s\u001b[0m eta \u001b[36m0:00:00\u001b[0m\n",
            "\u001b[2K     \u001b[90m━━━━━━━━━━━━━━━━━━━━━━━━━━━━━━━━━━━━━━━━\u001b[0m \u001b[32m1.7/1.7 MB\u001b[0m \u001b[31m52.8 MB/s\u001b[0m eta \u001b[36m0:00:00\u001b[0m\n",
            "\u001b[?25h  Preparing metadata (setup.py) ... \u001b[?25l\u001b[?25hdone\n",
            "\u001b[2K     \u001b[90m━━━━━━━━━━━━━━━━━━━━━━━━━━━━━━━━━━━━━━━━\u001b[0m \u001b[32m190.6/190.6 kB\u001b[0m \u001b[31m19.8 MB/s\u001b[0m eta \u001b[36m0:00:00\u001b[0m\n",
            "\u001b[2K     \u001b[90m━━━━━━━━━━━━━━━━━━━━━━━━━━━━━━━━━━━━━━━━\u001b[0m \u001b[32m58.4/58.4 kB\u001b[0m \u001b[31m6.9 MB/s\u001b[0m eta \u001b[36m0:00:00\u001b[0m\n",
            "\u001b[2K     \u001b[90m━━━━━━━━━━━━━━━━━━━━━━━━━━━━━━━━━━━━━━━━\u001b[0m \u001b[32m1.6/1.6 MB\u001b[0m \u001b[31m73.0 MB/s\u001b[0m eta \u001b[36m0:00:00\u001b[0m\n",
            "\u001b[2K     \u001b[90m━━━━━━━━━━━━━━━━━━━━━━━━━━━━━━━━━━━━━━━━\u001b[0m \u001b[32m62.7/62.7 kB\u001b[0m \u001b[31m6.7 MB/s\u001b[0m eta \u001b[36m0:00:00\u001b[0m\n",
            "\u001b[?25h  Building wheel for wget (setup.py) ... \u001b[?25l\u001b[?25hdone\n",
            "\u001b[31mERROR: pip's dependency resolver does not currently take into account all the packages that are installed. This behaviour is the source of the following dependency conflicts.\n",
            "llmx 0.0.15a0 requires cohere, which is not installed.\n",
            "google-colab 1.0.0 requires ipykernel==5.5.6, but you have ipykernel 6.27.1 which is incompatible.\n",
            "notebook 6.5.5 requires jupyter-client<8,>=5.3.4, but you have jupyter-client 8.6.0 which is incompatible.\u001b[0m\u001b[31m\n",
            "\u001b[0m"
          ]
        }
      ],
      "source": [
        "!pip install open-interpreter --q\n",
        "# Google Colab users: restart your runtime here."
      ]
    },
    {
      "cell_type": "markdown",
      "metadata": {
        "id": "iYHe0KLri7lU"
      },
      "source": [
        "You'll need an OpenAI API key to use Open Interpreter. You can [get one here](https://platform.openai.com/account/api-keys)."
      ]
    },
    {
      "cell_type": "code",
      "source": [
        "from google.colab import drive\n",
        "drive.mount('/content/drive')\n",
        "\n",
        "with open(\"/content/drive/MyDrive/Deep_learning/api.txt\") as file:\n",
        "    #text = file.read()\n",
        "    i=1\n",
        "    key = []\n",
        "    while True:\n",
        "        include_break_line = file.readline() #改行が含まれた行\n",
        "        line = include_break_line.rstrip() #改行を取り除く\n",
        "        if line: #keyの読み込み\n",
        "            #print(f'{i}行目：{line}')\n",
        "            key.append(line)\n",
        "            i += 1\n",
        "        else:\n",
        "            break\n",
        "\n",
        "# APIキーの準備\n",
        "# #ngrok_aceess_token = key[5]\n",
        "#openai_api_key = key[3]\n",
        "# deepl_auth_key = key[1]\n",
        "# serp_api_key = key[7]\n",
        "\n",
        "import os\n",
        "os.environ[\"OPENAI_API_KEY\"] = key[3]\n",
        "os.environ[\"SERPAPI_API_KEY\"] = key[7]\n",
        "os.environ[\"GOOGLE_CSE_ID\"] = key[9]\n",
        "os.environ[\"GOOGLE_API_KEY\"] = key[11]"
      ],
      "metadata": {
        "colab": {
          "base_uri": "https://localhost:8080/"
        },
        "id": "eNc1ijbrsV6m",
        "outputId": "519dfdaa-d936-461a-863e-5d5a6cee5c6d"
      },
      "execution_count": 2,
      "outputs": [
        {
          "output_type": "stream",
          "name": "stdout",
          "text": [
            "Mounted at /content/drive\n"
          ]
        }
      ]
    },
    {
      "cell_type": "code",
      "execution_count": 3,
      "metadata": {
        "id": "SCEh9l8LZqcL"
      },
      "outputs": [],
      "source": [
        "import interpreter\n",
        "\n",
        "# Paste your OpenAI API key below.\n",
        "interpreter.api_key = os.environ[\"OPENAI_API_KEY\"]\n",
        "serp_api_key = os.environ[\"SERPAPI_API_KEY\"]\n"
      ]
    },
    {
      "cell_type": "markdown",
      "source": [
        "**By default, Open Interpreter will ask for confirmation before executing any code.**\n",
        "\n",
        "Since Google Colab is a safe, isolated environment, we recommend enabling `auto_run`. This mimics the behavior of OpenAI's code interpreter."
      ],
      "metadata": {
        "id": "6hQubS1mFe8r"
      }
    },
    {
      "cell_type": "code",
      "source": [
        "interpreter.auto_run = True"
      ],
      "metadata": {
        "id": "CrI5b2IAFeDk"
      },
      "execution_count": 4,
      "outputs": []
    },
    {
      "cell_type": "markdown",
      "source": [
        "# Achievements\n"
      ],
      "metadata": {
        "id": "Y6b5u0gWBFY3"
      }
    },
    {
      "cell_type": "markdown",
      "source": [
        "## Scrape PubMed to extract publication titles\n",
        "\n",
        "https://nbviewer.org/github/tatsuya-takahashi/PubMed-API-Script/blob/master/PubMed.ipynb\n",
        "\n",
        "https://lifesciencehack-ai.hatenablog.com/entry/Python%E3%81%A7%E8%AB%96%E6%96%87%E6%83%85%E5%A0%B1%E3%82%92%E3%81%BE%E3%81%A8%E3%82%81%E3%81%A6%E3%82%B2%E3%83%83%E3%83%88%E3%81%99%E3%82%8B%E2%91%A0PubMedAPI%E3%81%AB%E3%81%A4%E3%81%84%E3%81%A6"
      ],
      "metadata": {
        "id": "I55InGL1BSdo"
      }
    },
    {
      "cell_type": "code",
      "source": [
        "import requests\n",
        "import xml.etree.ElementTree as ET\n",
        "\n",
        "\n",
        "# Define the endpoint\n",
        "url = 'https://eutils.ncbi.nlm.nih.gov/entrez/eutils/esearch.fcgi'\n",
        "\n",
        "# Define the search query\n",
        "query = 'IgG4-ROD'\n",
        "\n",
        "# Define the parameters\n",
        "params = {\n",
        "    'db': 'pubmed',\n",
        "    'term': query,\n",
        "    'retmax': 3,\n",
        "    'sort': 'relevance',\n",
        "    'retmode': 'json'\n",
        "}\n",
        "\n",
        "# Send the request\n",
        "response = requests.get(url, params=params)\n",
        "\n",
        "# Parse the response\n",
        "data = response.json()\n",
        "\n",
        "# Get the IDs of the top 10 articles\n",
        "ids = data['esearchresult']['idlist']\n",
        "\n",
        "ids\n"
      ],
      "metadata": {
        "colab": {
          "base_uri": "https://localhost:8080/"
        },
        "id": "q0MohIG40sR0",
        "outputId": "770fe039-3875-4049-da57-0e6afcb9861d"
      },
      "execution_count": null,
      "outputs": [
        {
          "output_type": "execute_result",
          "data": {
            "text/plain": [
              "['28858963', '25405662', '25564258']"
            ]
          },
          "metadata": {},
          "execution_count": 56
        }
      ]
    },
    {
      "cell_type": "code",
      "source": [
        "# Define the URL\n",
        "url = 'https://eutils.ncbi.nlm.nih.gov/entrez/eutils/efetch.fcgi?db=pubmed&id=[' + ','.join(ids) +']&retmode=xml'\n",
        "\n",
        "# Send the request\n",
        "response = requests.get(url)\n",
        "\n",
        "# Get the XML content\n",
        "xml_content = response.content\n",
        "\n",
        "# Parse the XML\n",
        "root = ET.fromstring(xml_content)\n",
        "\n",
        "# Extract the titles\n",
        "titles = [article.find('ArticleTitle').text for article in root.iter('Article')]\n",
        "\n",
        "titles\n"
      ],
      "metadata": {
        "id": "4rmLbqf04vGU",
        "outputId": "a9d99303-e2dd-40f0-c6fc-0c090705362b",
        "colab": {
          "base_uri": "https://localhost:8080/"
        }
      },
      "execution_count": null,
      "outputs": [
        {
          "output_type": "execute_result",
          "data": {
            "text/plain": [
              "['IgG4-related disease in the eye and ocular adnexa.',\n",
              " 'IgG4-related disease: a neuro-ophthalmological perspective.',\n",
              " 'IgG4-Related Ophthalmic Disease. Part II: Clinical Aspects.']"
            ]
          },
          "metadata": {},
          "execution_count": 57
        }
      ]
    },
    {
      "cell_type": "code",
      "source": [],
      "metadata": {
        "id": "roCjM_mt6aY_",
        "outputId": "cb53278b-64e2-4d1e-b7bf-be40fa1cda52",
        "colab": {
          "base_uri": "https://localhost:8080/"
        }
      },
      "execution_count": null,
      "outputs": [
        {
          "output_type": "execute_result",
          "data": {
            "text/plain": [
              "<_elementtree._element_iterator at 0x7da6a6b971a0>"
            ]
          },
          "metadata": {},
          "execution_count": 60
        }
      ]
    },
    {
      "cell_type": "code",
      "source": [
        "titles = []\n",
        "\n",
        "# Define the endpoint for fetching article details\n",
        "url = 'https://eutils.ncbi.nlm.nih.gov/entrez/eutils/esummary.fcgi'\n",
        "\n",
        "for id in ids:\n",
        "    # Define the parameters\n",
        "    params = {\n",
        "        'db': 'pubmed',\n",
        "        'id': id,\n",
        "        'retmode': 'json'\n",
        "    }\n",
        "\n",
        "    # Send the request\n",
        "    response = requests.get(url, params=params)\n",
        "\n",
        "    # Parse the response\n",
        "    data = response.json()\n",
        "\n",
        "    # Get the title of the article\n",
        "    title = data['result'][id]['title']\n",
        "\n",
        "    # Add the title to the list\n",
        "    titles.append(title)\n",
        "\n",
        "titles\n"
      ],
      "metadata": {
        "colab": {
          "base_uri": "https://localhost:8080/"
        },
        "id": "1JW6mMb30dCE",
        "outputId": "8ee112fb-7460-4b0a-999a-16b11dddcc35"
      },
      "execution_count": null,
      "outputs": [
        {
          "output_type": "execute_result",
          "data": {
            "text/plain": [
              "['IgG4-related disease in the eye and ocular adnexa.',\n",
              " 'IgG4-related disease: a neuro-ophthalmological perspective.',\n",
              " 'IgG4-Related Ophthalmic Disease. Part II: Clinical Aspects.']"
            ]
          },
          "metadata": {},
          "execution_count": 49
        }
      ]
    },
    {
      "cell_type": "code",
      "source": [
        "import pandas as pd\n",
        "\n",
        "# Initialize lists to store titles and abstracts\n",
        "titles = []\n",
        "abstracts = []\n",
        "\n",
        "# Define the endpoint for fetching article details\n",
        "url = 'https://eutils.ncbi.nlm.nih.gov/entrez/eutils/efetch.fcgi'\n",
        "\n",
        "for id in ids:\n",
        "    # Define the parameters\n",
        "    params = {\n",
        "        'db': 'pubmed',\n",
        "        'id': id,\n",
        "        'retmode': 'xml'\n",
        "    }\n",
        "\n",
        "    # Send the request\n",
        "    response = requests.get(url, params=params)\n",
        "\n",
        "    # Get the XML content\n",
        "    xml_content = response.content\n",
        "\n",
        "    # Parse the XML\n",
        "    root = ET.fromstring(xml_content)\n",
        "\n",
        "    # Get the title of the article\n",
        "    title = root.find('.//ArticleTitle').text\n",
        "    titles.append(title)\n",
        "\n",
        "    # Get the abstract of the article\n",
        "    abstract = root.find('.//AbstractText')\n",
        "    if abstract is not None:\n",
        "        abstracts.append(abstract.text)\n",
        "    else:\n",
        "        abstracts.append('No abstract available')\n",
        "\n",
        "# Create a DataFrame\n",
        "df = pd.DataFrame({'Title': titles, 'Abstract': abstracts})\n",
        "\n",
        "df"
      ],
      "metadata": {
        "id": "iD4WPJZT7mYv"
      },
      "execution_count": null,
      "outputs": []
    },
    {
      "cell_type": "code",
      "source": [
        "abstracts = []\n",
        "\n",
        "for id in ids:\n",
        "    # Define the parameters\n",
        "    params = {\n",
        "        'db': 'pubmed',\n",
        "        'id': id,\n",
        "        'retmode': 'xml'\n",
        "    }\n",
        "\n",
        "    # Send the request\n",
        "    response = requests.get(url, params=params)\n",
        "\n",
        "    # Get the XML content\n",
        "    xml_content = response.content\n",
        "\n",
        "    # Parse the XML\n",
        "    root = ET.fromstring(xml_content)\n",
        "\n",
        "    # Get the abstract of the article\n",
        "    abstract = root.find('.//Abstract')\n",
        "    if abstract is not None:\n",
        "        # Extract and combine all parts of the abstract with their labels\n",
        "        abstract_text = ' '.join([f'{part.get(\"Label\")}: {part.text}' for part in\n",
        "abstract.findall('AbstractText') if part.text is not None])\n",
        "        abstracts.append(abstract_text)\n",
        "    else:\n",
        "        abstracts.append('No abstract available')\n",
        "\n",
        "# Update the DataFrame with the full abstracts with labels\n",
        "df['Abstract'] = abstracts\n",
        "\n",
        "df\n"
      ],
      "metadata": {
        "id": "qtUrs0JG7sN7"
      },
      "execution_count": null,
      "outputs": []
    },
    {
      "cell_type": "code",
      "source": [
        "df.iloc[0,1]"
      ],
      "metadata": {
        "id": "H58R-0SrAEzb"
      },
      "execution_count": null,
      "outputs": []
    },
    {
      "cell_type": "code",
      "source": [
        "###\n",
        "# Apiを介さないスクレイピング\n",
        "###\n",
        "\n",
        "import requests\n",
        "from bs4 import BeautifulSoup\n",
        "\n",
        "# Define the URL of the search results\n",
        "url = 'https://pubmed.ncbi.nlm.nih.gov/?term=IgG4-ROD'\n",
        "\n",
        "# Send a GET request to the server\n",
        "response = requests.get(url)\n",
        "\n",
        "# Print the status code (should be 200 for success)\n",
        "print(response.status_code)\n",
        "\n",
        "soup = BeautifulSoup(response.text, 'html.parser')\n",
        "\n",
        "# Find all elements that contain the titles of the papers and the links to the detail pages\n",
        "title_link_elements = soup.find_all('a', class_='docsum-title', limit=10)\n",
        "\n",
        "# Extract the titles and the links\n",
        "titles = [element.text.strip() for element in title_link_elements]\n",
        "links = ['https://pubmed.ncbi.nlm.nih.gov' + element['href'] for element in title_link_elements]\n",
        "\n",
        "# Print the first few titles and links to check if we're on the right track\n",
        "print(titles[:3])\n",
        "print(links[:3])"
      ],
      "metadata": {
        "id": "zgJab-ZCTFOs",
        "colab": {
          "base_uri": "https://localhost:8080/",
          "height": 34
        },
        "outputId": "9cf1e903-ad17-4564-9a45-64b0acc3348c"
      },
      "execution_count": null,
      "outputs": [
        {
          "output_type": "display_data",
          "data": {
            "text/plain": [
              "200\n"
            ],
            "text/html": [
              "<pre style=\"white-space:pre;overflow-x:auto;line-height:normal;font-family:Menlo,'DejaVu Sans Mono',consolas,'Courier New',monospace\">200\n",
              "</pre>\n"
            ]
          },
          "metadata": {}
        }
      ]
    },
    {
      "cell_type": "code",
      "source": [],
      "metadata": {
        "id": "ZXZCwJIBTNN8"
      },
      "execution_count": null,
      "outputs": []
    },
    {
      "cell_type": "code",
      "source": [
        "title_link_elements"
      ],
      "metadata": {
        "id": "jOdhuAujxCI8"
      },
      "execution_count": null,
      "outputs": []
    },
    {
      "cell_type": "markdown",
      "source": [
        "## Search Google Scholar and extract publication title (use Google Scholar api)"
      ],
      "metadata": {
        "id": "X2qycNA2BiQ8"
      }
    },
    {
      "cell_type": "code",
      "source": [
        "!pip install google-search-results --q\n"
      ],
      "metadata": {
        "id": "8mDm5ZzJZ0xh"
      },
      "execution_count": null,
      "outputs": []
    },
    {
      "cell_type": "code",
      "source": [
        "from serpapi import GoogleSearch\n",
        "\n",
        "\n",
        "# Read the API key from the file\n",
        "with open('/content/drive/MyDrive/Deep_learning/api.txt', 'r') as file:\n",
        "    api_key = file.readlines()[7].strip()\n",
        "\n",
        "# Define the search parameters\n",
        "params = {\n",
        "    'engine': 'google_scholar',\n",
        "    'q': 'IgG4-ROD',\n",
        "    'api_key': api_key\n",
        "}\n",
        "\n",
        "# Perform the search\n",
        "search = GoogleSearch(params)\n",
        "results = search.get_dict()\n",
        "organic_results = results['organic_results']\n",
        "\n",
        "# Extract the titles\n",
        "titles = [result['title'] for result in organic_results[:10]]\n",
        "\n",
        "titles"
      ],
      "metadata": {
        "id": "5wmm70Db_uSw"
      },
      "execution_count": null,
      "outputs": []
    },
    {
      "cell_type": "markdown",
      "source": [
        "## Search Semantic Scholar"
      ],
      "metadata": {
        "id": "D9C5DvfQuT5G"
      }
    },
    {
      "cell_type": "code",
      "source": [
        "import requests\n",
        "import json\n",
        "\n",
        "endpoint = 'https://api.semanticscholar.org/graph/v1/paper/search'\n",
        "keyword = 'IgG4-ROD'\n",
        "fields = ('title', 'year', 'referenceCount', 'citationCount',\n",
        "    'influentialCitationCount', 'isOpenAccess', 'fieldsOfStudy', 'authors')\n",
        "params = {\n",
        "    'query': keyword,\n",
        "    'fields': ','.join(fields),\n",
        "    'limit': 10\n",
        "}\n",
        "r = requests.get(url=endpoint, params=params)\n",
        "\n",
        "r_dict = json.loads(r.text)\n",
        "total = r_dict['total']\n",
        "print(f'Total search result: {total}')\n",
        "\n",
        "data = r_dict['data']\n",
        "for d in data:\n",
        "    print('---------------')\n",
        "    for fi in fields:\n",
        "        if fi == 'authors':\n",
        "            authors = ', '.join([author['name'] for author in d[fi]])\n",
        "            print(f'{fi}: {authors}')\n",
        "        else:\n",
        "            print(f'{fi}: {d[fi]}')"
      ],
      "metadata": {
        "id": "X0IUgToQrtTq"
      },
      "execution_count": null,
      "outputs": []
    },
    {
      "cell_type": "markdown",
      "source": [
        "# Open-Interpreter playgrounds"
      ],
      "metadata": {
        "id": "4YmO9MCpxyLB"
      }
    },
    {
      "cell_type": "code",
      "source": [
        "#interpreter.model = \"gpt-3.5-turbo\"\n",
        "interpreter.model = \"gpt-4\""
      ],
      "metadata": {
        "id": "1iRoRvCwN_Vw"
      },
      "execution_count": null,
      "outputs": []
    },
    {
      "cell_type": "code",
      "source": [
        "interpreter.reset()"
      ],
      "metadata": {
        "id": "SGQMOUkYCydw"
      },
      "execution_count": null,
      "outputs": []
    },
    {
      "cell_type": "code",
      "source": [
        "message = \"\"\"\n",
        "\n",
        "ids = ['28858963', '25405662', '25564258']\n",
        "\n",
        "uid_list = ids\n",
        "db = \"pubmed\"\n",
        "retmode = \"xml\"\n",
        "url = f\"https://eutils.ncbi.nlm.nih.gov/entrez/eutils/efetch.fcgi?db={db}&id={uid_list}&retmode={retmode}\"\n",
        "\n",
        "出力されたXMLを解析して、論文のtitleを取り出して下さい\n",
        "\n",
        "\"\"\"\n",
        "\n",
        "interpreter.chat(f\"{message}\")"
      ],
      "metadata": {
        "id": "c9lwIw7Ox1ra"
      },
      "execution_count": null,
      "outputs": []
    },
    {
      "cell_type": "code",
      "source": [
        "message = \"\"\"\n",
        "\n",
        "abstracts = []\n",
        "\n",
        "for id in ids:\n",
        "    # Define the parameters\n",
        "    params = {\n",
        "        'db': 'pubmed',\n",
        "        'id': id,\n",
        "        'retmode': 'xml'\n",
        "    }\n",
        "\n",
        "    # Send the request\n",
        "    response = requests.get(url, params=params)\n",
        "\n",
        "    # Get the XML content\n",
        "    xml_content = response.content\n",
        "\n",
        "    # Parse the XML\n",
        "    root = ET.fromstring(xml_content)\n",
        "\n",
        "    # Get the abstract of the article\n",
        "    abstract = root.find('.//Abstract')\n",
        "    if abstract is not None:\n",
        "        # Extract and combine all parts of the abstract\n",
        "        abstract_text = ' '.join([part.text for part in abstract.findall('AbstractText') if part.text is not\n",
        "None])\n",
        "        abstracts.append(abstract_text)\n",
        "    else:\n",
        "        abstracts.append('No abstract available')\n",
        "\n",
        "# Update the DataFrame with the full abstracts\n",
        "df['Abstract'] = abstracts\n",
        "\n",
        "df\n",
        "\n",
        "abstractの見出し、例えばpurposeなどを、抽出したアブストラクトに含めることはできますか？\n",
        "\n",
        "\n",
        "\"\"\"\n",
        "\n",
        "interpreter.chat(f\"{message}\")"
      ],
      "metadata": {
        "id": "VyjA4Rak6mEI",
        "outputId": "40e36252-b57f-4cef-b7ac-71db5fa75bc1",
        "colab": {
          "base_uri": "https://localhost:8080/",
          "height": 1000,
          "referenced_widgets": [
            "893ec590d0604c7aac737a2b7213d8f3",
            "8dbd5dbc32a7470cb74c93791e2fd24a",
            "437837b9e1b946eaa290df1bdb197375",
            "befc7f637eb045af96fab412e78a98fb",
            "9eb8969e6366412cb1a8e7d595e4f2d5",
            "c2c45bd907d9425495ec6631dcec9f22"
          ]
        }
      },
      "execution_count": null,
      "outputs": [
        {
          "output_type": "display_data",
          "data": {
            "text/plain": [
              "Output()"
            ],
            "application/vnd.jupyter.widget-view+json": {
              "version_major": 2,
              "version_minor": 0,
              "model_id": "893ec590d0604c7aac737a2b7213d8f3"
            }
          },
          "metadata": {}
        },
        {
          "output_type": "display_data",
          "data": {
            "text/plain": [],
            "text/html": [
              "<pre style=\"white-space:pre;overflow-x:auto;line-height:normal;font-family:Menlo,'DejaVu Sans Mono',consolas,'Courier New',monospace\"></pre>\n"
            ]
          },
          "metadata": {}
        },
        {
          "output_type": "display_data",
          "data": {
            "text/plain": [
              "\n"
            ],
            "text/html": [
              "<pre style=\"white-space:pre;overflow-x:auto;line-height:normal;font-family:Menlo,'DejaVu Sans Mono',consolas,'Courier New',monospace\">\n",
              "</pre>\n"
            ]
          },
          "metadata": {}
        },
        {
          "output_type": "display_data",
          "data": {
            "text/plain": [
              "Output()"
            ],
            "application/vnd.jupyter.widget-view+json": {
              "version_major": 2,
              "version_minor": 0,
              "model_id": "437837b9e1b946eaa290df1bdb197375"
            }
          },
          "metadata": {}
        },
        {
          "output_type": "display_data",
          "data": {
            "text/plain": [],
            "text/html": [
              "<pre style=\"white-space:pre;overflow-x:auto;line-height:normal;font-family:Menlo,'DejaVu Sans Mono',consolas,'Courier New',monospace\"></pre>\n"
            ]
          },
          "metadata": {}
        },
        {
          "output_type": "display_data",
          "data": {
            "text/plain": [
              "Output()"
            ],
            "application/vnd.jupyter.widget-view+json": {
              "version_major": 2,
              "version_minor": 0,
              "model_id": "9eb8969e6366412cb1a8e7d595e4f2d5"
            }
          },
          "metadata": {}
        },
        {
          "output_type": "display_data",
          "data": {
            "text/plain": [],
            "text/html": [
              "<pre style=\"white-space:pre;overflow-x:auto;line-height:normal;font-family:Menlo,'DejaVu Sans Mono',consolas,'Courier New',monospace\"></pre>\n"
            ]
          },
          "metadata": {}
        }
      ]
    },
    {
      "cell_type": "markdown",
      "metadata": {
        "id": "A1wGFVu9MNpM"
      },
      "source": [
        "# Basic Examples"
      ]
    },
    {
      "cell_type": "markdown",
      "metadata": {
        "id": "loqh8HJ-oQAG"
      },
      "source": [
        "## Hello, World!"
      ]
    },
    {
      "cell_type": "markdown",
      "metadata": {
        "id": "KQGYgFehnumE"
      },
      "source": [
        "Let's start by asking the interpreter to print hello world."
      ]
    },
    {
      "cell_type": "code",
      "source": [
        "interpreter.chat(\"Please print hello world.\")"
      ],
      "metadata": {
        "id": "sasDzlwm0JAZ",
        "colab": {
          "base_uri": "https://localhost:8080/",
          "height": 291,
          "referenced_widgets": [
            "bc94c9f7a7264689bf97c9d1ad00bb8b",
            "b40dc38857914186b11877f9a34a4d0e",
            "1871c3babdd141628de13d3d812ca83b",
            "b670db47f95345a8baf2e72ac5e7206f"
          ]
        },
        "outputId": "c3bf3266-5f6a-4ce4-e642-0c7b1f206817"
      },
      "execution_count": 5,
      "outputs": [
        {
          "output_type": "display_data",
          "data": {
            "text/plain": [
              "Output()"
            ],
            "application/vnd.jupyter.widget-view+json": {
              "version_major": 2,
              "version_minor": 0,
              "model_id": "bc94c9f7a7264689bf97c9d1ad00bb8b"
            }
          },
          "metadata": {}
        },
        {
          "output_type": "display_data",
          "data": {
            "text/plain": [],
            "text/html": [
              "<pre style=\"white-space:pre;overflow-x:auto;line-height:normal;font-family:Menlo,'DejaVu Sans Mono',consolas,'Courier New',monospace\"></pre>\n"
            ]
          },
          "metadata": {}
        },
        {
          "output_type": "display_data",
          "data": {
            "text/plain": [
              "Output()"
            ],
            "application/vnd.jupyter.widget-view+json": {
              "version_major": 2,
              "version_minor": 0,
              "model_id": "1871c3babdd141628de13d3d812ca83b"
            }
          },
          "metadata": {}
        },
        {
          "output_type": "display_data",
          "data": {
            "text/plain": [],
            "text/html": [
              "<pre style=\"white-space:pre;overflow-x:auto;line-height:normal;font-family:Menlo,'DejaVu Sans Mono',consolas,'Courier New',monospace\"></pre>\n"
            ]
          },
          "metadata": {}
        },
        {
          "output_type": "execute_result",
          "data": {
            "text/plain": [
              "[{'role': 'user', 'message': 'Please print hello world.'},\n",
              " {'role': 'assistant',\n",
              "  'language': 'python',\n",
              "  'code': \"print('Hello, World!')\",\n",
              "  'output': 'Hello, World!'},\n",
              " {'role': 'assistant',\n",
              "  'message': 'The code has been executed successfully and it printed \"Hello, World!\".'}]"
            ]
          },
          "metadata": {},
          "execution_count": 5
        }
      ]
    },
    {
      "cell_type": "markdown",
      "metadata": {
        "id": "iixIiFSsn4LZ"
      },
      "source": [
        "Great! The model decided to run a **code block** then tell us its output."
      ]
    },
    {
      "cell_type": "markdown",
      "metadata": {
        "id": "2VwbdspIofFC"
      },
      "source": [
        "## Math"
      ]
    },
    {
      "cell_type": "markdown",
      "metadata": {
        "id": "sf-CMTm2oizg"
      },
      "source": [
        "For this example, we're going to open an interactive chat in our terminal with `interpreter.chat()`.\n",
        "\n",
        "💬 **The interactive chat behaves exactly like ChatGPT.** 💬"
      ]
    },
    {
      "cell_type": "markdown",
      "metadata": {
        "id": "uytMTyy6qFMd"
      },
      "source": [
        "Try this:\n",
        "\n",
        "1. Ask Open Interpreter to solve an equation like `10x + 14 = 12`\n",
        "2. Watch it use a Python library called `sympy` to solve it.\n",
        "3. Type 'exit' to leave the interactive chat."
      ]
    },
    {
      "cell_type": "code",
      "execution_count": null,
      "metadata": {
        "colab": {
          "base_uri": "https://localhost:8080/",
          "height": 178
        },
        "id": "ZpwadxmIoiIR",
        "outputId": "0351a780-ca5d-4f8b-d925-2f6699f65594"
      },
      "outputs": [
        {
          "output_type": "stream",
          "name": "stderr",
          "text": [
            "Exception in thread Thread-15 (save_and_display_stream):\n",
            "Traceback (most recent call last):\n",
            "  File \"/usr/lib/python3.10/threading.py\", line 1016, in _bootstrap_inner\n"
          ]
        },
        {
          "output_type": "display_data",
          "data": {
            "text/plain": [
              "\n"
            ],
            "text/html": [
              "<pre style=\"white-space:pre;overflow-x:auto;line-height:normal;font-family:Menlo,'DejaVu Sans Mono',consolas,'Courier New',monospace\">\n",
              "</pre>\n"
            ]
          },
          "metadata": {}
        },
        {
          "output_type": "stream",
          "name": "stderr",
          "text": [
            "    self.run()\n",
            "  File \"/usr/lib/python3.10/threading.py\", line 953, in run\n",
            "    self._target(*self._args, **self._kwargs)\n",
            "  File \"/usr/local/lib/python3.10/dist-packages/interpreter/code_interpreter.py\", line 369, in save_and_display_stream\n",
            "    raise KeyboardInterrupt\n",
            "KeyboardInterrupt\n"
          ]
        }
      ],
      "source": [
        "interpreter.chat()"
      ]
    },
    {
      "cell_type": "markdown",
      "metadata": {
        "id": "Y-TzGmZ2rVPd"
      },
      "source": [
        "## Web Browsing"
      ]
    },
    {
      "cell_type": "markdown",
      "metadata": {
        "id": "2QWXsSwarjav"
      },
      "source": [
        "Let's ask Open Interpreter to browse the web.\n",
        "\n",
        "1. Start by opening an interactive chat again with `interpreter.chat()`.\n",
        "2. Type a query like \"what are the last 10 BBC news headlines?\""
      ]
    },
    {
      "cell_type": "code",
      "execution_count": null,
      "metadata": {
        "id": "2WlB4ArZlbOE"
      },
      "outputs": [],
      "source": [
        "interpreter.chat()"
      ]
    },
    {
      "cell_type": "markdown",
      "metadata": {
        "id": "Ace0nkv8s66H"
      },
      "source": [
        "Here it likely ran two code blocks:\n",
        "\n",
        "1. The first code block installed `feedparser` from pip.\n",
        "1. The second used `feedparser` to read the BBC's RSS feed.\n",
        "\n",
        "Notice that the first code block **was a shell command.** Open Interpreter uses Jupyter internally, so it can run shell commands *and* Python."
      ]
    },
    {
      "cell_type": "markdown",
      "metadata": {
        "id": "bLWX5tB0rzyW"
      },
      "source": [
        "## Resetting the Chat"
      ]
    },
    {
      "cell_type": "markdown",
      "metadata": {
        "id": "bZmlAKzjtWJZ"
      },
      "source": [
        "In Python, the Open Interpreter instance remembers your conversation history.\n",
        "\n",
        "If you want it to forget previous messages, you can reset it:"
      ]
    },
    {
      "cell_type": "code",
      "execution_count": null,
      "metadata": {
        "id": "DQzDB8qetlYH"
      },
      "outputs": [],
      "source": [
        "interpreter.reset()"
      ]
    },
    {
      "cell_type": "markdown",
      "metadata": {
        "id": "6clx6Pyhtmzj"
      },
      "source": [
        "Now it won't remember the previous examples.\n",
        "\n",
        "<br>\n",
        "\n",
        "`Why might I want to do this?`\n",
        "\n",
        "<br>\n",
        "\n",
        "To reduce the number of tokens that get sent to OpenAI.\n",
        "\n",
        "We need to send OpenAI your entire conversation history (automatically limited to the maximum amount GPT-4 can handle) everytime 1) we send it a message or 2) a code block produces an output.\n",
        "\n",
        "<br>\n",
        "\n",
        "**Note:** The command-line version of Open Interpreter resets itself automatically."
      ]
    },
    {
      "cell_type": "markdown",
      "metadata": {
        "id": "eC27gX51wCm-"
      },
      "source": [
        "# Advanced Examples"
      ]
    },
    {
      "cell_type": "markdown",
      "metadata": {
        "id": "c73LbswP4YQF"
      },
      "source": [
        "## YouTube Link -> Animation"
      ]
    },
    {
      "cell_type": "code",
      "execution_count": null,
      "metadata": {
        "id": "WBAR6xgMSUWX"
      },
      "outputs": [],
      "source": [
        "# Watch the final output:"
      ]
    },
    {
      "cell_type": "markdown",
      "metadata": {
        "id": "ultKeJM9wHuz"
      },
      "source": [
        "I've always been fascinated by hand drawn animation. Let's see if we can use Open Interpreter to express that.\n",
        "\n",
        "We'll ask it to redraw every frame in Steve Lacey's \"Bad Habit\" video with `replicate`. They have a service that can redraw images in new styles.\n",
        "\n",
        "<br>\n",
        "\n",
        "`Doesn't this require logging into \"replicate\"?`\n",
        "\n",
        "<br>\n",
        "\n",
        "Yes, and this is a great reason to use Open Interpreter! We can simply log in to `replicate`, then tell the interpreter how to use it ([I just pasted in replicate's quick start](https://replicate.com/jagilley/controlnet-pose/api)).\n",
        "Because code is run locally, the interpreter is \"logged in\" too."
      ]
    },
    {
      "cell_type": "code",
      "execution_count": null,
      "metadata": {
        "id": "-oLsybTEwelU"
      },
      "outputs": [],
      "source": [
        "# First, let's install Replicate and log in.\n",
        "\n",
        "!pip install replicate\n",
        "import os\n",
        "os.environ[\"REPLICATE_API_TOKEN\"] = \"api_token\" # Get yours: https://replicate.com/account"
      ]
    },
    {
      "cell_type": "code",
      "execution_count": null,
      "metadata": {
        "id": "jVG-vqNgODiK"
      },
      "outputs": [],
      "source": [
        "# Now we'll ask interpreter to redraw the video using Replicate.\n",
        "\n",
        "message = \"\"\"\n",
        "\n",
        "I want to edit a video so it's in 12 fps and each frame is redrawn with ControlNet\n",
        "to give it a stop motion / hand-drawn animation feeling.\n",
        "\n",
        "Here's how you use ControlNet on a single frame, from Replicate's quick start:\n",
        "\n",
        "import replicate\n",
        "output = replicate.run(\n",
        "    \"jagilley/controlnet-canny:aff48af9c68d162388d230a2ab003f68d2638d88307bdaf1c2f1ac95079c9613\",\n",
        "    input={\"image\": open(\"path/to/file\", \"rb\"), \"prompt\": \"<prompt>\"}\n",
        ")\n",
        "\n",
        "(I've noticed that this always returns a list of two links. Just use the second one.)\n",
        "\n",
        "Please download this video and just use the seconds from 0:10 to 0:17:\n",
        "https://www.youtube.com/watch?v=VF-FGf_ZZiI\n",
        "\n",
        "Then reduce it to 12fps, and then replace those frames with ControlNet redraws\n",
        "using random prompts that evoke stop motion / hand-drawn animation--\n",
        "think embroidery, pencil art, claymation, yarn on a table, etc--\n",
        "then add the original sound back.\n",
        "\n",
        "Thanks!\n",
        "\n",
        "\"\"\"\n",
        "\n",
        "interpreter.reset() # Reset the chat\n",
        "interpreter.chat(message) # Pass in the message above"
      ]
    },
    {
      "cell_type": "markdown",
      "metadata": {
        "id": "YX-g17nXU1JE"
      },
      "source": [
        "<br>\n",
        "\n",
        "Just for fun, imagine a function that takes a `youtube_url`, passes it into `interpreter.chat(message)` with the instructions above, then returns the processed filename:\n",
        "\n",
        "```python\n",
        "def animate_video(youtube_url):\n",
        "  interpreter.reset()\n",
        "  interpreter.message(f'Animate {youtube_url} with the following steps then save to final.mp4. ...')\n",
        "  return 'final.mp4'\n",
        "```"
      ]
    },
    {
      "cell_type": "markdown",
      "metadata": {
        "id": "I1WSa-Jw0KM0"
      },
      "source": [
        "## Create documents"
      ]
    },
    {
      "cell_type": "code",
      "execution_count": null,
      "metadata": {
        "id": "mvkatiSHQr8Z"
      },
      "outputs": [],
      "source": [
        "interpreter.reset() # Reset the chat\n",
        "interpreter.chat(\"\"\"Can you make a folder called documents and put five .docx files in it\n",
        "and write a sentence about machine learning in each of them?\"\"\") # Pass a message directly into chat"
      ]
    },
    {
      "cell_type": "markdown",
      "metadata": {
        "id": "cM7Yf5pHgeDW"
      },
      "source": [
        "## Edit all documents in a folder"
      ]
    },
    {
      "cell_type": "code",
      "execution_count": null,
      "metadata": {
        "id": "o1NJy2Y9RRqM"
      },
      "outputs": [],
      "source": [
        "interpreter.reset()\n",
        "interpreter.chat(\"\"\"Go through all the .docx files in my 'documents' folder\n",
        "and replace every occurrence of 'Machine Learning' with 'AI'.\"\"\")"
      ]
    },
    {
      "cell_type": "code",
      "execution_count": null,
      "metadata": {
        "id": "JLgWXbb_ShkE"
      },
      "outputs": [],
      "source": [
        "# If you don't run interpreter.reset(), it will remember your conversation.\n",
        "interpreter.chat(\"I wanted to replace the files, so please delete the old ones and rename the new ones\")"
      ]
    },
    {
      "cell_type": "markdown",
      "metadata": {
        "id": "YlDX4rl8x1EF"
      },
      "source": [
        "## Slow + Reverb a YouTube Link"
      ]
    },
    {
      "cell_type": "code",
      "execution_count": null,
      "metadata": {
        "id": "Tun9x2jzx33d"
      },
      "outputs": [],
      "source": [
        "message = \"Can you slow + reverb this song? https://www.youtube.com/watch?v=8GW6sLrK40k\"\n",
        "\n",
        "interpreter.reset()\n",
        "interpreter.chat(message)"
      ]
    },
    {
      "cell_type": "code",
      "execution_count": null,
      "metadata": {
        "id": "3_uywJFkISTi"
      },
      "outputs": [],
      "source": [
        "# Listen to the final result:"
      ]
    },
    {
      "cell_type": "markdown",
      "source": [
        "Now we could open `interpreter.chat()`, ask it to slow it down more, add more reverb, or even create a video with [a .gif backround](https://i.giphy.com/media/zIV7iWK9f0x8Y/giphy.webp)."
      ],
      "metadata": {
        "id": "HjjwO8MUzSiI"
      }
    },
    {
      "cell_type": "markdown",
      "metadata": {
        "id": "E9MTDnOWLMP8"
      },
      "source": [
        "## Open Interpreter Artwork"
      ]
    },
    {
      "cell_type": "markdown",
      "metadata": {
        "id": "n540tKZmJ-zt"
      },
      "source": [
        "The artwork for Open Interpreter was illustrated by Open Interpreter. How?\n",
        "\n",
        "It was given a description inspired by [Ruby Chen's](https://rubywjchen.com/) GPT-4 artwork:"
      ]
    },
    {
      "cell_type": "code",
      "execution_count": null,
      "metadata": {
        "id": "IEkUr0bju5Sp"
      },
      "outputs": [],
      "source": [
        "message = \"\"\"\n",
        "\n",
        "Hello! I'd like your help making some artwork for the Open Interpreter project.\n",
        "\n",
        "It's going to be pixel art, ~160 wide and 14 pixels tall. Black background.\n",
        "\n",
        "I'd like to see rectangles on every other row. These should be anywhere from\n",
        "~6 to 36 pixels in width. They should be placed randomly around the image, never touching eachother\n",
        "(the space between them should be ~16-64 pixels). They can go off screen / butt up against the edges.\n",
        "\n",
        "Half of these rectangles should be white, half should be a powerful purple color: R138 G43 B226\n",
        "\n",
        "Once you've created it, please scale it up with nearest-neighbor 10x.\n",
        "\n",
        "Please make ~10 options I can review, like banner_1.png, banner_2.png, etc.\n",
        "\n",
        "\"\"\"\n",
        "\n",
        "interpreter.reset()\n",
        "interpreter.chat(message)"
      ]
    },
    {
      "cell_type": "markdown",
      "metadata": {
        "id": "OTTkCcIshgmB"
      },
      "source": [
        "## Add subtitles to videos"
      ]
    },
    {
      "cell_type": "markdown",
      "source": [
        "`replicate` also has a speech-to-text service that generates subtitle files (.srt).\n",
        "\n",
        "Let's ask Open Interpreter to use some code [copied from replicate's quickstart](https://replicate.com/m1guelpf/whisper-subtitles/api) to add hardcoded subtitles to a video:"
      ],
      "metadata": {
        "id": "NKA7CWtSfrUf"
      }
    },
    {
      "cell_type": "code",
      "execution_count": null,
      "metadata": {
        "id": "BTB3zD5QnJd8"
      },
      "outputs": [],
      "source": [
        "message = \"\"\"\n",
        "Hello! I just logged into Replicate on this machine. You have my permission to run any code.\n",
        "\n",
        "Could you use their speech-to-text service to hardcode subtitles to the bottom of billyking.mp4 and make billy_subbed.mp4?\n",
        "\"\"\"\n",
        "\n",
        "# Again, let's give Open Interpreter an example of how to use the service.\n",
        "message += \"\"\"\n",
        "Here's some code that Replicate provides for how to use their service:\n",
        "\n",
        "import replicate\n",
        "output = replicate.run(\n",
        "    \"m1guelpf/whisper-subtitles:7f686e243a96c7f6f0f481bcef24d688a1369ed3983cea348d1f43b879615766\",\n",
        "    input={\"audio_path\": open(\"path/to/file\", \"rb\")} # Can also be a video path\n",
        ")\n",
        "print(output)\n",
        "\n",
        "\"\"\"\n",
        "\n",
        "# Now let's reset and run Open Interpreter.\n",
        "interpreter.reset()\n",
        "interpreter.chat(message)"
      ]
    },
    {
      "cell_type": "markdown",
      "metadata": {
        "id": "t9v9bo4x2Z3f"
      },
      "source": [
        "You can [watch the output video here.](https://youtube.com/shorts/F6gOzP691po?feature=share)"
      ]
    },
    {
      "cell_type": "markdown",
      "metadata": {
        "id": "KrgUKfZDLTEa"
      },
      "source": [
        "## YouTube video -> TikTok Clip"
      ]
    },
    {
      "cell_type": "code",
      "execution_count": null,
      "metadata": {
        "id": "RxbP1THRwCcp"
      },
      "outputs": [],
      "source": [
        "message = \"\"\"\n",
        "\n",
        "I'd like your help in making a TikTok clip of this: https://www.youtube.com/watch?v=KgHkAwaW_lk\n",
        "\n",
        "Please cut the clip from this -- from 0:15 to 0:38 -- and crop it to portrait (exactly 9:16-- this will be tricky)\n",
        "around the face in the frame. Just follow the face horizontally -- the final video should be as tall as the original.\n",
        "\n",
        "You'll need to smoothly/softly follow the one face in the frame so please smoothly average out the motion\n",
        "between confident face detections. Then put the audio back in. Thanks!\n",
        "\n",
        "\"\"\"\n",
        "\n",
        "interpreter.reset()\n",
        "interpreter.chat(message)"
      ]
    },
    {
      "cell_type": "markdown",
      "source": [
        "Nice! It's saved as `cropped_clip_with_audio.mkv`.\n",
        "\n",
        "One problem -- if we want to send it to our phone and upload it to TikTok or YT Shorts, we'll need it to be an `.mp4` file.\n",
        "\n",
        "So, let's just ask for that:"
      ],
      "metadata": {
        "id": "uOyXpFqf3_oJ"
      }
    },
    {
      "cell_type": "code",
      "source": [
        "# The interpreter remembers our conversation unless we explicitly .reset() it.\n",
        "interpreter.chat(\"Looks great! Can you convert it to an mp4?\")"
      ],
      "metadata": {
        "id": "84C89ntP4lxm"
      },
      "execution_count": null,
      "outputs": []
    },
    {
      "cell_type": "markdown",
      "source": [
        "Amazing. Now we can display the final result in Google Colab, too:"
      ],
      "metadata": {
        "id": "1U_yIkHt4yrH"
      }
    },
    {
      "cell_type": "code",
      "source": [
        "# Final output:"
      ],
      "metadata": {
        "id": "13UWfW1K3nl4"
      },
      "execution_count": null,
      "outputs": []
    },
    {
      "cell_type": "markdown",
      "metadata": {
        "id": "C1vMxJzikQ_D"
      },
      "source": [
        "## Bonus: Image -> Animation"
      ]
    },
    {
      "cell_type": "markdown",
      "source": [
        "**Another** `replicate` example -- let's use ControlNet to turn [this image](https://i.ibb.co/f0p4Q5R/i-heart-victoria-paris.png) into 90s-style animated intro."
      ],
      "metadata": {
        "id": "rVl1c4sMfuoL"
      }
    },
    {
      "cell_type": "code",
      "execution_count": null,
      "metadata": {
        "id": "lWNRJ0Ku8hji"
      },
      "outputs": [],
      "source": [
        "message = \"\"\"\n",
        "Hi, I want to make a video that's comprised of 12 frames. The 12 frames should be of the image\n",
        "victoria.png run through controlnet with different materials as prompts.\n",
        "\n",
        "I'm logged into replicate on this machine. Here's how to use replicate's controlnet:\n",
        "\n",
        "output = replicate.run(\n",
        "    \"jagilley/controlnet-canny:aff48af9c68d162388d230a2ab003f68d2638d88307bdaf1c2f1ac95079c9613\",\n",
        "    input={\"image\": open(\"path/to/file\", \"rb\"), \"prompt\": \"metal\"}\n",
        ")\n",
        "print(output)\n",
        "\n",
        "Can you run victoria.png through this 12 times with different materials each time like \"metal\", \"embroidery\", and \"crayon\"?\n",
        "Then stitch together the 12 pictures into a 1 second video clip. Thank you!\n",
        "\"\"\"\n",
        "\n",
        "interpreter.reset()\n",
        "interpreter.chat(message)"
      ]
    },
    {
      "cell_type": "code",
      "source": [
        "# Watch the final output:"
      ],
      "metadata": {
        "id": "QIBeCFA25E_h"
      },
      "execution_count": null,
      "outputs": []
    },
    {
      "cell_type": "markdown",
      "source": [
        "#**GPTsでAPIを叩くためのACTIONを作る**"
      ],
      "metadata": {
        "id": "3Qo6B12hrkoS"
      }
    },
    {
      "cell_type": "code",
      "source": [
        "#interpreter.model = \"gpt-3.5-turbo\"\n",
        "interpreter.model = \"gpt-4\"\n",
        "\n",
        "interpreter.reset()"
      ],
      "metadata": {
        "id": "4eNaooXSsDfr"
      },
      "execution_count": 11,
      "outputs": []
    },
    {
      "cell_type": "code",
      "source": [
        "message = \"\"\"\n",
        "\n",
        "https://api.thecatapi.com/v1/images/search\n",
        "\"\"\"\n",
        "\n",
        "interpreter.chat(f\"{message}\")"
      ],
      "metadata": {
        "colab": {
          "base_uri": "https://localhost:8080/",
          "height": 343,
          "referenced_widgets": [
            "e29db7b9a9394be5a0b2ff2250f68d6c",
            "1901a5f086804d78aae884b5506065f8"
          ]
        },
        "id": "h3aRH3DYsPyh",
        "outputId": "ff40a896-9e6d-48ce-ec8a-239a590e6aae"
      },
      "execution_count": 12,
      "outputs": [
        {
          "output_type": "display_data",
          "data": {
            "text/plain": [
              "\u001b[1mOpen Interpreter\u001b[0m will require approval before running code.                                                        \n"
            ],
            "text/html": [
              "<pre style=\"white-space:pre;overflow-x:auto;line-height:normal;font-family:Menlo,'DejaVu Sans Mono',consolas,'Courier New',monospace\"><span style=\"font-weight: bold\">Open Interpreter</span> will require approval before running code.                                                        \n",
              "</pre>\n"
            ]
          },
          "metadata": {}
        },
        {
          "output_type": "stream",
          "name": "stdout",
          "text": [
            "\n"
          ]
        },
        {
          "output_type": "display_data",
          "data": {
            "text/plain": [
              "Use \u001b[1;36;40minterpreter -y\u001b[0m to bypass this.                                                                                 \n"
            ],
            "text/html": [
              "<pre style=\"white-space:pre;overflow-x:auto;line-height:normal;font-family:Menlo,'DejaVu Sans Mono',consolas,'Courier New',monospace\">Use <span style=\"color: #008080; text-decoration-color: #008080; background-color: #000000; font-weight: bold\">interpreter -y</span> to bypass this.                                                                                 \n",
              "</pre>\n"
            ]
          },
          "metadata": {}
        },
        {
          "output_type": "stream",
          "name": "stdout",
          "text": [
            "\n"
          ]
        },
        {
          "output_type": "display_data",
          "data": {
            "text/plain": [
              "Press \u001b[1;36;40mCTRL-C\u001b[0m to exit.                                                                                              \n"
            ],
            "text/html": [
              "<pre style=\"white-space:pre;overflow-x:auto;line-height:normal;font-family:Menlo,'DejaVu Sans Mono',consolas,'Courier New',monospace\">Press <span style=\"color: #008080; text-decoration-color: #008080; background-color: #000000; font-weight: bold\">CTRL-C</span> to exit.                                                                                              \n",
              "</pre>\n"
            ]
          },
          "metadata": {}
        },
        {
          "output_type": "stream",
          "name": "stdout",
          "text": [
            "\n"
          ]
        },
        {
          "output_type": "display_data",
          "data": {
            "text/plain": [
              "Output()"
            ],
            "application/vnd.jupyter.widget-view+json": {
              "version_major": 2,
              "version_minor": 0,
              "model_id": "e29db7b9a9394be5a0b2ff2250f68d6c"
            }
          },
          "metadata": {}
        },
        {
          "output_type": "display_data",
          "data": {
            "text/plain": [],
            "text/html": [
              "<pre style=\"white-space:pre;overflow-x:auto;line-height:normal;font-family:Menlo,'DejaVu Sans Mono',consolas,'Courier New',monospace\"></pre>\n"
            ]
          },
          "metadata": {}
        },
        {
          "output_type": "execute_result",
          "data": {
            "text/plain": [
              "[{'role': 'user',\n",
              "  'message': '\\n\\nhttps://api.thecatapi.com/v1/images/search\\n'},\n",
              " {'role': 'assistant',\n",
              "  'message': \"It seems like you've provided a URL to an API endpoint. This API endpoint is for TheCatAPI, which returns random images of cats. \\n\\nHow can I assist you with this? Would you like to fetch an image from this API, or is there something specific you'd like to do?\"}]"
            ]
          },
          "metadata": {},
          "execution_count": 12
        }
      ]
    },
    {
      "cell_type": "code",
      "source": [
        "message = \"\"\"\n",
        "このAPIを下のテンプレートで叩けるようにしてください\n",
        "\n",
        "{\n",
        "  \"openapi\": \"3.1.0\",\n",
        "  \"info\": {\n",
        "    \"title\": \"Untitled\",\n",
        "    \"description\": \"Your OpenAPI specification\",\n",
        "    \"version\": \"v1.0.0\"\n",
        "  },\n",
        "  \"servers\": [\n",
        "    {\n",
        "      \"url\": \"\"\n",
        "    }\n",
        "  ],\n",
        "  \"paths\": {},\n",
        "  \"components\": {\n",
        "    \"schemas\": {}\n",
        "  }\n",
        "}\n",
        "\"\"\"\n",
        "\n",
        "interpreter.chat(f\"{message}\")"
      ],
      "metadata": {
        "id": "52MJ4diFtvHT"
      },
      "execution_count": null,
      "outputs": []
    },
    {
      "cell_type": "markdown",
      "source": [],
      "metadata": {
        "id": "dq05Syh7-m99"
      }
    },
    {
      "cell_type": "code",
      "source": [
        "message = \"\"\"\n",
        "In path /images/search, method get is missing operationId; skipping\n",
        "\n",
        "\"\"\"\n",
        "\n",
        "interpreter.chat(f\"{message}\")"
      ],
      "metadata": {
        "id": "qM96Zjgqwp1f"
      },
      "execution_count": null,
      "outputs": []
    },
    {
      "cell_type": "code",
      "source": [],
      "metadata": {
        "id": "EGuYYR-z2H4V"
      },
      "execution_count": null,
      "outputs": []
    }
  ],
  "metadata": {
    "colab": {
      "provenance": [],
      "collapsed_sections": [
        "I1WSa-Jw0KM0",
        "cM7Yf5pHgeDW",
        "YlDX4rl8x1EF",
        "E9MTDnOWLMP8",
        "OTTkCcIshgmB",
        "KrgUKfZDLTEa",
        "C1vMxJzikQ_D"
      ],
      "gpuType": "V100",
      "include_colab_link": true
    },
    "kernelspec": {
      "display_name": "Python 3",
      "name": "python3"
    },
    "language_info": {
      "name": "python"
    },
    "widgets": {
      "application/vnd.jupyter.widget-state+json": {
        "893ec590d0604c7aac737a2b7213d8f3": {
          "model_module": "@jupyter-widgets/output",
          "model_name": "OutputModel",
          "model_module_version": "1.0.0",
          "state": {
            "_dom_classes": [],
            "_model_module": "@jupyter-widgets/output",
            "_model_module_version": "1.0.0",
            "_model_name": "OutputModel",
            "_view_count": null,
            "_view_module": "@jupyter-widgets/output",
            "_view_module_version": "1.0.0",
            "_view_name": "OutputView",
            "layout": "IPY_MODEL_8dbd5dbc32a7470cb74c93791e2fd24a",
            "msg_id": "",
            "outputs": [
              {
                "output_type": "display_data",
                "data": {
                  "text/plain": "                                                                                                                   \n  はい、それは可能です。PubMedのXML出力では、抽象の各部分は\u001b[1;36;40mAbstractText\u001b[0m要素に格納され、その見出し                  \n  （例えば、\"Purpose\"、\"Methods\"、\"Results\"など）はその要素の\u001b[1;36;40mLabel\u001b[0m属性に格納されます。したがって、抽象の全文を抽   \n  きに、各部分の見出しを含めることができます。                                                                     \n                                                                                                                   \n  以下に、抽象の全文を抽出し、各部分の見出しを含めるための手順を示します。                                         \n                                                                                                                   \n  \u001b[1;33m 1 \u001b[0m各論文の抽象を検索します。これはXML内の\u001b[1;36;40mAbstract\u001b[0m要素に対応します。                                             \n  \u001b[1;33m 2 \u001b[0m\u001b[1;36;40mAbstract\u001b[0m要素内のすべての\u001b[1;36;40mAbstractText\u001b[0m要素を検索します。これらは抽象の各部分に対応します。                      \n  \u001b[1;33m 3 \u001b[0m各\u001b[1;36;40mAbstractText\u001b[0m要素のテキストと\u001b[1;36;40mLabel\u001b[0m属性を抽出し、それらを結合します。これにより、抽象の全文（見出し           \n  \u001b[1;33m   \u001b[0m付き）が得られます。                                                                                          \n                                                                                                                   \n  それでは、この手順を実行するPythonコードを書いてみましょう。                                                     \n                                                                                                                   \n",
                  "text/html": "<pre style=\"white-space:pre;overflow-x:auto;line-height:normal;font-family:Menlo,'DejaVu Sans Mono',consolas,'Courier New',monospace\">                                                                                                                   \n  はい、それは可能です。PubMedのXML出力では、抽象の各部分は<span style=\"color: #008080; text-decoration-color: #008080; background-color: #000000; font-weight: bold\">AbstractText</span>要素に格納され、その見出し                  \n  （例えば、\"Purpose\"、\"Methods\"、\"Results\"など）はその要素の<span style=\"color: #008080; text-decoration-color: #008080; background-color: #000000; font-weight: bold\">Label</span>属性に格納されます。したがって、抽象の全文を抽   \n  きに、各部分の見出しを含めることができます。                                                                     \n                                                                                                                   \n  以下に、抽象の全文を抽出し、各部分の見出しを含めるための手順を示します。                                         \n                                                                                                                   \n  <span style=\"color: #808000; text-decoration-color: #808000; font-weight: bold\"> 1 </span>各論文の抽象を検索します。これはXML内の<span style=\"color: #008080; text-decoration-color: #008080; background-color: #000000; font-weight: bold\">Abstract</span>要素に対応します。                                             \n  <span style=\"color: #808000; text-decoration-color: #808000; font-weight: bold\"> 2 </span><span style=\"color: #008080; text-decoration-color: #008080; background-color: #000000; font-weight: bold\">Abstract</span>要素内のすべての<span style=\"color: #008080; text-decoration-color: #008080; background-color: #000000; font-weight: bold\">AbstractText</span>要素を検索します。これらは抽象の各部分に対応します。                      \n  <span style=\"color: #808000; text-decoration-color: #808000; font-weight: bold\"> 3 </span>各<span style=\"color: #008080; text-decoration-color: #008080; background-color: #000000; font-weight: bold\">AbstractText</span>要素のテキストと<span style=\"color: #008080; text-decoration-color: #008080; background-color: #000000; font-weight: bold\">Label</span>属性を抽出し、それらを結合します。これにより、抽象の全文（見出し           \n  <span style=\"color: #808000; text-decoration-color: #808000; font-weight: bold\">   </span>付き）が得られます。                                                                                          \n                                                                                                                   \n  それでは、この手順を実行するPythonコードを書いてみましょう。                                                     \n                                                                                                                   \n</pre>\n"
                },
                "metadata": {}
              }
            ]
          }
        },
        "8dbd5dbc32a7470cb74c93791e2fd24a": {
          "model_module": "@jupyter-widgets/base",
          "model_name": "LayoutModel",
          "model_module_version": "1.2.0",
          "state": {
            "_model_module": "@jupyter-widgets/base",
            "_model_module_version": "1.2.0",
            "_model_name": "LayoutModel",
            "_view_count": null,
            "_view_module": "@jupyter-widgets/base",
            "_view_module_version": "1.2.0",
            "_view_name": "LayoutView",
            "align_content": null,
            "align_items": null,
            "align_self": null,
            "border": null,
            "bottom": null,
            "display": null,
            "flex": null,
            "flex_flow": null,
            "grid_area": null,
            "grid_auto_columns": null,
            "grid_auto_flow": null,
            "grid_auto_rows": null,
            "grid_column": null,
            "grid_gap": null,
            "grid_row": null,
            "grid_template_areas": null,
            "grid_template_columns": null,
            "grid_template_rows": null,
            "height": null,
            "justify_content": null,
            "justify_items": null,
            "left": null,
            "margin": null,
            "max_height": null,
            "max_width": null,
            "min_height": null,
            "min_width": null,
            "object_fit": null,
            "object_position": null,
            "order": null,
            "overflow": null,
            "overflow_x": null,
            "overflow_y": null,
            "padding": null,
            "right": null,
            "top": null,
            "visibility": null,
            "width": null
          }
        },
        "437837b9e1b946eaa290df1bdb197375": {
          "model_module": "@jupyter-widgets/output",
          "model_name": "OutputModel",
          "model_module_version": "1.0.0",
          "state": {
            "_dom_classes": [],
            "_model_module": "@jupyter-widgets/output",
            "_model_module_version": "1.0.0",
            "_model_name": "OutputModel",
            "_view_count": null,
            "_view_module": "@jupyter-widgets/output",
            "_view_module_version": "1.0.0",
            "_view_name": "OutputView",
            "layout": "IPY_MODEL_befc7f637eb045af96fab412e78a98fb",
            "msg_id": "",
            "outputs": [
              {
                "output_type": "display_data",
                "data": {
                  "text/plain": "\u001b[48;2;39;39;34m                                                                                                                   \u001b[0m\n\u001b[48;2;39;39;34m \u001b[0m\u001b[48;2;39;39;34m \u001b[0m\u001b[38;2;248;248;242;48;2;39;40;34mabstracts\u001b[0m\u001b[38;2;248;248;242;48;2;39;40;34m \u001b[0m\u001b[38;2;255;70;137;48;2;39;40;34m=\u001b[0m\u001b[38;2;248;248;242;48;2;39;40;34m \u001b[0m\u001b[38;2;248;248;242;48;2;39;40;34m[\u001b[0m\u001b[38;2;248;248;242;48;2;39;40;34m]\u001b[0m\u001b[48;2;39;40;34m                                                                                                 \u001b[0m\u001b[48;2;39;39;34m \u001b[0m\u001b[48;2;39;39;34m \u001b[0m\n\u001b[48;2;39;39;34m \u001b[0m\u001b[48;2;39;39;34m \u001b[0m\u001b[48;2;39;40;34m                                                                                                               \u001b[0m\u001b[48;2;39;39;34m \u001b[0m\u001b[48;2;39;39;34m \u001b[0m\n\u001b[48;2;39;39;34m \u001b[0m\u001b[48;2;39;39;34m \u001b[0m\u001b[38;2;102;217;239;48;2;39;40;34mfor\u001b[0m\u001b[38;2;248;248;242;48;2;39;40;34m \u001b[0m\u001b[38;2;248;248;242;48;2;39;40;34mid\u001b[0m\u001b[38;2;248;248;242;48;2;39;40;34m \u001b[0m\u001b[38;2;255;70;137;48;2;39;40;34min\u001b[0m\u001b[38;2;248;248;242;48;2;39;40;34m \u001b[0m\u001b[38;2;248;248;242;48;2;39;40;34mids\u001b[0m\u001b[38;2;248;248;242;48;2;39;40;34m:\u001b[0m\u001b[48;2;39;40;34m                                                                                                 \u001b[0m\u001b[48;2;39;39;34m \u001b[0m\u001b[48;2;39;39;34m \u001b[0m\n\u001b[48;2;39;39;34m \u001b[0m\u001b[48;2;39;39;34m \u001b[0m\u001b[38;2;248;248;242;48;2;39;40;34m    \u001b[0m\u001b[38;2;149;144;119;48;2;39;40;34m# Define the parameters\u001b[0m\u001b[48;2;39;40;34m                                                                                    \u001b[0m\u001b[48;2;39;39;34m \u001b[0m\u001b[48;2;39;39;34m \u001b[0m\n\u001b[48;2;39;39;34m \u001b[0m\u001b[48;2;39;39;34m \u001b[0m\u001b[38;2;248;248;242;48;2;39;40;34m    \u001b[0m\u001b[38;2;248;248;242;48;2;39;40;34mparams\u001b[0m\u001b[38;2;248;248;242;48;2;39;40;34m \u001b[0m\u001b[38;2;255;70;137;48;2;39;40;34m=\u001b[0m\u001b[38;2;248;248;242;48;2;39;40;34m \u001b[0m\u001b[38;2;248;248;242;48;2;39;40;34m{\u001b[0m\u001b[48;2;39;40;34m                                                                                                 \u001b[0m\u001b[48;2;39;39;34m \u001b[0m\u001b[48;2;39;39;34m \u001b[0m\n\u001b[48;2;39;39;34m \u001b[0m\u001b[48;2;39;39;34m \u001b[0m\u001b[38;2;248;248;242;48;2;39;40;34m        \u001b[0m\u001b[38;2;230;219;116;48;2;39;40;34m'\u001b[0m\u001b[38;2;230;219;116;48;2;39;40;34mdb\u001b[0m\u001b[38;2;230;219;116;48;2;39;40;34m'\u001b[0m\u001b[38;2;248;248;242;48;2;39;40;34m:\u001b[0m\u001b[38;2;248;248;242;48;2;39;40;34m \u001b[0m\u001b[38;2;230;219;116;48;2;39;40;34m'\u001b[0m\u001b[38;2;230;219;116;48;2;39;40;34mpubmed\u001b[0m\u001b[38;2;230;219;116;48;2;39;40;34m'\u001b[0m\u001b[38;2;248;248;242;48;2;39;40;34m,\u001b[0m\u001b[48;2;39;40;34m                                                                                        \u001b[0m\u001b[48;2;39;39;34m \u001b[0m\u001b[48;2;39;39;34m \u001b[0m\n\u001b[48;2;39;39;34m \u001b[0m\u001b[48;2;39;39;34m \u001b[0m\u001b[38;2;248;248;242;48;2;39;40;34m        \u001b[0m\u001b[38;2;230;219;116;48;2;39;40;34m'\u001b[0m\u001b[38;2;230;219;116;48;2;39;40;34mid\u001b[0m\u001b[38;2;230;219;116;48;2;39;40;34m'\u001b[0m\u001b[38;2;248;248;242;48;2;39;40;34m:\u001b[0m\u001b[38;2;248;248;242;48;2;39;40;34m \u001b[0m\u001b[38;2;248;248;242;48;2;39;40;34mid\u001b[0m\u001b[38;2;248;248;242;48;2;39;40;34m,\u001b[0m\u001b[48;2;39;40;34m                                                                                              \u001b[0m\u001b[48;2;39;39;34m \u001b[0m\u001b[48;2;39;39;34m \u001b[0m\n\u001b[48;2;39;39;34m \u001b[0m\u001b[48;2;39;39;34m \u001b[0m\u001b[38;2;248;248;242;48;2;39;40;34m        \u001b[0m\u001b[38;2;230;219;116;48;2;39;40;34m'\u001b[0m\u001b[38;2;230;219;116;48;2;39;40;34mretmode\u001b[0m\u001b[38;2;230;219;116;48;2;39;40;34m'\u001b[0m\u001b[38;2;248;248;242;48;2;39;40;34m:\u001b[0m\u001b[38;2;248;248;242;48;2;39;40;34m \u001b[0m\u001b[38;2;230;219;116;48;2;39;40;34m'\u001b[0m\u001b[38;2;230;219;116;48;2;39;40;34mxml\u001b[0m\u001b[38;2;230;219;116;48;2;39;40;34m'\u001b[0m\u001b[48;2;39;40;34m                                                                                       \u001b[0m\u001b[48;2;39;39;34m \u001b[0m\u001b[48;2;39;39;34m \u001b[0m\n\u001b[48;2;39;39;34m \u001b[0m\u001b[48;2;39;39;34m \u001b[0m\u001b[38;2;248;248;242;48;2;39;40;34m    \u001b[0m\u001b[38;2;248;248;242;48;2;39;40;34m}\u001b[0m\u001b[48;2;39;40;34m                                                                                                          \u001b[0m\u001b[48;2;39;39;34m \u001b[0m\u001b[48;2;39;39;34m \u001b[0m\n\u001b[48;2;39;39;34m \u001b[0m\u001b[48;2;39;39;34m \u001b[0m\u001b[48;2;39;40;34m                                                                                                               \u001b[0m\u001b[48;2;39;39;34m \u001b[0m\u001b[48;2;39;39;34m \u001b[0m\n\u001b[48;2;39;39;34m \u001b[0m\u001b[48;2;39;39;34m \u001b[0m\u001b[38;2;248;248;242;48;2;39;40;34m    \u001b[0m\u001b[38;2;149;144;119;48;2;39;40;34m# Send the request\u001b[0m\u001b[48;2;39;40;34m                                                                                         \u001b[0m\u001b[48;2;39;39;34m \u001b[0m\u001b[48;2;39;39;34m \u001b[0m\n\u001b[48;2;39;39;34m \u001b[0m\u001b[48;2;39;39;34m \u001b[0m\u001b[38;2;248;248;242;48;2;39;40;34m    \u001b[0m\u001b[38;2;248;248;242;48;2;39;40;34mresponse\u001b[0m\u001b[38;2;248;248;242;48;2;39;40;34m \u001b[0m\u001b[38;2;255;70;137;48;2;39;40;34m=\u001b[0m\u001b[38;2;248;248;242;48;2;39;40;34m \u001b[0m\u001b[38;2;248;248;242;48;2;39;40;34mrequests\u001b[0m\u001b[38;2;255;70;137;48;2;39;40;34m.\u001b[0m\u001b[38;2;248;248;242;48;2;39;40;34mget\u001b[0m\u001b[38;2;248;248;242;48;2;39;40;34m(\u001b[0m\u001b[38;2;248;248;242;48;2;39;40;34murl\u001b[0m\u001b[38;2;248;248;242;48;2;39;40;34m,\u001b[0m\u001b[38;2;248;248;242;48;2;39;40;34m \u001b[0m\u001b[38;2;248;248;242;48;2;39;40;34mparams\u001b[0m\u001b[38;2;255;70;137;48;2;39;40;34m=\u001b[0m\u001b[38;2;248;248;242;48;2;39;40;34mparams\u001b[0m\u001b[38;2;248;248;242;48;2;39;40;34m)\u001b[0m\u001b[48;2;39;40;34m                                                                \u001b[0m\u001b[48;2;39;39;34m \u001b[0m\u001b[48;2;39;39;34m \u001b[0m\n\u001b[48;2;39;39;34m \u001b[0m\u001b[48;2;39;39;34m \u001b[0m\u001b[48;2;39;40;34m                                                                                                               \u001b[0m\u001b[48;2;39;39;34m \u001b[0m\u001b[48;2;39;39;34m \u001b[0m\n\u001b[48;2;39;39;34m \u001b[0m\u001b[48;2;39;39;34m \u001b[0m\u001b[38;2;248;248;242;48;2;39;40;34m    \u001b[0m\u001b[38;2;149;144;119;48;2;39;40;34m# Get the XML content\u001b[0m\u001b[48;2;39;40;34m                                                                                      \u001b[0m\u001b[48;2;39;39;34m \u001b[0m\u001b[48;2;39;39;34m \u001b[0m\n\u001b[48;2;39;39;34m \u001b[0m\u001b[48;2;39;39;34m \u001b[0m\u001b[38;2;248;248;242;48;2;39;40;34m    \u001b[0m\u001b[38;2;248;248;242;48;2;39;40;34mxml_content\u001b[0m\u001b[38;2;248;248;242;48;2;39;40;34m \u001b[0m\u001b[38;2;255;70;137;48;2;39;40;34m=\u001b[0m\u001b[38;2;248;248;242;48;2;39;40;34m \u001b[0m\u001b[38;2;248;248;242;48;2;39;40;34mresponse\u001b[0m\u001b[38;2;255;70;137;48;2;39;40;34m.\u001b[0m\u001b[38;2;248;248;242;48;2;39;40;34mcontent\u001b[0m\u001b[48;2;39;40;34m                                                                             \u001b[0m\u001b[48;2;39;39;34m \u001b[0m\u001b[48;2;39;39;34m \u001b[0m\n\u001b[48;2;39;39;34m \u001b[0m\u001b[48;2;39;39;34m \u001b[0m\u001b[48;2;39;40;34m                                                                                                               \u001b[0m\u001b[48;2;39;39;34m \u001b[0m\u001b[48;2;39;39;34m \u001b[0m\n\u001b[48;2;39;39;34m \u001b[0m\u001b[48;2;39;39;34m \u001b[0m\u001b[38;2;248;248;242;48;2;39;40;34m    \u001b[0m\u001b[38;2;149;144;119;48;2;39;40;34m# Parse the XML\u001b[0m\u001b[48;2;39;40;34m                                                                                            \u001b[0m\u001b[48;2;39;39;34m \u001b[0m\u001b[48;2;39;39;34m \u001b[0m\n\u001b[48;2;39;39;34m \u001b[0m\u001b[48;2;39;39;34m \u001b[0m\u001b[38;2;248;248;242;48;2;39;40;34m    \u001b[0m\u001b[38;2;248;248;242;48;2;39;40;34mroot\u001b[0m\u001b[38;2;248;248;242;48;2;39;40;34m \u001b[0m\u001b[38;2;255;70;137;48;2;39;40;34m=\u001b[0m\u001b[38;2;248;248;242;48;2;39;40;34m \u001b[0m\u001b[38;2;248;248;242;48;2;39;40;34mET\u001b[0m\u001b[38;2;255;70;137;48;2;39;40;34m.\u001b[0m\u001b[38;2;248;248;242;48;2;39;40;34mfromstring\u001b[0m\u001b[38;2;248;248;242;48;2;39;40;34m(\u001b[0m\u001b[38;2;248;248;242;48;2;39;40;34mxml_content\u001b[0m\u001b[38;2;248;248;242;48;2;39;40;34m)\u001b[0m\u001b[48;2;39;40;34m                                                                          \u001b[0m\u001b[48;2;39;39;34m \u001b[0m\u001b[48;2;39;39;34m \u001b[0m\n\u001b[48;2;39;39;34m \u001b[0m\u001b[48;2;39;39;34m \u001b[0m\u001b[48;2;39;40;34m                                                                                                               \u001b[0m\u001b[48;2;39;39;34m \u001b[0m\u001b[48;2;39;39;34m \u001b[0m\n\u001b[48;2;39;39;34m \u001b[0m\u001b[48;2;39;39;34m \u001b[0m\u001b[38;2;248;248;242;48;2;39;40;34m    \u001b[0m\u001b[38;2;149;144;119;48;2;39;40;34m# Get the abstract of the article\u001b[0m\u001b[48;2;39;40;34m                                                                          \u001b[0m\u001b[48;2;39;39;34m \u001b[0m\u001b[48;2;39;39;34m \u001b[0m\n\u001b[48;2;39;39;34m \u001b[0m\u001b[48;2;39;39;34m \u001b[0m\u001b[38;2;248;248;242;48;2;39;40;34m    \u001b[0m\u001b[38;2;248;248;242;48;2;39;40;34mabstract\u001b[0m\u001b[38;2;248;248;242;48;2;39;40;34m \u001b[0m\u001b[38;2;255;70;137;48;2;39;40;34m=\u001b[0m\u001b[38;2;248;248;242;48;2;39;40;34m \u001b[0m\u001b[38;2;248;248;242;48;2;39;40;34mroot\u001b[0m\u001b[38;2;255;70;137;48;2;39;40;34m.\u001b[0m\u001b[38;2;248;248;242;48;2;39;40;34mfind\u001b[0m\u001b[38;2;248;248;242;48;2;39;40;34m(\u001b[0m\u001b[38;2;230;219;116;48;2;39;40;34m'\u001b[0m\u001b[38;2;230;219;116;48;2;39;40;34m.//Abstract\u001b[0m\u001b[38;2;230;219;116;48;2;39;40;34m'\u001b[0m\u001b[38;2;248;248;242;48;2;39;40;34m)\u001b[0m\u001b[48;2;39;40;34m                                                                        \u001b[0m\u001b[48;2;39;39;34m \u001b[0m\u001b[48;2;39;39;34m \u001b[0m\n\u001b[48;2;39;39;34m \u001b[0m\u001b[48;2;39;39;34m \u001b[0m\u001b[38;2;248;248;242;48;2;39;40;34m    \u001b[0m\u001b[38;2;102;217;239;48;2;39;40;34mif\u001b[0m\u001b[38;2;248;248;242;48;2;39;40;34m \u001b[0m\u001b[38;2;248;248;242;48;2;39;40;34mabstract\u001b[0m\u001b[38;2;248;248;242;48;2;39;40;34m \u001b[0m\u001b[38;2;255;70;137;48;2;39;40;34mis\u001b[0m\u001b[38;2;248;248;242;48;2;39;40;34m \u001b[0m\u001b[38;2;255;70;137;48;2;39;40;34mnot\u001b[0m\u001b[38;2;248;248;242;48;2;39;40;34m \u001b[0m\u001b[38;2;102;217;239;48;2;39;40;34mNone\u001b[0m\u001b[38;2;248;248;242;48;2;39;40;34m:\u001b[0m\u001b[48;2;39;40;34m                                                                                   \u001b[0m\u001b[48;2;39;39;34m \u001b[0m\u001b[48;2;39;39;34m \u001b[0m\n\u001b[48;2;39;39;34m \u001b[0m\u001b[48;2;39;39;34m \u001b[0m\u001b[38;2;248;248;242;48;2;39;40;34m        \u001b[0m\u001b[38;2;149;144;119;48;2;39;40;34m# Extract and combine all parts of the abstract with their labels\u001b[0m\u001b[48;2;39;40;34m                                      \u001b[0m\u001b[48;2;39;39;34m \u001b[0m\u001b[48;2;39;39;34m \u001b[0m\n\u001b[48;2;39;39;34m \u001b[0m\u001b[48;2;39;39;34m \u001b[0m\u001b[38;2;248;248;242;48;2;39;40;34m        \u001b[0m\u001b[38;2;248;248;242;48;2;39;40;34mabstract_text\u001b[0m\u001b[38;2;248;248;242;48;2;39;40;34m \u001b[0m\u001b[38;2;255;70;137;48;2;39;40;34m=\u001b[0m\u001b[38;2;248;248;242;48;2;39;40;34m \u001b[0m\u001b[38;2;230;219;116;48;2;39;40;34m'\u001b[0m\u001b[38;2;230;219;116;48;2;39;40;34m \u001b[0m\u001b[38;2;230;219;116;48;2;39;40;34m'\u001b[0m\u001b[38;2;255;70;137;48;2;39;40;34m.\u001b[0m\u001b[38;2;248;248;242;48;2;39;40;34mjoin\u001b[0m\u001b[38;2;248;248;242;48;2;39;40;34m(\u001b[0m\u001b[38;2;248;248;242;48;2;39;40;34m[\u001b[0m\u001b[38;2;230;219;116;48;2;39;40;34mf\u001b[0m\u001b[38;2;230;219;116;48;2;39;40;34m'\u001b[0m\u001b[38;2;230;219;116;48;2;39;40;34m{\u001b[0m\u001b[38;2;248;248;242;48;2;39;40;34mpart\u001b[0m\u001b[38;2;255;70;137;48;2;39;40;34m.\u001b[0m\u001b[38;2;248;248;242;48;2;39;40;34mget\u001b[0m\u001b[38;2;248;248;242;48;2;39;40;34m(\u001b[0m\u001b[38;2;230;219;116;48;2;39;40;34m\"\u001b[0m\u001b[38;2;230;219;116;48;2;39;40;34mLabel\u001b[0m\u001b[38;2;230;219;116;48;2;39;40;34m\"\u001b[0m\u001b[38;2;248;248;242;48;2;39;40;34m)\u001b[0m\u001b[38;2;230;219;116;48;2;39;40;34m}\u001b[0m\u001b[38;2;230;219;116;48;2;39;40;34m: \u001b[0m\u001b[38;2;230;219;116;48;2;39;40;34m{\u001b[0m\u001b[38;2;248;248;242;48;2;39;40;34mpart\u001b[0m\u001b[38;2;255;70;137;48;2;39;40;34m.\u001b[0m\u001b[38;2;248;248;242;48;2;39;40;34mtext\u001b[0m\u001b[38;2;230;219;116;48;2;39;40;34m}\u001b[0m\u001b[38;2;230;219;116;48;2;39;40;34m'\u001b[0m\u001b[38;2;248;248;242;48;2;39;40;34m \u001b[0m\u001b[38;2;102;217;239;48;2;39;40;34mfor\u001b[0m\u001b[38;2;248;248;242;48;2;39;40;34m \u001b[0m\u001b[38;2;248;248;242;48;2;39;40;34mpart\u001b[0m\u001b[38;2;248;248;242;48;2;39;40;34m \u001b[0m\u001b[38;2;255;70;137;48;2;39;40;34min\u001b[0m\u001b[38;2;248;248;242;48;2;39;40;34m \u001b[0m\u001b[48;2;39;40;34m                             \u001b[0m\u001b[48;2;39;39;34m \u001b[0m\u001b[48;2;39;39;34m \u001b[0m\n\u001b[48;2;39;39;34m \u001b[0m\u001b[48;2;39;39;34m \u001b[0m\u001b[38;2;248;248;242;48;2;39;40;34mabstract\u001b[0m\u001b[38;2;255;70;137;48;2;39;40;34m.\u001b[0m\u001b[38;2;248;248;242;48;2;39;40;34mfindall\u001b[0m\u001b[38;2;248;248;242;48;2;39;40;34m(\u001b[0m\u001b[38;2;230;219;116;48;2;39;40;34m'\u001b[0m\u001b[38;2;230;219;116;48;2;39;40;34mAbstractText\u001b[0m\u001b[38;2;230;219;116;48;2;39;40;34m'\u001b[0m\u001b[38;2;248;248;242;48;2;39;40;34m)\u001b[0m\u001b[38;2;248;248;242;48;2;39;40;34m \u001b[0m\u001b[38;2;102;217;239;48;2;39;40;34mif\u001b[0m\u001b[38;2;248;248;242;48;2;39;40;34m \u001b[0m\u001b[38;2;248;248;242;48;2;39;40;34mpart\u001b[0m\u001b[38;2;255;70;137;48;2;39;40;34m.\u001b[0m\u001b[38;2;248;248;242;48;2;39;40;34mtext\u001b[0m\u001b[38;2;248;248;242;48;2;39;40;34m \u001b[0m\u001b[38;2;255;70;137;48;2;39;40;34mis\u001b[0m\u001b[38;2;248;248;242;48;2;39;40;34m \u001b[0m\u001b[38;2;255;70;137;48;2;39;40;34mnot\u001b[0m\u001b[38;2;248;248;242;48;2;39;40;34m \u001b[0m\u001b[38;2;102;217;239;48;2;39;40;34mNone\u001b[0m\u001b[38;2;248;248;242;48;2;39;40;34m]\u001b[0m\u001b[38;2;248;248;242;48;2;39;40;34m)\u001b[0m\u001b[48;2;39;40;34m                                                    \u001b[0m\u001b[48;2;39;39;34m \u001b[0m\u001b[48;2;39;39;34m \u001b[0m\n\u001b[48;2;39;39;34m \u001b[0m\u001b[48;2;39;39;34m \u001b[0m\u001b[38;2;248;248;242;48;2;39;40;34m        \u001b[0m\u001b[38;2;248;248;242;48;2;39;40;34mabstracts\u001b[0m\u001b[38;2;255;70;137;48;2;39;40;34m.\u001b[0m\u001b[38;2;248;248;242;48;2;39;40;34mappend\u001b[0m\u001b[38;2;248;248;242;48;2;39;40;34m(\u001b[0m\u001b[38;2;248;248;242;48;2;39;40;34mabstract_text\u001b[0m\u001b[38;2;248;248;242;48;2;39;40;34m)\u001b[0m\u001b[48;2;39;40;34m                                                                        \u001b[0m\u001b[48;2;39;39;34m \u001b[0m\u001b[48;2;39;39;34m \u001b[0m\n\u001b[48;2;39;39;34m \u001b[0m\u001b[48;2;39;39;34m \u001b[0m\u001b[38;2;248;248;242;48;2;39;40;34m    \u001b[0m\u001b[38;2;102;217;239;48;2;39;40;34melse\u001b[0m\u001b[38;2;248;248;242;48;2;39;40;34m:\u001b[0m\u001b[48;2;39;40;34m                                                                                                      \u001b[0m\u001b[48;2;39;39;34m \u001b[0m\u001b[48;2;39;39;34m \u001b[0m\n\u001b[48;2;39;39;34m \u001b[0m\u001b[48;2;39;39;34m \u001b[0m\u001b[38;2;248;248;242;48;2;39;40;34m        \u001b[0m\u001b[38;2;248;248;242;48;2;39;40;34mabstracts\u001b[0m\u001b[38;2;255;70;137;48;2;39;40;34m.\u001b[0m\u001b[38;2;248;248;242;48;2;39;40;34mappend\u001b[0m\u001b[38;2;248;248;242;48;2;39;40;34m(\u001b[0m\u001b[38;2;230;219;116;48;2;39;40;34m'\u001b[0m\u001b[38;2;230;219;116;48;2;39;40;34mNo abstract available\u001b[0m\u001b[38;2;230;219;116;48;2;39;40;34m'\u001b[0m\u001b[38;2;248;248;242;48;2;39;40;34m)\u001b[0m\u001b[48;2;39;40;34m                                                              \u001b[0m\u001b[48;2;39;39;34m \u001b[0m\u001b[48;2;39;39;34m \u001b[0m\n\u001b[48;2;39;39;34m \u001b[0m\u001b[48;2;39;39;34m \u001b[0m\u001b[48;2;39;40;34m                                                                                                               \u001b[0m\u001b[48;2;39;39;34m \u001b[0m\u001b[48;2;39;39;34m \u001b[0m\n\u001b[48;2;39;39;34m \u001b[0m\u001b[48;2;39;39;34m \u001b[0m\u001b[38;2;149;144;119;48;2;39;40;34m# Update the DataFrame with the full abstracts with labels\u001b[0m\u001b[48;2;39;40;34m                                                     \u001b[0m\u001b[48;2;39;39;34m \u001b[0m\u001b[48;2;39;39;34m \u001b[0m\n\u001b[48;2;39;39;34m \u001b[0m\u001b[48;2;39;39;34m \u001b[0m\u001b[38;2;248;248;242;48;2;39;40;34mdf\u001b[0m\u001b[38;2;248;248;242;48;2;39;40;34m[\u001b[0m\u001b[38;2;230;219;116;48;2;39;40;34m'\u001b[0m\u001b[38;2;230;219;116;48;2;39;40;34mAbstract\u001b[0m\u001b[38;2;230;219;116;48;2;39;40;34m'\u001b[0m\u001b[38;2;248;248;242;48;2;39;40;34m]\u001b[0m\u001b[38;2;248;248;242;48;2;39;40;34m \u001b[0m\u001b[38;2;255;70;137;48;2;39;40;34m=\u001b[0m\u001b[38;2;248;248;242;48;2;39;40;34m \u001b[0m\u001b[38;2;248;248;242;48;2;39;40;34mabstracts\u001b[0m\u001b[48;2;39;40;34m                                                                                     \u001b[0m\u001b[48;2;39;39;34m \u001b[0m\u001b[48;2;39;39;34m \u001b[0m\n\u001b[48;2;39;39;34m \u001b[0m\u001b[48;2;39;39;34m \u001b[0m\u001b[48;2;39;40;34m                                                                                                               \u001b[0m\u001b[48;2;39;39;34m \u001b[0m\u001b[48;2;39;39;34m \u001b[0m\n\u001b[48;2;39;39;34m \u001b[0m\u001b[48;2;39;39;34m \u001b[0m\u001b[38;2;248;248;242;48;2;39;40;34mdf\u001b[0m\u001b[48;2;39;40;34m                                                                                                             \u001b[0m\u001b[48;2;39;39;34m \u001b[0m\u001b[48;2;39;39;34m \u001b[0m\n\u001b[48;2;39;39;34m                                                                                                                   \u001b[0m\n\u001b[38;2;255;255;255;48;2;59;59;55m                                                                                                                   \u001b[0m\n\u001b[38;2;255;255;255;48;2;59;59;55m \u001b[0m\u001b[38;2;255;255;255;48;2;59;59;55m \u001b[0m\u001b[38;2;255;255;255;48;2;59;59;55mTitle                                           Abstract\u001b[0m\u001b[38;2;255;255;255;48;2;59;59;55m                                                       \u001b[0m\u001b[38;2;255;255;255;48;2;59;59;55m \u001b[0m\u001b[38;2;255;255;255;48;2;59;59;55m \u001b[0m\n\u001b[38;2;255;255;255;48;2;59;59;55m \u001b[0m\u001b[38;2;255;255;255;48;2;59;59;55m \u001b[0m\u001b[38;2;255;255;255;48;2;59;59;55m0  IgG4-related disease in the eye and ocular adn...  PURPOSE OF REVIEW: IgG4-related disease is a m...\u001b[0m\u001b[38;2;255;255;255;48;2;59;59;55m        \u001b[0m\u001b[38;2;255;255;255;48;2;59;59;55m \u001b[0m\u001b[38;2;255;255;255;48;2;59;59;55m \u001b[0m\n\u001b[38;2;255;255;255;48;2;59;59;55m \u001b[0m\u001b[38;2;255;255;255;48;2;59;59;55m \u001b[0m\u001b[38;2;255;255;255;48;2;59;59;55m1  IgG4-related disease: a neuro-ophthalmological...  None: Immunoglobulin G4-related disease (IgG4-...\u001b[0m\u001b[38;2;255;255;255;48;2;59;59;55m        \u001b[0m\u001b[38;2;255;255;255;48;2;59;59;55m \u001b[0m\u001b[38;2;255;255;255;48;2;59;59;55m \u001b[0m\n\u001b[38;2;255;255;255;48;2;59;59;55m \u001b[0m\u001b[38;2;255;255;255;48;2;59;59;55m \u001b[0m\u001b[38;2;255;255;255;48;2;59;59;55m2  IgG4-Related Ophthalmic Disease. Part II: Clin...  PURPOSE: To review the current state of knowle...\u001b[0m\u001b[38;2;255;255;255;48;2;59;59;55m        \u001b[0m\u001b[38;2;255;255;255;48;2;59;59;55m \u001b[0m\u001b[38;2;255;255;255;48;2;59;59;55m \u001b[0m\n\u001b[38;2;255;255;255;48;2;59;59;55m \u001b[0m\u001b[38;2;255;255;255;48;2;59;59;55m \u001b[0m\u001b[38;2;255;255;255;48;2;59;59;55m3      Immunoglobulin G4-related ophthalmic disease.  None: Immunoglobulin G4-related disease (IgG4-...\u001b[0m\u001b[38;2;255;255;255;48;2;59;59;55m        \u001b[0m\u001b[38;2;255;255;255;48;2;59;59;55m \u001b[0m\u001b[38;2;255;255;255;48;2;59;59;55m \u001b[0m\n\u001b[38;2;255;255;255;48;2;59;59;55m \u001b[0m\u001b[38;2;255;255;255;48;2;59;59;55m \u001b[0m\u001b[38;2;255;255;255;48;2;59;59;55m4  Novel Advances in the Study of IgG4-Related Di...  None: Immunoglobin G4 (IgG4)-related disease i...\u001b[0m\u001b[38;2;255;255;255;48;2;59;59;55m        \u001b[0m\u001b[38;2;255;255;255;48;2;59;59;55m \u001b[0m\u001b[38;2;255;255;255;48;2;59;59;55m \u001b[0m\n\u001b[38;2;255;255;255;48;2;59;59;55m \u001b[0m\u001b[38;2;255;255;255;48;2;59;59;55m \u001b[0m\u001b[38;2;255;255;255;48;2;59;59;55m5  IgG4-related ophthalmic disease. Part I: backg...  PURPOSE: To review the current state of knowle...\u001b[0m\u001b[38;2;255;255;255;48;2;59;59;55m        \u001b[0m\u001b[38;2;255;255;255;48;2;59;59;55m \u001b[0m\u001b[38;2;255;255;255;48;2;59;59;55m \u001b[0m\n\u001b[38;2;255;255;255;48;2;59;59;55m \u001b[0m\u001b[38;2;255;255;255;48;2;59;59;55m \u001b[0m\u001b[38;2;255;255;255;48;2;59;59;55m6  IgG4-related orbital disease: a meta-analysis ...  None: IgG4-related orbital disease (IgG4-ROD) ...\u001b[0m\u001b[38;2;255;255;255;48;2;59;59;55m        \u001b[0m\u001b[38;2;255;255;255;48;2;59;59;55m \u001b[0m\u001b[38;2;255;255;255;48;2;59;59;55m \u001b[0m\n\u001b[38;2;255;255;255;48;2;59;59;55m \u001b[0m\u001b[38;2;255;255;255;48;2;59;59;55m \u001b[0m\u001b[38;2;255;255;255;48;2;59;59;55m7  Distinguishing IgG4-Related Ophthalmic Disease...  PURPOSE: The authors aimed to determine key fe...\u001b[0m\u001b[38;2;255;255;255;48;2;59;59;55m        \u001b[0m\u001b[38;2;255;255;255;48;2;59;59;55m \u001b[0m\u001b[38;2;255;255;255;48;2;59;59;55m \u001b[0m\n\u001b[38;2;255;255;255;48;2;59;59;55m \u001b[0m\u001b[38;2;255;255;255;48;2;59;59;55m \u001b[0m\u001b[38;2;255;255;255;48;2;59;59;55m8  Probable IGG4 related ophthalmic disease prese...  None: We present a case of an uncommon present...\u001b[0m\u001b[38;2;255;255;255;48;2;59;59;55m        \u001b[0m\u001b[38;2;255;255;255;48;2;59;59;55m \u001b[0m\u001b[38;2;255;255;255;48;2;59;59;55m \u001b[0m\n\u001b[38;2;255;255;255;48;2;59;59;55m \u001b[0m\u001b[38;2;255;255;255;48;2;59;59;55m \u001b[0m\u001b[38;2;255;255;255;48;2;59;59;55m9  IgG4-Related Ophthalmic Disease: Pooling of Pu...  None: In recent years, IgG4-related ophthalmic...\u001b[0m\u001b[38;2;255;255;255;48;2;59;59;55m        \u001b[0m\u001b[38;2;255;255;255;48;2;59;59;55m \u001b[0m\u001b[38;2;255;255;255;48;2;59;59;55m \u001b[0m\n\u001b[38;2;255;255;255;48;2;59;59;55m                                                                                                                   \u001b[0m\n",
                  "text/html": "<pre style=\"white-space:pre;overflow-x:auto;line-height:normal;font-family:Menlo,'DejaVu Sans Mono',consolas,'Courier New',monospace\"><span style=\"background-color: #272722\">                                                                                                                   </span>\n<span style=\"background-color: #272722\">  </span><span style=\"color: #f8f8f2; text-decoration-color: #f8f8f2; background-color: #272822\">abstracts </span><span style=\"color: #ff4689; text-decoration-color: #ff4689; background-color: #272822\">=</span><span style=\"color: #f8f8f2; text-decoration-color: #f8f8f2; background-color: #272822\"> []</span><span style=\"background-color: #272822\">                                                                                                 </span><span style=\"background-color: #272722\">  </span>\n<span style=\"background-color: #272722\">  </span><span style=\"background-color: #272822\">                                                                                                               </span><span style=\"background-color: #272722\">  </span>\n<span style=\"background-color: #272722\">  </span><span style=\"color: #66d9ef; text-decoration-color: #66d9ef; background-color: #272822\">for</span><span style=\"color: #f8f8f2; text-decoration-color: #f8f8f2; background-color: #272822\"> id </span><span style=\"color: #ff4689; text-decoration-color: #ff4689; background-color: #272822\">in</span><span style=\"color: #f8f8f2; text-decoration-color: #f8f8f2; background-color: #272822\"> ids:</span><span style=\"background-color: #272822\">                                                                                                 </span><span style=\"background-color: #272722\">  </span>\n<span style=\"background-color: #272722\">  </span><span style=\"color: #f8f8f2; text-decoration-color: #f8f8f2; background-color: #272822\">    </span><span style=\"color: #959077; text-decoration-color: #959077; background-color: #272822\"># Define the parameters</span><span style=\"background-color: #272822\">                                                                                    </span><span style=\"background-color: #272722\">  </span>\n<span style=\"background-color: #272722\">  </span><span style=\"color: #f8f8f2; text-decoration-color: #f8f8f2; background-color: #272822\">    params </span><span style=\"color: #ff4689; text-decoration-color: #ff4689; background-color: #272822\">=</span><span style=\"color: #f8f8f2; text-decoration-color: #f8f8f2; background-color: #272822\"> {</span><span style=\"background-color: #272822\">                                                                                                 </span><span style=\"background-color: #272722\">  </span>\n<span style=\"background-color: #272722\">  </span><span style=\"color: #f8f8f2; text-decoration-color: #f8f8f2; background-color: #272822\">        </span><span style=\"color: #e6db74; text-decoration-color: #e6db74; background-color: #272822\">'db'</span><span style=\"color: #f8f8f2; text-decoration-color: #f8f8f2; background-color: #272822\">: </span><span style=\"color: #e6db74; text-decoration-color: #e6db74; background-color: #272822\">'pubmed'</span><span style=\"color: #f8f8f2; text-decoration-color: #f8f8f2; background-color: #272822\">,</span><span style=\"background-color: #272822\">                                                                                        </span><span style=\"background-color: #272722\">  </span>\n<span style=\"background-color: #272722\">  </span><span style=\"color: #f8f8f2; text-decoration-color: #f8f8f2; background-color: #272822\">        </span><span style=\"color: #e6db74; text-decoration-color: #e6db74; background-color: #272822\">'id'</span><span style=\"color: #f8f8f2; text-decoration-color: #f8f8f2; background-color: #272822\">: id,</span><span style=\"background-color: #272822\">                                                                                              </span><span style=\"background-color: #272722\">  </span>\n<span style=\"background-color: #272722\">  </span><span style=\"color: #f8f8f2; text-decoration-color: #f8f8f2; background-color: #272822\">        </span><span style=\"color: #e6db74; text-decoration-color: #e6db74; background-color: #272822\">'retmode'</span><span style=\"color: #f8f8f2; text-decoration-color: #f8f8f2; background-color: #272822\">: </span><span style=\"color: #e6db74; text-decoration-color: #e6db74; background-color: #272822\">'xml'</span><span style=\"background-color: #272822\">                                                                                       </span><span style=\"background-color: #272722\">  </span>\n<span style=\"background-color: #272722\">  </span><span style=\"color: #f8f8f2; text-decoration-color: #f8f8f2; background-color: #272822\">    }</span><span style=\"background-color: #272822\">                                                                                                          </span><span style=\"background-color: #272722\">  </span>\n<span style=\"background-color: #272722\">  </span><span style=\"background-color: #272822\">                                                                                                               </span><span style=\"background-color: #272722\">  </span>\n<span style=\"background-color: #272722\">  </span><span style=\"color: #f8f8f2; text-decoration-color: #f8f8f2; background-color: #272822\">    </span><span style=\"color: #959077; text-decoration-color: #959077; background-color: #272822\"># Send the request</span><span style=\"background-color: #272822\">                                                                                         </span><span style=\"background-color: #272722\">  </span>\n<span style=\"background-color: #272722\">  </span><span style=\"color: #f8f8f2; text-decoration-color: #f8f8f2; background-color: #272822\">    response </span><span style=\"color: #ff4689; text-decoration-color: #ff4689; background-color: #272822\">=</span><span style=\"color: #f8f8f2; text-decoration-color: #f8f8f2; background-color: #272822\"> requests</span><span style=\"color: #ff4689; text-decoration-color: #ff4689; background-color: #272822\">.</span><span style=\"color: #f8f8f2; text-decoration-color: #f8f8f2; background-color: #272822\">get(url, params</span><span style=\"color: #ff4689; text-decoration-color: #ff4689; background-color: #272822\">=</span><span style=\"color: #f8f8f2; text-decoration-color: #f8f8f2; background-color: #272822\">params)</span><span style=\"background-color: #272822\">                                                                </span><span style=\"background-color: #272722\">  </span>\n<span style=\"background-color: #272722\">  </span><span style=\"background-color: #272822\">                                                                                                               </span><span style=\"background-color: #272722\">  </span>\n<span style=\"background-color: #272722\">  </span><span style=\"color: #f8f8f2; text-decoration-color: #f8f8f2; background-color: #272822\">    </span><span style=\"color: #959077; text-decoration-color: #959077; background-color: #272822\"># Get the XML content</span><span style=\"background-color: #272822\">                                                                                      </span><span style=\"background-color: #272722\">  </span>\n<span style=\"background-color: #272722\">  </span><span style=\"color: #f8f8f2; text-decoration-color: #f8f8f2; background-color: #272822\">    xml_content </span><span style=\"color: #ff4689; text-decoration-color: #ff4689; background-color: #272822\">=</span><span style=\"color: #f8f8f2; text-decoration-color: #f8f8f2; background-color: #272822\"> response</span><span style=\"color: #ff4689; text-decoration-color: #ff4689; background-color: #272822\">.</span><span style=\"color: #f8f8f2; text-decoration-color: #f8f8f2; background-color: #272822\">content</span><span style=\"background-color: #272822\">                                                                             </span><span style=\"background-color: #272722\">  </span>\n<span style=\"background-color: #272722\">  </span><span style=\"background-color: #272822\">                                                                                                               </span><span style=\"background-color: #272722\">  </span>\n<span style=\"background-color: #272722\">  </span><span style=\"color: #f8f8f2; text-decoration-color: #f8f8f2; background-color: #272822\">    </span><span style=\"color: #959077; text-decoration-color: #959077; background-color: #272822\"># Parse the XML</span><span style=\"background-color: #272822\">                                                                                            </span><span style=\"background-color: #272722\">  </span>\n<span style=\"background-color: #272722\">  </span><span style=\"color: #f8f8f2; text-decoration-color: #f8f8f2; background-color: #272822\">    root </span><span style=\"color: #ff4689; text-decoration-color: #ff4689; background-color: #272822\">=</span><span style=\"color: #f8f8f2; text-decoration-color: #f8f8f2; background-color: #272822\"> ET</span><span style=\"color: #ff4689; text-decoration-color: #ff4689; background-color: #272822\">.</span><span style=\"color: #f8f8f2; text-decoration-color: #f8f8f2; background-color: #272822\">fromstring(xml_content)</span><span style=\"background-color: #272822\">                                                                          </span><span style=\"background-color: #272722\">  </span>\n<span style=\"background-color: #272722\">  </span><span style=\"background-color: #272822\">                                                                                                               </span><span style=\"background-color: #272722\">  </span>\n<span style=\"background-color: #272722\">  </span><span style=\"color: #f8f8f2; text-decoration-color: #f8f8f2; background-color: #272822\">    </span><span style=\"color: #959077; text-decoration-color: #959077; background-color: #272822\"># Get the abstract of the article</span><span style=\"background-color: #272822\">                                                                          </span><span style=\"background-color: #272722\">  </span>\n<span style=\"background-color: #272722\">  </span><span style=\"color: #f8f8f2; text-decoration-color: #f8f8f2; background-color: #272822\">    abstract </span><span style=\"color: #ff4689; text-decoration-color: #ff4689; background-color: #272822\">=</span><span style=\"color: #f8f8f2; text-decoration-color: #f8f8f2; background-color: #272822\"> root</span><span style=\"color: #ff4689; text-decoration-color: #ff4689; background-color: #272822\">.</span><span style=\"color: #f8f8f2; text-decoration-color: #f8f8f2; background-color: #272822\">find(</span><span style=\"color: #e6db74; text-decoration-color: #e6db74; background-color: #272822\">'.//Abstract'</span><span style=\"color: #f8f8f2; text-decoration-color: #f8f8f2; background-color: #272822\">)</span><span style=\"background-color: #272822\">                                                                        </span><span style=\"background-color: #272722\">  </span>\n<span style=\"background-color: #272722\">  </span><span style=\"color: #f8f8f2; text-decoration-color: #f8f8f2; background-color: #272822\">    </span><span style=\"color: #66d9ef; text-decoration-color: #66d9ef; background-color: #272822\">if</span><span style=\"color: #f8f8f2; text-decoration-color: #f8f8f2; background-color: #272822\"> abstract </span><span style=\"color: #ff4689; text-decoration-color: #ff4689; background-color: #272822\">is</span><span style=\"color: #f8f8f2; text-decoration-color: #f8f8f2; background-color: #272822\"> </span><span style=\"color: #ff4689; text-decoration-color: #ff4689; background-color: #272822\">not</span><span style=\"color: #f8f8f2; text-decoration-color: #f8f8f2; background-color: #272822\"> </span><span style=\"color: #66d9ef; text-decoration-color: #66d9ef; background-color: #272822\">None</span><span style=\"color: #f8f8f2; text-decoration-color: #f8f8f2; background-color: #272822\">:</span><span style=\"background-color: #272822\">                                                                                   </span><span style=\"background-color: #272722\">  </span>\n<span style=\"background-color: #272722\">  </span><span style=\"color: #f8f8f2; text-decoration-color: #f8f8f2; background-color: #272822\">        </span><span style=\"color: #959077; text-decoration-color: #959077; background-color: #272822\"># Extract and combine all parts of the abstract with their labels</span><span style=\"background-color: #272822\">                                      </span><span style=\"background-color: #272722\">  </span>\n<span style=\"background-color: #272722\">  </span><span style=\"color: #f8f8f2; text-decoration-color: #f8f8f2; background-color: #272822\">        abstract_text </span><span style=\"color: #ff4689; text-decoration-color: #ff4689; background-color: #272822\">=</span><span style=\"color: #f8f8f2; text-decoration-color: #f8f8f2; background-color: #272822\"> </span><span style=\"color: #e6db74; text-decoration-color: #e6db74; background-color: #272822\">' '</span><span style=\"color: #ff4689; text-decoration-color: #ff4689; background-color: #272822\">.</span><span style=\"color: #f8f8f2; text-decoration-color: #f8f8f2; background-color: #272822\">join([</span><span style=\"color: #e6db74; text-decoration-color: #e6db74; background-color: #272822\">f'{</span><span style=\"color: #f8f8f2; text-decoration-color: #f8f8f2; background-color: #272822\">part</span><span style=\"color: #ff4689; text-decoration-color: #ff4689; background-color: #272822\">.</span><span style=\"color: #f8f8f2; text-decoration-color: #f8f8f2; background-color: #272822\">get(</span><span style=\"color: #e6db74; text-decoration-color: #e6db74; background-color: #272822\">\"Label\"</span><span style=\"color: #f8f8f2; text-decoration-color: #f8f8f2; background-color: #272822\">)</span><span style=\"color: #e6db74; text-decoration-color: #e6db74; background-color: #272822\">}: {</span><span style=\"color: #f8f8f2; text-decoration-color: #f8f8f2; background-color: #272822\">part</span><span style=\"color: #ff4689; text-decoration-color: #ff4689; background-color: #272822\">.</span><span style=\"color: #f8f8f2; text-decoration-color: #f8f8f2; background-color: #272822\">text</span><span style=\"color: #e6db74; text-decoration-color: #e6db74; background-color: #272822\">}'</span><span style=\"color: #f8f8f2; text-decoration-color: #f8f8f2; background-color: #272822\"> </span><span style=\"color: #66d9ef; text-decoration-color: #66d9ef; background-color: #272822\">for</span><span style=\"color: #f8f8f2; text-decoration-color: #f8f8f2; background-color: #272822\"> part </span><span style=\"color: #ff4689; text-decoration-color: #ff4689; background-color: #272822\">in</span><span style=\"color: #f8f8f2; text-decoration-color: #f8f8f2; background-color: #272822\"> </span><span style=\"background-color: #272822\">                             </span><span style=\"background-color: #272722\">  </span>\n<span style=\"background-color: #272722\">  </span><span style=\"color: #f8f8f2; text-decoration-color: #f8f8f2; background-color: #272822\">abstract</span><span style=\"color: #ff4689; text-decoration-color: #ff4689; background-color: #272822\">.</span><span style=\"color: #f8f8f2; text-decoration-color: #f8f8f2; background-color: #272822\">findall(</span><span style=\"color: #e6db74; text-decoration-color: #e6db74; background-color: #272822\">'AbstractText'</span><span style=\"color: #f8f8f2; text-decoration-color: #f8f8f2; background-color: #272822\">) </span><span style=\"color: #66d9ef; text-decoration-color: #66d9ef; background-color: #272822\">if</span><span style=\"color: #f8f8f2; text-decoration-color: #f8f8f2; background-color: #272822\"> part</span><span style=\"color: #ff4689; text-decoration-color: #ff4689; background-color: #272822\">.</span><span style=\"color: #f8f8f2; text-decoration-color: #f8f8f2; background-color: #272822\">text </span><span style=\"color: #ff4689; text-decoration-color: #ff4689; background-color: #272822\">is</span><span style=\"color: #f8f8f2; text-decoration-color: #f8f8f2; background-color: #272822\"> </span><span style=\"color: #ff4689; text-decoration-color: #ff4689; background-color: #272822\">not</span><span style=\"color: #f8f8f2; text-decoration-color: #f8f8f2; background-color: #272822\"> </span><span style=\"color: #66d9ef; text-decoration-color: #66d9ef; background-color: #272822\">None</span><span style=\"color: #f8f8f2; text-decoration-color: #f8f8f2; background-color: #272822\">])</span><span style=\"background-color: #272822\">                                                    </span><span style=\"background-color: #272722\">  </span>\n<span style=\"background-color: #272722\">  </span><span style=\"color: #f8f8f2; text-decoration-color: #f8f8f2; background-color: #272822\">        abstracts</span><span style=\"color: #ff4689; text-decoration-color: #ff4689; background-color: #272822\">.</span><span style=\"color: #f8f8f2; text-decoration-color: #f8f8f2; background-color: #272822\">append(abstract_text)</span><span style=\"background-color: #272822\">                                                                        </span><span style=\"background-color: #272722\">  </span>\n<span style=\"background-color: #272722\">  </span><span style=\"color: #f8f8f2; text-decoration-color: #f8f8f2; background-color: #272822\">    </span><span style=\"color: #66d9ef; text-decoration-color: #66d9ef; background-color: #272822\">else</span><span style=\"color: #f8f8f2; text-decoration-color: #f8f8f2; background-color: #272822\">:</span><span style=\"background-color: #272822\">                                                                                                      </span><span style=\"background-color: #272722\">  </span>\n<span style=\"background-color: #272722\">  </span><span style=\"color: #f8f8f2; text-decoration-color: #f8f8f2; background-color: #272822\">        abstracts</span><span style=\"color: #ff4689; text-decoration-color: #ff4689; background-color: #272822\">.</span><span style=\"color: #f8f8f2; text-decoration-color: #f8f8f2; background-color: #272822\">append(</span><span style=\"color: #e6db74; text-decoration-color: #e6db74; background-color: #272822\">'No abstract available'</span><span style=\"color: #f8f8f2; text-decoration-color: #f8f8f2; background-color: #272822\">)</span><span style=\"background-color: #272822\">                                                              </span><span style=\"background-color: #272722\">  </span>\n<span style=\"background-color: #272722\">  </span><span style=\"background-color: #272822\">                                                                                                               </span><span style=\"background-color: #272722\">  </span>\n<span style=\"background-color: #272722\">  </span><span style=\"color: #959077; text-decoration-color: #959077; background-color: #272822\"># Update the DataFrame with the full abstracts with labels</span><span style=\"background-color: #272822\">                                                     </span><span style=\"background-color: #272722\">  </span>\n<span style=\"background-color: #272722\">  </span><span style=\"color: #f8f8f2; text-decoration-color: #f8f8f2; background-color: #272822\">df[</span><span style=\"color: #e6db74; text-decoration-color: #e6db74; background-color: #272822\">'Abstract'</span><span style=\"color: #f8f8f2; text-decoration-color: #f8f8f2; background-color: #272822\">] </span><span style=\"color: #ff4689; text-decoration-color: #ff4689; background-color: #272822\">=</span><span style=\"color: #f8f8f2; text-decoration-color: #f8f8f2; background-color: #272822\"> abstracts</span><span style=\"background-color: #272822\">                                                                                     </span><span style=\"background-color: #272722\">  </span>\n<span style=\"background-color: #272722\">  </span><span style=\"background-color: #272822\">                                                                                                               </span><span style=\"background-color: #272722\">  </span>\n<span style=\"background-color: #272722\">  </span><span style=\"color: #f8f8f2; text-decoration-color: #f8f8f2; background-color: #272822\">df</span><span style=\"background-color: #272822\">                                                                                                             </span><span style=\"background-color: #272722\">  </span>\n<span style=\"background-color: #272722\">                                                                                                                   </span>\n<span style=\"color: #ffffff; text-decoration-color: #ffffff; background-color: #3b3b37\">                                                                                                                   </span>\n<span style=\"color: #ffffff; text-decoration-color: #ffffff; background-color: #3b3b37\">  Title                                           Abstract                                                         </span>\n<span style=\"color: #ffffff; text-decoration-color: #ffffff; background-color: #3b3b37\">  0  IgG4-related disease in the eye and ocular adn...  PURPOSE OF REVIEW: IgG4-related disease is a m...          </span>\n<span style=\"color: #ffffff; text-decoration-color: #ffffff; background-color: #3b3b37\">  1  IgG4-related disease: a neuro-ophthalmological...  None: Immunoglobulin G4-related disease (IgG4-...          </span>\n<span style=\"color: #ffffff; text-decoration-color: #ffffff; background-color: #3b3b37\">  2  IgG4-Related Ophthalmic Disease. Part II: Clin...  PURPOSE: To review the current state of knowle...          </span>\n<span style=\"color: #ffffff; text-decoration-color: #ffffff; background-color: #3b3b37\">  3      Immunoglobulin G4-related ophthalmic disease.  None: Immunoglobulin G4-related disease (IgG4-...          </span>\n<span style=\"color: #ffffff; text-decoration-color: #ffffff; background-color: #3b3b37\">  4  Novel Advances in the Study of IgG4-Related Di...  None: Immunoglobin G4 (IgG4)-related disease i...          </span>\n<span style=\"color: #ffffff; text-decoration-color: #ffffff; background-color: #3b3b37\">  5  IgG4-related ophthalmic disease. Part I: backg...  PURPOSE: To review the current state of knowle...          </span>\n<span style=\"color: #ffffff; text-decoration-color: #ffffff; background-color: #3b3b37\">  6  IgG4-related orbital disease: a meta-analysis ...  None: IgG4-related orbital disease (IgG4-ROD) ...          </span>\n<span style=\"color: #ffffff; text-decoration-color: #ffffff; background-color: #3b3b37\">  7  Distinguishing IgG4-Related Ophthalmic Disease...  PURPOSE: The authors aimed to determine key fe...          </span>\n<span style=\"color: #ffffff; text-decoration-color: #ffffff; background-color: #3b3b37\">  8  Probable IGG4 related ophthalmic disease prese...  None: We present a case of an uncommon present...          </span>\n<span style=\"color: #ffffff; text-decoration-color: #ffffff; background-color: #3b3b37\">  9  IgG4-Related Ophthalmic Disease: Pooling of Pu...  None: In recent years, IgG4-related ophthalmic...          </span>\n<span style=\"color: #ffffff; text-decoration-color: #ffffff; background-color: #3b3b37\">                                                                                                                   </span>\n</pre>\n"
                },
                "metadata": {}
              }
            ]
          }
        },
        "befc7f637eb045af96fab412e78a98fb": {
          "model_module": "@jupyter-widgets/base",
          "model_name": "LayoutModel",
          "model_module_version": "1.2.0",
          "state": {
            "_model_module": "@jupyter-widgets/base",
            "_model_module_version": "1.2.0",
            "_model_name": "LayoutModel",
            "_view_count": null,
            "_view_module": "@jupyter-widgets/base",
            "_view_module_version": "1.2.0",
            "_view_name": "LayoutView",
            "align_content": null,
            "align_items": null,
            "align_self": null,
            "border": null,
            "bottom": null,
            "display": null,
            "flex": null,
            "flex_flow": null,
            "grid_area": null,
            "grid_auto_columns": null,
            "grid_auto_flow": null,
            "grid_auto_rows": null,
            "grid_column": null,
            "grid_gap": null,
            "grid_row": null,
            "grid_template_areas": null,
            "grid_template_columns": null,
            "grid_template_rows": null,
            "height": null,
            "justify_content": null,
            "justify_items": null,
            "left": null,
            "margin": null,
            "max_height": null,
            "max_width": null,
            "min_height": null,
            "min_width": null,
            "object_fit": null,
            "object_position": null,
            "order": null,
            "overflow": null,
            "overflow_x": null,
            "overflow_y": null,
            "padding": null,
            "right": null,
            "top": null,
            "visibility": null,
            "width": null
          }
        },
        "9eb8969e6366412cb1a8e7d595e4f2d5": {
          "model_module": "@jupyter-widgets/output",
          "model_name": "OutputModel",
          "model_module_version": "1.0.0",
          "state": {
            "_dom_classes": [],
            "_model_module": "@jupyter-widgets/output",
            "_model_module_version": "1.0.0",
            "_model_name": "OutputModel",
            "_view_count": null,
            "_view_module": "@jupyter-widgets/output",
            "_view_module_version": "1.0.0",
            "_view_name": "OutputView",
            "layout": "IPY_MODEL_c2c45bd907d9425495ec6631dcec9f22",
            "msg_id": "",
            "outputs": [
              {
                "output_type": "display_data",
                "data": {
                  "text/plain": "                                                                                                                   \n  指定されたPubMed記事のIDを使用して取得した各記事のタイトルと抽象（見出し付き全文）を表形式で表示しまし           \n  た。以下にそれらの情報をリストします。                                                                           \n                                                                                                                   \n                                                                                                                   \n   \u001b[1m \u001b[0m\u001b[1mTitle\u001b[0m\u001b[1m                                               \u001b[0m\u001b[1m \u001b[0m \u001b[1m \u001b[0m\u001b[1mAbstract\u001b[0m\u001b[1m                                            \u001b[0m\u001b[1m \u001b[0m   \n   ━━━━━━━━━━━━━━━━━━━━━━━━━━━━━━━━━━━━━━━━━━━━━━━━━━━━━━━━━━━━━━━━━━━━━━━━━━━━━━━━━━━━━━━━━━━━━━━━━━━━━━━━━━━━━   \n    IgG4-related disease in the eye and ocular adnexa.     PURPOSE OF REVIEW: IgG4-related disease is a            \n                                                           multi-organ fibro-inflammatory condition                \n                                                           characterized by tumefactive lesions, dense             \n                                                           lymphoplasmacytic infiltrate rich in IgG4-positive      \n                                                           plasma cells, storiform fibrosis, and often elevated    \n                                                           serum IgG4 concentration.                               \n    IgG4-related disease: a neuro-ophthalmological         None: Immunoglobulin G4-related disease (IgG4-RD) is    \n    perspective.                                           a systemic fibroinflammatory disease that can affect    \n                                                           virtually any organ.                                    \n    IgG4-Related Ophthalmic Disease. Part II: Clinical     PURPOSE: To review the current state of knowledge of    \n    Aspects.                                               IgG4-related ophthalmic disease (IgG4-ROD).             \n    ...                                                    ...                                                     \n                                                                                                                   \n                                                                                                                   \n  これらの情報は、指定されたIDに対応するPubMed記事のタイトルと抽象（見出し付き全文）です。\"None\"と表示さ           \n  れている部分は、その部分の抽象に見出しがないことを示しています。                                                 \n                                                                                                                   \n",
                  "text/html": "<pre style=\"white-space:pre;overflow-x:auto;line-height:normal;font-family:Menlo,'DejaVu Sans Mono',consolas,'Courier New',monospace\">                                                                                                                   \n  指定されたPubMed記事のIDを使用して取得した各記事のタイトルと抽象（見出し付き全文）を表形式で表示しまし           \n  た。以下にそれらの情報をリストします。                                                                           \n                                                                                                                   \n                                                                                                                   \n   <span style=\"font-weight: bold\"> Title                                                </span> <span style=\"font-weight: bold\"> Abstract                                             </span>   \n   ━━━━━━━━━━━━━━━━━━━━━━━━━━━━━━━━━━━━━━━━━━━━━━━━━━━━━━━━━━━━━━━━━━━━━━━━━━━━━━━━━━━━━━━━━━━━━━━━━━━━━━━━━━━━━   \n    IgG4-related disease in the eye and ocular adnexa.     PURPOSE OF REVIEW: IgG4-related disease is a            \n                                                           multi-organ fibro-inflammatory condition                \n                                                           characterized by tumefactive lesions, dense             \n                                                           lymphoplasmacytic infiltrate rich in IgG4-positive      \n                                                           plasma cells, storiform fibrosis, and often elevated    \n                                                           serum IgG4 concentration.                               \n    IgG4-related disease: a neuro-ophthalmological         None: Immunoglobulin G4-related disease (IgG4-RD) is    \n    perspective.                                           a systemic fibroinflammatory disease that can affect    \n                                                           virtually any organ.                                    \n    IgG4-Related Ophthalmic Disease. Part II: Clinical     PURPOSE: To review the current state of knowledge of    \n    Aspects.                                               IgG4-related ophthalmic disease (IgG4-ROD).             \n    ...                                                    ...                                                     \n                                                                                                                   \n                                                                                                                   \n  これらの情報は、指定されたIDに対応するPubMed記事のタイトルと抽象（見出し付き全文）です。\"None\"と表示さ           \n  れている部分は、その部分の抽象に見出しがないことを示しています。                                                 \n                                                                                                                   \n</pre>\n"
                },
                "metadata": {}
              }
            ]
          }
        },
        "c2c45bd907d9425495ec6631dcec9f22": {
          "model_module": "@jupyter-widgets/base",
          "model_name": "LayoutModel",
          "model_module_version": "1.2.0",
          "state": {
            "_model_module": "@jupyter-widgets/base",
            "_model_module_version": "1.2.0",
            "_model_name": "LayoutModel",
            "_view_count": null,
            "_view_module": "@jupyter-widgets/base",
            "_view_module_version": "1.2.0",
            "_view_name": "LayoutView",
            "align_content": null,
            "align_items": null,
            "align_self": null,
            "border": null,
            "bottom": null,
            "display": null,
            "flex": null,
            "flex_flow": null,
            "grid_area": null,
            "grid_auto_columns": null,
            "grid_auto_flow": null,
            "grid_auto_rows": null,
            "grid_column": null,
            "grid_gap": null,
            "grid_row": null,
            "grid_template_areas": null,
            "grid_template_columns": null,
            "grid_template_rows": null,
            "height": null,
            "justify_content": null,
            "justify_items": null,
            "left": null,
            "margin": null,
            "max_height": null,
            "max_width": null,
            "min_height": null,
            "min_width": null,
            "object_fit": null,
            "object_position": null,
            "order": null,
            "overflow": null,
            "overflow_x": null,
            "overflow_y": null,
            "padding": null,
            "right": null,
            "top": null,
            "visibility": null,
            "width": null
          }
        },
        "bc94c9f7a7264689bf97c9d1ad00bb8b": {
          "model_module": "@jupyter-widgets/output",
          "model_name": "OutputModel",
          "model_module_version": "1.0.0",
          "state": {
            "_dom_classes": [],
            "_model_module": "@jupyter-widgets/output",
            "_model_module_version": "1.0.0",
            "_model_name": "OutputModel",
            "_view_count": null,
            "_view_module": "@jupyter-widgets/output",
            "_view_module_version": "1.0.0",
            "_view_name": "OutputView",
            "layout": "IPY_MODEL_b40dc38857914186b11877f9a34a4d0e",
            "msg_id": "",
            "outputs": [
              {
                "output_type": "display_data",
                "data": {
                  "text/plain": "\n\u001b[48;2;39;39;34m                                                                                                                   \u001b[0m\n\u001b[48;2;39;39;34m \u001b[0m\u001b[48;2;39;39;34m \u001b[0m\u001b[38;2;248;248;242;48;2;39;40;34mprint\u001b[0m\u001b[38;2;248;248;242;48;2;39;40;34m(\u001b[0m\u001b[38;2;230;219;116;48;2;39;40;34m'\u001b[0m\u001b[38;2;230;219;116;48;2;39;40;34mHello, World!\u001b[0m\u001b[38;2;230;219;116;48;2;39;40;34m'\u001b[0m\u001b[38;2;248;248;242;48;2;39;40;34m)\u001b[0m\u001b[48;2;39;40;34m                                                                                         \u001b[0m\u001b[48;2;39;39;34m \u001b[0m\u001b[48;2;39;39;34m \u001b[0m\n\u001b[48;2;39;39;34m                                                                                                                   \u001b[0m\n\u001b[38;2;255;255;255;48;2;59;59;55m                                                                                                                   \u001b[0m\n\u001b[38;2;255;255;255;48;2;59;59;55m \u001b[0m\u001b[38;2;255;255;255;48;2;59;59;55m \u001b[0m\u001b[38;2;255;255;255;48;2;59;59;55mHello, World!\u001b[0m\u001b[38;2;255;255;255;48;2;59;59;55m                                                                                                  \u001b[0m\u001b[38;2;255;255;255;48;2;59;59;55m \u001b[0m\u001b[38;2;255;255;255;48;2;59;59;55m \u001b[0m\n\u001b[38;2;255;255;255;48;2;59;59;55m                                                                                                                   \u001b[0m\n",
                  "text/html": "<pre style=\"white-space:pre;overflow-x:auto;line-height:normal;font-family:Menlo,'DejaVu Sans Mono',consolas,'Courier New',monospace\">\n<span style=\"background-color: #272722\">                                                                                                                   </span>\n<span style=\"background-color: #272722\">  </span><span style=\"color: #f8f8f2; text-decoration-color: #f8f8f2; background-color: #272822\">print(</span><span style=\"color: #e6db74; text-decoration-color: #e6db74; background-color: #272822\">'Hello, World!'</span><span style=\"color: #f8f8f2; text-decoration-color: #f8f8f2; background-color: #272822\">)</span><span style=\"background-color: #272822\">                                                                                         </span><span style=\"background-color: #272722\">  </span>\n<span style=\"background-color: #272722\">                                                                                                                   </span>\n<span style=\"color: #ffffff; text-decoration-color: #ffffff; background-color: #3b3b37\">                                                                                                                   </span>\n<span style=\"color: #ffffff; text-decoration-color: #ffffff; background-color: #3b3b37\">  Hello, World!                                                                                                    </span>\n<span style=\"color: #ffffff; text-decoration-color: #ffffff; background-color: #3b3b37\">                                                                                                                   </span>\n</pre>\n"
                },
                "metadata": {}
              }
            ]
          }
        },
        "b40dc38857914186b11877f9a34a4d0e": {
          "model_module": "@jupyter-widgets/base",
          "model_name": "LayoutModel",
          "model_module_version": "1.2.0",
          "state": {
            "_model_module": "@jupyter-widgets/base",
            "_model_module_version": "1.2.0",
            "_model_name": "LayoutModel",
            "_view_count": null,
            "_view_module": "@jupyter-widgets/base",
            "_view_module_version": "1.2.0",
            "_view_name": "LayoutView",
            "align_content": null,
            "align_items": null,
            "align_self": null,
            "border": null,
            "bottom": null,
            "display": null,
            "flex": null,
            "flex_flow": null,
            "grid_area": null,
            "grid_auto_columns": null,
            "grid_auto_flow": null,
            "grid_auto_rows": null,
            "grid_column": null,
            "grid_gap": null,
            "grid_row": null,
            "grid_template_areas": null,
            "grid_template_columns": null,
            "grid_template_rows": null,
            "height": null,
            "justify_content": null,
            "justify_items": null,
            "left": null,
            "margin": null,
            "max_height": null,
            "max_width": null,
            "min_height": null,
            "min_width": null,
            "object_fit": null,
            "object_position": null,
            "order": null,
            "overflow": null,
            "overflow_x": null,
            "overflow_y": null,
            "padding": null,
            "right": null,
            "top": null,
            "visibility": null,
            "width": null
          }
        },
        "1871c3babdd141628de13d3d812ca83b": {
          "model_module": "@jupyter-widgets/output",
          "model_name": "OutputModel",
          "model_module_version": "1.0.0",
          "state": {
            "_dom_classes": [],
            "_model_module": "@jupyter-widgets/output",
            "_model_module_version": "1.0.0",
            "_model_name": "OutputModel",
            "_view_count": null,
            "_view_module": "@jupyter-widgets/output",
            "_view_module_version": "1.0.0",
            "_view_name": "OutputView",
            "layout": "IPY_MODEL_b670db47f95345a8baf2e72ac5e7206f",
            "msg_id": "",
            "outputs": [
              {
                "output_type": "display_data",
                "data": {
                  "text/plain": "                                                                                                                   \n  The code has been executed successfully and it printed \"Hello, World!\".                                          \n                                                                                                                   \n",
                  "text/html": "<pre style=\"white-space:pre;overflow-x:auto;line-height:normal;font-family:Menlo,'DejaVu Sans Mono',consolas,'Courier New',monospace\">                                                                                                                   \n  The code has been executed successfully and it printed \"Hello, World!\".                                          \n                                                                                                                   \n</pre>\n"
                },
                "metadata": {}
              }
            ]
          }
        },
        "b670db47f95345a8baf2e72ac5e7206f": {
          "model_module": "@jupyter-widgets/base",
          "model_name": "LayoutModel",
          "model_module_version": "1.2.0",
          "state": {
            "_model_module": "@jupyter-widgets/base",
            "_model_module_version": "1.2.0",
            "_model_name": "LayoutModel",
            "_view_count": null,
            "_view_module": "@jupyter-widgets/base",
            "_view_module_version": "1.2.0",
            "_view_name": "LayoutView",
            "align_content": null,
            "align_items": null,
            "align_self": null,
            "border": null,
            "bottom": null,
            "display": null,
            "flex": null,
            "flex_flow": null,
            "grid_area": null,
            "grid_auto_columns": null,
            "grid_auto_flow": null,
            "grid_auto_rows": null,
            "grid_column": null,
            "grid_gap": null,
            "grid_row": null,
            "grid_template_areas": null,
            "grid_template_columns": null,
            "grid_template_rows": null,
            "height": null,
            "justify_content": null,
            "justify_items": null,
            "left": null,
            "margin": null,
            "max_height": null,
            "max_width": null,
            "min_height": null,
            "min_width": null,
            "object_fit": null,
            "object_position": null,
            "order": null,
            "overflow": null,
            "overflow_x": null,
            "overflow_y": null,
            "padding": null,
            "right": null,
            "top": null,
            "visibility": null,
            "width": null
          }
        },
        "e29db7b9a9394be5a0b2ff2250f68d6c": {
          "model_module": "@jupyter-widgets/output",
          "model_name": "OutputModel",
          "model_module_version": "1.0.0",
          "state": {
            "_dom_classes": [],
            "_model_module": "@jupyter-widgets/output",
            "_model_module_version": "1.0.0",
            "_model_name": "OutputModel",
            "_view_count": null,
            "_view_module": "@jupyter-widgets/output",
            "_view_module_version": "1.0.0",
            "_view_name": "OutputView",
            "layout": "IPY_MODEL_1901a5f086804d78aae884b5506065f8",
            "msg_id": "",
            "outputs": [
              {
                "output_type": "display_data",
                "data": {
                  "text/plain": "                                                                                                                   \n  It seems like you've provided a URL to an API endpoint. This API endpoint is for TheCatAPI, which returns        \n  random images of cats.                                                                                           \n                                                                                                                   \n  How can I assist you with this? Would you like to fetch an image from this API, or is there something specific   \n  you'd like to do?                                                                                                \n                                                                                                                   \n",
                  "text/html": "<pre style=\"white-space:pre;overflow-x:auto;line-height:normal;font-family:Menlo,'DejaVu Sans Mono',consolas,'Courier New',monospace\">                                                                                                                   \n  It seems like you've provided a URL to an API endpoint. This API endpoint is for TheCatAPI, which returns        \n  random images of cats.                                                                                           \n                                                                                                                   \n  How can I assist you with this? Would you like to fetch an image from this API, or is there something specific   \n  you'd like to do?                                                                                                \n                                                                                                                   \n</pre>\n"
                },
                "metadata": {}
              }
            ]
          }
        },
        "1901a5f086804d78aae884b5506065f8": {
          "model_module": "@jupyter-widgets/base",
          "model_name": "LayoutModel",
          "model_module_version": "1.2.0",
          "state": {
            "_model_module": "@jupyter-widgets/base",
            "_model_module_version": "1.2.0",
            "_model_name": "LayoutModel",
            "_view_count": null,
            "_view_module": "@jupyter-widgets/base",
            "_view_module_version": "1.2.0",
            "_view_name": "LayoutView",
            "align_content": null,
            "align_items": null,
            "align_self": null,
            "border": null,
            "bottom": null,
            "display": null,
            "flex": null,
            "flex_flow": null,
            "grid_area": null,
            "grid_auto_columns": null,
            "grid_auto_flow": null,
            "grid_auto_rows": null,
            "grid_column": null,
            "grid_gap": null,
            "grid_row": null,
            "grid_template_areas": null,
            "grid_template_columns": null,
            "grid_template_rows": null,
            "height": null,
            "justify_content": null,
            "justify_items": null,
            "left": null,
            "margin": null,
            "max_height": null,
            "max_width": null,
            "min_height": null,
            "min_width": null,
            "object_fit": null,
            "object_position": null,
            "order": null,
            "overflow": null,
            "overflow_x": null,
            "overflow_y": null,
            "padding": null,
            "right": null,
            "top": null,
            "visibility": null,
            "width": null
          }
        }
      }
    }
  },
  "nbformat": 4,
  "nbformat_minor": 0
}