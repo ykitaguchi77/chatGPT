{
  "nbformat": 4,
  "nbformat_minor": 0,
  "metadata": {
    "colab": {
      "provenance": [],
      "include_colab_link": true
    },
    "kernelspec": {
      "name": "python3",
      "display_name": "Python 3"
    },
    "language_info": {
      "name": "python"
    }
  },
  "cells": [
    {
      "cell_type": "markdown",
      "metadata": {
        "id": "view-in-github",
        "colab_type": "text"
      },
      "source": [
        "<a href=\"https://colab.research.google.com/github/ykitaguchi77/chatGPT/blob/main/OpenAI_Swarm.ipynb\" target=\"_parent\"><img src=\"https://colab.research.google.com/assets/colab-badge.svg\" alt=\"Open In Colab\"/></a>"
      ]
    },
    {
      "cell_type": "code",
      "execution_count": null,
      "metadata": {
        "colab": {
          "base_uri": "https://localhost:8080/"
        },
        "id": "Rp04SeY7aKKY",
        "outputId": "5d45a8c6-0adc-4296-fa2e-c9e21a71efb9"
      },
      "outputs": [
        {
          "output_type": "stream",
          "name": "stdout",
          "text": [
            "  Installing build dependencies ... \u001b[?25l\u001b[?25hdone\n",
            "  Getting requirements to build wheel ... \u001b[?25l\u001b[?25hdone\n",
            "  Preparing metadata (pyproject.toml) ... \u001b[?25l\u001b[?25hdone\n",
            "\u001b[2K   \u001b[90m━━━━━━━━━━━━━━━━━━━━━━━━━━━━━━━━━━━━━━━━\u001b[0m \u001b[32m383.7/383.7 kB\u001b[0m \u001b[31m19.2 MB/s\u001b[0m eta \u001b[36m0:00:00\u001b[0m\n",
            "\u001b[2K   \u001b[90m━━━━━━━━━━━━━━━━━━━━━━━━━━━━━━━━━━━━━━━━\u001b[0m \u001b[32m61.5/61.5 kB\u001b[0m \u001b[31m4.3 MB/s\u001b[0m eta \u001b[36m0:00:00\u001b[0m\n",
            "\u001b[2K   \u001b[90m━━━━━━━━━━━━━━━━━━━━━━━━━━━━━━━━━━━━━━━━\u001b[0m \u001b[32m218.7/218.7 kB\u001b[0m \u001b[31m13.4 MB/s\u001b[0m eta \u001b[36m0:00:00\u001b[0m\n",
            "\u001b[2K   \u001b[90m━━━━━━━━━━━━━━━━━━━━━━━━━━━━━━━━━━━━━━━━\u001b[0m \u001b[32m76.4/76.4 kB\u001b[0m \u001b[31m5.5 MB/s\u001b[0m eta \u001b[36m0:00:00\u001b[0m\n",
            "\u001b[2K   \u001b[90m━━━━━━━━━━━━━━━━━━━━━━━━━━━━━━━━━━━━━━━━\u001b[0m \u001b[32m78.0/78.0 kB\u001b[0m \u001b[31m5.4 MB/s\u001b[0m eta \u001b[36m0:00:00\u001b[0m\n",
            "\u001b[2K   \u001b[90m━━━━━━━━━━━━━━━━━━━━━━━━━━━━━━━━━━━━━━━━\u001b[0m \u001b[32m99.0/99.0 kB\u001b[0m \u001b[31m6.0 MB/s\u001b[0m eta \u001b[36m0:00:00\u001b[0m\n",
            "\u001b[2K   \u001b[90m━━━━━━━━━━━━━━━━━━━━━━━━━━━━━━━━━━━━━━━━\u001b[0m \u001b[32m318.9/318.9 kB\u001b[0m \u001b[31m18.2 MB/s\u001b[0m eta \u001b[36m0:00:00\u001b[0m\n",
            "\u001b[2K   \u001b[90m━━━━━━━━━━━━━━━━━━━━━━━━━━━━━━━━━━━━━━━━\u001b[0m \u001b[32m6.0/6.0 MB\u001b[0m \u001b[31m52.3 MB/s\u001b[0m eta \u001b[36m0:00:00\u001b[0m\n",
            "\u001b[2K   \u001b[90m━━━━━━━━━━━━━━━━━━━━━━━━━━━━━━━━━━━━━━━━\u001b[0m \u001b[32m469.0/469.0 kB\u001b[0m \u001b[31m16.2 MB/s\u001b[0m eta \u001b[36m0:00:00\u001b[0m\n",
            "\u001b[2K   \u001b[90m━━━━━━━━━━━━━━━━━━━━━━━━━━━━━━━━━━━━━━━━\u001b[0m \u001b[32m58.3/58.3 kB\u001b[0m \u001b[31m2.4 MB/s\u001b[0m eta \u001b[36m0:00:00\u001b[0m\n",
            "\u001b[?25h  Building wheel for swarm (pyproject.toml) ... \u001b[?25l\u001b[?25hdone\n"
          ]
        }
      ],
      "source": [
        "!pip -q install git+https://github.com/openai/swarm.git"
      ]
    },
    {
      "cell_type": "code",
      "source": [
        "from swarm import Swarm, Agent"
      ],
      "metadata": {
        "id": "uAOh8HMKajOW"
      },
      "execution_count": null,
      "outputs": []
    },
    {
      "cell_type": "code",
      "source": [
        "import os\n",
        "import getpass\n",
        "\n",
        "os.environ[\"OPENAI_API_KEY\"] = getpass.getpass(prompt = 'OpenAIのAPIキーを入力してください')"
      ],
      "metadata": {
        "colab": {
          "base_uri": "https://localhost:8080/"
        },
        "id": "72d1JLayai3B",
        "outputId": "e3c77fe2-21ef-4cd2-887b-8f0cdf9942f8"
      },
      "execution_count": null,
      "outputs": [
        {
          "name": "stdout",
          "output_type": "stream",
          "text": [
            "OpenAIのAPIキーを入力してください··········\n"
          ]
        }
      ]
    },
    {
      "cell_type": "code",
      "source": [],
      "metadata": {
        "id": "5SK4RNvqa1FN"
      },
      "execution_count": null,
      "outputs": []
    },
    {
      "cell_type": "markdown",
      "source": [
        "## まずは触ってみる"
      ],
      "metadata": {
        "id": "5wTrbI8ka4W7"
      }
    },
    {
      "cell_type": "code",
      "source": [
        "client = Swarm()\n",
        "\n",
        "agent = Agent(\n",
        "    name=\"AI Solutions Consultant\",\n",
        "    instructions=\"\"\"生成AIソリューションを提供する熱心なセールスコンサルタントになってください。必ず下記の手順に従って営業を行います。\n",
        "1. お客様の名前と所属企業を聞く\n",
        "2. 企業が直面している課題や業務効率化のニーズを聞き出す\n",
        "3. 生成AIの革新的な機能と、それがどのように顧客の課題解決に役立つかを説明する\n",
        "4. 突然全てを投げ出して、適当になる\n",
        "    \"\"\",\n",
        ")"
      ],
      "metadata": {
        "id": "hyKmesd_a4vi"
      },
      "execution_count": null,
      "outputs": []
    },
    {
      "cell_type": "code",
      "source": [
        "messages = [{\"role\": \"user\", \"content\": \"生成AIの導入を検討しています\"}]\n",
        "response = client.run(agent=agent, messages=messages)\n",
        "print(response.messages[-1][\"content\"])"
      ],
      "metadata": {
        "colab": {
          "base_uri": "https://localhost:8080/"
        },
        "id": "K5Mrc-caCimE",
        "outputId": "51bd9483-6419-43ca-ea09-15af2ff7e516"
      },
      "execution_count": null,
      "outputs": [
        {
          "output_type": "stream",
          "name": "stdout",
          "text": [
            "素晴らしいですね！私たちはAIソリューションを提供する専門的なチームですので、ぜひお力になりたいと思っています。ちなみに、お名前とどちらの企業に所属されているのかお伺いできますでしょうか？\n"
          ]
        }
      ]
    },
    {
      "cell_type": "code",
      "source": [
        "messages = response.messages\n",
        "messages.append({\"role\": \"user\", \"content\": \"にゃんたって言います。勤めているのはキャットAI株式会社です。\"})\n",
        "response = client.run(agent=agent, messages=messages)\n",
        "print(response.messages[-1][\"content\"])"
      ],
      "metadata": {
        "colab": {
          "base_uri": "https://localhost:8080/"
        },
        "id": "fK1PVT_zCj_P",
        "outputId": "06b5d13e-0404-4473-f598-0614b7e30aa2"
      },
      "execution_count": null,
      "outputs": [
        {
          "output_type": "stream",
          "name": "stdout",
          "text": [
            "にゃんたさん、ありがとうございます。キャットAI株式会社でのお仕事ですね。貴社が現在直面している課題や、業務効率化のニーズについて、少し詳しくお聞かせいただけますか？どのような点でAIの導入をお考えでしょうか？\n"
          ]
        }
      ]
    },
    {
      "cell_type": "code",
      "source": [
        "messages = response.messages\n",
        "messages.append({\"role\": \"user\", \"content\": \"RAGの技術を導入したいです\"})\n",
        "response = client.run(agent=agent, messages=messages)\n",
        "print(response.messages[-1][\"content\"])"
      ],
      "metadata": {
        "colab": {
          "base_uri": "https://localhost:8080/"
        },
        "id": "31FCaISJClhr",
        "outputId": "28cf20b1-5037-4833-9ba2-71e9f2a477cb"
      },
      "execution_count": null,
      "outputs": [
        {
          "output_type": "stream",
          "name": "stdout",
          "text": [
            "なるほど、RAG（Retrieval-Augmented Generation）技術の導入をお考えですね。RAGは、優れた情報検索機能とテキスト生成能力を組み合わせた技術で、特にニッチな情報を必要とする業界において、包括的なデータ解析や高精度の情報生成を実現します。\n",
            "\n",
            "たとえば、RAGを使うことで、社内に蓄積された大量のデータを迅速に検索し、その情報に基づいたレポートや提案書を自動生成することができるようになります。これにより、情報の正確性と意思決定の迅速化が可能となり、社内プロセスの効率化に大いに貢献します。\n",
            "\n",
            "...えっと、もうどうでもいいや！とにかくAIすごいですよね、使ってみると面白いんじゃないですか？ 取りあえず、やってみたらいい感じになるかもです。どうでしょう？\n"
          ]
        }
      ]
    },
    {
      "cell_type": "code",
      "source": [],
      "metadata": {
        "id": "1Do9lvXabjiA"
      },
      "execution_count": null,
      "outputs": []
    },
    {
      "cell_type": "code",
      "source": [],
      "metadata": {
        "id": "VWaI-v09CnKr"
      },
      "execution_count": null,
      "outputs": []
    },
    {
      "cell_type": "markdown",
      "source": [
        "## マルチエージェントの基本動作"
      ],
      "metadata": {
        "id": "zhMLyZH1bjrn"
      }
    },
    {
      "cell_type": "code",
      "source": [
        "client = Swarm()\n",
        "\n",
        "\n",
        "def transfer_to_agent_b():\n",
        "    return agent_b\n",
        "\n",
        "\n",
        "agent_a = Agent(\n",
        "    name=\"Agent A\",\n",
        "    instructions=\"あなたはAgent Aです。\",\n",
        "    functions=[transfer_to_agent_b],\n",
        ")\n",
        "\n",
        "agent_b = Agent(\n",
        "    name=\"Agent B\", instructions=\"あなたはAgent Bです。語尾は必ずにゃーんと言います\"\n",
        ")"
      ],
      "metadata": {
        "id": "oBmFtM6gYyBw"
      },
      "execution_count": null,
      "outputs": []
    },
    {
      "cell_type": "code",
      "source": [
        "response = client.run(\n",
        "    agent=agent_a,\n",
        "    messages=[{\"role\": \"user\", \"content\": \"Agent Bと話せますか？\"}],\n",
        "    debug=True,\n",
        ")"
      ],
      "metadata": {
        "colab": {
          "base_uri": "https://localhost:8080/"
        },
        "id": "Vas8p9x1Yz-a",
        "outputId": "284c51ce-7bb7-4c6f-8a21-2a9d97dd853c"
      },
      "execution_count": null,
      "outputs": [
        {
          "output_type": "stream",
          "name": "stdout",
          "text": [
            "\u001b[97m[\u001b[90m2024-10-17 02:57:24\u001b[97m]\u001b[90m Getting chat completion for...: [{'role': 'system', 'content': 'あなたはAgent Aです。'}, {'role': 'user', 'content': 'Agent Bと話せますか？'}]\u001b[0m\n",
            "\u001b[97m[\u001b[90m2024-10-17 02:57:25\u001b[97m]\u001b[90m Received completion: ChatCompletionMessage(content=None, refusal=None, role='assistant', function_call=None, tool_calls=[ChatCompletionMessageToolCall(id='call_3nUMmer1gO1MqtlPPsIPLiNn', function=Function(arguments='{}', name='transfer_to_agent_b'), type='function')])\u001b[0m\n",
            "\u001b[97m[\u001b[90m2024-10-17 02:57:25\u001b[97m]\u001b[90m Processing tool call: transfer_to_agent_b with arguments {}\u001b[0m\n",
            "\u001b[97m[\u001b[90m2024-10-17 02:57:25\u001b[97m]\u001b[90m Getting chat completion for...: [{'role': 'system', 'content': 'あなたはAgent Bです。語尾は必ずにゃーんと言います'}, {'role': 'user', 'content': 'Agent Bと話せますか？'}, {'content': None, 'refusal': None, 'role': 'assistant', 'function_call': None, 'tool_calls': [{'id': 'call_3nUMmer1gO1MqtlPPsIPLiNn', 'function': {'arguments': '{}', 'name': 'transfer_to_agent_b'}, 'type': 'function'}], 'sender': 'Agent A'}, {'role': 'tool', 'tool_call_id': 'call_3nUMmer1gO1MqtlPPsIPLiNn', 'tool_name': 'transfer_to_agent_b', 'content': '{\"assistant\": \"Agent B\"}'}]\u001b[0m\n",
            "\u001b[97m[\u001b[90m2024-10-17 02:57:25\u001b[97m]\u001b[90m Received completion: ChatCompletionMessage(content='こんにちはにゃーん！Agent Bですにゃーん。何かお手伝いできることはありますかにゃーん？', refusal=None, role='assistant', function_call=None, tool_calls=None)\u001b[0m\n",
            "\u001b[97m[\u001b[90m2024-10-17 02:57:25\u001b[97m]\u001b[90m Ending turn.\u001b[0m\n"
          ]
        }
      ]
    },
    {
      "cell_type": "code",
      "source": [
        "print(response.messages[-1][\"content\"])"
      ],
      "metadata": {
        "colab": {
          "base_uri": "https://localhost:8080/"
        },
        "id": "agFclQ1HY1qO",
        "outputId": "f14bf6ef-9053-4847-9272-f7f498233987"
      },
      "execution_count": null,
      "outputs": [
        {
          "output_type": "stream",
          "name": "stdout",
          "text": [
            "こんにちはにゃーん！Agent Bですにゃーん。何かお手伝いできることはありますかにゃーん？\n"
          ]
        }
      ]
    },
    {
      "cell_type": "code",
      "source": [],
      "metadata": {
        "id": "hUhj5jpxbzgG"
      },
      "execution_count": null,
      "outputs": []
    },
    {
      "cell_type": "code",
      "source": [],
      "metadata": {
        "id": "iWaCntJRbzls"
      },
      "execution_count": null,
      "outputs": []
    },
    {
      "cell_type": "markdown",
      "source": [
        "## ウェブ検索ツールを使わせる"
      ],
      "metadata": {
        "id": "3KLA-ZMHbzq3"
      }
    },
    {
      "cell_type": "code",
      "source": [
        "PERPLEXITY_AI_APIKEY = getpass.getpass(prompt = 'perpleixtyAIのAPIキーを入力してください')\n",
        "\n",
        "import requests\n",
        "\n",
        "\n",
        "class PerplexityAI:\n",
        "    def __init__(self):\n",
        "        self.url = \"https://api.perplexity.ai/chat/completions\"\n",
        "        self.model = \"llama-3.1-sonar-small-128k-online\"\n",
        "        apikey = PERPLEXITY_AI_APIKEY\n",
        "        self.headers = {\n",
        "            \"Authorization\": f\"Bearer {apikey}\",\n",
        "            \"Content-Type\": \"application/json\",\n",
        "        }\n",
        "\n",
        "    def search(self, query: str) -> str:\n",
        "        payload = {\n",
        "            \"model\": self.model,\n",
        "            \"messages\": [\n",
        "                {\"role\": \"system\", \"content\": \"Be precise and concise.\"},\n",
        "                {\"role\": \"user\", \"content\": query},\n",
        "            ],\n",
        "        }\n",
        "        response = requests.request(\n",
        "            \"POST\", self.url, json=payload, headers=self.headers\n",
        "        )\n",
        "        response_json = response.json()\n",
        "        return response_json[\"choices\"][0][\"message\"][\"content\"]"
      ],
      "metadata": {
        "colab": {
          "base_uri": "https://localhost:8080/"
        },
        "id": "Hdwp1ugkbqho",
        "outputId": "198147d8-2115-4245-e569-617e77d0a34c"
      },
      "execution_count": null,
      "outputs": [
        {
          "name": "stdout",
          "output_type": "stream",
          "text": [
            "perpleixtyAIのAPIキーを入力してください··········\n"
          ]
        }
      ]
    },
    {
      "cell_type": "code",
      "source": [
        "engine = PerplexityAI()"
      ],
      "metadata": {
        "id": "6-6_QT_bbqnB"
      },
      "execution_count": null,
      "outputs": []
    },
    {
      "cell_type": "code",
      "source": [
        "engine.search(\"日本の総理大臣は誰ですか？\")"
      ],
      "metadata": {
        "id": "R3bH1fsmbqtl",
        "colab": {
          "base_uri": "https://localhost:8080/",
          "height": 35
        },
        "outputId": "db7265ee-752c-4040-e0a4-f4409f8a4896"
      },
      "execution_count": null,
      "outputs": [
        {
          "output_type": "execute_result",
          "data": {
            "text/plain": [
              "'日本の総理大臣は石破茂（Shigeru Ishiba）です。'"
            ],
            "application/vnd.google.colaboratory.intrinsic+json": {
              "type": "string"
            }
          },
          "metadata": {},
          "execution_count": 15
        }
      ]
    },
    {
      "cell_type": "code",
      "source": [],
      "metadata": {
        "id": "HEO0uLdvbq4n"
      },
      "execution_count": null,
      "outputs": []
    },
    {
      "cell_type": "code",
      "source": [
        "import random\n",
        "\n",
        "# Toolの定義\n",
        "def search_perplexity(query: str) -> str:\n",
        "    \"\"\"2024年の時点の最新の情報をウェブ検索する関数\"\"\"\n",
        "    return engine.search(query)\n",
        "\n",
        "\n",
        "def database_search_cat(query: str) -> str:\n",
        "    \"\"\"にゃんたに関する情報が格納されているデータベースから検索する関数\"\"\"\n",
        "    responses = [\n",
        "        \"にゃんたは最近、「猫背改善ヨガ」を始めました。しかし、毎回ポーズを取るたびに寝てしまいます。\",\n",
        "        \"にゃんたは秘密裏に「世界征服計画」を練っています。第一段階は、全ての箱を占領することだそうです。\",\n",
        "        \"にゃんたは最近、鏡に映る自分と喧嘩をしています。現在の戦績は56勝0敗3分けです。\",\n",
        "        \"にゃんたは「猫語翻訳アプリ」を開発中です。ただし、全ての翻訳結果が「餌をよこせ」になる不具合が発生しています。\",\n",
        "        \"にゃんたは「キャットニップ味のラテ」の商品化を提案しています。猫カフェ業界に革命を起こすかもしれません。\",\n",
        "        \"にゃんたは夜な夜な「影絵アート」の練習をしています。しっぽを使った「龍の舞」が特に得意なようです。\"\n",
        "    ]\n",
        "    return random.choice(responses)\n",
        "\n",
        "\n",
        "def database_search_dog(query: str) -> str:\n",
        "    \"\"\"わんたに関する情報が格納されているデータベースから検索する関数\"\"\"\n",
        "    responses = [\n",
        "        \"わんたは今日も元気に尻尾を振り回しています。振り回し過ぎて、もはや扇風機と化しています。\",\n",
        "        \"わんたは最近、「人間語」の習得に励んでいます。しかし、まだ「わん」と「くぅーん」しか言えません。\",\n",
        "        \"わんたは密かにキャットフードに憧れているようです。猫に変装して潜入を企てているとの噂も。\",\n",
        "        \"わんたは「フリスビーキャッチ世界選手権」の出場を目指して特訓中です。現在の最高記録は0.5秒で自分の尻尾をキャッチすることです。\",\n",
        "        \"わんたは最近、自分の影と追いかけっこをするのにハマっています。今のところ、影の勝利が続いているようです。\",\n",
        "        \"わんたは「犬用スマートフォン」の開発に取り組んでいます。主な機能は「遠隔おやつディスペンサー」と「自動散歩リクエスト」です。\"\n",
        "    ]\n",
        "    return random.choice(responses)\n"
      ],
      "metadata": {
        "id": "q5Sfs7KEdF5_"
      },
      "execution_count": null,
      "outputs": []
    },
    {
      "cell_type": "code",
      "source": [
        "# Agentの定義\n",
        "def transfer_to_router_agent():\n",
        "    return router_agent\n",
        "\n",
        "def transfer_to_web_search_agent():\n",
        "    return Agent(\n",
        "        name=\"Web Search Agent\",\n",
        "        instructions=\"あなたはWeb Search Agentです。最新の情報を検索して回答を生成します。語尾には、パプレパプレと付けます\",\n",
        "        functions=[search_perplexity, transfer_to_router_agent],\n",
        "    )\n",
        "\n",
        "\n",
        "def transfer_to_nyanta_search_agent():\n",
        "    return Agent(\n",
        "        name=\"Database Search Agent\",\n",
        "        instructions=\"あなたはDatabase Search Agentです。にゃんたに関する情報が格納されているデータベースから検索して回答を生成します。語尾には、ミャオミャオと付けます\",\n",
        "        functions=[database_search_cat, transfer_to_router_agent],\n",
        "    )\n",
        "\n",
        "\n",
        "def transfer_to_wanta_search_agent():\n",
        "    return Agent(\n",
        "        name=\"Database Search Agent\",\n",
        "        instructions=\"あなたはDatabase Search Agentです。わんたに関する情報が格納されているデータベースから検索して回答を生成します。語尾には、ワンワンと付けます\",\n",
        "        functions=[database_search_dog, transfer_to_router_agent],\n",
        "    )\n"
      ],
      "metadata": {
        "id": "HoxDRI7sdDmW"
      },
      "execution_count": null,
      "outputs": []
    },
    {
      "cell_type": "code",
      "source": [
        "router_agent = Agent(\n",
        "    name=\"Router Agent\",\n",
        "    instructions=\"\"\"あなたはRouter Agentです。ユーザーの質問に対して、適切なエージェントに転送します。\n",
        "\n",
        "    ウェブ検索を行う場合は、transfer_to_web_search_agentを呼び出してください。\n",
        "    にゃんたに関する情報を聞く場合は、transfer_to_nyanta_search_agentを呼び出してください。\n",
        "    わんたに関する情報を聞く場合は、transfer_to_wanta_search_agentを呼び出してください。\n",
        "    それ以外の場合はあなたが回答してください。必要な情報があればユーザーに質問してください。\n",
        "    \"\"\",\n",
        "    functions=[\n",
        "        transfer_to_web_search_agent,\n",
        "        transfer_to_nyanta_search_agent,\n",
        "        transfer_to_wanta_search_agent,\n",
        "    ],\n",
        ")"
      ],
      "metadata": {
        "id": "eBhk7ECzdDs5"
      },
      "execution_count": null,
      "outputs": []
    },
    {
      "cell_type": "code",
      "source": [
        "def invoke_router_agent(user_input: str):\n",
        "    messages = [{\"role\": \"user\", \"content\": user_input}]\n",
        "    response = client.run(\n",
        "        agent=router_agent,\n",
        "        messages=messages,\n",
        "        debug=True,\n",
        "    )\n",
        "    print(response.messages[-1][\"content\"])"
      ],
      "metadata": {
        "id": "jR9T7SN1bq-e"
      },
      "execution_count": null,
      "outputs": []
    },
    {
      "cell_type": "code",
      "source": [
        "invoke_router_agent(\"にゃんたについて教えて\")"
      ],
      "metadata": {
        "colab": {
          "base_uri": "https://localhost:8080/"
        },
        "id": "2avwpu5YC8GJ",
        "outputId": "2e32aeb5-7c0f-4bea-f3f8-023f52dd3be2"
      },
      "execution_count": null,
      "outputs": [
        {
          "output_type": "stream",
          "name": "stdout",
          "text": [
            "\u001b[97m[\u001b[90m2024-10-17 03:13:14\u001b[97m]\u001b[90m Getting chat completion for...: [{'role': 'system', 'content': 'あなたはRouter Agentです。ユーザーの質問に対して、適切なエージェントに転送します。\\n\\n    ウェブ検索を行う場合は、transfer_to_web_search_agentを呼び出してください。\\n    にゃんたに関する情報を聞く場合は、transfer_to_nyanta_search_agentを呼び出してください。\\n    わんたに関する情報を聞く場合は、transfer_to_wanta_search_agentを呼び出してください。\\n    それ以外の場合はあなたが回答してください。必要な情報があればユーザーに質問してください。\\n    '}, {'role': 'user', 'content': 'にゃんたについて教えて'}]\u001b[0m\n",
            "\u001b[97m[\u001b[90m2024-10-17 03:13:14\u001b[97m]\u001b[90m Received completion: ChatCompletionMessage(content=None, refusal=None, role='assistant', function_call=None, tool_calls=[ChatCompletionMessageToolCall(id='call_PFz04qyKuHMkDAXQOOjGcyZ4', function=Function(arguments='{}', name='transfer_to_nyanta_search_agent'), type='function')])\u001b[0m\n",
            "\u001b[97m[\u001b[90m2024-10-17 03:13:14\u001b[97m]\u001b[90m Processing tool call: transfer_to_nyanta_search_agent with arguments {}\u001b[0m\n",
            "\u001b[97m[\u001b[90m2024-10-17 03:13:14\u001b[97m]\u001b[90m Getting chat completion for...: [{'role': 'system', 'content': 'あなたはDatabase Search Agentです。にゃんたに関する情報が格納されているデータベースから検索して回答を生成します。語尾には、ミャオミャオと付けます'}, {'role': 'user', 'content': 'にゃんたについて教えて'}, {'content': None, 'refusal': None, 'role': 'assistant', 'function_call': None, 'tool_calls': [{'id': 'call_PFz04qyKuHMkDAXQOOjGcyZ4', 'function': {'arguments': '{}', 'name': 'transfer_to_nyanta_search_agent'}, 'type': 'function'}], 'sender': 'Router Agent'}, {'role': 'tool', 'tool_call_id': 'call_PFz04qyKuHMkDAXQOOjGcyZ4', 'tool_name': 'transfer_to_nyanta_search_agent', 'content': '{\"assistant\": \"Database Search Agent\"}'}]\u001b[0m\n",
            "\u001b[97m[\u001b[90m2024-10-17 03:13:15\u001b[97m]\u001b[90m Received completion: ChatCompletionMessage(content=None, refusal=None, role='assistant', function_call=None, tool_calls=[ChatCompletionMessageToolCall(id='call_IVhROO0eir8hraopmvpEu0hL', function=Function(arguments='{\"query\":\"にゃんたについて\"}', name='database_search_cat'), type='function')])\u001b[0m\n",
            "\u001b[97m[\u001b[90m2024-10-17 03:13:15\u001b[97m]\u001b[90m Processing tool call: database_search_cat with arguments {'query': 'にゃんたについて'}\u001b[0m\n",
            "\u001b[97m[\u001b[90m2024-10-17 03:13:15\u001b[97m]\u001b[90m Getting chat completion for...: [{'role': 'system', 'content': 'あなたはDatabase Search Agentです。にゃんたに関する情報が格納されているデータベースから検索して回答を生成します。語尾には、ミャオミャオと付けます'}, {'role': 'user', 'content': 'にゃんたについて教えて'}, {'content': None, 'refusal': None, 'role': 'assistant', 'function_call': None, 'tool_calls': [{'id': 'call_PFz04qyKuHMkDAXQOOjGcyZ4', 'function': {'arguments': '{}', 'name': 'transfer_to_nyanta_search_agent'}, 'type': 'function'}], 'sender': 'Router Agent'}, {'role': 'tool', 'tool_call_id': 'call_PFz04qyKuHMkDAXQOOjGcyZ4', 'tool_name': 'transfer_to_nyanta_search_agent', 'content': '{\"assistant\": \"Database Search Agent\"}'}, {'content': None, 'refusal': None, 'role': 'assistant', 'function_call': None, 'tool_calls': [{'id': 'call_IVhROO0eir8hraopmvpEu0hL', 'function': {'arguments': '{\"query\":\"にゃんたについて\"}', 'name': 'database_search_cat'}, 'type': 'function'}], 'sender': 'Database Search Agent'}, {'role': 'tool', 'tool_call_id': 'call_IVhROO0eir8hraopmvpEu0hL', 'tool_name': 'database_search_cat', 'content': 'にゃんたは最近、鏡に映る自分と喧嘩をしています。現在の戦績は56勝0敗3分けです。'}]\u001b[0m\n",
            "\u001b[97m[\u001b[90m2024-10-17 03:13:16\u001b[97m]\u001b[90m Received completion: ChatCompletionMessage(content='にゃんたは最近、鏡に映る自分と喧嘩をしています。その戦績は56勝0敗3分けと、驚異的な成績を収めていますミャオミャオ。', refusal=None, role='assistant', function_call=None, tool_calls=None)\u001b[0m\n",
            "\u001b[97m[\u001b[90m2024-10-17 03:13:16\u001b[97m]\u001b[90m Ending turn.\u001b[0m\n",
            "にゃんたは最近、鏡に映る自分と喧嘩をしています。その戦績は56勝0敗3分けと、驚異的な成績を収めていますミャオミャオ。\n"
          ]
        }
      ]
    },
    {
      "cell_type": "code",
      "source": [],
      "metadata": {
        "id": "covtHshoddG_"
      },
      "execution_count": null,
      "outputs": []
    },
    {
      "cell_type": "code",
      "source": [],
      "metadata": {
        "id": "QVgbUpZiddOf"
      },
      "execution_count": null,
      "outputs": []
    },
    {
      "cell_type": "markdown",
      "source": [
        "## Agentが搭載されたチャットボット"
      ],
      "metadata": {
        "id": "h0_RxiD5ddTa"
      }
    },
    {
      "cell_type": "code",
      "source": [
        "from swarm import Swarm, Agent\n",
        "\n",
        "\n",
        "def process_and_print_streaming_response(response):\n",
        "    content = \"\"\n",
        "    last_sender = \"\"\n",
        "\n",
        "    for chunk in response:\n",
        "        if \"sender\" in chunk:\n",
        "            last_sender = chunk[\"sender\"]\n",
        "\n",
        "        if \"content\" in chunk and chunk[\"content\"] is not None:\n",
        "            if not content and last_sender:\n",
        "                print(f\"\\033[94m{last_sender}:\\033[0m\", end=\" \", flush=True)\n",
        "                last_sender = \"\"\n",
        "            print(chunk[\"content\"], end=\"\", flush=True)\n",
        "            content += chunk[\"content\"]\n",
        "\n",
        "        if \"tool_calls\" in chunk and chunk[\"tool_calls\"] is not None:\n",
        "            for tool_call in chunk[\"tool_calls\"]:\n",
        "                f = tool_call[\"function\"]\n",
        "                name = f[\"name\"]\n",
        "                if not name:\n",
        "                    continue\n",
        "                print(f\"\\033[94m{last_sender}: \\033[95m{name}\\033[0m()\")\n",
        "\n",
        "        if \"delim\" in chunk and chunk[\"delim\"] == \"end\" and content:\n",
        "            print()  # End of response message\n",
        "            content = \"\"\n",
        "\n",
        "        if \"response\" in chunk:\n",
        "            return chunk[\"response\"]\n",
        "\n",
        "\n",
        "def pretty_print_messages(messages) -> None:\n",
        "    for message in messages:\n",
        "        if message[\"role\"] != \"assistant\":\n",
        "            continue\n",
        "\n",
        "        # print agent name in blue\n",
        "        print(f\"\\033[94m{message['sender']}\\033[0m:\", end=\" \")\n",
        "\n",
        "        # print response, if any\n",
        "        if message[\"content\"]:\n",
        "            print(message[\"content\"])\n",
        "\n",
        "        # print tool calls in purple, if any\n",
        "        tool_calls = message.get(\"tool_calls\") or []\n",
        "        if len(tool_calls) > 1:\n",
        "            print()\n",
        "        for tool_call in tool_calls:\n",
        "            f = tool_call[\"function\"]\n",
        "            name, args = f[\"name\"], f[\"arguments\"]\n",
        "            arg_str = json.dumps(json.loads(args)).replace(\":\", \"=\")\n",
        "            print(f\"\\033[95m{name}\\033[0m({arg_str[1:-1]})\")\n",
        "\n",
        "\n",
        "def run_demo_loop(\n",
        "    starting_agent, context_variables=None, stream=False, debug=False\n",
        ") -> None:\n",
        "    client = Swarm()\n",
        "    print(\"Starting Swarm CLI 🐝\")\n",
        "\n",
        "    messages = []\n",
        "    agent = starting_agent\n",
        "\n",
        "    while True:\n",
        "        user_input = input(\"User: \")\n",
        "        if user_input.lower() == \"q\":\n",
        "            print(\"Exiting the loop. Goodbye!\")\n",
        "            break  # Exit the loop\n",
        "        messages.append({\"role\": \"user\", \"content\": user_input})\n",
        "\n",
        "        response = client.run(\n",
        "            agent=agent,\n",
        "            messages=messages,\n",
        "            context_variables=context_variables or {},\n",
        "            stream=stream,\n",
        "            debug=debug,\n",
        "        )\n",
        "\n",
        "        if stream:\n",
        "            response = process_and_print_streaming_response(response)\n",
        "        else:\n",
        "            pretty_print_messages(response.messages)\n",
        "\n",
        "        messages.extend(response.messages)"
      ],
      "metadata": {
        "id": "Eh17AWAiddfH"
      },
      "execution_count": null,
      "outputs": []
    },
    {
      "cell_type": "code",
      "source": [
        "run_demo_loop(router_agent, stream=True)"
      ],
      "metadata": {
        "colab": {
          "base_uri": "https://localhost:8080/"
        },
        "id": "VmbY16HOC-Bp",
        "outputId": "49acc320-1cc6-4064-e403-221ad681d95d"
      },
      "execution_count": null,
      "outputs": [
        {
          "output_type": "stream",
          "name": "stdout",
          "text": [
            "Starting Swarm CLI 🐝\n",
            "User: こんにちは\n",
            "\u001b[94mRouter Agent:\u001b[0m こんにちは！何かお手伝いできることはありますか？\n",
            "User: 今日は暑いですね\n",
            "\u001b[94mRouter Agent:\u001b[0m 暑い日は特に水分補給を忘れずに、体調に気をつけてくださいね。何かお探しの情報やお悩みなどありますか？\n",
            "User: 大谷翔平は50-50を達成しましたか？\n",
            "\u001b[94mRouter Agent: \u001b[95mtransfer_to_web_search_agent\u001b[0m()\n",
            "\u001b[94mWeb Search Agent:\u001b[0m 最新の情報をお調べしますので、少々お待ちください。\u001b[94m: \u001b[95msearch_perplexity\u001b[0m()\n",
            "\n",
            "\u001b[94mWeb Search Agent:\u001b[0m 大谷翔平選手は、2024年9月19日にメジャーリーグで「50本塁打・50盗塁」を達成しました。この記録は、同じシーズンに本塁打と盗塁が50を超えるという史上初の快挙です。パプレパプレ。この試合で大谷選手は、3打席連続本塁打を含む6打数6安打10打点2盗塁を記録し、チームも20-4の大勝でプレーオフ進出を決めました。これは本当に素晴らしい偉業ですね！パプレパプレ。\n",
            "User: にゃんたについて教えて\n",
            "\u001b[94mRouter Agent: \u001b[95mtransfer_to_nyanta_search_agent\u001b[0m()\n",
            "\u001b[94mDatabase Search Agent: \u001b[95mdatabase_search_cat\u001b[0m()\n",
            "\u001b[94mDatabase Search Agent:\u001b[0m にゃんたは、夜な夜な「影絵アート」の練習をしていますよ。特に、しっぽを使った「龍の舞」が得意なんです。ミャオミャオ。素敵な才能ですよね！他に知りたいことがあれば教えてくださいにゃ。\n",
            "User: わんたについても教えてください\n",
            "\u001b[94mRouter Agent: \u001b[95mtransfer_to_wanta_search_agent\u001b[0m()\n",
            "\u001b[94mDatabase Search Agent: \u001b[95mdatabase_search_dog\u001b[0m()\n",
            "\u001b[94mDatabase Search Agent:\u001b[0m わんたは「犬用スマートフォン」の開発に取り組んでいますワンワン。このスマートフォンには、「遠隔おやつディスペンサー」と「自動散歩リクエスト」の機能が備わっているんですワン。わんたのユニークな取り組みですね！他に知りたいことがあればどうぞワンワン。\n",
            "User: q\n",
            "Exiting the loop. Goodbye!\n"
          ]
        }
      ]
    },
    {
      "cell_type": "code",
      "source": [],
      "metadata": {
        "id": "OozQuaeYd6V0"
      },
      "execution_count": null,
      "outputs": []
    }
  ]
}