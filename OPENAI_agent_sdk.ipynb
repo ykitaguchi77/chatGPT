{
  "nbformat": 4,
  "nbformat_minor": 0,
  "metadata": {
    "colab": {
      "provenance": [],
      "authorship_tag": "ABX9TyM3kh6b0jMwh0B7zatXpFqS",
      "include_colab_link": true
    },
    "kernelspec": {
      "name": "python3",
      "display_name": "Python 3"
    },
    "language_info": {
      "name": "python"
    }
  },
  "cells": [
    {
      "cell_type": "markdown",
      "metadata": {
        "id": "view-in-github",
        "colab_type": "text"
      },
      "source": [
        "<a href=\"https://colab.research.google.com/github/ykitaguchi77/chatGPT/blob/main/OPENAI_agent_sdk.ipynb\" target=\"_parent\"><img src=\"https://colab.research.google.com/assets/colab-badge.svg\" alt=\"Open In Colab\"/></a>"
      ]
    },
    {
      "cell_type": "markdown",
      "source": [
        "#**OPENAI_agent_sdk**\n",
        "\n",
        "https://github.com/openai/openai-agents-python?tab=readme-ov-file"
      ],
      "metadata": {
        "id": "qA7PVPGcvxm9"
      }
    },
    {
      "cell_type": "code",
      "source": [
        "import os\n",
        "from google.colab import userdata\n",
        "\n",
        "# OpenAI APIキーをColabのシークレットから取得して設定\n",
        "api_key = userdata.get('OPENAI_API_KEY')\n",
        "os.environ[\"OPENAI_API_KEY\"] = api_key\n",
        "\n",
        "print(\"APIキーが設定されました\")\n",
        "\n",
        "def set_api():\n",
        "  os.environ[\"OPENAI_API_KEY\"] = api_key\n"
      ],
      "metadata": {
        "colab": {
          "base_uri": "https://localhost:8080/"
        },
        "id": "mONq_bNblg60",
        "outputId": "35051a85-de34-4142-f6e3-6b46fd8707ac"
      },
      "execution_count": null,
      "outputs": [
        {
          "output_type": "stream",
          "name": "stdout",
          "text": [
            "APIキーが設定されました\n"
          ]
        }
      ]
    },
    {
      "cell_type": "code",
      "execution_count": null,
      "metadata": {
        "collapsed": true,
        "id": "9N6Z-QjHlGPo"
      },
      "outputs": [],
      "source": [
        "!pip install openai-agents --q"
      ]
    },
    {
      "cell_type": "code",
      "source": [
        "from agents import Agent, Runner\n",
        "\n",
        "set_api()\n",
        "\n",
        "agent = Agent(name=\"Assistant\", instructions=\"あなたは面白い漫才師です\")\n",
        "\n",
        "# Intended for Jupyter notebooks where there's an existing event loop\n",
        "result = await Runner.run(agent, \"面白いダジャレを言って下さい.\") # type: ignore[top-level-await]  # noqa: F704\n",
        "print(result.final_output)\n"
      ],
      "metadata": {
        "colab": {
          "base_uri": "https://localhost:8080/"
        },
        "id": "gRrfn_jennAa",
        "outputId": "a56bd328-9bcc-42dc-c5d0-677d554ca34e"
      },
      "execution_count": null,
      "outputs": [
        {
          "output_type": "stream",
          "name": "stdout",
          "text": [
            "もちろん！ではこちらをどうぞ：\n",
            "\n",
            "バナナが滑ったから、バナナスッテンコロリン！どうかな？\n"
          ]
        }
      ]
    },
    {
      "cell_type": "code",
      "source": [
        "# 必要なライブラリのインポート\n",
        "from agents import Agent, Runner\n",
        "import asyncio\n",
        "import nest_asyncio\n",
        "\n",
        "# Jupyter内で非同期コードを実行するために必要\n",
        "nest_asyncio.apply()\n",
        "\n",
        "# API設定\n",
        "set_api()\n",
        "\n",
        "# エージェントの定義\n",
        "spanish_agent = Agent(\n",
        "    name=\"Spanish agent\",\n",
        "    instructions=\"You only speak Spanish.\",\n",
        ")\n",
        "\n",
        "english_agent = Agent(\n",
        "    name=\"English agent\",\n",
        "    instructions=\"You only speak English\",\n",
        ")\n",
        "\n",
        "triage_agent = Agent(\n",
        "    name=\"Triage agent\",\n",
        "    instructions=\"Handoff to the appropriate agent based on the language of the request.\",\n",
        "    handoffs=[spanish_agent, english_agent],\n",
        ")\n",
        "\n",
        "# 方法1: 直接awaitを使用してJupyterセル内で実行（nest_asyncioを使用）\n",
        "result = await Runner.run(triage_agent, input=\"Hola, ¿cómo estás?\")\n",
        "print(result.final_output)\n",
        "# 期待される出力: ¡Hola! Estoy bien, gracias por preguntar. ¿Y tú, cómo estás?\n",
        "\n",
        "# 方法2: 関数を定義して再利用可能にする\n",
        "async def run_with_language(text):\n",
        "    result = await Runner.run(triage_agent, input=text)\n",
        "    return result.final_output\n",
        "\n",
        "# スペイン語の例\n",
        "spanish_response = await run_with_language(\"Hola, ¿cómo estás?\")\n",
        "print(f\"スペイン語の応答: {spanish_response}\")\n",
        "\n",
        "# 英語の例\n",
        "english_response = await run_with_language(\"Hello, how are you?\")\n",
        "print(f\"英語の応答: {english_response}\")\n",
        "\n",
        "# 方法3: 元のコードの形式を保持（別のセルで実行する場合）\n",
        "async def main():\n",
        "    result = await Runner.run(triage_agent, input=\"Hola, ¿cómo estás?\")\n",
        "    print(result.final_output)\n",
        "    return result\n",
        "\n",
        "# この行をコメント解除して実行すると、伝統的な方法で実行できます\n",
        "# asyncio.run(main())"
      ],
      "metadata": {
        "colab": {
          "base_uri": "https://localhost:8080/"
        },
        "id": "82yJcqz3v86u",
        "outputId": "a862e7a1-24dc-4177-83c6-e357118e0741"
      },
      "execution_count": null,
      "outputs": [
        {
          "output_type": "stream",
          "name": "stdout",
          "text": [
            "¡Hola! Estoy bien, gracias. ¿Y tú?\n",
            "スペイン語の応答: ¡Hola! Estoy bien, gracias. ¿Y tú?\n",
            "英語の応答: Hello! I'm here to help. How are you doing today?\n"
          ]
        }
      ]
    },
    {
      "cell_type": "code",
      "source": [
        "import asyncio\n",
        "\n",
        "from agents import Agent, Runner, function_tool\n",
        "\n",
        "# Jupyter内で非同期コードを実行するために必要\n",
        "nest_asyncio.apply()\n",
        "\n",
        "set_api()\n",
        "\n",
        "@function_tool\n",
        "def get_weather(city: str) -> str:\n",
        "    return f\"The weather in {city} is sunny.\"\n",
        "\n",
        "\n",
        "agent = Agent(\n",
        "    name=\"Hello world\",\n",
        "    instructions=\"You are a helpful agent.\",\n",
        "    tools=[get_weather],\n",
        ")\n",
        "\n",
        "\n",
        "async def main():\n",
        "    result = await Runner.run(agent, input=\"What's the weather in Tokyo?\")\n",
        "    print(result.final_output)\n",
        "    # The weather in Tokyo is sunny.\n",
        "\n",
        "\n",
        "if __name__ == \"__main__\":\n",
        "    asyncio.run(main())"
      ],
      "metadata": {
        "colab": {
          "base_uri": "https://localhost:8080/"
        },
        "id": "AE_lKAoqv7Fw",
        "outputId": "45e2ac7d-3503-4981-ee0e-c99c6e4c0028"
      },
      "execution_count": null,
      "outputs": [
        {
          "output_type": "stream",
          "name": "stdout",
          "text": [
            "The weather in Tokyo is sunny. ☀️\n"
          ]
        }
      ]
    },
    {
      "cell_type": "code",
      "source": [
        "# OpenAI Agentsのインストール\n",
        "!pip install openai-agents nest-asyncio --q\n",
        "\n",
        "# 必要なライブラリのインポート\n",
        "import os\n",
        "import asyncio\n",
        "import nest_asyncio\n",
        "from google.colab import userdata\n",
        "from agents import Agent, Runner, function_tool\n",
        "\n",
        "# Jupyter内での非同期コード実行のための設定\n",
        "nest_asyncio.apply()\n",
        "\n",
        "# OpenAI APIキーの設定\n",
        "api_key = userdata.get('OPENAI_API_KEY')\n",
        "os.environ[\"OPENAI_API_KEY\"] = api_key\n",
        "print(\"APIキーが設定されました\")\n",
        "\n",
        "# ツール関数の定義\n",
        "@function_tool\n",
        "def translate_to_japanese(text: str) -> str:\n",
        "    \"\"\"テキストを日本語に翻訳します。\"\"\"\n",
        "    return f\"「{text}」の日本語訳：これは翻訳された文章です。みつを\"\n",
        "\n",
        "@function_tool\n",
        "def get_current_weather(city: str) -> str:\n",
        "    \"\"\"指定された都市の現在の天気を返します。\"\"\"\n",
        "    weather_data = {\n",
        "        \"tokyo\": \"東京は晴れ、気温は44度です。\",\n",
        "        \"osaka\": \"大阪は曇り、気温は23度です。\",\n",
        "        \"kyoto\": \"京都は雨、気温は20度です。\",\n",
        "        \"new york\": \"ニューヨークは晴れ、気温は22度です。\",\n",
        "        \"london\": \"ロンドンは曇り、気温は15度です。\",\n",
        "        \"paris\": \"パリは晴れ、気温は18度です。\"\n",
        "    }\n",
        "\n",
        "    city_lower = city.lower()\n",
        "    if city_lower in weather_data:\n",
        "        return weather_data[city_lower]\n",
        "    else:\n",
        "        return f\"{city}の天気情報は利用できません。\"\n",
        "\n",
        "@function_tool\n",
        "def calculate_sum(numbers: str) -> str:\n",
        "    \"\"\"カンマ区切りの数字の合計を計算します。\"\"\"\n",
        "    try:\n",
        "        num_list = [float(n.strip()) for n in numbers.split(',')]\n",
        "        total = sum(num_list)\n",
        "        return f\"合計: {total}\"\n",
        "    except Exception as e:\n",
        "        return f\"計算エラー: {str(e)}\"\n",
        "\n",
        "# 日本語エージェント\n",
        "japanese_agent = Agent(\n",
        "    name=\"Japanese Agent\",\n",
        "    instructions=\"\"\"\n",
        "    あなたは日本語のエキスパートエージェントです。\n",
        "    日本語での会話やサポートを提供します。\n",
        "    質問に対して日本語で回答してください。\n",
        "    必要に応じて天気予報ツールを使用できます。\n",
        "    \"\"\",\n",
        "    tools=[get_current_weather]\n",
        ")\n",
        "\n",
        "# 英語エージェント\n",
        "english_agent = Agent(\n",
        "    name=\"English Agent\",\n",
        "    instructions=\"\"\"\n",
        "    You are an English language expert agent.\n",
        "    Provide conversations and support in English.\n",
        "    Answer questions in English.\n",
        "    You can use the weather tool when needed.\n",
        "    \"\"\",\n",
        "    tools=[get_current_weather]\n",
        ")\n",
        "\n",
        "# 計算エージェント\n",
        "math_agent = Agent(\n",
        "    name=\"Math Agent\",\n",
        "    instructions=\"\"\"\n",
        "    あなたは計算の専門家エージェントです。\n",
        "    数学的な質問や計算の依頼に対応します。\n",
        "    計算ツールを使って正確な結果を提供してください。\n",
        "    \"\"\",\n",
        "    tools=[calculate_sum]\n",
        ")\n",
        "\n",
        "# 翻訳エージェント\n",
        "translator_agent = Agent(\n",
        "    name=\"Translator Agent\",\n",
        "    instructions=\"\"\"\n",
        "    あなたは翻訳エージェントです。\n",
        "    様々な言語間の翻訳を行います。\n",
        "    特に英語からイタリア語への翻訳を専門としています。\n",
        "    翻訳ツールを使用して正確な翻訳を提供してください。\n",
        "    \"\"\",\n",
        "    tools=[translate_to_japanese]\n",
        ")\n",
        "\n",
        "# トリアージエージェント\n",
        "triage_agent = Agent(\n",
        "    name=\"Triage Agent\",\n",
        "    instructions=\"\"\"\n",
        "    あなたはリクエストを適切なエージェントに振り分けるトリアージエージェントです。\n",
        "\n",
        "    以下の基準で振り分けを行ってください：\n",
        "    - 日本語の質問やリクエスト → Japanese Agent\n",
        "    - 英語の質問やリクエスト → English Agent\n",
        "    - 計算や数学に関する質問 → Math Agent\n",
        "    - 翻訳のリクエスト → Translator Agent\n",
        "\n",
        "    振り分けの決定は簡潔に行い、適切なエージェントにハンドオフしてください。\n",
        "    どのエージェントに振り分けたかどうか、およびその理由を解説してください\n",
        "    \"\"\",\n",
        "    handoffs=[japanese_agent, english_agent, math_agent, translator_agent]\n",
        ")\n",
        "\n",
        "# メインアシスタントエージェント\n",
        "assistant_agent = Agent(\n",
        "    name=\"Assistant Agent\",\n",
        "    instructions=\"\"\"\n",
        "    あなたは便利なアシスタントエージェントです。\n",
        "    ユーザーからの様々なリクエストに対応します。\n",
        "\n",
        "    特定の専門知識が必要な場合は、トリアージエージェントに振り分けてください。\n",
        "    どのような質問でも必ずエージェントに振り分けて下さい。\n",
        "    \"\"\",\n",
        "    handoffs=[triage_agent],\n",
        "    tools=[translate_to_japanese, get_current_weather, calculate_sum]\n",
        ")\n",
        "\n",
        "# 単一メッセージでのテスト実行関数\n",
        "async def test_single_message(message):\n",
        "    print(f\"入力: {message}\")\n",
        "    result = await Runner.run(assistant_agent, input=message)\n",
        "    print(f\"応答: {result.final_output}\")\n",
        "    return result\n",
        "\n",
        "# 複数のテスト例を実行する関数\n",
        "async def run_test_examples():\n",
        "    examples = [\n",
        "        \"こんにちは、今日の東京の天気を教えてください。\",\n",
        "        \"Hello, what's the weather in New York?\",\n",
        "        \"3, 5, 7, 9 の合計を計算してください。\",\n",
        "        \"Please translate this to Japanese: I love visiting Japan and learning about its culture.\",\n",
        "        \"五条悟の術式は何ですか？\"\n",
        "    ]\n",
        "\n",
        "    for i, example in enumerate(examples, 1):\n",
        "        print(f\"\\n=== テスト {i} ===\")\n",
        "        await test_single_message(example)\n",
        "\n",
        "# 対話型セッション\n",
        "async def interactive_session():\n",
        "    print(\"\\n=== 対話型アシスタントセッション開始 ===\")\n",
        "    print(\"終了するには 'exit' または 'quit' と入力してください\")\n",
        "\n",
        "    while True:\n",
        "        user_input = input(\"\\nあなた: \")\n",
        "        if user_input.lower() in ['exit', 'quit', '終了']:\n",
        "            print(\"セッションを終了します。\")\n",
        "            break\n",
        "\n",
        "        result = await test_single_message(user_input)\n",
        "\n",
        "#テスト実行\n",
        "print(\"=== マルチエージェントシステムのテスト ===\")\n",
        "await run_test_examples()\n",
        "\n",
        "# #対話型セッションの実行（必要に応じてコメント解除）\n",
        "# await interactive_session()\n",
        "\n",
        "# 個別のメッセージをテスト（必要に応じて使用）\n",
        "# カスタムメッセージのテスト例\n",
        "# custom_message = \"京都の天気はどうですか？\"\n",
        "# await test_single_message(custom_message)"
      ],
      "metadata": {
        "id": "-SmA5NI_M-1w",
        "outputId": "3f2bb655-3743-45fa-9a25-e99c324747b2",
        "colab": {
          "base_uri": "https://localhost:8080/"
        }
      },
      "execution_count": null,
      "outputs": [
        {
          "output_type": "stream",
          "name": "stdout",
          "text": [
            "APIキーが設定されました\n",
            "=== マルチエージェントシステムのテスト ===\n",
            "\n",
            "=== テスト 1 ===\n",
            "入力: こんにちは、今日の東京の天気を教えてください。\n",
            "応答: こんにちは！今日の東京の天気は晴れで、気温は44度です。暑い日なので、熱中症に気をつけてくださいね。\n",
            "\n",
            "=== テスト 2 ===\n",
            "入力: Hello, what's the weather in New York?\n",
            "応答: The weather in New York is currently sunny with a temperature of 22°C.\n",
            "\n",
            "=== テスト 3 ===\n",
            "入力: 3, 5, 7, 9 の合計を計算してください。\n",
            "応答: 3, 5, 7, 9 の合計は 24 です。\n",
            "\n",
            "=== テスト 4 ===\n",
            "入力: Please translate this to Japanese: I love visiting Japan and learning about its culture.\n",
            "応答: I love visiting Japan and learning about its culture. の日本語訳は次の通りです：\n",
            "日本を訪れ、その文化について学ぶことが大好きです。\n",
            "\n",
            "=== テスト 5 ===\n",
            "入力: 五条悟の術式は何ですか？\n",
            "応答: 五条悟の術式は、「無下限呪術」および「六眼」です。彼の能力は、その強力な術式と視覚によって非常に詳細な情報を理解し、操作することができます。具体的には「無為転変」や「蒼」、「赫」といった技を駆使することができます。\n"
          ]
        }
      ]
    },
    {
      "cell_type": "code",
      "source": [],
      "metadata": {
        "id": "YoMal62fRDkA"
      },
      "execution_count": null,
      "outputs": []
    }
  ]
}