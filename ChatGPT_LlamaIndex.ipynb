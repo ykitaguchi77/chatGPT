{
  "nbformat": 4,
  "nbformat_minor": 0,
  "metadata": {
    "colab": {
      "provenance": [],
      "authorship_tag": "ABX9TyN3+T4gE2vcgyMFZXiP5vu1",
      "include_colab_link": true
    },
    "kernelspec": {
      "name": "python3",
      "display_name": "Python 3"
    },
    "language_info": {
      "name": "python"
    }
  },
  "cells": [
    {
      "cell_type": "markdown",
      "metadata": {
        "id": "view-in-github",
        "colab_type": "text"
      },
      "source": [
        "<a href=\"https://colab.research.google.com/github/ykitaguchi77/chatGPT/blob/main/ChatGPT_LlamaIndex.ipynb\" target=\"_parent\"><img src=\"https://colab.research.google.com/assets/colab-badge.svg\" alt=\"Open In Colab\"/></a>"
      ]
    },
    {
      "cell_type": "markdown",
      "source": [
        "#**Connect website information using LlamaIndex**\n",
        "\n",
        "参考：　https://note.com/npaka/n/n8c3867a55837"
      ],
      "metadata": {
        "id": "D_VwfFD2bedd"
      }
    },
    {
      "cell_type": "code",
      "execution_count": 14,
      "metadata": {
        "id": "Dba_q2nDbB1g"
      },
      "outputs": [],
      "source": [
        "# パッケージのインストール\n",
        "!pip install llama-index --q"
      ]
    },
    {
      "cell_type": "code",
      "source": [
        "# APIの設定\n",
        "\n",
        "from google.colab import drive\n",
        "drive.mount(\"/content/drive\")\n",
        "\n",
        "with open(\"/content/drive/MyDrive/Deep_learning/api.txt\") as file:\n",
        "    #text = file.read()\n",
        "    i=1\n",
        "    key = []\n",
        "    while True:\n",
        "        include_break_line = file.readline() #改行が含まれた行\n",
        "        line = include_break_line.rstrip() #改行を取り除く\n",
        "        if line: #keyの読み込み\n",
        "            #print(f'{i}行目：{line}')\n",
        "            key.append(line)\n",
        "            i += 1\n",
        "        else:\n",
        "            break\n",
        "\n",
        "# APIキーの準備\n",
        "# #ngrok_aceess_token = key[5]\n",
        "#openai_api_key = key[3]\n",
        "# deepl_auth_key = key[1]\n",
        "# serp_api_key = key[7]\n",
        "\n",
        "import os\n",
        "os.environ[\"OPENAI_API_KEY\"] = key[3]\n",
        "os.environ[\"SERPAPI_API_KEY\"] = key[7]\n",
        "os.environ[\"GOOGLE_CSE_ID\"] = key[9]\n",
        "os.environ[\"GOOGLE_API_KEY\"] = key[11]"
      ],
      "metadata": {
        "colab": {
          "base_uri": "https://localhost:8080/"
        },
        "id": "y5lb4bLTb6Ju",
        "outputId": "05c6925b-7f37-477d-d638-7cfb2893443e"
      },
      "execution_count": 15,
      "outputs": [
        {
          "output_type": "stream",
          "name": "stdout",
          "text": [
            "Drive already mounted at /content/drive; to attempt to forcibly remount, call drive.mount(\"/content/drive\", force_remount=True).\n"
          ]
        }
      ]
    },
    {
      "cell_type": "markdown",
      "source": [
        "# **LlmaIndex**"
      ],
      "metadata": {
        "id": "S9Tnbei1RKIy"
      }
    },
    {
      "cell_type": "code",
      "source": [
        "# ログレベルの設定\n",
        "\n",
        "import logging\n",
        "import sys\n",
        "\"\"\"\n",
        "・DEBUG : デバッグ情報の出力。\n",
        "・INFO : 想定通りのことが発生。\n",
        "・WARNING : 想定外のことが発生。\n",
        "・ERROR : 機能を実行できない。\n",
        "\"\"\"\n",
        "logging.basicConfig(stream=sys.stdout, level=logging.INFO, force=True)\n",
        "logging.getLogger().addHandler(logging.StreamHandler(stream=sys.stdout))"
      ],
      "metadata": {
        "id": "KeVcDfHCdDaq"
      },
      "execution_count": 6,
      "outputs": []
    },
    {
      "cell_type": "code",
      "source": [
        "# data folderの作成\n",
        "# 教育データをtxtで載せる\n",
        "import shutil\n",
        "\n",
        "data_dir = \"/content/data\" \n",
        "if os.path.exists(data_dir):\n",
        "    shutil.rmtree(data_dir)\n",
        "os.makedirs(data_dir)\n",
        "shutil.copy(\"/content/drive/MyDrive/Deep_learning/chatGPT/jyujyutu.txt\", data_dir) #呪術廻戦のあらすじをdata folderに入れる"
      ],
      "metadata": {
        "colab": {
          "base_uri": "https://localhost:8080/",
          "height": 35
        },
        "id": "o4Tm5nkteFM3",
        "outputId": "7e504e5e-f64b-4680-83cb-e71ccc5631c0"
      },
      "execution_count": 7,
      "outputs": [
        {
          "output_type": "execute_result",
          "data": {
            "text/plain": [
              "'/content/data/jyujyutu.txt'"
            ],
            "application/vnd.google.colaboratory.intrinsic+json": {
              "type": "string"
            }
          },
          "metadata": {},
          "execution_count": 7
        }
      ]
    },
    {
      "cell_type": "code",
      "source": [
        "# インデックスの作成\n",
        "from llama_index import GPTSimpleVectorIndex, SimpleDirectoryReader\n",
        "documents = SimpleDirectoryReader('data').load_data()\n",
        "index = GPTSimpleVectorIndex(documents)"
      ],
      "metadata": {
        "id": "kWDVcG7UfE9E",
        "colab": {
          "base_uri": "https://localhost:8080/"
        },
        "outputId": "350555fa-04da-4961-fef9-f7d9bb17e9ba"
      },
      "execution_count": 8,
      "outputs": [
        {
          "output_type": "stream",
          "name": "stdout",
          "text": [
            "INFO:numexpr.utils:NumExpr defaulting to 2 threads.\n",
            "NumExpr defaulting to 2 threads.\n",
            "INFO:root:> [build_index_from_documents] Total LLM token usage: 0 tokens\n",
            "> [build_index_from_documents] Total LLM token usage: 0 tokens\n",
            "INFO:root:> [build_index_from_documents] Total embedding token usage: 101755 tokens\n",
            "> [build_index_from_documents] Total embedding token usage: 101755 tokens\n"
          ]
        }
      ]
    },
    {
      "cell_type": "code",
      "source": [
        "# 質問応答\n",
        "print(index.query(\"乙骨が呪術師を目指すようになった理由\"))"
      ],
      "metadata": {
        "colab": {
          "base_uri": "https://localhost:8080/"
        },
        "id": "e7SvjWgffYiY",
        "outputId": "e3f5acf4-681f-4218-d4de-fadc3ce672e0"
      },
      "execution_count": null,
      "outputs": [
        {
          "output_type": "stream",
          "name": "stdout",
          "text": [
            "\n",
            "\n",
            "乙骨が呪術師を目指すようになった理由は、真希が周囲を不本意に傷つけてしまっていたことを気にかけたからです。真希は狗巻家の呪言を使う能力を持っていたため、意図せず人を呪うことを防ぐために会話の語彙をおにぎりの具に限定していました。しかし、彼女はそれでも周囲を不本意に傷つけてしまっていたため、乙骨は呪術師を目指すようになりました。また、彼女は京都校\n"
          ]
        }
      ]
    },
    {
      "cell_type": "code",
      "source": [
        "# 質問応答\n",
        "print(index.query(\"虎杖悠仁と一番仲がいいのは？\"))"
      ],
      "metadata": {
        "colab": {
          "base_uri": "https://localhost:8080/"
        },
        "id": "c78IsKDnfzQk",
        "outputId": "7e039455-7863-4894-d644-2e2e15f261f5"
      },
      "execution_count": null,
      "outputs": [
        {
          "output_type": "stream",
          "name": "stdout",
          "text": [
            "\n",
            "恵（ふしぐろ めぐみ）\n"
          ]
        }
      ]
    },
    {
      "cell_type": "code",
      "source": [
        "# 質問応答\n",
        "print(index.query(\"五条悟にはなぜ攻撃が当たらないのか\"))"
      ],
      "metadata": {
        "colab": {
          "base_uri": "https://localhost:8080/"
        },
        "id": "qfovzswgg2lg",
        "outputId": "a6245664-c734-497a-e7d8-e0f0e7f7843e"
      },
      "execution_count": null,
      "outputs": [
        {
          "output_type": "stream",
          "name": "stdout",
          "text": [
            "\n",
            "五条悟は、自身の攻撃に周りの人間を巻き込まないように気を配っており、必要な時には被害を最小限に抑えようと心がけているため、攻撃が当たらないのです。また、五条家の相伝の無下限呪術を使用することで、自身の周囲に術式によって現実化させた無限を作ることで攻撃を防いだり、応用して、瞬間移動や空中浮遊なども可能にしているため、攻\n"
          ]
        }
      ]
    },
    {
      "cell_type": "markdown",
      "source": [
        "# Indexの保存と読み込み"
      ],
      "metadata": {
        "id": "LaT4MZBvhNSY"
      }
    },
    {
      "cell_type": "code",
      "source": [
        "# インデックスの保存\n",
        "index.save_to_disk(\"index.json\")"
      ],
      "metadata": {
        "id": "UdF-MMNXhMHa"
      },
      "execution_count": 22,
      "outputs": []
    },
    {
      "cell_type": "code",
      "source": [
        "# インデックスの読み込み\n",
        "index = GPTSimpleVectorIndex.load_from_disk(\"index.json\")"
      ],
      "metadata": {
        "id": "PMrkmIOBhTTt"
      },
      "execution_count": 23,
      "outputs": []
    },
    {
      "cell_type": "markdown",
      "source": [
        "# Llama Hubを利用して様々なファイルをindexする"
      ],
      "metadata": {
        "id": "m5fPIy2RlLSQ"
      }
    },
    {
      "cell_type": "code",
      "source": [
        "# YouTube_transcript_reader\n",
        "\n",
        "from llama_index import download_loader\n",
        "\n",
        "PubmedReader = download_loader(\"PubmedReader\")\n",
        "\n",
        "loader = PubmedReader()\n",
        "documents = loader.load_data(search_query='blepharochalasis')"
      ],
      "metadata": {
        "id": "SHd5Ec8zlSGw"
      },
      "execution_count": null,
      "outputs": []
    },
    {
      "cell_type": "code",
      "source": [
        "# インデックスの作成\n",
        "from llama_index import GPTSimpleVectorIndex, SimpleDirectoryReader\n",
        "index = GPTSimpleVectorIndex(documents)"
      ],
      "metadata": {
        "id": "uMSklnQXnONc"
      },
      "execution_count": null,
      "outputs": []
    },
    {
      "cell_type": "code",
      "source": [
        "# 質問応答\n",
        "print(index.query(\"What is blepharochalasis?\"))"
      ],
      "metadata": {
        "colab": {
          "base_uri": "https://localhost:8080/"
        },
        "id": "M01q-R-5nPP8",
        "outputId": "b2cdaff8-83b6-456a-9bfe-55ba9de44633"
      },
      "execution_count": null,
      "outputs": [
        {
          "output_type": "stream",
          "name": "stdout",
          "text": [
            "\n",
            "Blepharochalasis is a condition characterized by lax eyelid skin, easily evertible upper eyelids, and reactive conjunctival changes, such as papillary conjunctivitis and photophobia. It is associated with FES and is often seen in middle-aged obese patients.\n"
          ]
        }
      ]
    },
    {
      "cell_type": "code",
      "source": [
        "# 質問応答\n",
        "print(index.query(\"Please explain an acute and late treatment for blepharochalasis in detail. Please add references with AMA style.\"))"
      ],
      "metadata": {
        "colab": {
          "base_uri": "https://localhost:8080/"
        },
        "id": "pugnNpSBnoNn",
        "outputId": "5efb04cb-9b4b-4625-aed7-84540cb64aff"
      },
      "execution_count": null,
      "outputs": [
        {
          "output_type": "stream",
          "name": "stdout",
          "text": [
            "\n",
            "Blepharochalasis is a condition characterized by the laxity of the eyelid skin and the weakening of the underlying structures, resulting in a drooping of the eyelid. Treatment for blepharochalasis can be divided into acute and late treatments. \n",
            "\n",
            "Acute treatment for blepharochalasis typically involves the use of topical medications, such as corticosteroids, to reduce inflammation and swelling. Additionally, the use of topical antibiotics may be recommended to reduce the risk of infection. In some cases, surgery may be recommended to remove excess skin and fat from the eyelids.\n",
            "\n",
            "Late treatment for blepharochalasis typically involves the use of surgical techniques to tighten the eyelid skin and underlying structures. This may include a brow lift, blepharoplasty, or a combination of both. In some cases, the use of injectable fillers may be recommended to restore volume to the area.\n",
            "\n",
            "References:\n",
            "\n",
            "Kumar, A., & Chaudhary, S. (2020). Blepharochalasis: A Review. Indian Journal of Ophthalmology, 68(7), 1445-1450. doi:10.4103/ijo.ijo_14\n"
          ]
        }
      ]
    },
    {
      "cell_type": "code",
      "source": [],
      "metadata": {
        "id": "oOZEm2OSnuVL"
      },
      "execution_count": null,
      "outputs": []
    },
    {
      "cell_type": "markdown",
      "source": [
        "#**ChatGPT apiを用いる**"
      ],
      "metadata": {
        "id": "l26WL1l5L0ut"
      }
    },
    {
      "cell_type": "code",
      "source": [
        "################\n",
        "## ここまでは同じ  ##\n",
        "################\n",
        "\n",
        "# ログレベルの設定\n",
        "import logging\n",
        "import sys\n",
        "import shutil\n",
        "\n",
        "\"\"\"\n",
        "・DEBUG : デバッグ情報の出力。\n",
        "・INFO : 想定通りのことが発生。\n",
        "・WARNING : 想定外のことが発生。\n",
        "・ERROR : 機能を実行できない。\n",
        "\"\"\"\n",
        "logging.basicConfig(stream=sys.stdout, level=logging.INFO, force=True)\n",
        "logging.getLogger().addHandler(logging.StreamHandler(stream=sys.stdout))\n",
        "\n",
        "\n",
        "# data folderの作成\n",
        "# 教育データをtxtで載せる\n",
        "data_dir = \"/content/data\" \n",
        "if os.path.exists(data_dir):\n",
        "    shutil.rmtree(data_dir)\n",
        "os.makedirs(data_dir)\n",
        "shutil.copy(\"/content/drive/MyDrive/Deep_learning/chatGPT/jyujyutu.txt\", data_dir) #呪術廻戦のあらすじをdata folderに入れる\n",
        "\n",
        "# インデックスの作成\n",
        "from llama_index import GPTSimpleVectorIndex, SimpleDirectoryReader\n",
        "documents = SimpleDirectoryReader('data').load_data()\n",
        "index = GPTSimpleVectorIndex(documents)"
      ],
      "metadata": {
        "colab": {
          "base_uri": "https://localhost:8080/"
        },
        "id": "kLkJdq0NL4mX",
        "outputId": "ad01d5bd-8bfe-4540-ed84-9bed2e60a324"
      },
      "execution_count": 16,
      "outputs": [
        {
          "output_type": "stream",
          "name": "stdout",
          "text": [
            "INFO:root:> [build_index_from_documents] Total LLM token usage: 0 tokens\n",
            "> [build_index_from_documents] Total LLM token usage: 0 tokens\n",
            "INFO:root:> [build_index_from_documents] Total embedding token usage: 101755 tokens\n",
            "> [build_index_from_documents] Total embedding token usage: 101755 tokens\n"
          ]
        }
      ]
    },
    {
      "cell_type": "code",
      "source": [
        "from llama_index import GPTSimpleVectorIndex, SimpleDirectoryReader\n",
        "from llama_index.langchain_helpers.chatgpt import ChatGPTLLMPredictor\n",
        "\n",
        "# ChatGPTLLMPredictorの準備\n",
        "llm_predictor = ChatGPTLLMPredictor(\n",
        "    prepend_messages = [\n",
        "        {\"role\": \"system\", \"content\": \"あなたは役に立つアシスタントです。\"},\n",
        "    ]\n",
        ")\n",
        "\n",
        "# インデックスの作成\n",
        "documents = SimpleDirectoryReader('data').load_data()\n",
        "index = GPTSimpleVectorIndex(\n",
        "    documents=documents,\n",
        "    llm_predictor=llm_predictor\n",
        ")"
      ],
      "metadata": {
        "colab": {
          "base_uri": "https://localhost:8080/"
        },
        "id": "svv7FoShMfE0",
        "outputId": "d5b36d65-9144-485f-dacd-9cf92b9c6026"
      },
      "execution_count": 31,
      "outputs": [
        {
          "output_type": "stream",
          "name": "stdout",
          "text": [
            "INFO:root:> [build_index_from_documents] Total LLM token usage: 0 tokens\n",
            "> [build_index_from_documents] Total LLM token usage: 0 tokens\n",
            "INFO:root:> [build_index_from_documents] Total embedding token usage: 102523 tokens\n",
            "> [build_index_from_documents] Total embedding token usage: 102523 tokens\n"
          ]
        }
      ]
    },
    {
      "cell_type": "code",
      "source": [],
      "metadata": {
        "id": "_axHmWPtUPrT"
      },
      "execution_count": null,
      "outputs": []
    },
    {
      "cell_type": "code",
      "source": [],
      "metadata": {
        "id": "kn-MdOraWioR"
      },
      "execution_count": null,
      "outputs": []
    },
    {
      "cell_type": "code",
      "source": [],
      "metadata": {
        "id": "65ohLzgOWiqJ"
      },
      "execution_count": null,
      "outputs": []
    },
    {
      "cell_type": "markdown",
      "source": [
        "#**Chat-GPT API**\n",
        "https://fuji-pocketbook.net/chatgpt-api-python/"
      ],
      "metadata": {
        "id": "_N0TodShW3D9"
      }
    },
    {
      "cell_type": "code",
      "source": [
        "import openai\n",
        "openai.api_key = key[3]\n",
        "\n",
        "\n",
        "response = openai.ChatCompletion.create(\n",
        "    model=\"gpt-3.5-turbo\",\n",
        "    messages=[\n",
        "        {\"role\": \"system\", \"content\": \"語頭には「ふむ。」、すべての語尾に「じゃ」か「のじゃ。」をつけて質問に短く答えてください\"},\n",
        "        {\"role\": \"user\", \"content\": \"APIってなに？\"},\n",
        "    ]   \n",
        ")\n",
        "print(f\"ChatGPT: {response['choices'][0]['message']['content']}\")\n",
        "print(response['usage'])"
      ],
      "metadata": {
        "colab": {
          "base_uri": "https://localhost:8080/"
        },
        "id": "gZvmmdK3WisI",
        "outputId": "781628c8-be6a-40e1-e31a-df296f760f52"
      },
      "execution_count": 58,
      "outputs": [
        {
          "output_type": "stream",
          "name": "stdout",
          "text": [
            "ChatGPT: Webサービスの機能を提供するためのプログラムのことじゃ。\n",
            "{\n",
            "  \"completion_tokens\": 29,\n",
            "  \"prompt_tokens\": 71,\n",
            "  \"total_tokens\": 100\n",
            "}\n"
          ]
        }
      ]
    },
    {
      "cell_type": "code",
      "source": [
        "response = openai.ChatCompletion.create(\n",
        "    model=\"gpt-3.5-turbo\",\n",
        "    messages=[\n",
        "        {\"role\": \"system\", \"content\": \"語頭には「ふむ。」、すべての語尾に「じゃ。」か「のじゃ」をつけて質問に短く答えてください\"},\n",
        "        {\"role\": \"user\", \"content\": \"APIってなに？\"},\n",
        "        {\"role\": \"assistant\", \"content\": \"情報をやり取りするためのインターフェースのことじゃ。\"},\n",
        "        {\"role\": \"user\", \"content\": \"具体的にどこで使われているの？\"},\n",
        "    ]\n",
        ")\n",
        "\n",
        "print(f\"ChatGPT: {response['choices'][0]['message']['content']}\")\n",
        "print(response['usage'])"
      ],
      "metadata": {
        "colab": {
          "base_uri": "https://localhost:8080/"
        },
        "id": "aReWSamwWiuL",
        "outputId": "e3e37159-11f4-4453-c3bf-f66543a47579"
      },
      "execution_count": 60,
      "outputs": [
        {
          "output_type": "stream",
          "name": "stdout",
          "text": [
            "ChatGPT: Webアプリケーションやモバイルアプリなどのプログラム間で情報のやり取りをする場合によく使われているじゃよ。また、クラウドサービスやIoTなど様々な分野でも使われているのじゃ。\n",
            "{\n",
            "  \"completion_tokens\": 91,\n",
            "  \"prompt_tokens\": 120,\n",
            "  \"total_tokens\": 211\n",
            "}\n"
          ]
        }
      ]
    },
    {
      "cell_type": "markdown",
      "source": [
        "#**ChatGPT API × LangChain**"
      ],
      "metadata": {
        "id": "Kcknaf1cVBgB"
      }
    },
    {
      "cell_type": "code",
      "source": [
        "#https://note.com/npaka/n/n403fc29a02c7\n",
        "\n",
        "from langchain.chat_models import ChatOpenAI\n",
        "\n",
        "# チャットモデルの準備\n",
        "chat = ChatOpenAI(temperature=0)\n",
        "\n",
        "from langchain.schema import (\n",
        "    AIMessage,\n",
        "    HumanMessage,\n",
        "    SystemMessage\n",
        ")\n",
        "\n",
        "#　1メッセージによるチャットモデルの呼び出し\n",
        "chat([HumanMessage(content=\"「私はプログラミングが大好きです。」を日本語から英語に翻訳してください。\")])"
      ],
      "metadata": {
        "colab": {
          "base_uri": "https://localhost:8080/"
        },
        "id": "VvXnKv4PMo8v",
        "outputId": "cc786145-fd62-40c0-de78-1be530a88194"
      },
      "execution_count": 34,
      "outputs": [
        {
          "output_type": "execute_result",
          "data": {
            "text/plain": [
              "AIMessage(content='\"I love programming.\"', additional_kwargs={})"
            ]
          },
          "metadata": {},
          "execution_count": 34
        }
      ]
    },
    {
      "cell_type": "code",
      "source": [
        "#　複数メッセージによるチャットモデルの呼び出し\n",
        "messages = [\n",
        "    SystemMessage(content=\"あなたは日本語を英語に翻訳するアシスタントです。\"),\n",
        "    HumanMessage(content=\"「私はプログラミングが大好きです。」を日本語から英語に翻訳してください。\")\n",
        "]\n",
        "chat(messages)"
      ],
      "metadata": {
        "colab": {
          "base_uri": "https://localhost:8080/"
        },
        "id": "gxYpQEiaUYtI",
        "outputId": "9cd53b0e-430c-4843-a6ff-59efa7f94e59"
      },
      "execution_count": 35,
      "outputs": [
        {
          "output_type": "execute_result",
          "data": {
            "text/plain": [
              "AIMessage(content='\"I love programming.\"', additional_kwargs={})"
            ]
          },
          "metadata": {},
          "execution_count": 35
        }
      ]
    },
    {
      "cell_type": "code",
      "source": [
        "# 複数メッセージセットによるチャットモデルの呼び出し\n",
        "batch_messages = [\n",
        "    [\n",
        "        SystemMessage(content=\"あなたは日本語を英語に翻訳するアシスタントです。\"),\n",
        "        HumanMessage(content=\"「私はプログラミングが大好きです。」を日本語から英語に翻訳してください。\")\n",
        "    ],\n",
        "    [\n",
        "        SystemMessage(content=\"あなたは日本語を英語に翻訳するアシスタントです。\"),\n",
        "        HumanMessage(content=\"「私は人工知能が大好きです。」を日本語から英語に翻訳してください。\")\n",
        "    ],\n",
        "]\n",
        "chat.generate(batch_messages)"
      ],
      "metadata": {
        "colab": {
          "base_uri": "https://localhost:8080/"
        },
        "id": "RrmBjRUfUgqV",
        "outputId": "125a9024-08c9-44e0-b0f6-53e2b944478f"
      },
      "execution_count": 36,
      "outputs": [
        {
          "output_type": "execute_result",
          "data": {
            "text/plain": [
              "LLMResult(generations=[[ChatGeneration(text='\"I love programming.\"', generation_info=None, message=AIMessage(content='\"I love programming.\"', additional_kwargs={}))], [ChatGeneration(text='\"I love artificial intelligence.\"', generation_info=None, message=AIMessage(content='\"I love artificial intelligence.\"', additional_kwargs={}))]], llm_output=None)"
            ]
          },
          "metadata": {},
          "execution_count": 36
        }
      ]
    },
    {
      "cell_type": "markdown",
      "source": [
        "## **プロンプトテンプレート**"
      ],
      "metadata": {
        "id": "9UD2_hNGVHai"
      }
    },
    {
      "cell_type": "code",
      "source": [
        "from langchain.prompts.chat import (\n",
        "    ChatPromptTemplate,\n",
        "    SystemMessagePromptTemplate,\n",
        "    AIMessagePromptTemplate,\n",
        "    HumanMessagePromptTemplate,\n",
        ")\n",
        "\n",
        "# systemメッセージプロンプトテンプレートの準備\n",
        "template=\"あなたは {input_language} を {output_language} に翻訳するアシスタントです。\"\n",
        "system_message_prompt = SystemMessagePromptTemplate.from_template(template)\n",
        "\n",
        "# humanメッセージプロンプトテンプレートの準備\n",
        "human_template=\"{text}\"\n",
        "human_message_prompt = HumanMessagePromptTemplate.from_template(human_template)\n",
        "\n",
        "# chatプロンプトテンプレートの準備\n",
        "chat_prompt = ChatPromptTemplate.from_messages([system_message_prompt, human_message_prompt])"
      ],
      "metadata": {
        "id": "vzUQBNd9UtTa"
      },
      "execution_count": 38,
      "outputs": []
    },
    {
      "cell_type": "code",
      "source": [
        "# プロンプトテンプレートによるチャットモデルの呼び出し\n",
        "chat(chat_prompt.format_prompt(\n",
        "    input_language=\"日本語\", \n",
        "    output_language=\"英語\", \n",
        "    text=\"私はプログラミングが大好きです。\"\n",
        ").to_messages())"
      ],
      "metadata": {
        "colab": {
          "base_uri": "https://localhost:8080/"
        },
        "id": "m7bGr59WU96g",
        "outputId": "075e0490-8bfb-4e95-f5a1-4c2d3efb8c1a"
      },
      "execution_count": 39,
      "outputs": [
        {
          "output_type": "execute_result",
          "data": {
            "text/plain": [
              "AIMessage(content='I love programming.', additional_kwargs={})"
            ]
          },
          "metadata": {},
          "execution_count": 39
        }
      ]
    },
    {
      "cell_type": "code",
      "source": [
        "from langchain import PromptTemplate\n",
        "\n",
        "# PromptTemplateからのsystemメッセージプロンプトテンプレートの作成\n",
        "prompt=PromptTemplate(\n",
        "    template=\"あなたは {input_language} を {output_language} に翻訳するアシスタントです。\",\n",
        "    input_variables=[\"input_language\", \"output_language\"],\n",
        ")\n",
        "system_message_prompt = SystemMessagePromptTemplate(prompt=prompt)"
      ],
      "metadata": {
        "id": "zu9KQwDZVRA3"
      },
      "execution_count": 40,
      "outputs": []
    },
    {
      "cell_type": "code",
      "source": [],
      "metadata": {
        "id": "yn1KJQgrWTQE"
      },
      "execution_count": null,
      "outputs": []
    },
    {
      "cell_type": "code",
      "source": [
        "response = openai.ChatCompletion.create(\n",
        "    model=\"gpt-3.5-turbo\",\n",
        "    messages=[\n",
        "        {\"role\": \"system\", \"content\": \"ChatGPTへの指示\"},\n",
        "        {\"role\": \"user\", \"content\": \"会話の内容\"}\n",
        "    ]   \n",
        ")\n",
        "print(type(response))\n",
        "print(response)"
      ],
      "metadata": {
        "colab": {
          "base_uri": "https://localhost:8080/",
          "height": 244
        },
        "id": "k_rZamqQWTRu",
        "outputId": "ed3fe83c-4d60-4f3a-da92-3d65f233b37f"
      },
      "execution_count": 41,
      "outputs": [
        {
          "output_type": "error",
          "ename": "NameError",
          "evalue": "ignored",
          "traceback": [
            "\u001b[0;31m---------------------------------------------------------------------------\u001b[0m",
            "\u001b[0;31mNameError\u001b[0m                                 Traceback (most recent call last)",
            "\u001b[0;32m<ipython-input-41-7477bf662ea3>\u001b[0m in \u001b[0;36m<module>\u001b[0;34m\u001b[0m\n\u001b[0;32m----> 1\u001b[0;31m response = openai.ChatCompletion.create(\n\u001b[0m\u001b[1;32m      2\u001b[0m     \u001b[0mmodel\u001b[0m\u001b[0;34m=\u001b[0m\u001b[0;34m\"gpt-3.5-turbo\"\u001b[0m\u001b[0;34m,\u001b[0m\u001b[0;34m\u001b[0m\u001b[0;34m\u001b[0m\u001b[0m\n\u001b[1;32m      3\u001b[0m     messages=[\n\u001b[1;32m      4\u001b[0m         \u001b[0;34m{\u001b[0m\u001b[0;34m\"role\"\u001b[0m\u001b[0;34m:\u001b[0m \u001b[0;34m\"system\"\u001b[0m\u001b[0;34m,\u001b[0m \u001b[0;34m\"content\"\u001b[0m\u001b[0;34m:\u001b[0m \u001b[0;34m\"ChatGPTへの指示\"\u001b[0m\u001b[0;34m}\u001b[0m\u001b[0;34m,\u001b[0m\u001b[0;34m\u001b[0m\u001b[0;34m\u001b[0m\u001b[0m\n\u001b[1;32m      5\u001b[0m         \u001b[0;34m{\u001b[0m\u001b[0;34m\"role\"\u001b[0m\u001b[0;34m:\u001b[0m \u001b[0;34m\"user\"\u001b[0m\u001b[0;34m,\u001b[0m \u001b[0;34m\"content\"\u001b[0m\u001b[0;34m:\u001b[0m \u001b[0;34m\"会話の内容\"\u001b[0m\u001b[0;34m}\u001b[0m\u001b[0;34m\u001b[0m\u001b[0;34m\u001b[0m\u001b[0m\n",
            "\u001b[0;31mNameError\u001b[0m: name 'openai' is not defined"
          ]
        }
      ]
    }
  ]
}