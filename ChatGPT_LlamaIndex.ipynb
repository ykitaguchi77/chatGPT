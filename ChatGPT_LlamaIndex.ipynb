{
  "nbformat": 4,
  "nbformat_minor": 0,
  "metadata": {
    "colab": {
      "provenance": [],
      "authorship_tag": "ABX9TyO2XPeEBDVgSLZeTZYMXUJd",
      "include_colab_link": true
    },
    "kernelspec": {
      "name": "python3",
      "display_name": "Python 3"
    },
    "language_info": {
      "name": "python"
    }
  },
  "cells": [
    {
      "cell_type": "markdown",
      "metadata": {
        "id": "view-in-github",
        "colab_type": "text"
      },
      "source": [
        "<a href=\"https://colab.research.google.com/github/ykitaguchi77/chatGPT/blob/main/ChatGPT_LlamaIndex.ipynb\" target=\"_parent\"><img src=\"https://colab.research.google.com/assets/colab-badge.svg\" alt=\"Open In Colab\"/></a>"
      ]
    },
    {
      "cell_type": "markdown",
      "source": [
        "#**Connect website information using LlamaIndex**\n",
        "\n",
        "参考：　https://note.com/npaka/n/n8c3867a55837"
      ],
      "metadata": {
        "id": "D_VwfFD2bedd"
      }
    },
    {
      "cell_type": "code",
      "execution_count": 3,
      "metadata": {
        "id": "Dba_q2nDbB1g"
      },
      "outputs": [],
      "source": [
        "# パッケージのインストール\n",
        "!pip install llama-index --q"
      ]
    },
    {
      "cell_type": "code",
      "source": [
        "# APIの設定\n",
        "\n",
        "from google.colab import drive\n",
        "drive.mount(\"/content/drive\")\n",
        "\n",
        "with open(\"/content/drive/MyDrive/Deep_learning/api.txt\") as file:\n",
        "    #text = file.read()\n",
        "    i=1\n",
        "    key = []\n",
        "    while True:\n",
        "        include_break_line = file.readline() #改行が含まれた行\n",
        "        line = include_break_line.rstrip() #改行を取り除く\n",
        "        if line: #keyの読み込み\n",
        "            #print(f'{i}行目：{line}')\n",
        "            key.append(line)\n",
        "            i += 1\n",
        "        else:\n",
        "            break\n",
        "\n",
        "# APIキーの準備\n",
        "# #ngrok_aceess_token = key[5]\n",
        "#openai_api_key = key[3]\n",
        "# deepl_auth_key = key[1]\n",
        "# serp_api_key = key[7]\n",
        "\n",
        "import os\n",
        "os.environ[\"OPENAI_API_KEY\"] = key[3]\n",
        "os.environ[\"SERPAPI_API_KEY\"] = key[7]\n",
        "os.environ[\"GOOGLE_CSE_ID\"] = key[9]\n",
        "os.environ[\"GOOGLE_API_KEY\"] = key[11]"
      ],
      "metadata": {
        "colab": {
          "base_uri": "https://localhost:8080/"
        },
        "id": "y5lb4bLTb6Ju",
        "outputId": "6beb81ad-cc5c-4d00-d861-ad773c9b2307"
      },
      "execution_count": 6,
      "outputs": [
        {
          "output_type": "stream",
          "name": "stdout",
          "text": [
            "Drive already mounted at /content/drive; to attempt to forcibly remount, call drive.mount(\"/content/drive\", force_remount=True).\n"
          ]
        }
      ]
    },
    {
      "cell_type": "code",
      "source": [
        "# ログレベルの設定\n",
        "\n",
        "import logging\n",
        "import sys\n",
        "\"\"\"\n",
        "・DEBUG : デバッグ情報の出力。\n",
        "・INFO : 想定通りのことが発生。\n",
        "・WARNING : 想定外のことが発生。\n",
        "・ERROR : 機能を実行できない。\n",
        "\"\"\"\n",
        "logging.basicConfig(stream=sys.stdout, level=logging.INFO, force=True)\n",
        "logging.getLogger().addHandler(logging.StreamHandler(stream=sys.stdout))"
      ],
      "metadata": {
        "id": "KeVcDfHCdDaq"
      },
      "execution_count": null,
      "outputs": []
    },
    {
      "cell_type": "code",
      "source": [
        "# data folderの作成\n",
        "# 教育データをtxtで載せる\n",
        "import shutil\n",
        "\n",
        "data_dir = \"/content/data\" \n",
        "if os.path.exists(data_dir):\n",
        "    shutil.rmtree(data_dir)\n",
        "os.makedirs(data_dir)\n",
        "shutil.copy(\"/content/drive/MyDrive/Deep_learning/chatGPT/jyujyutu.txt\", data_dir) #呪術廻戦のあらすじをdata folderに入れる"
      ],
      "metadata": {
        "colab": {
          "base_uri": "https://localhost:8080/",
          "height": 35
        },
        "id": "o4Tm5nkteFM3",
        "outputId": "bc263a51-1a4e-4dc2-937a-30db4b651866"
      },
      "execution_count": 7,
      "outputs": [
        {
          "output_type": "execute_result",
          "data": {
            "text/plain": [
              "'/content/data/jyujyutu.txt'"
            ],
            "application/vnd.google.colaboratory.intrinsic+json": {
              "type": "string"
            }
          },
          "metadata": {},
          "execution_count": 7
        }
      ]
    },
    {
      "cell_type": "code",
      "source": [
        "# インデックスの作成\n",
        "from llama_index import GPTSimpleVectorIndex, SimpleDirectoryReader\n",
        "documents = SimpleDirectoryReader('data').load_data()\n",
        "index = GPTSimpleVectorIndex(documents)"
      ],
      "metadata": {
        "id": "kWDVcG7UfE9E"
      },
      "execution_count": 8,
      "outputs": []
    },
    {
      "cell_type": "code",
      "source": [
        "# 質問応答\n",
        "print(index.query(\"乙骨が呪術師を目指すようになった理由\"))"
      ],
      "metadata": {
        "colab": {
          "base_uri": "https://localhost:8080/"
        },
        "id": "e7SvjWgffYiY",
        "outputId": "e3f5acf4-681f-4218-d4de-fadc3ce672e0"
      },
      "execution_count": 15,
      "outputs": [
        {
          "output_type": "stream",
          "name": "stdout",
          "text": [
            "\n",
            "\n",
            "乙骨が呪術師を目指すようになった理由は、真希が周囲を不本意に傷つけてしまっていたことを気にかけたからです。真希は狗巻家の呪言を使う能力を持っていたため、意図せず人を呪うことを防ぐために会話の語彙をおにぎりの具に限定していました。しかし、彼女はそれでも周囲を不本意に傷つけてしまっていたため、乙骨は呪術師を目指すようになりました。また、彼女は京都校\n"
          ]
        }
      ]
    },
    {
      "cell_type": "code",
      "source": [
        "# 質問応答\n",
        "print(index.query(\"虎杖悠仁と一番仲がいいのは？\"))"
      ],
      "metadata": {
        "colab": {
          "base_uri": "https://localhost:8080/"
        },
        "id": "c78IsKDnfzQk",
        "outputId": "7e039455-7863-4894-d644-2e2e15f261f5"
      },
      "execution_count": 19,
      "outputs": [
        {
          "output_type": "stream",
          "name": "stdout",
          "text": [
            "\n",
            "恵（ふしぐろ めぐみ）\n"
          ]
        }
      ]
    },
    {
      "cell_type": "code",
      "source": [
        "# 質問応答\n",
        "print(index.query(\"五条悟にはなぜ攻撃が当たらないのか\"))"
      ],
      "metadata": {
        "colab": {
          "base_uri": "https://localhost:8080/"
        },
        "id": "qfovzswgg2lg",
        "outputId": "a6245664-c734-497a-e7d8-e0f0e7f7843e"
      },
      "execution_count": 17,
      "outputs": [
        {
          "output_type": "stream",
          "name": "stdout",
          "text": [
            "\n",
            "五条悟は、自身の攻撃に周りの人間を巻き込まないように気を配っており、必要な時には被害を最小限に抑えようと心がけているため、攻撃が当たらないのです。また、五条家の相伝の無下限呪術を使用することで、自身の周囲に術式によって現実化させた無限を作ることで攻撃を防いだり、応用して、瞬間移動や空中浮遊なども可能にしているため、攻\n"
          ]
        }
      ]
    },
    {
      "cell_type": "markdown",
      "source": [
        "# Indexの保存と読み込み"
      ],
      "metadata": {
        "id": "LaT4MZBvhNSY"
      }
    },
    {
      "cell_type": "code",
      "source": [
        "# インデックスの保存\n",
        "index.save_to_disk(\"index.json\")"
      ],
      "metadata": {
        "id": "UdF-MMNXhMHa"
      },
      "execution_count": 21,
      "outputs": []
    },
    {
      "cell_type": "code",
      "source": [
        "# インデックスの読み込み\n",
        "index = GPTSimpleVectorIndex.load_from_disk(\"index.json\")"
      ],
      "metadata": {
        "id": "PMrkmIOBhTTt"
      },
      "execution_count": 22,
      "outputs": []
    },
    {
      "cell_type": "markdown",
      "source": [
        "# Llama Hubを利用して様々なファイルをindexする"
      ],
      "metadata": {
        "id": "m5fPIy2RlLSQ"
      }
    },
    {
      "cell_type": "code",
      "source": [
        "# YouTube_transcript_reader\n",
        "\n",
        "from llama_index import download_loader\n",
        "\n",
        "PubmedReader = download_loader(\"PubmedReader\")\n",
        "\n",
        "loader = PubmedReader()\n",
        "documents = loader.load_data(search_query='blepharochalasis')"
      ],
      "metadata": {
        "id": "SHd5Ec8zlSGw"
      },
      "execution_count": 24,
      "outputs": []
    },
    {
      "cell_type": "code",
      "source": [
        "# インデックスの作成\n",
        "from llama_index import GPTSimpleVectorIndex, SimpleDirectoryReader\n",
        "index = GPTSimpleVectorIndex(documents)"
      ],
      "metadata": {
        "id": "uMSklnQXnONc"
      },
      "execution_count": 26,
      "outputs": []
    },
    {
      "cell_type": "code",
      "source": [
        "# 質問応答\n",
        "print(index.query(\"What is blepharochalasis?\"))"
      ],
      "metadata": {
        "colab": {
          "base_uri": "https://localhost:8080/"
        },
        "id": "M01q-R-5nPP8",
        "outputId": "b2cdaff8-83b6-456a-9bfe-55ba9de44633"
      },
      "execution_count": 27,
      "outputs": [
        {
          "output_type": "stream",
          "name": "stdout",
          "text": [
            "\n",
            "Blepharochalasis is a condition characterized by lax eyelid skin, easily evertible upper eyelids, and reactive conjunctival changes, such as papillary conjunctivitis and photophobia. It is associated with FES and is often seen in middle-aged obese patients.\n"
          ]
        }
      ]
    },
    {
      "cell_type": "code",
      "source": [
        "# 質問応答\n",
        "print(index.query(\"Please explain an acute and late treatment for blepharochalasis in detail. Please add references with AMA style.\"))"
      ],
      "metadata": {
        "colab": {
          "base_uri": "https://localhost:8080/"
        },
        "id": "pugnNpSBnoNn",
        "outputId": "5efb04cb-9b4b-4625-aed7-84540cb64aff"
      },
      "execution_count": 30,
      "outputs": [
        {
          "output_type": "stream",
          "name": "stdout",
          "text": [
            "\n",
            "Blepharochalasis is a condition characterized by the laxity of the eyelid skin and the weakening of the underlying structures, resulting in a drooping of the eyelid. Treatment for blepharochalasis can be divided into acute and late treatments. \n",
            "\n",
            "Acute treatment for blepharochalasis typically involves the use of topical medications, such as corticosteroids, to reduce inflammation and swelling. Additionally, the use of topical antibiotics may be recommended to reduce the risk of infection. In some cases, surgery may be recommended to remove excess skin and fat from the eyelids.\n",
            "\n",
            "Late treatment for blepharochalasis typically involves the use of surgical techniques to tighten the eyelid skin and underlying structures. This may include a brow lift, blepharoplasty, or a combination of both. In some cases, the use of injectable fillers may be recommended to restore volume to the area.\n",
            "\n",
            "References:\n",
            "\n",
            "Kumar, A., & Chaudhary, S. (2020). Blepharochalasis: A Review. Indian Journal of Ophthalmology, 68(7), 1445-1450. doi:10.4103/ijo.ijo_14\n"
          ]
        }
      ]
    },
    {
      "cell_type": "code",
      "source": [],
      "metadata": {
        "id": "oOZEm2OSnuVL"
      },
      "execution_count": null,
      "outputs": []
    }
  ]
}